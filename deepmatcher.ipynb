{
  "nbformat": 4,
  "nbformat_minor": 0,
  "metadata": {
    "accelerator": "GPU",
    "colab": {
      "name": "deepmatcher",
      "provenance": [],
      "collapsed_sections": [],
      "toc_visible": true,
      "include_colab_link": true
    },
    "kernelspec": {
      "display_name": "Python 3",
      "language": "python",
      "name": "python3"
    },
    "language_info": {
      "codemirror_mode": {
        "name": "ipython",
        "version": 3
      },
      "file_extension": ".py",
      "mimetype": "text/x-python",
      "name": "python",
      "nbconvert_exporter": "python",
      "pygments_lexer": "ipython3",
      "version": "3.6.4"
    }
  },
  "cells": [
    {
      "cell_type": "markdown",
      "metadata": {
        "id": "view-in-github",
        "colab_type": "text"
      },
      "source": [
        "<a href=\"https://colab.research.google.com/github/nisrinafano/deepmatcher-uts/blob/main/deepmatcher.ipynb\" target=\"_parent\"><img src=\"https://colab.research.google.com/assets/colab-badge.svg\" alt=\"Open In Colab\"/></a>"
      ]
    },
    {
      "cell_type": "markdown",
      "metadata": {
        "id": "sBtZVvrSQJOf"
      },
      "source": [
        "## Step 0. Setup"
      ]
    },
    {
      "cell_type": "code",
      "metadata": {
        "id": "LEiDiDNz-PEG"
      },
      "source": [
        "try:\n",
        "    import deepmatcher\n",
        "except:\n",
        "    !pip install -qqq deepmatcher"
      ],
      "execution_count": 103,
      "outputs": []
    },
    {
      "cell_type": "code",
      "metadata": {
        "id": "0422OsKBQJOk"
      },
      "source": [
        "import deepmatcher as dm\n",
        "import pandas as pd\n",
        "import timeit\n",
        "import csv"
      ],
      "execution_count": 104,
      "outputs": []
    },
    {
      "cell_type": "code",
      "metadata": {
        "id": "GYb5r0etQJOo",
        "colab": {
          "base_uri": "https://localhost:8080/"
        },
        "outputId": "b64b554b-3e51-42fb-a97e-63695fdc544e"
      },
      "source": [
        "import torch\n",
        "torch.cuda.is_available()"
      ],
      "execution_count": 105,
      "outputs": [
        {
          "output_type": "execute_result",
          "data": {
            "text/plain": [
              "True"
            ]
          },
          "metadata": {
            "tags": []
          },
          "execution_count": 105
        }
      ]
    },
    {
      "cell_type": "markdown",
      "metadata": {
        "id": "Dv_sFh1_QJOs"
      },
      "source": [
        "Download sample data for entity matching"
      ]
    },
    {
      "cell_type": "code",
      "metadata": {
        "id": "gvPSNrnUuHNF"
      },
      "source": [
        "!wget -qnc -P '' https://github.com/sensasi-delight/paper-2020-11/raw/main/dataset/train.csv\n",
        "!wget -qnc -P '' https://github.com/sensasi-delight/paper-2020-11/raw/main/dataset/test.csv\n",
        "!wget -qnc -P '' https://github.com/sensasi-delight/paper-2020-11/raw/main/dataset/valid.csv"
      ],
      "execution_count": 106,
      "outputs": []
    },
    {
      "cell_type": "markdown",
      "metadata": {
        "id": "KuCrlwjeQs8i"
      },
      "source": [
        "read data\n",
        "\n",
        "atribut yang diabaikan karena tidak merepresentasikan entitas:\n",
        "*   'ltable_id'\n",
        "*   'rtable_id'\n",
        "*   'ltable_url'\n",
        "*   'rtable_url'\n",
        "*   'ltable_harga'\n",
        "*   'rtable_harga'\n",
        "\n",
        "\n",
        "\n"
      ]
    },
    {
      "cell_type": "code",
      "metadata": {
        "id": "WJ37wi1HC9EJ"
      },
      "source": [
        "train, validation, test = dm.data.process(\n",
        "    path='',\n",
        "    train='train.csv',\n",
        "    validation='valid.csv',\n",
        "    test='test.csv',\n",
        "    use_magellan_convention=True,\n",
        "    ignore_columns=('ltable_id', 'rtable_id', 'ltable_url', 'ltable_harga', 'rtable_url', 'rtable_harga'))"
      ],
      "execution_count": 107,
      "outputs": []
    },
    {
      "cell_type": "markdown",
      "metadata": {
        "id": "8mr3oVzuQJO6"
      },
      "source": [
        "## Pengujian"
      ]
    },
    {
      "cell_type": "code",
      "metadata": {
        "id": "2j77d30cdvrD",
        "colab": {
          "base_uri": "https://localhost:8080/"
        },
        "outputId": "5076dd53-a44d-4ffd-d99d-3e82eee58586"
      },
      "source": [
        "#masih belum selesai\n",
        "\n",
        "learningtypes = ['sif', 'rnn', 'attention', 'hybrid']\n",
        "\n",
        "\n",
        "result = [[],[],[],[],[],[],[],[]]\n",
        "countf1=0\n",
        "counttime=1\n",
        "\n",
        "for learningtype in learningtypes:\n",
        "  for x in range(10) :\n",
        "    print (result)\n",
        "  \n",
        "    model = dm.MatchingModel(attr_summarizer=learningtype)\n",
        "    start = timeit.default_timer()\n",
        "\n",
        "    #Your statements here\n",
        "    model.run_train(\n",
        "        train,\n",
        "        validation,\n",
        "        epochs=10,\n",
        "        batch_size=16,\n",
        "        best_save_path=learningtype+'_model.pth',\n",
        "        pos_neg_ratio=7)\n",
        "\n",
        "    stop = timeit.default_timer()\n",
        "\n",
        "    print('Time: ', stop - start)\n",
        "    evalresult = model.run_eval(test)  \n",
        "\n",
        "    result[countf1].append(evalresult.item())\n",
        "    result[counttime].append(stop-start)\n",
        "  countf1 = countf1+2\n",
        "  counttime = counttime+2\n"
      ],
      "execution_count": 108,
      "outputs": [
        {
          "output_type": "stream",
          "text": [
            "[[], [], [], [], [], [], [], []]\n",
            "* Number of trainable parameters: 361802\n",
            "===>  TRAIN Epoch 1\n"
          ],
          "name": "stdout"
        },
        {
          "output_type": "stream",
          "text": [
            "/usr/local/lib/python3.6/dist-packages/torch/nn/functional.py:2398: UserWarning: reduction: 'mean' divides the total loss by both the batch size and the support size.'batchmean' divides only by the batch size, and aligns with the KL div math definition.'mean' will be changed to behave the same as 'batchmean' in the next major release.\n",
            "  warnings.warn(\"reduction: 'mean' divides the total loss by both the batch size and the support size.\"\n",
            "0% [████] 100% | ETA: 00:00:00\n",
            "Total time elapsed: 00:00:00\n"
          ],
          "name": "stderr"
        },
        {
          "output_type": "stream",
          "text": [
            "Finished Epoch 1 || Run Time:    0.2 | Load Time:    0.2 || F1:  27.03 | Prec:  15.62 | Rec: 100.00 || Ex/s: 832.84\n",
            "\n",
            "===>  EVAL Epoch 1\n"
          ],
          "name": "stdout"
        },
        {
          "output_type": "stream",
          "text": [
            "0% [█] 100% | ETA: 00:00:00\n",
            "Total time elapsed: 00:00:00\n"
          ],
          "name": "stderr"
        },
        {
          "output_type": "stream",
          "text": [
            "Finished Epoch 1 || Run Time:    0.0 | Load Time:    0.1 || F1:  23.70 | Prec:  13.45 | Rec: 100.00 || Ex/s: 947.20\n",
            "\n",
            "* Best F1: tensor(23.7037, device='cuda:0')\n",
            "Saving best model...\n",
            "Done.\n",
            "---------------------\n",
            "\n",
            "===>  TRAIN Epoch 2\n"
          ],
          "name": "stdout"
        },
        {
          "output_type": "stream",
          "text": [
            "0% [████] 100% | ETA: 00:00:00\n",
            "Total time elapsed: 00:00:00\n"
          ],
          "name": "stderr"
        },
        {
          "output_type": "stream",
          "text": [
            "Finished Epoch 2 || Run Time:    0.2 | Load Time:    0.3 || F1:  26.83 | Prec:  15.49 | Rec: 100.00 || Ex/s: 804.65\n",
            "\n",
            "===>  EVAL Epoch 2\n"
          ],
          "name": "stdout"
        },
        {
          "output_type": "stream",
          "text": [
            "0% [█] 100% | ETA: 00:00:00\n",
            "Total time elapsed: 00:00:00\n"
          ],
          "name": "stderr"
        },
        {
          "output_type": "stream",
          "text": [
            "Finished Epoch 2 || Run Time:    0.0 | Load Time:    0.1 || F1:  23.70 | Prec:  13.45 | Rec: 100.00 || Ex/s: 990.68\n",
            "\n",
            "---------------------\n",
            "\n",
            "===>  TRAIN Epoch 3\n"
          ],
          "name": "stdout"
        },
        {
          "output_type": "stream",
          "text": [
            "0% [████] 100% | ETA: 00:00:00\n",
            "Total time elapsed: 00:00:00\n"
          ],
          "name": "stderr"
        },
        {
          "output_type": "stream",
          "text": [
            "Finished Epoch 3 || Run Time:    0.2 | Load Time:    0.3 || F1:  26.83 | Prec:  15.49 | Rec: 100.00 || Ex/s: 800.37\n",
            "\n",
            "===>  EVAL Epoch 3\n"
          ],
          "name": "stdout"
        },
        {
          "output_type": "stream",
          "text": [
            "0% [█] 100% | ETA: 00:00:00\n",
            "Total time elapsed: 00:00:00\n"
          ],
          "name": "stderr"
        },
        {
          "output_type": "stream",
          "text": [
            "Finished Epoch 3 || Run Time:    0.0 | Load Time:    0.1 || F1:  23.70 | Prec:  13.45 | Rec: 100.00 || Ex/s: 939.41\n",
            "\n",
            "---------------------\n",
            "\n",
            "===>  TRAIN Epoch 4\n"
          ],
          "name": "stdout"
        },
        {
          "output_type": "stream",
          "text": [
            "0% [████] 100% | ETA: 00:00:00\n",
            "Total time elapsed: 00:00:00\n"
          ],
          "name": "stderr"
        },
        {
          "output_type": "stream",
          "text": [
            "Finished Epoch 4 || Run Time:    0.2 | Load Time:    0.2 || F1:  26.83 | Prec:  15.49 | Rec: 100.00 || Ex/s: 838.99\n",
            "\n",
            "===>  EVAL Epoch 4\n"
          ],
          "name": "stdout"
        },
        {
          "output_type": "stream",
          "text": [
            "0% [█] 100% | ETA: 00:00:00\n",
            "Total time elapsed: 00:00:00\n"
          ],
          "name": "stderr"
        },
        {
          "output_type": "stream",
          "text": [
            "Finished Epoch 4 || Run Time:    0.0 | Load Time:    0.1 || F1:  23.70 | Prec:  13.45 | Rec: 100.00 || Ex/s: 1002.56\n",
            "\n",
            "---------------------\n",
            "\n",
            "===>  TRAIN Epoch 5\n"
          ],
          "name": "stdout"
        },
        {
          "output_type": "stream",
          "text": [
            "0% [████] 100% | ETA: 00:00:00\n",
            "Total time elapsed: 00:00:00\n"
          ],
          "name": "stderr"
        },
        {
          "output_type": "stream",
          "text": [
            "Finished Epoch 5 || Run Time:    0.2 | Load Time:    0.2 || F1:  26.83 | Prec:  15.49 | Rec: 100.00 || Ex/s: 825.81\n",
            "\n",
            "===>  EVAL Epoch 5\n"
          ],
          "name": "stdout"
        },
        {
          "output_type": "stream",
          "text": [
            "0% [█] 100% | ETA: 00:00:00\n",
            "Total time elapsed: 00:00:00\n"
          ],
          "name": "stderr"
        },
        {
          "output_type": "stream",
          "text": [
            "Finished Epoch 5 || Run Time:    0.0 | Load Time:    0.1 || F1:  23.70 | Prec:  13.45 | Rec: 100.00 || Ex/s: 996.44\n",
            "\n",
            "---------------------\n",
            "\n",
            "===>  TRAIN Epoch 6\n"
          ],
          "name": "stdout"
        },
        {
          "output_type": "stream",
          "text": [
            "0% [████] 100% | ETA: 00:00:00\n",
            "Total time elapsed: 00:00:00\n"
          ],
          "name": "stderr"
        },
        {
          "output_type": "stream",
          "text": [
            "Finished Epoch 6 || Run Time:    0.2 | Load Time:    0.2 || F1:  26.83 | Prec:  15.49 | Rec: 100.00 || Ex/s: 827.95\n",
            "\n",
            "===>  EVAL Epoch 6\n"
          ],
          "name": "stdout"
        },
        {
          "output_type": "stream",
          "text": [
            "0% [█] 100% | ETA: 00:00:00\n",
            "Total time elapsed: 00:00:00\n"
          ],
          "name": "stderr"
        },
        {
          "output_type": "stream",
          "text": [
            "Finished Epoch 6 || Run Time:    0.0 | Load Time:    0.1 || F1:  23.70 | Prec:  13.45 | Rec: 100.00 || Ex/s: 963.16\n",
            "\n",
            "---------------------\n",
            "\n",
            "===>  TRAIN Epoch 7\n"
          ],
          "name": "stdout"
        },
        {
          "output_type": "stream",
          "text": [
            "0% [████] 100% | ETA: 00:00:00\n",
            "Total time elapsed: 00:00:00\n"
          ],
          "name": "stderr"
        },
        {
          "output_type": "stream",
          "text": [
            "Finished Epoch 7 || Run Time:    0.2 | Load Time:    0.3 || F1:  27.03 | Prec:  15.62 | Rec: 100.00 || Ex/s: 802.28\n",
            "\n",
            "===>  EVAL Epoch 7\n"
          ],
          "name": "stdout"
        },
        {
          "output_type": "stream",
          "text": [
            "0% [█] 100% | ETA: 00:00:00\n",
            "Total time elapsed: 00:00:00\n"
          ],
          "name": "stderr"
        },
        {
          "output_type": "stream",
          "text": [
            "Finished Epoch 7 || Run Time:    0.0 | Load Time:    0.1 || F1:  23.88 | Prec:  13.56 | Rec: 100.00 || Ex/s: 983.63\n",
            "\n",
            "* Best F1: tensor(23.8806, device='cuda:0')\n",
            "Saving best model...\n",
            "Done.\n",
            "---------------------\n",
            "\n",
            "===>  TRAIN Epoch 8\n"
          ],
          "name": "stdout"
        },
        {
          "output_type": "stream",
          "text": [
            "0% [████] 100% | ETA: 00:00:00\n",
            "Total time elapsed: 00:00:00\n"
          ],
          "name": "stderr"
        },
        {
          "output_type": "stream",
          "text": [
            "Finished Epoch 8 || Run Time:    0.2 | Load Time:    0.2 || F1:  27.50 | Prec:  15.94 | Rec: 100.00 || Ex/s: 818.83\n",
            "\n",
            "===>  EVAL Epoch 8\n"
          ],
          "name": "stdout"
        },
        {
          "output_type": "stream",
          "text": [
            "0% [█] 100% | ETA: 00:00:00\n",
            "Total time elapsed: 00:00:00\n"
          ],
          "name": "stderr"
        },
        {
          "output_type": "stream",
          "text": [
            "Finished Epoch 8 || Run Time:    0.0 | Load Time:    0.1 || F1:  24.06 | Prec:  13.68 | Rec: 100.00 || Ex/s: 980.35\n",
            "\n",
            "* Best F1: tensor(24.0602, device='cuda:0')\n",
            "Saving best model...\n",
            "Done.\n",
            "---------------------\n",
            "\n",
            "===>  TRAIN Epoch 9\n"
          ],
          "name": "stdout"
        },
        {
          "output_type": "stream",
          "text": [
            "0% [████] 100% | ETA: 00:00:00\n",
            "Total time elapsed: 00:00:00\n"
          ],
          "name": "stderr"
        },
        {
          "output_type": "stream",
          "text": [
            "Finished Epoch 9 || Run Time:    0.2 | Load Time:    0.3 || F1:  27.71 | Prec:  16.08 | Rec: 100.00 || Ex/s: 819.45\n",
            "\n",
            "===>  EVAL Epoch 9\n"
          ],
          "name": "stdout"
        },
        {
          "output_type": "stream",
          "text": [
            "0% [█] 100% | ETA: 00:00:00\n",
            "Total time elapsed: 00:00:00\n"
          ],
          "name": "stderr"
        },
        {
          "output_type": "stream",
          "text": [
            "Finished Epoch 9 || Run Time:    0.0 | Load Time:    0.1 || F1:  24.43 | Prec:  13.91 | Rec: 100.00 || Ex/s: 977.77\n",
            "\n",
            "* Best F1: tensor(24.4275, device='cuda:0')\n",
            "Saving best model...\n",
            "Done.\n",
            "---------------------\n",
            "\n",
            "===>  TRAIN Epoch 10\n"
          ],
          "name": "stdout"
        },
        {
          "output_type": "stream",
          "text": [
            "0% [████] 100% | ETA: 00:00:00\n",
            "Total time elapsed: 00:00:00\n"
          ],
          "name": "stderr"
        },
        {
          "output_type": "stream",
          "text": [
            "Finished Epoch 10 || Run Time:    0.2 | Load Time:    0.2 || F1:  28.06 | Prec:  16.32 | Rec: 100.00 || Ex/s: 832.91\n",
            "\n",
            "===>  EVAL Epoch 10\n"
          ],
          "name": "stdout"
        },
        {
          "output_type": "stream",
          "text": [
            "0% [█] 100% | ETA: 00:00:00\n",
            "Total time elapsed: 00:00:00\n"
          ],
          "name": "stderr"
        },
        {
          "output_type": "stream",
          "text": [
            "Finished Epoch 10 || Run Time:    0.0 | Load Time:    0.1 || F1:  23.62 | Prec:  13.51 | Rec:  93.75 || Ex/s: 879.23\n",
            "\n",
            "---------------------\n",
            "\n",
            "Loading best model...\n",
            "Training done.\n",
            "Time:  5.750015394000002\n",
            "===>  EVAL Epoch 9\n",
            "Finished Epoch 9 || Run Time:    0.0 | Load Time:    0.1 || F1:  27.07 | Prec:  15.65 | Rec: 100.00 || Ex/s: 1146.73\n",
            "\n",
            "[[27.067668914794922], [5.750015394000002], [], [], [], [], [], []]\n",
            "* Number of trainable parameters: 361802\n",
            "===>  TRAIN Epoch 1\n"
          ],
          "name": "stdout"
        },
        {
          "output_type": "stream",
          "text": [
            "0% [████] 100% | ETA: 00:00:00\n",
            "Total time elapsed: 00:00:00\n"
          ],
          "name": "stderr"
        },
        {
          "output_type": "stream",
          "text": [
            "Finished Epoch 1 || Run Time:    0.2 | Load Time:    0.2 || F1:  27.35 | Prec:  16.04 | Rec:  92.73 || Ex/s: 836.86\n",
            "\n",
            "===>  EVAL Epoch 1\n"
          ],
          "name": "stdout"
        },
        {
          "output_type": "stream",
          "text": [
            "0% [█] 100% | ETA: 00:00:00\n",
            "Total time elapsed: 00:00:00\n"
          ],
          "name": "stderr"
        },
        {
          "output_type": "stream",
          "text": [
            "Finished Epoch 1 || Run Time:    0.0 | Load Time:    0.1 || F1:  23.70 | Prec:  13.45 | Rec: 100.00 || Ex/s: 979.93\n",
            "\n",
            "* Best F1: tensor(23.7037, device='cuda:0')\n",
            "Saving best model...\n",
            "Done.\n",
            "---------------------\n",
            "\n",
            "===>  TRAIN Epoch 2\n"
          ],
          "name": "stdout"
        },
        {
          "output_type": "stream",
          "text": [
            "0% [████] 100% | ETA: 00:00:00\n",
            "Total time elapsed: 00:00:00\n"
          ],
          "name": "stderr"
        },
        {
          "output_type": "stream",
          "text": [
            "Finished Epoch 2 || Run Time:    0.2 | Load Time:    0.2 || F1:  26.83 | Prec:  15.49 | Rec: 100.00 || Ex/s: 831.02\n",
            "\n",
            "===>  EVAL Epoch 2\n"
          ],
          "name": "stdout"
        },
        {
          "output_type": "stream",
          "text": [
            "0% [█] 100% | ETA: 00:00:00\n",
            "Total time elapsed: 00:00:00\n"
          ],
          "name": "stderr"
        },
        {
          "output_type": "stream",
          "text": [
            "Finished Epoch 2 || Run Time:    0.0 | Load Time:    0.1 || F1:  23.70 | Prec:  13.45 | Rec: 100.00 || Ex/s: 978.39\n",
            "\n",
            "---------------------\n",
            "\n",
            "===>  TRAIN Epoch 3\n"
          ],
          "name": "stdout"
        },
        {
          "output_type": "stream",
          "text": [
            "0% [████] 100% | ETA: 00:00:00\n",
            "Total time elapsed: 00:00:00\n"
          ],
          "name": "stderr"
        },
        {
          "output_type": "stream",
          "text": [
            "Finished Epoch 3 || Run Time:    0.2 | Load Time:    0.2 || F1:  26.83 | Prec:  15.49 | Rec: 100.00 || Ex/s: 845.89\n",
            "\n",
            "===>  EVAL Epoch 3\n"
          ],
          "name": "stdout"
        },
        {
          "output_type": "stream",
          "text": [
            "0% [█] 100% | ETA: 00:00:00\n",
            "Total time elapsed: 00:00:00\n"
          ],
          "name": "stderr"
        },
        {
          "output_type": "stream",
          "text": [
            "Finished Epoch 3 || Run Time:    0.0 | Load Time:    0.1 || F1:  23.70 | Prec:  13.45 | Rec: 100.00 || Ex/s: 961.52\n",
            "\n",
            "---------------------\n",
            "\n",
            "===>  TRAIN Epoch 4\n"
          ],
          "name": "stdout"
        },
        {
          "output_type": "stream",
          "text": [
            "0% [████] 100% | ETA: 00:00:00\n",
            "Total time elapsed: 00:00:00\n"
          ],
          "name": "stderr"
        },
        {
          "output_type": "stream",
          "text": [
            "Finished Epoch 4 || Run Time:    0.2 | Load Time:    0.3 || F1:  26.83 | Prec:  15.49 | Rec: 100.00 || Ex/s: 826.29\n",
            "\n",
            "===>  EVAL Epoch 4\n"
          ],
          "name": "stdout"
        },
        {
          "output_type": "stream",
          "text": [
            "0% [█] 100% | ETA: 00:00:00\n",
            "Total time elapsed: 00:00:00\n"
          ],
          "name": "stderr"
        },
        {
          "output_type": "stream",
          "text": [
            "Finished Epoch 4 || Run Time:    0.0 | Load Time:    0.1 || F1:  23.70 | Prec:  13.45 | Rec: 100.00 || Ex/s: 995.90\n",
            "\n",
            "---------------------\n",
            "\n",
            "===>  TRAIN Epoch 5\n"
          ],
          "name": "stdout"
        },
        {
          "output_type": "stream",
          "text": [
            "0% [████] 100% | ETA: 00:00:00\n",
            "Total time elapsed: 00:00:00\n"
          ],
          "name": "stderr"
        },
        {
          "output_type": "stream",
          "text": [
            "Finished Epoch 5 || Run Time:    0.2 | Load Time:    0.2 || F1:  26.83 | Prec:  15.49 | Rec: 100.00 || Ex/s: 831.44\n",
            "\n",
            "===>  EVAL Epoch 5\n"
          ],
          "name": "stdout"
        },
        {
          "output_type": "stream",
          "text": [
            "0% [█] 100% | ETA: 00:00:00\n",
            "Total time elapsed: 00:00:00\n"
          ],
          "name": "stderr"
        },
        {
          "output_type": "stream",
          "text": [
            "Finished Epoch 5 || Run Time:    0.0 | Load Time:    0.1 || F1:  23.70 | Prec:  13.45 | Rec: 100.00 || Ex/s: 979.87\n",
            "\n",
            "---------------------\n",
            "\n",
            "===>  TRAIN Epoch 6\n"
          ],
          "name": "stdout"
        },
        {
          "output_type": "stream",
          "text": [
            "0% [████] 100% | ETA: 00:00:00\n",
            "Total time elapsed: 00:00:00\n"
          ],
          "name": "stderr"
        },
        {
          "output_type": "stream",
          "text": [
            "Finished Epoch 6 || Run Time:    0.2 | Load Time:    0.3 || F1:  26.83 | Prec:  15.49 | Rec: 100.00 || Ex/s: 818.75\n",
            "\n",
            "===>  EVAL Epoch 6\n"
          ],
          "name": "stdout"
        },
        {
          "output_type": "stream",
          "text": [
            "0% [█] 100% | ETA: 00:00:00\n",
            "Total time elapsed: 00:00:00\n"
          ],
          "name": "stderr"
        },
        {
          "output_type": "stream",
          "text": [
            "Finished Epoch 6 || Run Time:    0.0 | Load Time:    0.1 || F1:  23.70 | Prec:  13.45 | Rec: 100.00 || Ex/s: 989.98\n",
            "\n",
            "---------------------\n",
            "\n",
            "===>  TRAIN Epoch 7\n"
          ],
          "name": "stdout"
        },
        {
          "output_type": "stream",
          "text": [
            "0% [████] 100% | ETA: 00:00:00\n",
            "Total time elapsed: 00:00:00\n"
          ],
          "name": "stderr"
        },
        {
          "output_type": "stream",
          "text": [
            "Finished Epoch 7 || Run Time:    0.2 | Load Time:    0.2 || F1:  26.83 | Prec:  15.49 | Rec: 100.00 || Ex/s: 834.90\n",
            "\n",
            "===>  EVAL Epoch 7\n"
          ],
          "name": "stdout"
        },
        {
          "output_type": "stream",
          "text": [
            "0% [█] 100% | ETA: 00:00:00\n",
            "Total time elapsed: 00:00:00\n"
          ],
          "name": "stderr"
        },
        {
          "output_type": "stream",
          "text": [
            "Finished Epoch 7 || Run Time:    0.0 | Load Time:    0.1 || F1:  23.70 | Prec:  13.45 | Rec: 100.00 || Ex/s: 990.86\n",
            "\n",
            "---------------------\n",
            "\n",
            "===>  TRAIN Epoch 8\n"
          ],
          "name": "stdout"
        },
        {
          "output_type": "stream",
          "text": [
            "0% [████] 100% | ETA: 00:00:00\n",
            "Total time elapsed: 00:00:00\n"
          ],
          "name": "stderr"
        },
        {
          "output_type": "stream",
          "text": [
            "Finished Epoch 8 || Run Time:    0.2 | Load Time:    0.3 || F1:  27.09 | Prec:  15.67 | Rec: 100.00 || Ex/s: 815.31\n",
            "\n",
            "===>  EVAL Epoch 8\n"
          ],
          "name": "stdout"
        },
        {
          "output_type": "stream",
          "text": [
            "0% [█] 100% | ETA: 00:00:00\n",
            "Total time elapsed: 00:00:00\n"
          ],
          "name": "stderr"
        },
        {
          "output_type": "stream",
          "text": [
            "Finished Epoch 8 || Run Time:    0.0 | Load Time:    0.1 || F1:  24.06 | Prec:  13.68 | Rec: 100.00 || Ex/s: 931.93\n",
            "\n",
            "* Best F1: tensor(24.0602, device='cuda:0')\n",
            "Saving best model...\n",
            "Done.\n",
            "---------------------\n",
            "\n",
            "===>  TRAIN Epoch 9\n"
          ],
          "name": "stdout"
        },
        {
          "output_type": "stream",
          "text": [
            "0% [████] 100% | ETA: 00:00:00\n",
            "Total time elapsed: 00:00:00\n"
          ],
          "name": "stderr"
        },
        {
          "output_type": "stream",
          "text": [
            "Finished Epoch 9 || Run Time:    0.2 | Load Time:    0.2 || F1:  27.57 | Prec:  15.99 | Rec: 100.00 || Ex/s: 824.09\n",
            "\n",
            "===>  EVAL Epoch 9\n"
          ],
          "name": "stdout"
        },
        {
          "output_type": "stream",
          "text": [
            "0% [█] 100% | ETA: 00:00:00\n",
            "Total time elapsed: 00:00:00\n"
          ],
          "name": "stderr"
        },
        {
          "output_type": "stream",
          "text": [
            "Finished Epoch 9 || Run Time:    0.0 | Load Time:    0.1 || F1:  24.24 | Prec:  13.79 | Rec: 100.00 || Ex/s: 974.45\n",
            "\n",
            "* Best F1: tensor(24.2424, device='cuda:0')\n",
            "Saving best model...\n",
            "Done.\n",
            "---------------------\n",
            "\n",
            "===>  TRAIN Epoch 10\n"
          ],
          "name": "stdout"
        },
        {
          "output_type": "stream",
          "text": [
            "0% [████] 100% | ETA: 00:00:00\n",
            "Total time elapsed: 00:00:00\n"
          ],
          "name": "stderr"
        },
        {
          "output_type": "stream",
          "text": [
            "Finished Epoch 10 || Run Time:    0.2 | Load Time:    0.2 || F1:  27.71 | Prec:  16.08 | Rec: 100.00 || Ex/s: 836.37\n",
            "\n",
            "===>  EVAL Epoch 10\n"
          ],
          "name": "stdout"
        },
        {
          "output_type": "stream",
          "text": [
            "0% [█] 100% | ETA: 00:00:00\n",
            "Total time elapsed: 00:00:00\n"
          ],
          "name": "stderr"
        },
        {
          "output_type": "stream",
          "text": [
            "Finished Epoch 10 || Run Time:    0.0 | Load Time:    0.1 || F1:  24.43 | Prec:  13.91 | Rec: 100.00 || Ex/s: 990.10\n",
            "\n",
            "* Best F1: tensor(24.4275, device='cuda:0')\n",
            "Saving best model...\n",
            "Done.\n",
            "---------------------\n",
            "\n",
            "Loading best model...\n",
            "Training done.\n",
            "Time:  5.685267965000094\n",
            "===>  EVAL Epoch 10\n",
            "Finished Epoch 10 || Run Time:    0.0 | Load Time:    0.1 || F1:  27.48 | Prec:  15.93 | Rec: 100.00 || Ex/s: 1169.06\n",
            "\n",
            "[[27.067668914794922, 27.48091697692871], [5.750015394000002, 5.685267965000094], [], [], [], [], [], []]\n",
            "* Number of trainable parameters: 361802\n",
            "===>  TRAIN Epoch 1\n"
          ],
          "name": "stdout"
        },
        {
          "output_type": "stream",
          "text": [
            "0% [████] 100% | ETA: 00:00:00\n",
            "Total time elapsed: 00:00:00\n"
          ],
          "name": "stderr"
        },
        {
          "output_type": "stream",
          "text": [
            "Finished Epoch 1 || Run Time:    0.2 | Load Time:    0.2 || F1:  26.84 | Prec:  15.69 | Rec:  92.73 || Ex/s: 832.46\n",
            "\n",
            "===>  EVAL Epoch 1\n"
          ],
          "name": "stdout"
        },
        {
          "output_type": "stream",
          "text": [
            "0% [█] 100% | ETA: 00:00:00\n",
            "Total time elapsed: 00:00:00\n"
          ],
          "name": "stderr"
        },
        {
          "output_type": "stream",
          "text": [
            "Finished Epoch 1 || Run Time:    0.0 | Load Time:    0.1 || F1:  23.70 | Prec:  13.45 | Rec: 100.00 || Ex/s: 970.35\n",
            "\n",
            "* Best F1: tensor(23.7037, device='cuda:0')\n",
            "Saving best model...\n",
            "Done.\n",
            "---------------------\n",
            "\n",
            "===>  TRAIN Epoch 2\n"
          ],
          "name": "stdout"
        },
        {
          "output_type": "stream",
          "text": [
            "0% [████] 100% | ETA: 00:00:00\n",
            "Total time elapsed: 00:00:00\n"
          ],
          "name": "stderr"
        },
        {
          "output_type": "stream",
          "text": [
            "Finished Epoch 2 || Run Time:    0.2 | Load Time:    0.2 || F1:  26.83 | Prec:  15.49 | Rec: 100.00 || Ex/s: 825.81\n",
            "\n",
            "===>  EVAL Epoch 2\n"
          ],
          "name": "stdout"
        },
        {
          "output_type": "stream",
          "text": [
            "0% [█] 100% | ETA: 00:00:00\n",
            "Total time elapsed: 00:00:00\n"
          ],
          "name": "stderr"
        },
        {
          "output_type": "stream",
          "text": [
            "Finished Epoch 2 || Run Time:    0.0 | Load Time:    0.1 || F1:  23.70 | Prec:  13.45 | Rec: 100.00 || Ex/s: 865.27\n",
            "\n",
            "---------------------\n",
            "\n",
            "===>  TRAIN Epoch 3\n"
          ],
          "name": "stdout"
        },
        {
          "output_type": "stream",
          "text": [
            "0% [████] 100% | ETA: 00:00:00\n",
            "Total time elapsed: 00:00:00\n"
          ],
          "name": "stderr"
        },
        {
          "output_type": "stream",
          "text": [
            "Finished Epoch 3 || Run Time:    0.2 | Load Time:    0.3 || F1:  26.83 | Prec:  15.49 | Rec: 100.00 || Ex/s: 749.90\n",
            "\n",
            "===>  EVAL Epoch 3\n"
          ],
          "name": "stdout"
        },
        {
          "output_type": "stream",
          "text": [
            "0% [█] 100% | ETA: 00:00:00\n",
            "Total time elapsed: 00:00:00\n"
          ],
          "name": "stderr"
        },
        {
          "output_type": "stream",
          "text": [
            "Finished Epoch 3 || Run Time:    0.0 | Load Time:    0.1 || F1:  23.70 | Prec:  13.45 | Rec: 100.00 || Ex/s: 857.93\n",
            "\n",
            "---------------------\n",
            "\n",
            "===>  TRAIN Epoch 4\n"
          ],
          "name": "stdout"
        },
        {
          "output_type": "stream",
          "text": [
            "0% [████] 100% | ETA: 00:00:00\n",
            "Total time elapsed: 00:00:00\n"
          ],
          "name": "stderr"
        },
        {
          "output_type": "stream",
          "text": [
            "Finished Epoch 4 || Run Time:    0.2 | Load Time:    0.3 || F1:  26.83 | Prec:  15.49 | Rec: 100.00 || Ex/s: 808.26\n",
            "\n",
            "===>  EVAL Epoch 4\n"
          ],
          "name": "stdout"
        },
        {
          "output_type": "stream",
          "text": [
            "0% [█] 100% | ETA: 00:00:00\n",
            "Total time elapsed: 00:00:00\n"
          ],
          "name": "stderr"
        },
        {
          "output_type": "stream",
          "text": [
            "Finished Epoch 4 || Run Time:    0.0 | Load Time:    0.1 || F1:  23.70 | Prec:  13.45 | Rec: 100.00 || Ex/s: 1006.62\n",
            "\n",
            "---------------------\n",
            "\n",
            "===>  TRAIN Epoch 5\n"
          ],
          "name": "stdout"
        },
        {
          "output_type": "stream",
          "text": [
            "0% [████] 100% | ETA: 00:00:00\n",
            "Total time elapsed: 00:00:00\n"
          ],
          "name": "stderr"
        },
        {
          "output_type": "stream",
          "text": [
            "Finished Epoch 5 || Run Time:    0.2 | Load Time:    0.2 || F1:  26.83 | Prec:  15.49 | Rec: 100.00 || Ex/s: 842.42\n",
            "\n",
            "===>  EVAL Epoch 5\n"
          ],
          "name": "stdout"
        },
        {
          "output_type": "stream",
          "text": [
            "0% [█] 100% | ETA: 00:00:00\n",
            "Total time elapsed: 00:00:00\n"
          ],
          "name": "stderr"
        },
        {
          "output_type": "stream",
          "text": [
            "Finished Epoch 5 || Run Time:    0.0 | Load Time:    0.1 || F1:  23.70 | Prec:  13.45 | Rec: 100.00 || Ex/s: 993.87\n",
            "\n",
            "---------------------\n",
            "\n",
            "===>  TRAIN Epoch 6\n"
          ],
          "name": "stdout"
        },
        {
          "output_type": "stream",
          "text": [
            "0% [████] 100% | ETA: 00:00:00\n",
            "Total time elapsed: 00:00:00\n"
          ],
          "name": "stderr"
        },
        {
          "output_type": "stream",
          "text": [
            "Finished Epoch 6 || Run Time:    0.2 | Load Time:    0.3 || F1:  26.83 | Prec:  15.49 | Rec: 100.00 || Ex/s: 823.21\n",
            "\n",
            "===>  EVAL Epoch 6\n"
          ],
          "name": "stdout"
        },
        {
          "output_type": "stream",
          "text": [
            "0% [█] 100% | ETA: 00:00:00\n",
            "Total time elapsed: 00:00:00\n"
          ],
          "name": "stderr"
        },
        {
          "output_type": "stream",
          "text": [
            "Finished Epoch 6 || Run Time:    0.0 | Load Time:    0.1 || F1:  23.70 | Prec:  13.45 | Rec: 100.00 || Ex/s: 995.49\n",
            "\n",
            "---------------------\n",
            "\n",
            "===>  TRAIN Epoch 7\n"
          ],
          "name": "stdout"
        },
        {
          "output_type": "stream",
          "text": [
            "0% [████] 100% | ETA: 00:00:00\n",
            "Total time elapsed: 00:00:00\n"
          ],
          "name": "stderr"
        },
        {
          "output_type": "stream",
          "text": [
            "Finished Epoch 7 || Run Time:    0.2 | Load Time:    0.2 || F1:  26.83 | Prec:  15.49 | Rec: 100.00 || Ex/s: 834.09\n",
            "\n",
            "===>  EVAL Epoch 7\n"
          ],
          "name": "stdout"
        },
        {
          "output_type": "stream",
          "text": [
            "0% [█] 100% | ETA: 00:00:00\n",
            "Total time elapsed: 00:00:00\n"
          ],
          "name": "stderr"
        },
        {
          "output_type": "stream",
          "text": [
            "Finished Epoch 7 || Run Time:    0.0 | Load Time:    0.1 || F1:  23.70 | Prec:  13.45 | Rec: 100.00 || Ex/s: 1008.46\n",
            "\n",
            "---------------------\n",
            "\n",
            "===>  TRAIN Epoch 8\n"
          ],
          "name": "stdout"
        },
        {
          "output_type": "stream",
          "text": [
            "0% [████] 100% | ETA: 00:00:00\n",
            "Total time elapsed: 00:00:00\n"
          ],
          "name": "stderr"
        },
        {
          "output_type": "stream",
          "text": [
            "Finished Epoch 8 || Run Time:    0.2 | Load Time:    0.3 || F1:  27.16 | Prec:  15.71 | Rec: 100.00 || Ex/s: 824.14\n",
            "\n",
            "===>  EVAL Epoch 8\n"
          ],
          "name": "stdout"
        },
        {
          "output_type": "stream",
          "text": [
            "0% [█] 100% | ETA: 00:00:00\n",
            "Total time elapsed: 00:00:00\n"
          ],
          "name": "stderr"
        },
        {
          "output_type": "stream",
          "text": [
            "Finished Epoch 8 || Run Time:    0.0 | Load Time:    0.1 || F1:  23.88 | Prec:  13.56 | Rec: 100.00 || Ex/s: 1016.05\n",
            "\n",
            "* Best F1: tensor(23.8806, device='cuda:0')\n",
            "Saving best model...\n",
            "Done.\n",
            "---------------------\n",
            "\n",
            "===>  TRAIN Epoch 9\n"
          ],
          "name": "stdout"
        },
        {
          "output_type": "stream",
          "text": [
            "0% [████] 100% | ETA: 00:00:00\n",
            "Total time elapsed: 00:00:00\n"
          ],
          "name": "stderr"
        },
        {
          "output_type": "stream",
          "text": [
            "Finished Epoch 9 || Run Time:    0.2 | Load Time:    0.2 || F1:  27.43 | Prec:  15.90 | Rec: 100.00 || Ex/s: 817.62\n",
            "\n",
            "===>  EVAL Epoch 9\n"
          ],
          "name": "stdout"
        },
        {
          "output_type": "stream",
          "text": [
            "0% [█] 100% | ETA: 00:00:00\n",
            "Total time elapsed: 00:00:00\n"
          ],
          "name": "stderr"
        },
        {
          "output_type": "stream",
          "text": [
            "Finished Epoch 9 || Run Time:    0.0 | Load Time:    0.1 || F1:  24.06 | Prec:  13.68 | Rec: 100.00 || Ex/s: 967.07\n",
            "\n",
            "* Best F1: tensor(24.0602, device='cuda:0')\n",
            "Saving best model...\n",
            "Done.\n",
            "---------------------\n",
            "\n",
            "===>  TRAIN Epoch 10\n"
          ],
          "name": "stdout"
        },
        {
          "output_type": "stream",
          "text": [
            "0% [████] 100% | ETA: 00:00:00\n",
            "Total time elapsed: 00:00:00\n"
          ],
          "name": "stderr"
        },
        {
          "output_type": "stream",
          "text": [
            "Finished Epoch 10 || Run Time:    0.2 | Load Time:    0.2 || F1:  27.57 | Prec:  15.99 | Rec: 100.00 || Ex/s: 830.55\n",
            "\n",
            "===>  EVAL Epoch 10\n"
          ],
          "name": "stdout"
        },
        {
          "output_type": "stream",
          "text": [
            "0% [█] 100% | ETA: 00:00:00\n",
            "Total time elapsed: 00:00:00\n"
          ],
          "name": "stderr"
        },
        {
          "output_type": "stream",
          "text": [
            "Finished Epoch 10 || Run Time:    0.0 | Load Time:    0.1 || F1:  24.06 | Prec:  13.68 | Rec: 100.00 || Ex/s: 1012.95\n",
            "\n",
            "---------------------\n",
            "\n",
            "Loading best model...\n",
            "Training done.\n",
            "Time:  5.7302121419998\n",
            "===>  EVAL Epoch 9\n",
            "Finished Epoch 9 || Run Time:    0.0 | Load Time:    0.1 || F1:  26.87 | Prec:  15.52 | Rec: 100.00 || Ex/s: 1170.77\n",
            "\n",
            "[[27.067668914794922, 27.48091697692871, 26.865671157836914], [5.750015394000002, 5.685267965000094, 5.7302121419998], [], [], [], [], [], []]\n",
            "* Number of trainable parameters: 361802\n",
            "===>  TRAIN Epoch 1\n"
          ],
          "name": "stdout"
        },
        {
          "output_type": "stream",
          "text": [
            "0% [████] 100% | ETA: 00:00:00\n",
            "Total time elapsed: 00:00:00\n"
          ],
          "name": "stderr"
        },
        {
          "output_type": "stream",
          "text": [
            "Finished Epoch 1 || Run Time:    0.2 | Load Time:    0.3 || F1:  27.35 | Prec:  16.04 | Rec:  92.73 || Ex/s: 806.67\n",
            "\n",
            "===>  EVAL Epoch 1\n"
          ],
          "name": "stdout"
        },
        {
          "output_type": "stream",
          "text": [
            "0% [█] 100% | ETA: 00:00:00\n",
            "Total time elapsed: 00:00:00\n"
          ],
          "name": "stderr"
        },
        {
          "output_type": "stream",
          "text": [
            "Finished Epoch 1 || Run Time:    0.0 | Load Time:    0.1 || F1:  23.70 | Prec:  13.45 | Rec: 100.00 || Ex/s: 988.51\n",
            "\n",
            "* Best F1: tensor(23.7037, device='cuda:0')\n",
            "Saving best model...\n",
            "Done.\n",
            "---------------------\n",
            "\n",
            "===>  TRAIN Epoch 2\n"
          ],
          "name": "stdout"
        },
        {
          "output_type": "stream",
          "text": [
            "0% [████] 100% | ETA: 00:00:00\n",
            "Total time elapsed: 00:00:00\n"
          ],
          "name": "stderr"
        },
        {
          "output_type": "stream",
          "text": [
            "Finished Epoch 2 || Run Time:    0.2 | Load Time:    0.2 || F1:  26.83 | Prec:  15.49 | Rec: 100.00 || Ex/s: 833.82\n",
            "\n",
            "===>  EVAL Epoch 2\n"
          ],
          "name": "stdout"
        },
        {
          "output_type": "stream",
          "text": [
            "0% [█] 100% | ETA: 00:00:00\n",
            "Total time elapsed: 00:00:00\n"
          ],
          "name": "stderr"
        },
        {
          "output_type": "stream",
          "text": [
            "Finished Epoch 2 || Run Time:    0.0 | Load Time:    0.1 || F1:  23.70 | Prec:  13.45 | Rec: 100.00 || Ex/s: 1005.70\n",
            "\n",
            "---------------------\n",
            "\n",
            "===>  TRAIN Epoch 3\n"
          ],
          "name": "stdout"
        },
        {
          "output_type": "stream",
          "text": [
            "0% [████] 100% | ETA: 00:00:00\n",
            "Total time elapsed: 00:00:00\n"
          ],
          "name": "stderr"
        },
        {
          "output_type": "stream",
          "text": [
            "Finished Epoch 3 || Run Time:    0.2 | Load Time:    0.3 || F1:  26.83 | Prec:  15.49 | Rec: 100.00 || Ex/s: 822.52\n",
            "\n",
            "===>  EVAL Epoch 3\n"
          ],
          "name": "stdout"
        },
        {
          "output_type": "stream",
          "text": [
            "0% [█] 100% | ETA: 00:00:00\n",
            "Total time elapsed: 00:00:00\n"
          ],
          "name": "stderr"
        },
        {
          "output_type": "stream",
          "text": [
            "Finished Epoch 3 || Run Time:    0.0 | Load Time:    0.1 || F1:  23.70 | Prec:  13.45 | Rec: 100.00 || Ex/s: 930.76\n",
            "\n",
            "---------------------\n",
            "\n",
            "===>  TRAIN Epoch 4\n"
          ],
          "name": "stdout"
        },
        {
          "output_type": "stream",
          "text": [
            "0% [████] 100% | ETA: 00:00:00\n",
            "Total time elapsed: 00:00:00\n"
          ],
          "name": "stderr"
        },
        {
          "output_type": "stream",
          "text": [
            "Finished Epoch 4 || Run Time:    0.2 | Load Time:    0.2 || F1:  26.83 | Prec:  15.49 | Rec: 100.00 || Ex/s: 836.57\n",
            "\n",
            "===>  EVAL Epoch 4\n"
          ],
          "name": "stdout"
        },
        {
          "output_type": "stream",
          "text": [
            "0% [█] 100% | ETA: 00:00:00\n",
            "Total time elapsed: 00:00:00\n"
          ],
          "name": "stderr"
        },
        {
          "output_type": "stream",
          "text": [
            "Finished Epoch 4 || Run Time:    0.0 | Load Time:    0.1 || F1:  23.70 | Prec:  13.45 | Rec: 100.00 || Ex/s: 1002.09\n",
            "\n",
            "---------------------\n",
            "\n",
            "===>  TRAIN Epoch 5\n"
          ],
          "name": "stdout"
        },
        {
          "output_type": "stream",
          "text": [
            "0% [████] 100% | ETA: 00:00:00\n",
            "Total time elapsed: 00:00:00\n"
          ],
          "name": "stderr"
        },
        {
          "output_type": "stream",
          "text": [
            "Finished Epoch 5 || Run Time:    0.2 | Load Time:    0.2 || F1:  26.83 | Prec:  15.49 | Rec: 100.00 || Ex/s: 836.52\n",
            "\n",
            "===>  EVAL Epoch 5\n"
          ],
          "name": "stdout"
        },
        {
          "output_type": "stream",
          "text": [
            "0% [█] 100% | ETA: 00:00:00\n",
            "Total time elapsed: 00:00:00\n"
          ],
          "name": "stderr"
        },
        {
          "output_type": "stream",
          "text": [
            "Finished Epoch 5 || Run Time:    0.0 | Load Time:    0.1 || F1:  23.70 | Prec:  13.45 | Rec: 100.00 || Ex/s: 1007.59\n",
            "\n",
            "---------------------\n",
            "\n",
            "===>  TRAIN Epoch 6\n"
          ],
          "name": "stdout"
        },
        {
          "output_type": "stream",
          "text": [
            "0% [████] 100% | ETA: 00:00:00\n",
            "Total time elapsed: 00:00:00\n"
          ],
          "name": "stderr"
        },
        {
          "output_type": "stream",
          "text": [
            "Finished Epoch 6 || Run Time:    0.2 | Load Time:    0.2 || F1:  26.83 | Prec:  15.49 | Rec: 100.00 || Ex/s: 838.29\n",
            "\n",
            "===>  EVAL Epoch 6\n"
          ],
          "name": "stdout"
        },
        {
          "output_type": "stream",
          "text": [
            "0% [█] 100% | ETA: 00:00:00\n",
            "Total time elapsed: 00:00:00\n"
          ],
          "name": "stderr"
        },
        {
          "output_type": "stream",
          "text": [
            "Finished Epoch 6 || Run Time:    0.0 | Load Time:    0.1 || F1:  23.70 | Prec:  13.45 | Rec: 100.00 || Ex/s: 977.20\n",
            "\n",
            "---------------------\n",
            "\n",
            "===>  TRAIN Epoch 7\n"
          ],
          "name": "stdout"
        },
        {
          "output_type": "stream",
          "text": [
            "0% [████] 100% | ETA: 00:00:00\n",
            "Total time elapsed: 00:00:00\n"
          ],
          "name": "stderr"
        },
        {
          "output_type": "stream",
          "text": [
            "Finished Epoch 7 || Run Time:    0.2 | Load Time:    0.3 || F1:  26.89 | Prec:  15.54 | Rec: 100.00 || Ex/s: 803.28\n",
            "\n",
            "===>  EVAL Epoch 7\n"
          ],
          "name": "stdout"
        },
        {
          "output_type": "stream",
          "text": [
            "0% [█] 100% | ETA: 00:00:00\n",
            "Total time elapsed: 00:00:00\n"
          ],
          "name": "stderr"
        },
        {
          "output_type": "stream",
          "text": [
            "Finished Epoch 7 || Run Time:    0.0 | Load Time:    0.1 || F1:  23.70 | Prec:  13.45 | Rec: 100.00 || Ex/s: 978.69\n",
            "\n",
            "---------------------\n",
            "\n",
            "===>  TRAIN Epoch 8\n"
          ],
          "name": "stdout"
        },
        {
          "output_type": "stream",
          "text": [
            "0% [████] 100% | ETA: 00:00:00\n",
            "Total time elapsed: 00:00:00\n"
          ],
          "name": "stderr"
        },
        {
          "output_type": "stream",
          "text": [
            "Finished Epoch 8 || Run Time:    0.2 | Load Time:    0.2 || F1:  27.09 | Prec:  15.67 | Rec: 100.00 || Ex/s: 847.57\n",
            "\n",
            "===>  EVAL Epoch 8\n"
          ],
          "name": "stdout"
        },
        {
          "output_type": "stream",
          "text": [
            "0% [█] 100% | ETA: 00:00:00\n",
            "Total time elapsed: 00:00:00\n"
          ],
          "name": "stderr"
        },
        {
          "output_type": "stream",
          "text": [
            "Finished Epoch 8 || Run Time:    0.0 | Load Time:    0.1 || F1:  24.06 | Prec:  13.68 | Rec: 100.00 || Ex/s: 894.17\n",
            "\n",
            "* Best F1: tensor(24.0602, device='cuda:0')\n",
            "Saving best model...\n",
            "Done.\n",
            "---------------------\n",
            "\n",
            "===>  TRAIN Epoch 9\n"
          ],
          "name": "stdout"
        },
        {
          "output_type": "stream",
          "text": [
            "0% [████] 100% | ETA: 00:00:00\n",
            "Total time elapsed: 00:00:00\n"
          ],
          "name": "stderr"
        },
        {
          "output_type": "stream",
          "text": [
            "Finished Epoch 9 || Run Time:    0.2 | Load Time:    0.2 || F1:  27.64 | Prec:  16.03 | Rec: 100.00 || Ex/s: 843.68\n",
            "\n",
            "===>  EVAL Epoch 9\n"
          ],
          "name": "stdout"
        },
        {
          "output_type": "stream",
          "text": [
            "0% [█] 100% | ETA: 00:00:00\n",
            "Total time elapsed: 00:00:00\n"
          ],
          "name": "stderr"
        },
        {
          "output_type": "stream",
          "text": [
            "Finished Epoch 9 || Run Time:    0.0 | Load Time:    0.1 || F1:  24.06 | Prec:  13.68 | Rec: 100.00 || Ex/s: 975.46\n",
            "\n",
            "---------------------\n",
            "\n",
            "===>  TRAIN Epoch 10\n"
          ],
          "name": "stdout"
        },
        {
          "output_type": "stream",
          "text": [
            "0% [████] 100% | ETA: 00:00:00\n",
            "Total time elapsed: 00:00:00\n"
          ],
          "name": "stderr"
        },
        {
          "output_type": "stream",
          "text": [
            "Finished Epoch 10 || Run Time:    0.2 | Load Time:    0.2 || F1:  27.64 | Prec:  16.03 | Rec: 100.00 || Ex/s: 831.38\n",
            "\n",
            "===>  EVAL Epoch 10\n"
          ],
          "name": "stdout"
        },
        {
          "output_type": "stream",
          "text": [
            "0% [█] 100% | ETA: 00:00:00\n",
            "Total time elapsed: 00:00:00\n"
          ],
          "name": "stderr"
        },
        {
          "output_type": "stream",
          "text": [
            "Finished Epoch 10 || Run Time:    0.0 | Load Time:    0.1 || F1:  24.43 | Prec:  13.91 | Rec: 100.00 || Ex/s: 1007.58\n",
            "\n",
            "* Best F1: tensor(24.4275, device='cuda:0')\n",
            "Saving best model...\n",
            "Done.\n",
            "---------------------\n",
            "\n",
            "Loading best model...\n",
            "Training done.\n",
            "Time:  5.657230900000286\n",
            "===>  EVAL Epoch 10\n",
            "Finished Epoch 10 || Run Time:    0.0 | Load Time:    0.1 || F1:  27.07 | Prec:  15.65 | Rec: 100.00 || Ex/s: 1201.05\n",
            "\n",
            "[[27.067668914794922, 27.48091697692871, 26.865671157836914, 27.067668914794922], [5.750015394000002, 5.685267965000094, 5.7302121419998, 5.657230900000286], [], [], [], [], [], []]\n",
            "* Number of trainable parameters: 361802\n",
            "===>  TRAIN Epoch 1\n"
          ],
          "name": "stdout"
        },
        {
          "output_type": "stream",
          "text": [
            "0% [████] 100% | ETA: 00:00:00\n",
            "Total time elapsed: 00:00:00\n"
          ],
          "name": "stderr"
        },
        {
          "output_type": "stream",
          "text": [
            "Finished Epoch 1 || Run Time:    0.2 | Load Time:    0.2 || F1:  26.50 | Prec:  15.36 | Rec:  96.36 || Ex/s: 842.56\n",
            "\n",
            "===>  EVAL Epoch 1\n"
          ],
          "name": "stdout"
        },
        {
          "output_type": "stream",
          "text": [
            "0% [█] 100% | ETA: 00:00:00\n",
            "Total time elapsed: 00:00:00\n"
          ],
          "name": "stderr"
        },
        {
          "output_type": "stream",
          "text": [
            "Finished Epoch 1 || Run Time:    0.0 | Load Time:    0.1 || F1:  23.70 | Prec:  13.45 | Rec: 100.00 || Ex/s: 980.04\n",
            "\n",
            "* Best F1: tensor(23.7037, device='cuda:0')\n",
            "Saving best model...\n",
            "Done.\n",
            "---------------------\n",
            "\n",
            "===>  TRAIN Epoch 2\n"
          ],
          "name": "stdout"
        },
        {
          "output_type": "stream",
          "text": [
            "0% [████] 100% | ETA: 00:00:00\n",
            "Total time elapsed: 00:00:00\n"
          ],
          "name": "stderr"
        },
        {
          "output_type": "stream",
          "text": [
            "Finished Epoch 2 || Run Time:    0.2 | Load Time:    0.2 || F1:  26.83 | Prec:  15.49 | Rec: 100.00 || Ex/s: 837.12\n",
            "\n",
            "===>  EVAL Epoch 2\n"
          ],
          "name": "stdout"
        },
        {
          "output_type": "stream",
          "text": [
            "0% [█] 100% | ETA: 00:00:00\n",
            "Total time elapsed: 00:00:00\n"
          ],
          "name": "stderr"
        },
        {
          "output_type": "stream",
          "text": [
            "Finished Epoch 2 || Run Time:    0.0 | Load Time:    0.1 || F1:  23.70 | Prec:  13.45 | Rec: 100.00 || Ex/s: 997.59\n",
            "\n",
            "---------------------\n",
            "\n",
            "===>  TRAIN Epoch 3\n"
          ],
          "name": "stdout"
        },
        {
          "output_type": "stream",
          "text": [
            "0% [████] 100% | ETA: 00:00:00\n",
            "Total time elapsed: 00:00:00\n"
          ],
          "name": "stderr"
        },
        {
          "output_type": "stream",
          "text": [
            "Finished Epoch 3 || Run Time:    0.2 | Load Time:    0.2 || F1:  26.83 | Prec:  15.49 | Rec: 100.00 || Ex/s: 839.77\n",
            "\n",
            "===>  EVAL Epoch 3\n"
          ],
          "name": "stdout"
        },
        {
          "output_type": "stream",
          "text": [
            "0% [█] 100% | ETA: 00:00:00\n",
            "Total time elapsed: 00:00:00\n"
          ],
          "name": "stderr"
        },
        {
          "output_type": "stream",
          "text": [
            "Finished Epoch 3 || Run Time:    0.0 | Load Time:    0.1 || F1:  23.70 | Prec:  13.45 | Rec: 100.00 || Ex/s: 938.55\n",
            "\n",
            "---------------------\n",
            "\n",
            "===>  TRAIN Epoch 4\n"
          ],
          "name": "stdout"
        },
        {
          "output_type": "stream",
          "text": [
            "0% [████] 100% | ETA: 00:00:00\n",
            "Total time elapsed: 00:00:00\n"
          ],
          "name": "stderr"
        },
        {
          "output_type": "stream",
          "text": [
            "Finished Epoch 4 || Run Time:    0.2 | Load Time:    0.2 || F1:  26.83 | Prec:  15.49 | Rec: 100.00 || Ex/s: 822.94\n",
            "\n",
            "===>  EVAL Epoch 4\n"
          ],
          "name": "stdout"
        },
        {
          "output_type": "stream",
          "text": [
            "0% [█] 100% | ETA: 00:00:00\n",
            "Total time elapsed: 00:00:00\n"
          ],
          "name": "stderr"
        },
        {
          "output_type": "stream",
          "text": [
            "Finished Epoch 4 || Run Time:    0.0 | Load Time:    0.1 || F1:  23.70 | Prec:  13.45 | Rec: 100.00 || Ex/s: 925.82\n",
            "\n",
            "---------------------\n",
            "\n",
            "===>  TRAIN Epoch 5\n"
          ],
          "name": "stdout"
        },
        {
          "output_type": "stream",
          "text": [
            "0% [████] 100% | ETA: 00:00:00\n",
            "Total time elapsed: 00:00:00\n"
          ],
          "name": "stderr"
        },
        {
          "output_type": "stream",
          "text": [
            "Finished Epoch 5 || Run Time:    0.2 | Load Time:    0.2 || F1:  26.83 | Prec:  15.49 | Rec: 100.00 || Ex/s: 829.01\n",
            "\n",
            "===>  EVAL Epoch 5\n"
          ],
          "name": "stdout"
        },
        {
          "output_type": "stream",
          "text": [
            "0% [█] 100% | ETA: 00:00:00\n",
            "Total time elapsed: 00:00:00\n"
          ],
          "name": "stderr"
        },
        {
          "output_type": "stream",
          "text": [
            "Finished Epoch 5 || Run Time:    0.0 | Load Time:    0.1 || F1:  23.70 | Prec:  13.45 | Rec: 100.00 || Ex/s: 942.91\n",
            "\n",
            "---------------------\n",
            "\n",
            "===>  TRAIN Epoch 6\n"
          ],
          "name": "stdout"
        },
        {
          "output_type": "stream",
          "text": [
            "0% [████] 100% | ETA: 00:00:00\n",
            "Total time elapsed: 00:00:00\n"
          ],
          "name": "stderr"
        },
        {
          "output_type": "stream",
          "text": [
            "Finished Epoch 6 || Run Time:    0.2 | Load Time:    0.2 || F1:  26.83 | Prec:  15.49 | Rec: 100.00 || Ex/s: 826.98\n",
            "\n",
            "===>  EVAL Epoch 6\n"
          ],
          "name": "stdout"
        },
        {
          "output_type": "stream",
          "text": [
            "0% [█] 100% | ETA: 00:00:00\n",
            "Total time elapsed: 00:00:00\n"
          ],
          "name": "stderr"
        },
        {
          "output_type": "stream",
          "text": [
            "Finished Epoch 6 || Run Time:    0.0 | Load Time:    0.1 || F1:  23.70 | Prec:  13.45 | Rec: 100.00 || Ex/s: 990.22\n",
            "\n",
            "---------------------\n",
            "\n",
            "===>  TRAIN Epoch 7\n"
          ],
          "name": "stdout"
        },
        {
          "output_type": "stream",
          "text": [
            "0% [████] 100% | ETA: 00:00:00\n",
            "Total time elapsed: 00:00:00\n"
          ],
          "name": "stderr"
        },
        {
          "output_type": "stream",
          "text": [
            "Finished Epoch 7 || Run Time:    0.2 | Load Time:    0.3 || F1:  27.09 | Prec:  15.67 | Rec: 100.00 || Ex/s: 827.39\n",
            "\n",
            "===>  EVAL Epoch 7\n"
          ],
          "name": "stdout"
        },
        {
          "output_type": "stream",
          "text": [
            "0% [█] 100% | ETA: 00:00:00\n",
            "Total time elapsed: 00:00:00\n"
          ],
          "name": "stderr"
        },
        {
          "output_type": "stream",
          "text": [
            "Finished Epoch 7 || Run Time:    0.0 | Load Time:    0.1 || F1:  24.06 | Prec:  13.68 | Rec: 100.00 || Ex/s: 1012.04\n",
            "\n",
            "* Best F1: tensor(24.0602, device='cuda:0')\n",
            "Saving best model...\n",
            "Done.\n",
            "---------------------\n",
            "\n",
            "===>  TRAIN Epoch 8\n"
          ],
          "name": "stdout"
        },
        {
          "output_type": "stream",
          "text": [
            "0% [████] 100% | ETA: 00:00:00\n",
            "Total time elapsed: 00:00:00\n"
          ],
          "name": "stderr"
        },
        {
          "output_type": "stream",
          "text": [
            "Finished Epoch 8 || Run Time:    0.2 | Load Time:    0.3 || F1:  27.50 | Prec:  15.94 | Rec: 100.00 || Ex/s: 825.88\n",
            "\n",
            "===>  EVAL Epoch 8\n"
          ],
          "name": "stdout"
        },
        {
          "output_type": "stream",
          "text": [
            "0% [█] 100% | ETA: 00:00:00\n",
            "Total time elapsed: 00:00:00\n"
          ],
          "name": "stderr"
        },
        {
          "output_type": "stream",
          "text": [
            "Finished Epoch 8 || Run Time:    0.0 | Load Time:    0.1 || F1:  24.06 | Prec:  13.68 | Rec: 100.00 || Ex/s: 1012.67\n",
            "\n",
            "---------------------\n",
            "\n",
            "===>  TRAIN Epoch 9\n"
          ],
          "name": "stdout"
        },
        {
          "output_type": "stream",
          "text": [
            "0% [████] 100% | ETA: 00:00:00\n",
            "Total time elapsed: 00:00:00\n"
          ],
          "name": "stderr"
        },
        {
          "output_type": "stream",
          "text": [
            "Finished Epoch 9 || Run Time:    0.2 | Load Time:    0.2 || F1:  27.64 | Prec:  16.03 | Rec: 100.00 || Ex/s: 827.68\n",
            "\n",
            "===>  EVAL Epoch 9\n"
          ],
          "name": "stdout"
        },
        {
          "output_type": "stream",
          "text": [
            "0% [█] 100% | ETA: 00:00:00\n",
            "Total time elapsed: 00:00:00\n"
          ],
          "name": "stderr"
        },
        {
          "output_type": "stream",
          "text": [
            "Finished Epoch 9 || Run Time:    0.0 | Load Time:    0.1 || F1:  24.62 | Prec:  14.04 | Rec: 100.00 || Ex/s: 1008.79\n",
            "\n",
            "* Best F1: tensor(24.6154, device='cuda:0')\n",
            "Saving best model...\n",
            "Done.\n",
            "---------------------\n",
            "\n",
            "===>  TRAIN Epoch 10\n"
          ],
          "name": "stdout"
        },
        {
          "output_type": "stream",
          "text": [
            "0% [████] 100% | ETA: 00:00:00\n",
            "Total time elapsed: 00:00:00\n"
          ],
          "name": "stderr"
        },
        {
          "output_type": "stream",
          "text": [
            "Finished Epoch 10 || Run Time:    0.2 | Load Time:    0.2 || F1:  27.85 | Prec:  16.18 | Rec: 100.00 || Ex/s: 832.72\n",
            "\n",
            "===>  EVAL Epoch 10\n"
          ],
          "name": "stdout"
        },
        {
          "output_type": "stream",
          "text": [
            "0% [█] 100% | ETA: 00:00:00\n",
            "Total time elapsed: 00:00:00\n"
          ],
          "name": "stderr"
        },
        {
          "output_type": "stream",
          "text": [
            "Finished Epoch 10 || Run Time:    0.0 | Load Time:    0.1 || F1:  23.44 | Prec:  13.39 | Rec:  93.75 || Ex/s: 994.74\n",
            "\n",
            "---------------------\n",
            "\n",
            "Loading best model...\n",
            "Training done.\n",
            "Time:  5.643488617000003\n",
            "===>  EVAL Epoch 9\n",
            "Finished Epoch 9 || Run Time:    0.0 | Load Time:    0.1 || F1:  27.07 | Prec:  15.65 | Rec: 100.00 || Ex/s: 1183.90\n",
            "\n",
            "[[27.067668914794922, 27.48091697692871, 26.865671157836914, 27.067668914794922, 27.067668914794922], [5.750015394000002, 5.685267965000094, 5.7302121419998, 5.657230900000286, 5.643488617000003], [], [], [], [], [], []]\n",
            "* Number of trainable parameters: 361802\n",
            "===>  TRAIN Epoch 1\n"
          ],
          "name": "stdout"
        },
        {
          "output_type": "stream",
          "text": [
            "0% [████] 100% | ETA: 00:00:00\n",
            "Total time elapsed: 00:00:00\n"
          ],
          "name": "stderr"
        },
        {
          "output_type": "stream",
          "text": [
            "Finished Epoch 1 || Run Time:    0.2 | Load Time:    0.2 || F1:  27.38 | Prec:  16.37 | Rec:  83.64 || Ex/s: 826.74\n",
            "\n",
            "===>  EVAL Epoch 1\n"
          ],
          "name": "stdout"
        },
        {
          "output_type": "stream",
          "text": [
            "0% [█] 100% | ETA: 00:00:00\n",
            "Total time elapsed: 00:00:00\n"
          ],
          "name": "stderr"
        },
        {
          "output_type": "stream",
          "text": [
            "Finished Epoch 1 || Run Time:    0.0 | Load Time:    0.1 || F1:  23.70 | Prec:  13.45 | Rec: 100.00 || Ex/s: 978.05\n",
            "\n",
            "* Best F1: tensor(23.7037, device='cuda:0')\n",
            "Saving best model...\n",
            "Done.\n",
            "---------------------\n",
            "\n",
            "===>  TRAIN Epoch 2\n"
          ],
          "name": "stdout"
        },
        {
          "output_type": "stream",
          "text": [
            "0% [████] 100% | ETA: 00:00:00\n",
            "Total time elapsed: 00:00:00\n"
          ],
          "name": "stderr"
        },
        {
          "output_type": "stream",
          "text": [
            "Finished Epoch 2 || Run Time:    0.2 | Load Time:    0.3 || F1:  26.83 | Prec:  15.49 | Rec: 100.00 || Ex/s: 817.12\n",
            "\n",
            "===>  EVAL Epoch 2\n"
          ],
          "name": "stdout"
        },
        {
          "output_type": "stream",
          "text": [
            "0% [█] 100% | ETA: 00:00:00\n",
            "Total time elapsed: 00:00:00\n"
          ],
          "name": "stderr"
        },
        {
          "output_type": "stream",
          "text": [
            "Finished Epoch 2 || Run Time:    0.0 | Load Time:    0.1 || F1:  23.70 | Prec:  13.45 | Rec: 100.00 || Ex/s: 915.33\n",
            "\n",
            "---------------------\n",
            "\n",
            "===>  TRAIN Epoch 3\n"
          ],
          "name": "stdout"
        },
        {
          "output_type": "stream",
          "text": [
            "0% [████] 100% | ETA: 00:00:00\n",
            "Total time elapsed: 00:00:00\n"
          ],
          "name": "stderr"
        },
        {
          "output_type": "stream",
          "text": [
            "Finished Epoch 3 || Run Time:    0.2 | Load Time:    0.2 || F1:  26.83 | Prec:  15.49 | Rec: 100.00 || Ex/s: 837.63\n",
            "\n",
            "===>  EVAL Epoch 3\n"
          ],
          "name": "stdout"
        },
        {
          "output_type": "stream",
          "text": [
            "0% [█] 100% | ETA: 00:00:00\n",
            "Total time elapsed: 00:00:00\n"
          ],
          "name": "stderr"
        },
        {
          "output_type": "stream",
          "text": [
            "Finished Epoch 3 || Run Time:    0.0 | Load Time:    0.1 || F1:  23.70 | Prec:  13.45 | Rec: 100.00 || Ex/s: 1003.13\n",
            "\n",
            "---------------------\n",
            "\n",
            "===>  TRAIN Epoch 4\n"
          ],
          "name": "stdout"
        },
        {
          "output_type": "stream",
          "text": [
            "0% [████] 100% | ETA: 00:00:00\n",
            "Total time elapsed: 00:00:00\n"
          ],
          "name": "stderr"
        },
        {
          "output_type": "stream",
          "text": [
            "Finished Epoch 4 || Run Time:    0.2 | Load Time:    0.3 || F1:  26.83 | Prec:  15.49 | Rec: 100.00 || Ex/s: 822.85\n",
            "\n",
            "===>  EVAL Epoch 4\n"
          ],
          "name": "stdout"
        },
        {
          "output_type": "stream",
          "text": [
            "0% [█] 100% | ETA: 00:00:00\n",
            "Total time elapsed: 00:00:00\n"
          ],
          "name": "stderr"
        },
        {
          "output_type": "stream",
          "text": [
            "Finished Epoch 4 || Run Time:    0.0 | Load Time:    0.1 || F1:  23.70 | Prec:  13.45 | Rec: 100.00 || Ex/s: 985.76\n",
            "\n",
            "---------------------\n",
            "\n",
            "===>  TRAIN Epoch 5\n"
          ],
          "name": "stdout"
        },
        {
          "output_type": "stream",
          "text": [
            "0% [████] 100% | ETA: 00:00:00\n",
            "Total time elapsed: 00:00:00\n"
          ],
          "name": "stderr"
        },
        {
          "output_type": "stream",
          "text": [
            "Finished Epoch 5 || Run Time:    0.2 | Load Time:    0.2 || F1:  26.83 | Prec:  15.49 | Rec: 100.00 || Ex/s: 837.73\n",
            "\n",
            "===>  EVAL Epoch 5\n"
          ],
          "name": "stdout"
        },
        {
          "output_type": "stream",
          "text": [
            "0% [█] 100% | ETA: 00:00:00\n",
            "Total time elapsed: 00:00:00\n"
          ],
          "name": "stderr"
        },
        {
          "output_type": "stream",
          "text": [
            "Finished Epoch 5 || Run Time:    0.0 | Load Time:    0.1 || F1:  23.70 | Prec:  13.45 | Rec: 100.00 || Ex/s: 989.90\n",
            "\n",
            "---------------------\n",
            "\n",
            "===>  TRAIN Epoch 6\n"
          ],
          "name": "stdout"
        },
        {
          "output_type": "stream",
          "text": [
            "0% [████] 100% | ETA: 00:00:00\n",
            "Total time elapsed: 00:00:00\n"
          ],
          "name": "stderr"
        },
        {
          "output_type": "stream",
          "text": [
            "Finished Epoch 6 || Run Time:    0.2 | Load Time:    0.3 || F1:  26.83 | Prec:  15.49 | Rec: 100.00 || Ex/s: 800.30\n",
            "\n",
            "===>  EVAL Epoch 6\n"
          ],
          "name": "stdout"
        },
        {
          "output_type": "stream",
          "text": [
            "0% [█] 100% | ETA: 00:00:00\n",
            "Total time elapsed: 00:00:00\n"
          ],
          "name": "stderr"
        },
        {
          "output_type": "stream",
          "text": [
            "Finished Epoch 6 || Run Time:    0.0 | Load Time:    0.1 || F1:  23.70 | Prec:  13.45 | Rec: 100.00 || Ex/s: 974.34\n",
            "\n",
            "---------------------\n",
            "\n",
            "===>  TRAIN Epoch 7\n"
          ],
          "name": "stdout"
        },
        {
          "output_type": "stream",
          "text": [
            "0% [████] 100% | ETA: 00:00:00\n",
            "Total time elapsed: 00:00:00\n"
          ],
          "name": "stderr"
        },
        {
          "output_type": "stream",
          "text": [
            "Finished Epoch 7 || Run Time:    0.2 | Load Time:    0.2 || F1:  26.83 | Prec:  15.49 | Rec: 100.00 || Ex/s: 834.55\n",
            "\n",
            "===>  EVAL Epoch 7\n"
          ],
          "name": "stdout"
        },
        {
          "output_type": "stream",
          "text": [
            "0% [█] 100% | ETA: 00:00:00\n",
            "Total time elapsed: 00:00:00\n"
          ],
          "name": "stderr"
        },
        {
          "output_type": "stream",
          "text": [
            "Finished Epoch 7 || Run Time:    0.0 | Load Time:    0.1 || F1:  23.70 | Prec:  13.45 | Rec: 100.00 || Ex/s: 988.59\n",
            "\n",
            "---------------------\n",
            "\n",
            "===>  TRAIN Epoch 8\n"
          ],
          "name": "stdout"
        },
        {
          "output_type": "stream",
          "text": [
            "0% [████] 100% | ETA: 00:00:00\n",
            "Total time elapsed: 00:00:00\n"
          ],
          "name": "stderr"
        },
        {
          "output_type": "stream",
          "text": [
            "Finished Epoch 8 || Run Time:    0.2 | Load Time:    0.2 || F1:  26.83 | Prec:  15.49 | Rec: 100.00 || Ex/s: 828.05\n",
            "\n",
            "===>  EVAL Epoch 8\n"
          ],
          "name": "stdout"
        },
        {
          "output_type": "stream",
          "text": [
            "0% [█] 100% | ETA: 00:00:00\n",
            "Total time elapsed: 00:00:00\n"
          ],
          "name": "stderr"
        },
        {
          "output_type": "stream",
          "text": [
            "Finished Epoch 8 || Run Time:    0.0 | Load Time:    0.1 || F1:  23.70 | Prec:  13.45 | Rec: 100.00 || Ex/s: 973.82\n",
            "\n",
            "---------------------\n",
            "\n",
            "===>  TRAIN Epoch 9\n"
          ],
          "name": "stdout"
        },
        {
          "output_type": "stream",
          "text": [
            "0% [████] 100% | ETA: 00:00:00\n",
            "Total time elapsed: 00:00:00\n"
          ],
          "name": "stderr"
        },
        {
          "output_type": "stream",
          "text": [
            "Finished Epoch 9 || Run Time:    0.2 | Load Time:    0.2 || F1:  26.96 | Prec:  15.58 | Rec: 100.00 || Ex/s: 832.76\n",
            "\n",
            "===>  EVAL Epoch 9\n"
          ],
          "name": "stdout"
        },
        {
          "output_type": "stream",
          "text": [
            "0% [█] 100% | ETA: 00:00:00\n",
            "Total time elapsed: 00:00:00\n"
          ],
          "name": "stderr"
        },
        {
          "output_type": "stream",
          "text": [
            "Finished Epoch 9 || Run Time:    0.0 | Load Time:    0.1 || F1:  23.70 | Prec:  13.45 | Rec: 100.00 || Ex/s: 1007.63\n",
            "\n",
            "---------------------\n",
            "\n",
            "===>  TRAIN Epoch 10\n"
          ],
          "name": "stdout"
        },
        {
          "output_type": "stream",
          "text": [
            "0% [████] 100% | ETA: 00:00:00\n",
            "Total time elapsed: 00:00:00\n"
          ],
          "name": "stderr"
        },
        {
          "output_type": "stream",
          "text": [
            "Finished Epoch 10 || Run Time:    0.2 | Load Time:    0.3 || F1:  27.23 | Prec:  15.76 | Rec: 100.00 || Ex/s: 793.87\n",
            "\n",
            "===>  EVAL Epoch 10\n"
          ],
          "name": "stdout"
        },
        {
          "output_type": "stream",
          "text": [
            "0% [█] 100% | ETA: 00:00:00\n",
            "Total time elapsed: 00:00:00\n"
          ],
          "name": "stderr"
        },
        {
          "output_type": "stream",
          "text": [
            "Finished Epoch 10 || Run Time:    0.0 | Load Time:    0.1 || F1:  24.06 | Prec:  13.68 | Rec: 100.00 || Ex/s: 981.37\n",
            "\n",
            "* Best F1: tensor(24.0602, device='cuda:0')\n",
            "Saving best model...\n",
            "Done.\n",
            "---------------------\n",
            "\n",
            "Loading best model...\n",
            "Training done.\n",
            "Time:  5.653690455000287\n",
            "===>  EVAL Epoch 10\n",
            "Finished Epoch 10 || Run Time:    0.0 | Load Time:    0.1 || F1:  26.67 | Prec:  15.38 | Rec: 100.00 || Ex/s: 1160.50\n",
            "\n",
            "[[27.067668914794922, 27.48091697692871, 26.865671157836914, 27.067668914794922, 27.067668914794922, 26.666667938232422], [5.750015394000002, 5.685267965000094, 5.7302121419998, 5.657230900000286, 5.643488617000003, 5.653690455000287], [], [], [], [], [], []]\n",
            "* Number of trainable parameters: 361802\n",
            "===>  TRAIN Epoch 1\n"
          ],
          "name": "stdout"
        },
        {
          "output_type": "stream",
          "text": [
            "0% [████] 100% | ETA: 00:00:00\n",
            "Total time elapsed: 00:00:00\n"
          ],
          "name": "stderr"
        },
        {
          "output_type": "stream",
          "text": [
            "Finished Epoch 1 || Run Time:    0.2 | Load Time:    0.2 || F1:  26.83 | Prec:  15.49 | Rec: 100.00 || Ex/s: 827.59\n",
            "\n",
            "===>  EVAL Epoch 1\n"
          ],
          "name": "stdout"
        },
        {
          "output_type": "stream",
          "text": [
            "0% [█] 100% | ETA: 00:00:00\n",
            "Total time elapsed: 00:00:00\n"
          ],
          "name": "stderr"
        },
        {
          "output_type": "stream",
          "text": [
            "Finished Epoch 1 || Run Time:    0.0 | Load Time:    0.1 || F1:  23.70 | Prec:  13.45 | Rec: 100.00 || Ex/s: 1006.14\n",
            "\n",
            "* Best F1: tensor(23.7037, device='cuda:0')\n",
            "Saving best model...\n",
            "Done.\n",
            "---------------------\n",
            "\n",
            "===>  TRAIN Epoch 2\n"
          ],
          "name": "stdout"
        },
        {
          "output_type": "stream",
          "text": [
            "0% [████] 100% | ETA: 00:00:00\n",
            "Total time elapsed: 00:00:00\n"
          ],
          "name": "stderr"
        },
        {
          "output_type": "stream",
          "text": [
            "Finished Epoch 2 || Run Time:    0.2 | Load Time:    0.3 || F1:  26.83 | Prec:  15.49 | Rec: 100.00 || Ex/s: 809.23\n",
            "\n",
            "===>  EVAL Epoch 2\n"
          ],
          "name": "stdout"
        },
        {
          "output_type": "stream",
          "text": [
            "0% [█] 100% | ETA: 00:00:00\n",
            "Total time elapsed: 00:00:00\n"
          ],
          "name": "stderr"
        },
        {
          "output_type": "stream",
          "text": [
            "Finished Epoch 2 || Run Time:    0.0 | Load Time:    0.1 || F1:  23.70 | Prec:  13.45 | Rec: 100.00 || Ex/s: 997.09\n",
            "\n",
            "---------------------\n",
            "\n",
            "===>  TRAIN Epoch 3\n"
          ],
          "name": "stdout"
        },
        {
          "output_type": "stream",
          "text": [
            "0% [████] 100% | ETA: 00:00:00\n",
            "Total time elapsed: 00:00:00\n"
          ],
          "name": "stderr"
        },
        {
          "output_type": "stream",
          "text": [
            "Finished Epoch 3 || Run Time:    0.2 | Load Time:    0.2 || F1:  26.83 | Prec:  15.49 | Rec: 100.00 || Ex/s: 825.98\n",
            "\n",
            "===>  EVAL Epoch 3\n"
          ],
          "name": "stdout"
        },
        {
          "output_type": "stream",
          "text": [
            "0% [█] 100% | ETA: 00:00:00\n",
            "Total time elapsed: 00:00:00\n"
          ],
          "name": "stderr"
        },
        {
          "output_type": "stream",
          "text": [
            "Finished Epoch 3 || Run Time:    0.0 | Load Time:    0.1 || F1:  23.70 | Prec:  13.45 | Rec: 100.00 || Ex/s: 984.77\n",
            "\n",
            "---------------------\n",
            "\n",
            "===>  TRAIN Epoch 4\n"
          ],
          "name": "stdout"
        },
        {
          "output_type": "stream",
          "text": [
            "0% [████] 100% | ETA: 00:00:00\n",
            "Total time elapsed: 00:00:00\n"
          ],
          "name": "stderr"
        },
        {
          "output_type": "stream",
          "text": [
            "Finished Epoch 4 || Run Time:    0.2 | Load Time:    0.2 || F1:  26.83 | Prec:  15.49 | Rec: 100.00 || Ex/s: 820.86\n",
            "\n",
            "===>  EVAL Epoch 4\n"
          ],
          "name": "stdout"
        },
        {
          "output_type": "stream",
          "text": [
            "0% [█] 100% | ETA: 00:00:00\n",
            "Total time elapsed: 00:00:00\n"
          ],
          "name": "stderr"
        },
        {
          "output_type": "stream",
          "text": [
            "Finished Epoch 4 || Run Time:    0.0 | Load Time:    0.1 || F1:  23.70 | Prec:  13.45 | Rec: 100.00 || Ex/s: 994.69\n",
            "\n",
            "---------------------\n",
            "\n",
            "===>  TRAIN Epoch 5\n"
          ],
          "name": "stdout"
        },
        {
          "output_type": "stream",
          "text": [
            "0% [████] 100% | ETA: 00:00:00\n",
            "Total time elapsed: 00:00:00\n"
          ],
          "name": "stderr"
        },
        {
          "output_type": "stream",
          "text": [
            "Finished Epoch 5 || Run Time:    0.2 | Load Time:    0.2 || F1:  26.83 | Prec:  15.49 | Rec: 100.00 || Ex/s: 834.23\n",
            "\n",
            "===>  EVAL Epoch 5\n"
          ],
          "name": "stdout"
        },
        {
          "output_type": "stream",
          "text": [
            "0% [█] 100% | ETA: 00:00:00\n",
            "Total time elapsed: 00:00:00\n"
          ],
          "name": "stderr"
        },
        {
          "output_type": "stream",
          "text": [
            "Finished Epoch 5 || Run Time:    0.0 | Load Time:    0.1 || F1:  23.70 | Prec:  13.45 | Rec: 100.00 || Ex/s: 983.47\n",
            "\n",
            "---------------------\n",
            "\n",
            "===>  TRAIN Epoch 6\n"
          ],
          "name": "stdout"
        },
        {
          "output_type": "stream",
          "text": [
            "0% [████] 100% | ETA: 00:00:00\n",
            "Total time elapsed: 00:00:00\n"
          ],
          "name": "stderr"
        },
        {
          "output_type": "stream",
          "text": [
            "Finished Epoch 6 || Run Time:    0.2 | Load Time:    0.2 || F1:  26.89 | Prec:  15.54 | Rec: 100.00 || Ex/s: 837.33\n",
            "\n",
            "===>  EVAL Epoch 6\n"
          ],
          "name": "stdout"
        },
        {
          "output_type": "stream",
          "text": [
            "0% [█] 100% | ETA: 00:00:00\n",
            "Total time elapsed: 00:00:00\n"
          ],
          "name": "stderr"
        },
        {
          "output_type": "stream",
          "text": [
            "Finished Epoch 6 || Run Time:    0.0 | Load Time:    0.1 || F1:  23.88 | Prec:  13.56 | Rec: 100.00 || Ex/s: 1001.38\n",
            "\n",
            "* Best F1: tensor(23.8806, device='cuda:0')\n",
            "Saving best model...\n",
            "Done.\n",
            "---------------------\n",
            "\n",
            "===>  TRAIN Epoch 7\n"
          ],
          "name": "stdout"
        },
        {
          "output_type": "stream",
          "text": [
            "0% [████] 100% | ETA: 00:00:00\n",
            "Total time elapsed: 00:00:00\n"
          ],
          "name": "stderr"
        },
        {
          "output_type": "stream",
          "text": [
            "Finished Epoch 7 || Run Time:    0.2 | Load Time:    0.2 || F1:  27.50 | Prec:  15.94 | Rec: 100.00 || Ex/s: 819.43\n",
            "\n",
            "===>  EVAL Epoch 7\n"
          ],
          "name": "stdout"
        },
        {
          "output_type": "stream",
          "text": [
            "0% [█] 100% | ETA: 00:00:00\n",
            "Total time elapsed: 00:00:00\n"
          ],
          "name": "stderr"
        },
        {
          "output_type": "stream",
          "text": [
            "Finished Epoch 7 || Run Time:    0.0 | Load Time:    0.1 || F1:  24.06 | Prec:  13.68 | Rec: 100.00 || Ex/s: 1003.19\n",
            "\n",
            "* Best F1: tensor(24.0602, device='cuda:0')\n",
            "Saving best model...\n",
            "Done.\n",
            "---------------------\n",
            "\n",
            "===>  TRAIN Epoch 8\n"
          ],
          "name": "stdout"
        },
        {
          "output_type": "stream",
          "text": [
            "0% [████] 100% | ETA: 00:00:00\n",
            "Total time elapsed: 00:00:00\n"
          ],
          "name": "stderr"
        },
        {
          "output_type": "stream",
          "text": [
            "Finished Epoch 8 || Run Time:    0.2 | Load Time:    0.2 || F1:  27.64 | Prec:  16.03 | Rec: 100.00 || Ex/s: 831.89\n",
            "\n",
            "===>  EVAL Epoch 8\n"
          ],
          "name": "stdout"
        },
        {
          "output_type": "stream",
          "text": [
            "0% [█] 100% | ETA: 00:00:00\n",
            "Total time elapsed: 00:00:00\n"
          ],
          "name": "stderr"
        },
        {
          "output_type": "stream",
          "text": [
            "Finished Epoch 8 || Run Time:    0.0 | Load Time:    0.1 || F1:  24.62 | Prec:  14.04 | Rec: 100.00 || Ex/s: 957.37\n",
            "\n",
            "* Best F1: tensor(24.6154, device='cuda:0')\n",
            "Saving best model...\n",
            "Done.\n",
            "---------------------\n",
            "\n",
            "===>  TRAIN Epoch 9\n"
          ],
          "name": "stdout"
        },
        {
          "output_type": "stream",
          "text": [
            "0% [████] 100% | ETA: 00:00:00\n",
            "Total time elapsed: 00:00:00\n"
          ],
          "name": "stderr"
        },
        {
          "output_type": "stream",
          "text": [
            "Finished Epoch 9 || Run Time:    0.2 | Load Time:    0.3 || F1:  28.50 | Prec:  16.62 | Rec: 100.00 || Ex/s: 812.26\n",
            "\n",
            "===>  EVAL Epoch 9\n"
          ],
          "name": "stdout"
        },
        {
          "output_type": "stream",
          "text": [
            "0% [█] 100% | ETA: 00:00:00\n",
            "Total time elapsed: 00:00:00\n"
          ],
          "name": "stderr"
        },
        {
          "output_type": "stream",
          "text": [
            "Finished Epoch 9 || Run Time:    0.0 | Load Time:    0.1 || F1:  23.81 | Prec:  13.64 | Rec:  93.75 || Ex/s: 953.67\n",
            "\n",
            "---------------------\n",
            "\n",
            "===>  TRAIN Epoch 10\n"
          ],
          "name": "stdout"
        },
        {
          "output_type": "stream",
          "text": [
            "0% [████] 100% | ETA: 00:00:00\n",
            "Total time elapsed: 00:00:00\n"
          ],
          "name": "stderr"
        },
        {
          "output_type": "stream",
          "text": [
            "Finished Epoch 10 || Run Time:    0.2 | Load Time:    0.2 || F1:  28.72 | Prec:  16.77 | Rec: 100.00 || Ex/s: 837.57\n",
            "\n",
            "===>  EVAL Epoch 10\n"
          ],
          "name": "stdout"
        },
        {
          "output_type": "stream",
          "text": [
            "0% [█] 100% | ETA: 00:00:00\n",
            "Total time elapsed: 00:00:00\n"
          ],
          "name": "stderr"
        },
        {
          "output_type": "stream",
          "text": [
            "Finished Epoch 10 || Run Time:    0.0 | Load Time:    0.1 || F1:  24.00 | Prec:  13.76 | Rec:  93.75 || Ex/s: 964.60\n",
            "\n",
            "---------------------\n",
            "\n",
            "Loading best model...\n",
            "Training done.\n",
            "Time:  5.695949046000351\n",
            "===>  EVAL Epoch 8\n",
            "Finished Epoch 8 || Run Time:    0.0 | Load Time:    0.1 || F1:  27.48 | Prec:  15.93 | Rec: 100.00 || Ex/s: 1124.75\n",
            "\n",
            "[[27.067668914794922, 27.48091697692871, 26.865671157836914, 27.067668914794922, 27.067668914794922, 26.666667938232422, 27.48091697692871], [5.750015394000002, 5.685267965000094, 5.7302121419998, 5.657230900000286, 5.643488617000003, 5.653690455000287, 5.695949046000351], [], [], [], [], [], []]\n",
            "* Number of trainable parameters: 361802\n",
            "===>  TRAIN Epoch 1\n"
          ],
          "name": "stdout"
        },
        {
          "output_type": "stream",
          "text": [
            "0% [████] 100% | ETA: 00:00:00\n",
            "Total time elapsed: 00:00:00\n"
          ],
          "name": "stderr"
        },
        {
          "output_type": "stream",
          "text": [
            "Finished Epoch 1 || Run Time:    0.2 | Load Time:    0.2 || F1:  27.15 | Prec:  15.85 | Rec:  94.55 || Ex/s: 838.26\n",
            "\n",
            "===>  EVAL Epoch 1\n"
          ],
          "name": "stdout"
        },
        {
          "output_type": "stream",
          "text": [
            "0% [█] 100% | ETA: 00:00:00\n",
            "Total time elapsed: 00:00:00\n"
          ],
          "name": "stderr"
        },
        {
          "output_type": "stream",
          "text": [
            "Finished Epoch 1 || Run Time:    0.0 | Load Time:    0.1 || F1:  23.70 | Prec:  13.45 | Rec: 100.00 || Ex/s: 1001.10\n",
            "\n",
            "* Best F1: tensor(23.7037, device='cuda:0')\n",
            "Saving best model...\n",
            "Done.\n",
            "---------------------\n",
            "\n",
            "===>  TRAIN Epoch 2\n"
          ],
          "name": "stdout"
        },
        {
          "output_type": "stream",
          "text": [
            "0% [████] 100% | ETA: 00:00:00\n",
            "Total time elapsed: 00:00:00\n"
          ],
          "name": "stderr"
        },
        {
          "output_type": "stream",
          "text": [
            "Finished Epoch 2 || Run Time:    0.2 | Load Time:    0.3 || F1:  26.83 | Prec:  15.49 | Rec: 100.00 || Ex/s: 824.31\n",
            "\n",
            "===>  EVAL Epoch 2\n"
          ],
          "name": "stdout"
        },
        {
          "output_type": "stream",
          "text": [
            "0% [█] 100% | ETA: 00:00:00\n",
            "Total time elapsed: 00:00:00\n"
          ],
          "name": "stderr"
        },
        {
          "output_type": "stream",
          "text": [
            "Finished Epoch 2 || Run Time:    0.0 | Load Time:    0.1 || F1:  23.70 | Prec:  13.45 | Rec: 100.00 || Ex/s: 971.38\n",
            "\n",
            "---------------------\n",
            "\n",
            "===>  TRAIN Epoch 3\n"
          ],
          "name": "stdout"
        },
        {
          "output_type": "stream",
          "text": [
            "0% [████] 100% | ETA: 00:00:00\n",
            "Total time elapsed: 00:00:00\n"
          ],
          "name": "stderr"
        },
        {
          "output_type": "stream",
          "text": [
            "Finished Epoch 3 || Run Time:    0.2 | Load Time:    0.2 || F1:  26.83 | Prec:  15.49 | Rec: 100.00 || Ex/s: 824.58\n",
            "\n",
            "===>  EVAL Epoch 3\n"
          ],
          "name": "stdout"
        },
        {
          "output_type": "stream",
          "text": [
            "0% [█] 100% | ETA: 00:00:00\n",
            "Total time elapsed: 00:00:00\n"
          ],
          "name": "stderr"
        },
        {
          "output_type": "stream",
          "text": [
            "Finished Epoch 3 || Run Time:    0.0 | Load Time:    0.1 || F1:  23.70 | Prec:  13.45 | Rec: 100.00 || Ex/s: 967.67\n",
            "\n",
            "---------------------\n",
            "\n",
            "===>  TRAIN Epoch 4\n"
          ],
          "name": "stdout"
        },
        {
          "output_type": "stream",
          "text": [
            "0% [████] 100% | ETA: 00:00:00\n",
            "Total time elapsed: 00:00:00\n"
          ],
          "name": "stderr"
        },
        {
          "output_type": "stream",
          "text": [
            "Finished Epoch 4 || Run Time:    0.2 | Load Time:    0.3 || F1:  26.83 | Prec:  15.49 | Rec: 100.00 || Ex/s: 815.37\n",
            "\n",
            "===>  EVAL Epoch 4\n"
          ],
          "name": "stdout"
        },
        {
          "output_type": "stream",
          "text": [
            "0% [█] 100% | ETA: 00:00:00\n",
            "Total time elapsed: 00:00:00\n"
          ],
          "name": "stderr"
        },
        {
          "output_type": "stream",
          "text": [
            "Finished Epoch 4 || Run Time:    0.0 | Load Time:    0.1 || F1:  23.70 | Prec:  13.45 | Rec: 100.00 || Ex/s: 1005.41\n",
            "\n",
            "---------------------\n",
            "\n",
            "===>  TRAIN Epoch 5\n"
          ],
          "name": "stdout"
        },
        {
          "output_type": "stream",
          "text": [
            "0% [████] 100% | ETA: 00:00:00\n",
            "Total time elapsed: 00:00:00\n"
          ],
          "name": "stderr"
        },
        {
          "output_type": "stream",
          "text": [
            "Finished Epoch 5 || Run Time:    0.2 | Load Time:    0.2 || F1:  26.83 | Prec:  15.49 | Rec: 100.00 || Ex/s: 836.93\n",
            "\n",
            "===>  EVAL Epoch 5\n"
          ],
          "name": "stdout"
        },
        {
          "output_type": "stream",
          "text": [
            "0% [█] 100% | ETA: 00:00:00\n",
            "Total time elapsed: 00:00:00\n"
          ],
          "name": "stderr"
        },
        {
          "output_type": "stream",
          "text": [
            "Finished Epoch 5 || Run Time:    0.0 | Load Time:    0.1 || F1:  23.70 | Prec:  13.45 | Rec: 100.00 || Ex/s: 1015.45\n",
            "\n",
            "---------------------\n",
            "\n",
            "===>  TRAIN Epoch 6\n"
          ],
          "name": "stdout"
        },
        {
          "output_type": "stream",
          "text": [
            "0% [████] 100% | ETA: 00:00:00\n",
            "Total time elapsed: 00:00:00\n"
          ],
          "name": "stderr"
        },
        {
          "output_type": "stream",
          "text": [
            "Finished Epoch 6 || Run Time:    0.2 | Load Time:    0.2 || F1:  26.83 | Prec:  15.49 | Rec: 100.00 || Ex/s: 831.72\n",
            "\n",
            "===>  EVAL Epoch 6\n"
          ],
          "name": "stdout"
        },
        {
          "output_type": "stream",
          "text": [
            "0% [█] 100% | ETA: 00:00:00\n",
            "Total time elapsed: 00:00:00\n"
          ],
          "name": "stderr"
        },
        {
          "output_type": "stream",
          "text": [
            "Finished Epoch 6 || Run Time:    0.0 | Load Time:    0.1 || F1:  23.70 | Prec:  13.45 | Rec: 100.00 || Ex/s: 991.32\n",
            "\n",
            "---------------------\n",
            "\n",
            "===>  TRAIN Epoch 7\n"
          ],
          "name": "stdout"
        },
        {
          "output_type": "stream",
          "text": [
            "0% [████] 100% | ETA: 00:00:00\n",
            "Total time elapsed: 00:00:00\n"
          ],
          "name": "stderr"
        },
        {
          "output_type": "stream",
          "text": [
            "Finished Epoch 7 || Run Time:    0.2 | Load Time:    0.2 || F1:  27.03 | Prec:  15.62 | Rec: 100.00 || Ex/s: 823.60\n",
            "\n",
            "===>  EVAL Epoch 7\n"
          ],
          "name": "stdout"
        },
        {
          "output_type": "stream",
          "text": [
            "0% [█] 100% | ETA: 00:00:00\n",
            "Total time elapsed: 00:00:00\n"
          ],
          "name": "stderr"
        },
        {
          "output_type": "stream",
          "text": [
            "Finished Epoch 7 || Run Time:    0.0 | Load Time:    0.1 || F1:  24.06 | Prec:  13.68 | Rec: 100.00 || Ex/s: 996.17\n",
            "\n",
            "* Best F1: tensor(24.0602, device='cuda:0')\n",
            "Saving best model...\n",
            "Done.\n",
            "---------------------\n",
            "\n",
            "===>  TRAIN Epoch 8\n"
          ],
          "name": "stdout"
        },
        {
          "output_type": "stream",
          "text": [
            "0% [████] 100% | ETA: 00:00:00\n",
            "Total time elapsed: 00:00:00\n"
          ],
          "name": "stderr"
        },
        {
          "output_type": "stream",
          "text": [
            "Finished Epoch 8 || Run Time:    0.2 | Load Time:    0.2 || F1:  27.36 | Prec:  15.85 | Rec: 100.00 || Ex/s: 822.95\n",
            "\n",
            "===>  EVAL Epoch 8\n"
          ],
          "name": "stdout"
        },
        {
          "output_type": "stream",
          "text": [
            "0% [█] 100% | ETA: 00:00:00\n",
            "Total time elapsed: 00:00:00\n"
          ],
          "name": "stderr"
        },
        {
          "output_type": "stream",
          "text": [
            "Finished Epoch 8 || Run Time:    0.0 | Load Time:    0.1 || F1:  24.06 | Prec:  13.68 | Rec: 100.00 || Ex/s: 974.77\n",
            "\n",
            "---------------------\n",
            "\n",
            "===>  TRAIN Epoch 9\n"
          ],
          "name": "stdout"
        },
        {
          "output_type": "stream",
          "text": [
            "0% [████] 100% | ETA: 00:00:00\n",
            "Total time elapsed: 00:00:00\n"
          ],
          "name": "stderr"
        },
        {
          "output_type": "stream",
          "text": [
            "Finished Epoch 9 || Run Time:    0.2 | Load Time:    0.2 || F1:  27.50 | Prec:  15.94 | Rec: 100.00 || Ex/s: 827.18\n",
            "\n",
            "===>  EVAL Epoch 9\n"
          ],
          "name": "stdout"
        },
        {
          "output_type": "stream",
          "text": [
            "0% [█] 100% | ETA: 00:00:00\n",
            "Total time elapsed: 00:00:00\n"
          ],
          "name": "stderr"
        },
        {
          "output_type": "stream",
          "text": [
            "Finished Epoch 9 || Run Time:    0.0 | Load Time:    0.1 || F1:  24.06 | Prec:  13.68 | Rec: 100.00 || Ex/s: 988.33\n",
            "\n",
            "---------------------\n",
            "\n",
            "===>  TRAIN Epoch 10\n"
          ],
          "name": "stdout"
        },
        {
          "output_type": "stream",
          "text": [
            "0% [████] 100% | ETA: 00:00:00\n",
            "Total time elapsed: 00:00:00\n"
          ],
          "name": "stderr"
        },
        {
          "output_type": "stream",
          "text": [
            "Finished Epoch 10 || Run Time:    0.2 | Load Time:    0.2 || F1:  27.71 | Prec:  16.08 | Rec: 100.00 || Ex/s: 840.35\n",
            "\n",
            "===>  EVAL Epoch 10\n"
          ],
          "name": "stdout"
        },
        {
          "output_type": "stream",
          "text": [
            "0% [█] 100% | ETA: 00:00:00\n",
            "Total time elapsed: 00:00:00\n"
          ],
          "name": "stderr"
        },
        {
          "output_type": "stream",
          "text": [
            "Finished Epoch 10 || Run Time:    0.0 | Load Time:    0.1 || F1:  24.62 | Prec:  14.04 | Rec: 100.00 || Ex/s: 963.18\n",
            "\n",
            "* Best F1: tensor(24.6154, device='cuda:0')\n",
            "Saving best model...\n",
            "Done.\n",
            "---------------------\n",
            "\n",
            "Loading best model...\n",
            "Training done.\n",
            "Time:  5.649614863999886\n",
            "===>  EVAL Epoch 10\n",
            "Finished Epoch 10 || Run Time:    0.0 | Load Time:    0.1 || F1:  27.48 | Prec:  15.93 | Rec: 100.00 || Ex/s: 1146.05\n",
            "\n",
            "[[27.067668914794922, 27.48091697692871, 26.865671157836914, 27.067668914794922, 27.067668914794922, 26.666667938232422, 27.48091697692871, 27.48091697692871], [5.750015394000002, 5.685267965000094, 5.7302121419998, 5.657230900000286, 5.643488617000003, 5.653690455000287, 5.695949046000351, 5.649614863999886], [], [], [], [], [], []]\n",
            "* Number of trainable parameters: 361802\n",
            "===>  TRAIN Epoch 1\n"
          ],
          "name": "stdout"
        },
        {
          "output_type": "stream",
          "text": [
            "0% [████] 100% | ETA: 00:00:00\n",
            "Total time elapsed: 00:00:00\n"
          ],
          "name": "stderr"
        },
        {
          "output_type": "stream",
          "text": [
            "Finished Epoch 1 || Run Time:    0.2 | Load Time:    0.2 || F1:  27.41 | Prec:  15.93 | Rec:  98.18 || Ex/s: 819.15\n",
            "\n",
            "===>  EVAL Epoch 1\n"
          ],
          "name": "stdout"
        },
        {
          "output_type": "stream",
          "text": [
            "0% [█] 100% | ETA: 00:00:00\n",
            "Total time elapsed: 00:00:00\n"
          ],
          "name": "stderr"
        },
        {
          "output_type": "stream",
          "text": [
            "Finished Epoch 1 || Run Time:    0.0 | Load Time:    0.1 || F1:  23.70 | Prec:  13.45 | Rec: 100.00 || Ex/s: 996.18\n",
            "\n",
            "* Best F1: tensor(23.7037, device='cuda:0')\n",
            "Saving best model...\n",
            "Done.\n",
            "---------------------\n",
            "\n",
            "===>  TRAIN Epoch 2\n"
          ],
          "name": "stdout"
        },
        {
          "output_type": "stream",
          "text": [
            "0% [████] 100% | ETA: 00:00:00\n",
            "Total time elapsed: 00:00:00\n"
          ],
          "name": "stderr"
        },
        {
          "output_type": "stream",
          "text": [
            "Finished Epoch 2 || Run Time:    0.2 | Load Time:    0.3 || F1:  26.83 | Prec:  15.49 | Rec: 100.00 || Ex/s: 824.37\n",
            "\n",
            "===>  EVAL Epoch 2\n"
          ],
          "name": "stdout"
        },
        {
          "output_type": "stream",
          "text": [
            "0% [█] 100% | ETA: 00:00:00\n",
            "Total time elapsed: 00:00:00\n"
          ],
          "name": "stderr"
        },
        {
          "output_type": "stream",
          "text": [
            "Finished Epoch 2 || Run Time:    0.0 | Load Time:    0.1 || F1:  23.70 | Prec:  13.45 | Rec: 100.00 || Ex/s: 987.37\n",
            "\n",
            "---------------------\n",
            "\n",
            "===>  TRAIN Epoch 3\n"
          ],
          "name": "stdout"
        },
        {
          "output_type": "stream",
          "text": [
            "0% [████] 100% | ETA: 00:00:00\n",
            "Total time elapsed: 00:00:00\n"
          ],
          "name": "stderr"
        },
        {
          "output_type": "stream",
          "text": [
            "Finished Epoch 3 || Run Time:    0.2 | Load Time:    0.2 || F1:  26.83 | Prec:  15.49 | Rec: 100.00 || Ex/s: 825.70\n",
            "\n",
            "===>  EVAL Epoch 3\n"
          ],
          "name": "stdout"
        },
        {
          "output_type": "stream",
          "text": [
            "0% [█] 100% | ETA: 00:00:00\n",
            "Total time elapsed: 00:00:00\n"
          ],
          "name": "stderr"
        },
        {
          "output_type": "stream",
          "text": [
            "Finished Epoch 3 || Run Time:    0.0 | Load Time:    0.1 || F1:  23.70 | Prec:  13.45 | Rec: 100.00 || Ex/s: 970.80\n",
            "\n",
            "---------------------\n",
            "\n",
            "===>  TRAIN Epoch 4\n"
          ],
          "name": "stdout"
        },
        {
          "output_type": "stream",
          "text": [
            "0% [████] 100% | ETA: 00:00:00\n",
            "Total time elapsed: 00:00:00\n"
          ],
          "name": "stderr"
        },
        {
          "output_type": "stream",
          "text": [
            "Finished Epoch 4 || Run Time:    0.2 | Load Time:    0.2 || F1:  26.83 | Prec:  15.49 | Rec: 100.00 || Ex/s: 836.03\n",
            "\n",
            "===>  EVAL Epoch 4\n"
          ],
          "name": "stdout"
        },
        {
          "output_type": "stream",
          "text": [
            "0% [█] 100% | ETA: 00:00:00\n",
            "Total time elapsed: 00:00:00\n"
          ],
          "name": "stderr"
        },
        {
          "output_type": "stream",
          "text": [
            "Finished Epoch 4 || Run Time:    0.0 | Load Time:    0.1 || F1:  23.70 | Prec:  13.45 | Rec: 100.00 || Ex/s: 956.93\n",
            "\n",
            "---------------------\n",
            "\n",
            "===>  TRAIN Epoch 5\n"
          ],
          "name": "stdout"
        },
        {
          "output_type": "stream",
          "text": [
            "0% [████] 100% | ETA: 00:00:00\n",
            "Total time elapsed: 00:00:00\n"
          ],
          "name": "stderr"
        },
        {
          "output_type": "stream",
          "text": [
            "Finished Epoch 5 || Run Time:    0.2 | Load Time:    0.2 || F1:  26.83 | Prec:  15.49 | Rec: 100.00 || Ex/s: 836.17\n",
            "\n",
            "===>  EVAL Epoch 5\n"
          ],
          "name": "stdout"
        },
        {
          "output_type": "stream",
          "text": [
            "0% [█] 100% | ETA: 00:00:00\n",
            "Total time elapsed: 00:00:00\n"
          ],
          "name": "stderr"
        },
        {
          "output_type": "stream",
          "text": [
            "Finished Epoch 5 || Run Time:    0.0 | Load Time:    0.1 || F1:  23.70 | Prec:  13.45 | Rec: 100.00 || Ex/s: 1004.72\n",
            "\n",
            "---------------------\n",
            "\n",
            "===>  TRAIN Epoch 6\n"
          ],
          "name": "stdout"
        },
        {
          "output_type": "stream",
          "text": [
            "0% [████] 100% | ETA: 00:00:00\n",
            "Total time elapsed: 00:00:00\n"
          ],
          "name": "stderr"
        },
        {
          "output_type": "stream",
          "text": [
            "Finished Epoch 6 || Run Time:    0.2 | Load Time:    0.2 || F1:  26.83 | Prec:  15.49 | Rec: 100.00 || Ex/s: 813.88\n",
            "\n",
            "===>  EVAL Epoch 6\n"
          ],
          "name": "stdout"
        },
        {
          "output_type": "stream",
          "text": [
            "0% [█] 100% | ETA: 00:00:00\n",
            "Total time elapsed: 00:00:00\n"
          ],
          "name": "stderr"
        },
        {
          "output_type": "stream",
          "text": [
            "Finished Epoch 6 || Run Time:    0.0 | Load Time:    0.1 || F1:  23.70 | Prec:  13.45 | Rec: 100.00 || Ex/s: 990.39\n",
            "\n",
            "---------------------\n",
            "\n",
            "===>  TRAIN Epoch 7\n"
          ],
          "name": "stdout"
        },
        {
          "output_type": "stream",
          "text": [
            "0% [████] 100% | ETA: 00:00:00\n",
            "Total time elapsed: 00:00:00\n"
          ],
          "name": "stderr"
        },
        {
          "output_type": "stream",
          "text": [
            "Finished Epoch 7 || Run Time:    0.2 | Load Time:    0.2 || F1:  27.16 | Prec:  15.71 | Rec: 100.00 || Ex/s: 831.34\n",
            "\n",
            "===>  EVAL Epoch 7\n"
          ],
          "name": "stdout"
        },
        {
          "output_type": "stream",
          "text": [
            "0% [█] 100% | ETA: 00:00:00\n",
            "Total time elapsed: 00:00:00\n"
          ],
          "name": "stderr"
        },
        {
          "output_type": "stream",
          "text": [
            "Finished Epoch 7 || Run Time:    0.0 | Load Time:    0.1 || F1:  24.06 | Prec:  13.68 | Rec: 100.00 || Ex/s: 967.07\n",
            "\n",
            "* Best F1: tensor(24.0602, device='cuda:0')\n",
            "Saving best model...\n",
            "Done.\n",
            "---------------------\n",
            "\n",
            "===>  TRAIN Epoch 8\n"
          ],
          "name": "stdout"
        },
        {
          "output_type": "stream",
          "text": [
            "0% [████] 100% | ETA: 00:00:00\n",
            "Total time elapsed: 00:00:00\n"
          ],
          "name": "stderr"
        },
        {
          "output_type": "stream",
          "text": [
            "Finished Epoch 8 || Run Time:    0.2 | Load Time:    0.3 || F1:  27.71 | Prec:  16.08 | Rec: 100.00 || Ex/s: 811.20\n",
            "\n",
            "===>  EVAL Epoch 8\n"
          ],
          "name": "stdout"
        },
        {
          "output_type": "stream",
          "text": [
            "0% [█] 100% | ETA: 00:00:00\n",
            "Total time elapsed: 00:00:00\n"
          ],
          "name": "stderr"
        },
        {
          "output_type": "stream",
          "text": [
            "Finished Epoch 8 || Run Time:    0.0 | Load Time:    0.1 || F1:  24.43 | Prec:  13.91 | Rec: 100.00 || Ex/s: 992.38\n",
            "\n",
            "* Best F1: tensor(24.4275, device='cuda:0')\n",
            "Saving best model...\n",
            "Done.\n",
            "---------------------\n",
            "\n",
            "===>  TRAIN Epoch 9\n"
          ],
          "name": "stdout"
        },
        {
          "output_type": "stream",
          "text": [
            "0% [████] 100% | ETA: 00:00:00\n",
            "Total time elapsed: 00:00:00\n"
          ],
          "name": "stderr"
        },
        {
          "output_type": "stream",
          "text": [
            "Finished Epoch 9 || Run Time:    0.2 | Load Time:    0.2 || F1:  27.99 | Prec:  16.27 | Rec: 100.00 || Ex/s: 840.52\n",
            "\n",
            "===>  EVAL Epoch 9\n"
          ],
          "name": "stdout"
        },
        {
          "output_type": "stream",
          "text": [
            "0% [█] 100% | ETA: 00:00:00\n",
            "Total time elapsed: 00:00:00\n"
          ],
          "name": "stderr"
        },
        {
          "output_type": "stream",
          "text": [
            "Finished Epoch 9 || Run Time:    0.0 | Load Time:    0.1 || F1:  25.20 | Prec:  14.41 | Rec: 100.00 || Ex/s: 951.84\n",
            "\n",
            "* Best F1: tensor(25.1968, device='cuda:0')\n",
            "Saving best model...\n",
            "Done.\n",
            "---------------------\n",
            "\n",
            "===>  TRAIN Epoch 10\n"
          ],
          "name": "stdout"
        },
        {
          "output_type": "stream",
          "text": [
            "0% [████] 100% | ETA: 00:00:00\n",
            "Total time elapsed: 00:00:00\n"
          ],
          "name": "stderr"
        },
        {
          "output_type": "stream",
          "text": [
            "Finished Epoch 10 || Run Time:    0.2 | Load Time:    0.2 || F1:  28.57 | Prec:  16.67 | Rec: 100.00 || Ex/s: 829.84\n",
            "\n",
            "===>  EVAL Epoch 10\n"
          ],
          "name": "stdout"
        },
        {
          "output_type": "stream",
          "text": [
            "0% [█] 100% | ETA: 00:00:00\n",
            "Total time elapsed: 00:00:00\n"
          ],
          "name": "stderr"
        },
        {
          "output_type": "stream",
          "text": [
            "Finished Epoch 10 || Run Time:    0.0 | Load Time:    0.1 || F1:  25.20 | Prec:  14.41 | Rec: 100.00 || Ex/s: 986.42\n",
            "\n",
            "---------------------\n",
            "\n",
            "Loading best model...\n",
            "Training done.\n",
            "Time:  5.699012441999912\n",
            "===>  EVAL Epoch 9\n",
            "Finished Epoch 9 || Run Time:    0.0 | Load Time:    0.1 || F1:  27.91 | Prec:  16.22 | Rec: 100.00 || Ex/s: 1187.57\n",
            "\n",
            "[[27.067668914794922, 27.48091697692871, 26.865671157836914, 27.067668914794922, 27.067668914794922, 26.666667938232422, 27.48091697692871, 27.48091697692871, 27.906978607177734], [5.750015394000002, 5.685267965000094, 5.7302121419998, 5.657230900000286, 5.643488617000003, 5.653690455000287, 5.695949046000351, 5.649614863999886, 5.699012441999912], [], [], [], [], [], []]\n",
            "* Number of trainable parameters: 361802\n",
            "===>  TRAIN Epoch 1\n"
          ],
          "name": "stdout"
        },
        {
          "output_type": "stream",
          "text": [
            "0% [████] 100% | ETA: 00:00:00\n",
            "Total time elapsed: 00:00:00\n"
          ],
          "name": "stderr"
        },
        {
          "output_type": "stream",
          "text": [
            "Finished Epoch 1 || Run Time:    0.2 | Load Time:    0.2 || F1:  26.84 | Prec:  15.59 | Rec:  96.36 || Ex/s: 828.79\n",
            "\n",
            "===>  EVAL Epoch 1\n"
          ],
          "name": "stdout"
        },
        {
          "output_type": "stream",
          "text": [
            "0% [█] 100% | ETA: 00:00:00\n",
            "Total time elapsed: 00:00:00\n"
          ],
          "name": "stderr"
        },
        {
          "output_type": "stream",
          "text": [
            "Finished Epoch 1 || Run Time:    0.0 | Load Time:    0.1 || F1:  23.70 | Prec:  13.45 | Rec: 100.00 || Ex/s: 982.44\n",
            "\n",
            "* Best F1: tensor(23.7037, device='cuda:0')\n",
            "Saving best model...\n",
            "Done.\n",
            "---------------------\n",
            "\n",
            "===>  TRAIN Epoch 2\n"
          ],
          "name": "stdout"
        },
        {
          "output_type": "stream",
          "text": [
            "0% [████] 100% | ETA: 00:00:00\n",
            "Total time elapsed: 00:00:00\n"
          ],
          "name": "stderr"
        },
        {
          "output_type": "stream",
          "text": [
            "Finished Epoch 2 || Run Time:    0.2 | Load Time:    0.3 || F1:  26.83 | Prec:  15.49 | Rec: 100.00 || Ex/s: 794.75\n",
            "\n",
            "===>  EVAL Epoch 2\n"
          ],
          "name": "stdout"
        },
        {
          "output_type": "stream",
          "text": [
            "0% [█] 100% | ETA: 00:00:00\n",
            "Total time elapsed: 00:00:00\n"
          ],
          "name": "stderr"
        },
        {
          "output_type": "stream",
          "text": [
            "Finished Epoch 2 || Run Time:    0.0 | Load Time:    0.1 || F1:  23.70 | Prec:  13.45 | Rec: 100.00 || Ex/s: 990.88\n",
            "\n",
            "---------------------\n",
            "\n",
            "===>  TRAIN Epoch 3\n"
          ],
          "name": "stdout"
        },
        {
          "output_type": "stream",
          "text": [
            "0% [████] 100% | ETA: 00:00:00\n",
            "Total time elapsed: 00:00:00\n"
          ],
          "name": "stderr"
        },
        {
          "output_type": "stream",
          "text": [
            "Finished Epoch 3 || Run Time:    0.2 | Load Time:    0.3 || F1:  26.83 | Prec:  15.49 | Rec: 100.00 || Ex/s: 810.27\n",
            "\n",
            "===>  EVAL Epoch 3\n"
          ],
          "name": "stdout"
        },
        {
          "output_type": "stream",
          "text": [
            "0% [█] 100% | ETA: 00:00:00\n",
            "Total time elapsed: 00:00:00\n"
          ],
          "name": "stderr"
        },
        {
          "output_type": "stream",
          "text": [
            "Finished Epoch 3 || Run Time:    0.0 | Load Time:    0.1 || F1:  23.70 | Prec:  13.45 | Rec: 100.00 || Ex/s: 970.24\n",
            "\n",
            "---------------------\n",
            "\n",
            "===>  TRAIN Epoch 4\n"
          ],
          "name": "stdout"
        },
        {
          "output_type": "stream",
          "text": [
            "0% [████] 100% | ETA: 00:00:00\n",
            "Total time elapsed: 00:00:00\n"
          ],
          "name": "stderr"
        },
        {
          "output_type": "stream",
          "text": [
            "Finished Epoch 4 || Run Time:    0.2 | Load Time:    0.3 || F1:  26.83 | Prec:  15.49 | Rec: 100.00 || Ex/s: 814.54\n",
            "\n",
            "===>  EVAL Epoch 4\n"
          ],
          "name": "stdout"
        },
        {
          "output_type": "stream",
          "text": [
            "0% [█] 100% | ETA: 00:00:00\n",
            "Total time elapsed: 00:00:00\n"
          ],
          "name": "stderr"
        },
        {
          "output_type": "stream",
          "text": [
            "Finished Epoch 4 || Run Time:    0.0 | Load Time:    0.1 || F1:  23.70 | Prec:  13.45 | Rec: 100.00 || Ex/s: 959.10\n",
            "\n",
            "---------------------\n",
            "\n",
            "===>  TRAIN Epoch 5\n"
          ],
          "name": "stdout"
        },
        {
          "output_type": "stream",
          "text": [
            "0% [████] 100% | ETA: 00:00:00\n",
            "Total time elapsed: 00:00:00\n"
          ],
          "name": "stderr"
        },
        {
          "output_type": "stream",
          "text": [
            "Finished Epoch 5 || Run Time:    0.2 | Load Time:    0.2 || F1:  26.83 | Prec:  15.49 | Rec: 100.00 || Ex/s: 843.89\n",
            "\n",
            "===>  EVAL Epoch 5\n"
          ],
          "name": "stdout"
        },
        {
          "output_type": "stream",
          "text": [
            "0% [█] 100% | ETA: 00:00:00\n",
            "Total time elapsed: 00:00:00\n"
          ],
          "name": "stderr"
        },
        {
          "output_type": "stream",
          "text": [
            "Finished Epoch 5 || Run Time:    0.0 | Load Time:    0.1 || F1:  23.70 | Prec:  13.45 | Rec: 100.00 || Ex/s: 987.04\n",
            "\n",
            "---------------------\n",
            "\n",
            "===>  TRAIN Epoch 6\n"
          ],
          "name": "stdout"
        },
        {
          "output_type": "stream",
          "text": [
            "0% [████] 100% | ETA: 00:00:00\n",
            "Total time elapsed: 00:00:00\n"
          ],
          "name": "stderr"
        },
        {
          "output_type": "stream",
          "text": [
            "Finished Epoch 6 || Run Time:    0.2 | Load Time:    0.2 || F1:  26.83 | Prec:  15.49 | Rec: 100.00 || Ex/s: 831.77\n",
            "\n",
            "===>  EVAL Epoch 6\n"
          ],
          "name": "stdout"
        },
        {
          "output_type": "stream",
          "text": [
            "0% [█] 100% | ETA: 00:00:00\n",
            "Total time elapsed: 00:00:00\n"
          ],
          "name": "stderr"
        },
        {
          "output_type": "stream",
          "text": [
            "Finished Epoch 6 || Run Time:    0.0 | Load Time:    0.1 || F1:  23.70 | Prec:  13.45 | Rec: 100.00 || Ex/s: 936.43\n",
            "\n",
            "---------------------\n",
            "\n",
            "===>  TRAIN Epoch 7\n"
          ],
          "name": "stdout"
        },
        {
          "output_type": "stream",
          "text": [
            "0% [████] 100% | ETA: 00:00:00\n",
            "Total time elapsed: 00:00:00\n"
          ],
          "name": "stderr"
        },
        {
          "output_type": "stream",
          "text": [
            "Finished Epoch 7 || Run Time:    0.2 | Load Time:    0.2 || F1:  26.83 | Prec:  15.49 | Rec: 100.00 || Ex/s: 841.12\n",
            "\n",
            "===>  EVAL Epoch 7\n"
          ],
          "name": "stdout"
        },
        {
          "output_type": "stream",
          "text": [
            "0% [█] 100% | ETA: 00:00:00\n",
            "Total time elapsed: 00:00:00\n"
          ],
          "name": "stderr"
        },
        {
          "output_type": "stream",
          "text": [
            "Finished Epoch 7 || Run Time:    0.0 | Load Time:    0.1 || F1:  23.70 | Prec:  13.45 | Rec: 100.00 || Ex/s: 1015.92\n",
            "\n",
            "---------------------\n",
            "\n",
            "===>  TRAIN Epoch 8\n"
          ],
          "name": "stdout"
        },
        {
          "output_type": "stream",
          "text": [
            "0% [████] 100% | ETA: 00:00:00\n",
            "Total time elapsed: 00:00:00\n"
          ],
          "name": "stderr"
        },
        {
          "output_type": "stream",
          "text": [
            "Finished Epoch 8 || Run Time:    0.2 | Load Time:    0.2 || F1:  27.09 | Prec:  15.67 | Rec: 100.00 || Ex/s: 832.17\n",
            "\n",
            "===>  EVAL Epoch 8\n"
          ],
          "name": "stdout"
        },
        {
          "output_type": "stream",
          "text": [
            "0% [█] 100% | ETA: 00:00:00\n",
            "Total time elapsed: 00:00:00\n"
          ],
          "name": "stderr"
        },
        {
          "output_type": "stream",
          "text": [
            "Finished Epoch 8 || Run Time:    0.0 | Load Time:    0.1 || F1:  23.88 | Prec:  13.56 | Rec: 100.00 || Ex/s: 997.80\n",
            "\n",
            "* Best F1: tensor(23.8806, device='cuda:0')\n",
            "Saving best model...\n",
            "Done.\n",
            "---------------------\n",
            "\n",
            "===>  TRAIN Epoch 9\n"
          ],
          "name": "stdout"
        },
        {
          "output_type": "stream",
          "text": [
            "0% [████] 100% | ETA: 00:00:00\n",
            "Total time elapsed: 00:00:00\n"
          ],
          "name": "stderr"
        },
        {
          "output_type": "stream",
          "text": [
            "Finished Epoch 9 || Run Time:    0.2 | Load Time:    0.2 || F1:  27.36 | Prec:  15.85 | Rec: 100.00 || Ex/s: 819.78\n",
            "\n",
            "===>  EVAL Epoch 9\n"
          ],
          "name": "stdout"
        },
        {
          "output_type": "stream",
          "text": [
            "0% [█] 100% | ETA: 00:00:00\n",
            "Total time elapsed: 00:00:00\n"
          ],
          "name": "stderr"
        },
        {
          "output_type": "stream",
          "text": [
            "Finished Epoch 9 || Run Time:    0.0 | Load Time:    0.1 || F1:  24.06 | Prec:  13.68 | Rec: 100.00 || Ex/s: 967.95\n",
            "\n",
            "* Best F1: tensor(24.0602, device='cuda:0')\n",
            "Saving best model...\n",
            "Done.\n",
            "---------------------\n",
            "\n",
            "===>  TRAIN Epoch 10\n"
          ],
          "name": "stdout"
        },
        {
          "output_type": "stream",
          "text": [
            "0% [████] 100% | ETA: 00:00:00\n",
            "Total time elapsed: 00:00:00\n"
          ],
          "name": "stderr"
        },
        {
          "output_type": "stream",
          "text": [
            "Finished Epoch 10 || Run Time:    0.2 | Load Time:    0.3 || F1:  27.50 | Prec:  15.94 | Rec: 100.00 || Ex/s: 812.90\n",
            "\n",
            "===>  EVAL Epoch 10\n"
          ],
          "name": "stdout"
        },
        {
          "output_type": "stream",
          "text": [
            "0% [█] 100% | ETA: 00:00:00\n",
            "Total time elapsed: 00:00:00\n"
          ],
          "name": "stderr"
        },
        {
          "output_type": "stream",
          "text": [
            "Finished Epoch 10 || Run Time:    0.0 | Load Time:    0.1 || F1:  24.06 | Prec:  13.68 | Rec: 100.00 || Ex/s: 994.69\n",
            "\n",
            "---------------------\n",
            "\n",
            "Loading best model...\n",
            "Training done.\n",
            "Time:  5.686567185000058\n",
            "===>  EVAL Epoch 9\n",
            "Finished Epoch 9 || Run Time:    0.0 | Load Time:    0.1 || F1:  26.67 | Prec:  15.38 | Rec: 100.00 || Ex/s: 1188.46\n",
            "\n",
            "[[27.067668914794922, 27.48091697692871, 26.865671157836914, 27.067668914794922, 27.067668914794922, 26.666667938232422, 27.48091697692871, 27.48091697692871, 27.906978607177734, 26.666667938232422], [5.750015394000002, 5.685267965000094, 5.7302121419998, 5.657230900000286, 5.643488617000003, 5.653690455000287, 5.695949046000351, 5.649614863999886, 5.699012441999912, 5.686567185000058], [], [], [], [], [], []]\n",
            "* Number of trainable parameters: 768602\n",
            "===>  TRAIN Epoch 1\n"
          ],
          "name": "stdout"
        },
        {
          "output_type": "stream",
          "text": [
            "0% [████] 100% | ETA: 00:00:00\n",
            "Total time elapsed: 00:00:00\n"
          ],
          "name": "stderr"
        },
        {
          "output_type": "stream",
          "text": [
            "Finished Epoch 1 || Run Time:    0.3 | Load Time:    0.3 || F1:  26.80 | Prec:  15.52 | Rec:  98.18 || Ex/s: 598.69\n",
            "\n",
            "===>  EVAL Epoch 1\n"
          ],
          "name": "stdout"
        },
        {
          "output_type": "stream",
          "text": [
            "0% [█] 100% | ETA: 00:00:00\n",
            "Total time elapsed: 00:00:00\n"
          ],
          "name": "stderr"
        },
        {
          "output_type": "stream",
          "text": [
            "Finished Epoch 1 || Run Time:    0.0 | Load Time:    0.1 || F1:  23.70 | Prec:  13.45 | Rec: 100.00 || Ex/s: 858.62\n",
            "\n",
            "* Best F1: tensor(23.7037, device='cuda:0')\n",
            "Saving best model...\n",
            "Done.\n",
            "---------------------\n",
            "\n",
            "===>  TRAIN Epoch 2\n"
          ],
          "name": "stdout"
        },
        {
          "output_type": "stream",
          "text": [
            "0% [████] 100% | ETA: 00:00:00\n",
            "Total time elapsed: 00:00:00\n"
          ],
          "name": "stderr"
        },
        {
          "output_type": "stream",
          "text": [
            "Finished Epoch 2 || Run Time:    0.3 | Load Time:    0.3 || F1:  31.07 | Prec:  18.39 | Rec: 100.00 || Ex/s: 602.03\n",
            "\n",
            "===>  EVAL Epoch 2\n"
          ],
          "name": "stdout"
        },
        {
          "output_type": "stream",
          "text": [
            "0% [█] 100% | ETA: 00:00:00\n",
            "Total time elapsed: 00:00:00\n"
          ],
          "name": "stderr"
        },
        {
          "output_type": "stream",
          "text": [
            "Finished Epoch 2 || Run Time:    0.0 | Load Time:    0.1 || F1:  35.96 | Prec:  21.92 | Rec: 100.00 || Ex/s: 861.75\n",
            "\n",
            "* Best F1: tensor(35.9551, device='cuda:0')\n",
            "Saving best model...\n",
            "Done.\n",
            "---------------------\n",
            "\n",
            "===>  TRAIN Epoch 3\n"
          ],
          "name": "stdout"
        },
        {
          "output_type": "stream",
          "text": [
            "0% [████] 100% | ETA: 00:00:00\n",
            "Total time elapsed: 00:00:00\n"
          ],
          "name": "stderr"
        },
        {
          "output_type": "stream",
          "text": [
            "Finished Epoch 3 || Run Time:    0.3 | Load Time:    0.3 || F1:  50.00 | Prec:  33.54 | Rec:  98.18 || Ex/s: 591.29\n",
            "\n",
            "===>  EVAL Epoch 3\n"
          ],
          "name": "stdout"
        },
        {
          "output_type": "stream",
          "text": [
            "0% [█] 100% | ETA: 00:00:00\n",
            "Total time elapsed: 00:00:00\n"
          ],
          "name": "stderr"
        },
        {
          "output_type": "stream",
          "text": [
            "Finished Epoch 3 || Run Time:    0.0 | Load Time:    0.1 || F1:  43.84 | Prec:  28.07 | Rec: 100.00 || Ex/s: 869.43\n",
            "\n",
            "* Best F1: tensor(43.8356, device='cuda:0')\n",
            "Saving best model...\n",
            "Done.\n",
            "---------------------\n",
            "\n",
            "===>  TRAIN Epoch 4\n"
          ],
          "name": "stdout"
        },
        {
          "output_type": "stream",
          "text": [
            "0% [████] 100% | ETA: 00:00:00\n",
            "Total time elapsed: 00:00:00\n"
          ],
          "name": "stderr"
        },
        {
          "output_type": "stream",
          "text": [
            "Finished Epoch 4 || Run Time:    0.3 | Load Time:    0.2 || F1:  61.71 | Prec:  45.00 | Rec:  98.18 || Ex/s: 603.65\n",
            "\n",
            "===>  EVAL Epoch 4\n"
          ],
          "name": "stdout"
        },
        {
          "output_type": "stream",
          "text": [
            "0% [█] 100% | ETA: 00:00:00\n",
            "Total time elapsed: 00:00:00\n"
          ],
          "name": "stderr"
        },
        {
          "output_type": "stream",
          "text": [
            "Finished Epoch 4 || Run Time:    0.1 | Load Time:    0.1 || F1:  44.44 | Prec:  29.79 | Rec:  87.50 || Ex/s: 812.83\n",
            "\n",
            "* Best F1: tensor(44.4444, device='cuda:0')\n",
            "Saving best model...\n",
            "Done.\n",
            "---------------------\n",
            "\n",
            "===>  TRAIN Epoch 5\n"
          ],
          "name": "stdout"
        },
        {
          "output_type": "stream",
          "text": [
            "0% [████] 100% | ETA: 00:00:00\n",
            "Total time elapsed: 00:00:00\n"
          ],
          "name": "stderr"
        },
        {
          "output_type": "stream",
          "text": [
            "Finished Epoch 5 || Run Time:    0.3 | Load Time:    0.3 || F1:  74.32 | Prec:  59.14 | Rec: 100.00 || Ex/s: 598.43\n",
            "\n",
            "===>  EVAL Epoch 5\n"
          ],
          "name": "stdout"
        },
        {
          "output_type": "stream",
          "text": [
            "0% [█] 100% | ETA: 00:00:00\n",
            "Total time elapsed: 00:00:00\n"
          ],
          "name": "stderr"
        },
        {
          "output_type": "stream",
          "text": [
            "Finished Epoch 5 || Run Time:    0.0 | Load Time:    0.1 || F1:  50.00 | Prec:  37.50 | Rec:  75.00 || Ex/s: 882.06\n",
            "\n",
            "* Best F1: tensor(50., device='cuda:0')\n",
            "Saving best model...\n",
            "Done.\n",
            "---------------------\n",
            "\n",
            "===>  TRAIN Epoch 6\n"
          ],
          "name": "stdout"
        },
        {
          "output_type": "stream",
          "text": [
            "0% [████] 100% | ETA: 00:00:00\n",
            "Total time elapsed: 00:00:00\n"
          ],
          "name": "stderr"
        },
        {
          "output_type": "stream",
          "text": [
            "Finished Epoch 6 || Run Time:    0.3 | Load Time:    0.3 || F1:  81.48 | Prec:  68.75 | Rec: 100.00 || Ex/s: 607.94\n",
            "\n",
            "===>  EVAL Epoch 6\n"
          ],
          "name": "stdout"
        },
        {
          "output_type": "stream",
          "text": [
            "0% [█] 100% | ETA: 00:00:00\n",
            "Total time elapsed: 00:00:00\n"
          ],
          "name": "stderr"
        },
        {
          "output_type": "stream",
          "text": [
            "Finished Epoch 6 || Run Time:    0.0 | Load Time:    0.1 || F1:  51.06 | Prec:  38.71 | Rec:  75.00 || Ex/s: 825.83\n",
            "\n",
            "* Best F1: tensor(51.0638, device='cuda:0')\n",
            "Saving best model...\n",
            "Done.\n",
            "---------------------\n",
            "\n",
            "===>  TRAIN Epoch 7\n"
          ],
          "name": "stdout"
        },
        {
          "output_type": "stream",
          "text": [
            "0% [████] 100% | ETA: 00:00:00\n",
            "Total time elapsed: 00:00:00\n"
          ],
          "name": "stderr"
        },
        {
          "output_type": "stream",
          "text": [
            "Finished Epoch 7 || Run Time:    0.3 | Load Time:    0.2 || F1:  88.71 | Prec:  79.71 | Rec: 100.00 || Ex/s: 612.35\n",
            "\n",
            "===>  EVAL Epoch 7\n"
          ],
          "name": "stdout"
        },
        {
          "output_type": "stream",
          "text": [
            "0% [█] 100% | ETA: 00:00:00\n",
            "Total time elapsed: 00:00:00\n"
          ],
          "name": "stderr"
        },
        {
          "output_type": "stream",
          "text": [
            "Finished Epoch 7 || Run Time:    0.1 | Load Time:    0.1 || F1:  51.06 | Prec:  38.71 | Rec:  75.00 || Ex/s: 754.40\n",
            "\n",
            "---------------------\n",
            "\n",
            "===>  TRAIN Epoch 8\n"
          ],
          "name": "stdout"
        },
        {
          "output_type": "stream",
          "text": [
            "0% [████] 100% | ETA: 00:00:00\n",
            "Total time elapsed: 00:00:00\n"
          ],
          "name": "stderr"
        },
        {
          "output_type": "stream",
          "text": [
            "Finished Epoch 8 || Run Time:    0.3 | Load Time:    0.3 || F1:  90.16 | Prec:  82.09 | Rec: 100.00 || Ex/s: 601.66\n",
            "\n",
            "===>  EVAL Epoch 8\n"
          ],
          "name": "stdout"
        },
        {
          "output_type": "stream",
          "text": [
            "0% [█] 100% | ETA: 00:00:00\n",
            "Total time elapsed: 00:00:00\n"
          ],
          "name": "stderr"
        },
        {
          "output_type": "stream",
          "text": [
            "Finished Epoch 8 || Run Time:    0.0 | Load Time:    0.1 || F1:  48.89 | Prec:  37.93 | Rec:  68.75 || Ex/s: 859.18\n",
            "\n",
            "---------------------\n",
            "\n",
            "===>  TRAIN Epoch 9\n"
          ],
          "name": "stdout"
        },
        {
          "output_type": "stream",
          "text": [
            "0% [████] 100% | ETA: 00:00:00\n",
            "Total time elapsed: 00:00:00\n"
          ],
          "name": "stderr"
        },
        {
          "output_type": "stream",
          "text": [
            "Finished Epoch 9 || Run Time:    0.3 | Load Time:    0.3 || F1:  93.22 | Prec:  87.30 | Rec: 100.00 || Ex/s: 595.92\n",
            "\n",
            "===>  EVAL Epoch 9\n"
          ],
          "name": "stdout"
        },
        {
          "output_type": "stream",
          "text": [
            "0% [█] 100% | ETA: 00:00:00\n",
            "Total time elapsed: 00:00:00\n"
          ],
          "name": "stderr"
        },
        {
          "output_type": "stream",
          "text": [
            "Finished Epoch 9 || Run Time:    0.1 | Load Time:    0.1 || F1:  50.00 | Prec:  39.29 | Rec:  68.75 || Ex/s: 843.86\n",
            "\n",
            "---------------------\n",
            "\n",
            "===>  TRAIN Epoch 10\n"
          ],
          "name": "stdout"
        },
        {
          "output_type": "stream",
          "text": [
            "0% [████] 100% | ETA: 00:00:00\n",
            "Total time elapsed: 00:00:00\n"
          ],
          "name": "stderr"
        },
        {
          "output_type": "stream",
          "text": [
            "Finished Epoch 10 || Run Time:    0.3 | Load Time:    0.3 || F1:  93.22 | Prec:  87.30 | Rec: 100.00 || Ex/s: 607.97\n",
            "\n",
            "===>  EVAL Epoch 10\n"
          ],
          "name": "stdout"
        },
        {
          "output_type": "stream",
          "text": [
            "0% [█] 100% | ETA: 00:00:00\n",
            "Total time elapsed: 00:00:00\n"
          ],
          "name": "stderr"
        },
        {
          "output_type": "stream",
          "text": [
            "Finished Epoch 10 || Run Time:    0.1 | Load Time:    0.1 || F1:  50.00 | Prec:  39.29 | Rec:  68.75 || Ex/s: 846.03\n",
            "\n",
            "---------------------\n",
            "\n",
            "Loading best model...\n",
            "Training done.\n",
            "Time:  7.687237744999948\n",
            "===>  EVAL Epoch 6\n",
            "Finished Epoch 6 || Run Time:    0.0 | Load Time:    0.1 || F1:  59.09 | Prec:  50.00 | Rec:  72.22 || Ex/s: 1110.90\n",
            "\n",
            "[[27.067668914794922, 27.48091697692871, 26.865671157836914, 27.067668914794922, 27.067668914794922, 26.666667938232422, 27.48091697692871, 27.48091697692871, 27.906978607177734, 26.666667938232422], [5.750015394000002, 5.685267965000094, 5.7302121419998, 5.657230900000286, 5.643488617000003, 5.653690455000287, 5.695949046000351, 5.649614863999886, 5.699012441999912, 5.686567185000058], [59.09090805053711], [7.687237744999948], [], [], [], []]\n",
            "* Number of trainable parameters: 768602\n",
            "===>  TRAIN Epoch 1\n"
          ],
          "name": "stdout"
        },
        {
          "output_type": "stream",
          "text": [
            "0% [████] 100% | ETA: 00:00:00\n",
            "Total time elapsed: 00:00:00\n"
          ],
          "name": "stderr"
        },
        {
          "output_type": "stream",
          "text": [
            "Finished Epoch 1 || Run Time:    0.3 | Load Time:    0.2 || F1:  27.34 | Prec:  15.88 | Rec:  98.18 || Ex/s: 610.12\n",
            "\n",
            "===>  EVAL Epoch 1\n"
          ],
          "name": "stdout"
        },
        {
          "output_type": "stream",
          "text": [
            "0% [█] 100% | ETA: 00:00:00\n",
            "Total time elapsed: 00:00:00\n"
          ],
          "name": "stderr"
        },
        {
          "output_type": "stream",
          "text": [
            "Finished Epoch 1 || Run Time:    0.0 | Load Time:    0.1 || F1:  23.88 | Prec:  13.56 | Rec: 100.00 || Ex/s: 857.63\n",
            "\n",
            "* Best F1: tensor(23.8806, device='cuda:0')\n",
            "Saving best model...\n",
            "Done.\n",
            "---------------------\n",
            "\n",
            "===>  TRAIN Epoch 2\n"
          ],
          "name": "stdout"
        },
        {
          "output_type": "stream",
          "text": [
            "0% [████] 100% | ETA: 00:00:00\n",
            "Total time elapsed: 00:00:00\n"
          ],
          "name": "stderr"
        },
        {
          "output_type": "stream",
          "text": [
            "Finished Epoch 2 || Run Time:    0.3 | Load Time:    0.2 || F1:  32.07 | Prec:  19.10 | Rec: 100.00 || Ex/s: 610.32\n",
            "\n",
            "===>  EVAL Epoch 2\n"
          ],
          "name": "stdout"
        },
        {
          "output_type": "stream",
          "text": [
            "0% [█] 100% | ETA: 00:00:00\n",
            "Total time elapsed: 00:00:00\n"
          ],
          "name": "stderr"
        },
        {
          "output_type": "stream",
          "text": [
            "Finished Epoch 2 || Run Time:    0.0 | Load Time:    0.1 || F1:  37.21 | Prec:  22.86 | Rec: 100.00 || Ex/s: 860.11\n",
            "\n",
            "* Best F1: tensor(37.2093, device='cuda:0')\n",
            "Saving best model...\n",
            "Done.\n",
            "---------------------\n",
            "\n",
            "===>  TRAIN Epoch 3\n"
          ],
          "name": "stdout"
        },
        {
          "output_type": "stream",
          "text": [
            "0% [████] 100% | ETA: 00:00:00\n",
            "Total time elapsed: 00:00:00\n"
          ],
          "name": "stderr"
        },
        {
          "output_type": "stream",
          "text": [
            "Finished Epoch 3 || Run Time:    0.3 | Load Time:    0.3 || F1:  51.18 | Prec:  34.62 | Rec:  98.18 || Ex/s: 600.73\n",
            "\n",
            "===>  EVAL Epoch 3\n"
          ],
          "name": "stdout"
        },
        {
          "output_type": "stream",
          "text": [
            "0% [█] 100% | ETA: 00:00:00\n",
            "Total time elapsed: 00:00:00\n"
          ],
          "name": "stderr"
        },
        {
          "output_type": "stream",
          "text": [
            "Finished Epoch 3 || Run Time:    0.0 | Load Time:    0.1 || F1:  42.11 | Prec:  26.67 | Rec: 100.00 || Ex/s: 865.21\n",
            "\n",
            "* Best F1: tensor(42.1053, device='cuda:0')\n",
            "Saving best model...\n",
            "Done.\n",
            "---------------------\n",
            "\n",
            "===>  TRAIN Epoch 4\n"
          ],
          "name": "stdout"
        },
        {
          "output_type": "stream",
          "text": [
            "0% [████] 100% | ETA: 00:00:00\n",
            "Total time elapsed: 00:00:00\n"
          ],
          "name": "stderr"
        },
        {
          "output_type": "stream",
          "text": [
            "Finished Epoch 4 || Run Time:    0.3 | Load Time:    0.3 || F1:  63.53 | Prec:  46.96 | Rec:  98.18 || Ex/s: 597.12\n",
            "\n",
            "===>  EVAL Epoch 4\n"
          ],
          "name": "stdout"
        },
        {
          "output_type": "stream",
          "text": [
            "0% [█] 100% | ETA: 00:00:00\n",
            "Total time elapsed: 00:00:00\n"
          ],
          "name": "stderr"
        },
        {
          "output_type": "stream",
          "text": [
            "Finished Epoch 4 || Run Time:    0.0 | Load Time:    0.1 || F1:  51.61 | Prec:  34.78 | Rec: 100.00 || Ex/s: 872.99\n",
            "\n",
            "* Best F1: tensor(51.6129, device='cuda:0')\n",
            "Saving best model...\n",
            "Done.\n",
            "---------------------\n",
            "\n",
            "===>  TRAIN Epoch 5\n"
          ],
          "name": "stdout"
        },
        {
          "output_type": "stream",
          "text": [
            "0% [████] 100% | ETA: 00:00:00\n",
            "Total time elapsed: 00:00:00\n"
          ],
          "name": "stderr"
        },
        {
          "output_type": "stream",
          "text": [
            "Finished Epoch 5 || Run Time:    0.3 | Load Time:    0.2 || F1:  75.86 | Prec:  61.11 | Rec: 100.00 || Ex/s: 608.81\n",
            "\n",
            "===>  EVAL Epoch 5\n"
          ],
          "name": "stdout"
        },
        {
          "output_type": "stream",
          "text": [
            "0% [█] 100% | ETA: 00:00:00\n",
            "Total time elapsed: 00:00:00\n"
          ],
          "name": "stderr"
        },
        {
          "output_type": "stream",
          "text": [
            "Finished Epoch 5 || Run Time:    0.0 | Load Time:    0.1 || F1:  49.06 | Prec:  35.14 | Rec:  81.25 || Ex/s: 864.23\n",
            "\n",
            "---------------------\n",
            "\n",
            "===>  TRAIN Epoch 6\n"
          ],
          "name": "stdout"
        },
        {
          "output_type": "stream",
          "text": [
            "0% [████] 100% | ETA: 00:00:00\n",
            "Total time elapsed: 00:00:00\n"
          ],
          "name": "stderr"
        },
        {
          "output_type": "stream",
          "text": [
            "Finished Epoch 6 || Run Time:    0.3 | Load Time:    0.2 || F1:  84.62 | Prec:  73.33 | Rec: 100.00 || Ex/s: 611.46\n",
            "\n",
            "===>  EVAL Epoch 6\n"
          ],
          "name": "stdout"
        },
        {
          "output_type": "stream",
          "text": [
            "0% [█] 100% | ETA: 00:00:00\n",
            "Total time elapsed: 00:00:00\n"
          ],
          "name": "stderr"
        },
        {
          "output_type": "stream",
          "text": [
            "Finished Epoch 6 || Run Time:    0.0 | Load Time:    0.1 || F1:  44.90 | Prec:  33.33 | Rec:  68.75 || Ex/s: 834.73\n",
            "\n",
            "---------------------\n",
            "\n",
            "===>  TRAIN Epoch 7\n"
          ],
          "name": "stdout"
        },
        {
          "output_type": "stream",
          "text": [
            "0% [████] 100% | ETA: 00:00:00\n",
            "Total time elapsed: 00:00:00\n"
          ],
          "name": "stderr"
        },
        {
          "output_type": "stream",
          "text": [
            "Finished Epoch 7 || Run Time:    0.3 | Load Time:    0.2 || F1:  88.71 | Prec:  79.71 | Rec: 100.00 || Ex/s: 605.05\n",
            "\n",
            "===>  EVAL Epoch 7\n"
          ],
          "name": "stdout"
        },
        {
          "output_type": "stream",
          "text": [
            "0% [█] 100% | ETA: 00:00:00\n",
            "Total time elapsed: 00:00:00\n"
          ],
          "name": "stderr"
        },
        {
          "output_type": "stream",
          "text": [
            "Finished Epoch 7 || Run Time:    0.0 | Load Time:    0.1 || F1:  50.00 | Prec:  37.50 | Rec:  75.00 || Ex/s: 836.74\n",
            "\n",
            "---------------------\n",
            "\n",
            "===>  TRAIN Epoch 8\n"
          ],
          "name": "stdout"
        },
        {
          "output_type": "stream",
          "text": [
            "0% [████] 100% | ETA: 00:00:00\n",
            "Total time elapsed: 00:00:00\n"
          ],
          "name": "stderr"
        },
        {
          "output_type": "stream",
          "text": [
            "Finished Epoch 8 || Run Time:    0.3 | Load Time:    0.2 || F1:  92.44 | Prec:  85.94 | Rec: 100.00 || Ex/s: 617.96\n",
            "\n",
            "===>  EVAL Epoch 8\n"
          ],
          "name": "stdout"
        },
        {
          "output_type": "stream",
          "text": [
            "0% [█] 100% | ETA: 00:00:00\n",
            "Total time elapsed: 00:00:00\n"
          ],
          "name": "stderr"
        },
        {
          "output_type": "stream",
          "text": [
            "Finished Epoch 8 || Run Time:    0.1 | Load Time:    0.1 || F1:  47.83 | Prec:  36.67 | Rec:  68.75 || Ex/s: 798.35\n",
            "\n",
            "---------------------\n",
            "\n",
            "===>  TRAIN Epoch 9\n"
          ],
          "name": "stdout"
        },
        {
          "output_type": "stream",
          "text": [
            "0% [████] 100% | ETA: 00:00:00\n",
            "Total time elapsed: 00:00:00\n"
          ],
          "name": "stderr"
        },
        {
          "output_type": "stream",
          "text": [
            "Finished Epoch 9 || Run Time:    0.3 | Load Time:    0.2 || F1:  92.44 | Prec:  85.94 | Rec: 100.00 || Ex/s: 608.98\n",
            "\n",
            "===>  EVAL Epoch 9\n"
          ],
          "name": "stdout"
        },
        {
          "output_type": "stream",
          "text": [
            "0% [█] 100% | ETA: 00:00:00\n",
            "Total time elapsed: 00:00:00\n"
          ],
          "name": "stderr"
        },
        {
          "output_type": "stream",
          "text": [
            "Finished Epoch 9 || Run Time:    0.0 | Load Time:    0.1 || F1:  48.89 | Prec:  37.93 | Rec:  68.75 || Ex/s: 865.50\n",
            "\n",
            "---------------------\n",
            "\n",
            "===>  TRAIN Epoch 10\n"
          ],
          "name": "stdout"
        },
        {
          "output_type": "stream",
          "text": [
            "0% [████] 100% | ETA: 00:00:00\n",
            "Total time elapsed: 00:00:00\n"
          ],
          "name": "stderr"
        },
        {
          "output_type": "stream",
          "text": [
            "Finished Epoch 10 || Run Time:    0.3 | Load Time:    0.3 || F1:  95.65 | Prec:  91.67 | Rec: 100.00 || Ex/s: 602.35\n",
            "\n",
            "===>  EVAL Epoch 10\n"
          ],
          "name": "stdout"
        },
        {
          "output_type": "stream",
          "text": [
            "0% [█] 100% | ETA: 00:00:00\n",
            "Total time elapsed: 00:00:00\n"
          ],
          "name": "stderr"
        },
        {
          "output_type": "stream",
          "text": [
            "Finished Epoch 10 || Run Time:    0.0 | Load Time:    0.1 || F1:  48.89 | Prec:  37.93 | Rec:  68.75 || Ex/s: 878.00\n",
            "\n",
            "---------------------\n",
            "\n",
            "Loading best model...\n",
            "Training done.\n",
            "Time:  7.519205598000553\n",
            "===>  EVAL Epoch 4\n",
            "Finished Epoch 4 || Run Time:    0.0 | Load Time:    0.1 || F1:  62.96 | Prec:  47.22 | Rec:  94.44 || Ex/s: 1104.24\n",
            "\n",
            "[[27.067668914794922, 27.48091697692871, 26.865671157836914, 27.067668914794922, 27.067668914794922, 26.666667938232422, 27.48091697692871, 27.48091697692871, 27.906978607177734, 26.666667938232422], [5.750015394000002, 5.685267965000094, 5.7302121419998, 5.657230900000286, 5.643488617000003, 5.653690455000287, 5.695949046000351, 5.649614863999886, 5.699012441999912, 5.686567185000058], [59.09090805053711, 62.96296691894531], [7.687237744999948, 7.519205598000553], [], [], [], []]\n",
            "* Number of trainable parameters: 768602\n",
            "===>  TRAIN Epoch 1\n"
          ],
          "name": "stdout"
        },
        {
          "output_type": "stream",
          "text": [
            "0% [████] 100% | ETA: 00:00:00\n",
            "Total time elapsed: 00:00:00\n"
          ],
          "name": "stderr"
        },
        {
          "output_type": "stream",
          "text": [
            "Finished Epoch 1 || Run Time:    0.3 | Load Time:    0.3 || F1:  26.07 | Prec:  15.12 | Rec:  94.55 || Ex/s: 594.86\n",
            "\n",
            "===>  EVAL Epoch 1\n"
          ],
          "name": "stdout"
        },
        {
          "output_type": "stream",
          "text": [
            "0% [█] 100% | ETA: 00:00:00\n",
            "Total time elapsed: 00:00:00\n"
          ],
          "name": "stderr"
        },
        {
          "output_type": "stream",
          "text": [
            "Finished Epoch 1 || Run Time:    0.1 | Load Time:    0.1 || F1:  24.06 | Prec:  13.68 | Rec: 100.00 || Ex/s: 831.14\n",
            "\n",
            "* Best F1: tensor(24.0602, device='cuda:0')\n",
            "Saving best model...\n",
            "Done.\n",
            "---------------------\n",
            "\n",
            "===>  TRAIN Epoch 2\n"
          ],
          "name": "stdout"
        },
        {
          "output_type": "stream",
          "text": [
            "0% [████] 100% | ETA: 00:00:00\n",
            "Total time elapsed: 00:00:00\n"
          ],
          "name": "stderr"
        },
        {
          "output_type": "stream",
          "text": [
            "Finished Epoch 2 || Run Time:    0.3 | Load Time:    0.2 || F1:  33.13 | Prec:  19.86 | Rec: 100.00 || Ex/s: 601.74\n",
            "\n",
            "===>  EVAL Epoch 2\n"
          ],
          "name": "stdout"
        },
        {
          "output_type": "stream",
          "text": [
            "0% [█] 100% | ETA: 00:00:00\n",
            "Total time elapsed: 00:00:00\n"
          ],
          "name": "stderr"
        },
        {
          "output_type": "stream",
          "text": [
            "Finished Epoch 2 || Run Time:    0.0 | Load Time:    0.1 || F1:  35.16 | Prec:  21.33 | Rec: 100.00 || Ex/s: 854.82\n",
            "\n",
            "* Best F1: tensor(35.1648, device='cuda:0')\n",
            "Saving best model...\n",
            "Done.\n",
            "---------------------\n",
            "\n",
            "===>  TRAIN Epoch 3\n"
          ],
          "name": "stdout"
        },
        {
          "output_type": "stream",
          "text": [
            "0% [████] 100% | ETA: 00:00:00\n",
            "Total time elapsed: 00:00:00\n"
          ],
          "name": "stderr"
        },
        {
          "output_type": "stream",
          "text": [
            "Finished Epoch 3 || Run Time:    0.3 | Load Time:    0.2 || F1:  52.88 | Prec:  35.95 | Rec: 100.00 || Ex/s: 608.28\n",
            "\n",
            "===>  EVAL Epoch 3\n"
          ],
          "name": "stdout"
        },
        {
          "output_type": "stream",
          "text": [
            "0% [█] 100% | ETA: 00:00:00\n",
            "Total time elapsed: 00:00:00\n"
          ],
          "name": "stderr"
        },
        {
          "output_type": "stream",
          "text": [
            "Finished Epoch 3 || Run Time:    0.0 | Load Time:    0.1 || F1:  42.11 | Prec:  26.67 | Rec: 100.00 || Ex/s: 861.71\n",
            "\n",
            "* Best F1: tensor(42.1053, device='cuda:0')\n",
            "Saving best model...\n",
            "Done.\n",
            "---------------------\n",
            "\n",
            "===>  TRAIN Epoch 4\n"
          ],
          "name": "stdout"
        },
        {
          "output_type": "stream",
          "text": [
            "0% [████] 100% | ETA: 00:00:00\n",
            "Total time elapsed: 00:00:00\n"
          ],
          "name": "stderr"
        },
        {
          "output_type": "stream",
          "text": [
            "Finished Epoch 4 || Run Time:    0.3 | Load Time:    0.2 || F1:  61.36 | Prec:  44.63 | Rec:  98.18 || Ex/s: 616.53\n",
            "\n",
            "===>  EVAL Epoch 4\n"
          ],
          "name": "stdout"
        },
        {
          "output_type": "stream",
          "text": [
            "0% [█] 100% | ETA: 00:00:00\n",
            "Total time elapsed: 00:00:00\n"
          ],
          "name": "stderr"
        },
        {
          "output_type": "stream",
          "text": [
            "Finished Epoch 4 || Run Time:    0.0 | Load Time:    0.1 || F1:  47.62 | Prec:  31.91 | Rec:  93.75 || Ex/s: 859.92\n",
            "\n",
            "* Best F1: tensor(47.6190, device='cuda:0')\n",
            "Saving best model...\n",
            "Done.\n",
            "---------------------\n",
            "\n",
            "===>  TRAIN Epoch 5\n"
          ],
          "name": "stdout"
        },
        {
          "output_type": "stream",
          "text": [
            "0% [████] 100% | ETA: 00:00:00\n",
            "Total time elapsed: 00:00:00\n"
          ],
          "name": "stderr"
        },
        {
          "output_type": "stream",
          "text": [
            "Finished Epoch 5 || Run Time:    0.3 | Load Time:    0.3 || F1:  74.32 | Prec:  59.14 | Rec: 100.00 || Ex/s: 596.99\n",
            "\n",
            "===>  EVAL Epoch 5\n"
          ],
          "name": "stdout"
        },
        {
          "output_type": "stream",
          "text": [
            "0% [█] 100% | ETA: 00:00:00\n",
            "Total time elapsed: 00:00:00\n"
          ],
          "name": "stderr"
        },
        {
          "output_type": "stream",
          "text": [
            "Finished Epoch 5 || Run Time:    0.0 | Load Time:    0.1 || F1:  53.06 | Prec:  39.39 | Rec:  81.25 || Ex/s: 869.62\n",
            "\n",
            "* Best F1: tensor(53.0612, device='cuda:0')\n",
            "Saving best model...\n",
            "Done.\n",
            "---------------------\n",
            "\n",
            "===>  TRAIN Epoch 6\n"
          ],
          "name": "stdout"
        },
        {
          "output_type": "stream",
          "text": [
            "0% [████] 100% | ETA: 00:00:00\n",
            "Total time elapsed: 00:00:00\n"
          ],
          "name": "stderr"
        },
        {
          "output_type": "stream",
          "text": [
            "Finished Epoch 6 || Run Time:    0.3 | Load Time:    0.3 || F1:  82.09 | Prec:  69.62 | Rec: 100.00 || Ex/s: 593.90\n",
            "\n",
            "===>  EVAL Epoch 6\n"
          ],
          "name": "stdout"
        },
        {
          "output_type": "stream",
          "text": [
            "0% [█] 100% | ETA: 00:00:00\n",
            "Total time elapsed: 00:00:00\n"
          ],
          "name": "stderr"
        },
        {
          "output_type": "stream",
          "text": [
            "Finished Epoch 6 || Run Time:    0.0 | Load Time:    0.1 || F1:  55.32 | Prec:  41.94 | Rec:  81.25 || Ex/s: 871.69\n",
            "\n",
            "* Best F1: tensor(55.3191, device='cuda:0')\n",
            "Saving best model...\n",
            "Done.\n",
            "---------------------\n",
            "\n",
            "===>  TRAIN Epoch 7\n"
          ],
          "name": "stdout"
        },
        {
          "output_type": "stream",
          "text": [
            "0% [████] 100% | ETA: 00:00:00\n",
            "Total time elapsed: 00:00:00\n"
          ],
          "name": "stderr"
        },
        {
          "output_type": "stream",
          "text": [
            "Finished Epoch 7 || Run Time:    0.3 | Load Time:    0.2 || F1:  86.61 | Prec:  76.39 | Rec: 100.00 || Ex/s: 608.36\n",
            "\n",
            "===>  EVAL Epoch 7\n"
          ],
          "name": "stdout"
        },
        {
          "output_type": "stream",
          "text": [
            "0% [█] 100% | ETA: 00:00:00\n",
            "Total time elapsed: 00:00:00\n"
          ],
          "name": "stderr"
        },
        {
          "output_type": "stream",
          "text": [
            "Finished Epoch 7 || Run Time:    0.1 | Load Time:    0.1 || F1:  52.00 | Prec:  38.24 | Rec:  81.25 || Ex/s: 766.99\n",
            "\n",
            "---------------------\n",
            "\n",
            "===>  TRAIN Epoch 8\n"
          ],
          "name": "stdout"
        },
        {
          "output_type": "stream",
          "text": [
            "0% [████] 100% | ETA: 00:00:00\n",
            "Total time elapsed: 00:00:00\n"
          ],
          "name": "stderr"
        },
        {
          "output_type": "stream",
          "text": [
            "Finished Epoch 8 || Run Time:    0.3 | Load Time:    0.2 || F1:  91.67 | Prec:  84.62 | Rec: 100.00 || Ex/s: 606.58\n",
            "\n",
            "===>  EVAL Epoch 8\n"
          ],
          "name": "stdout"
        },
        {
          "output_type": "stream",
          "text": [
            "0% [█] 100% | ETA: 00:00:00\n",
            "Total time elapsed: 00:00:00\n"
          ],
          "name": "stderr"
        },
        {
          "output_type": "stream",
          "text": [
            "Finished Epoch 8 || Run Time:    0.0 | Load Time:    0.1 || F1:  53.33 | Prec:  41.38 | Rec:  75.00 || Ex/s: 866.25\n",
            "\n",
            "---------------------\n",
            "\n",
            "===>  TRAIN Epoch 9\n"
          ],
          "name": "stdout"
        },
        {
          "output_type": "stream",
          "text": [
            "0% [████] 100% | ETA: 00:00:00\n",
            "Total time elapsed: 00:00:00\n"
          ],
          "name": "stderr"
        },
        {
          "output_type": "stream",
          "text": [
            "Finished Epoch 9 || Run Time:    0.3 | Load Time:    0.3 || F1:  92.44 | Prec:  85.94 | Rec: 100.00 || Ex/s: 599.84\n",
            "\n",
            "===>  EVAL Epoch 9\n"
          ],
          "name": "stdout"
        },
        {
          "output_type": "stream",
          "text": [
            "0% [█] 100% | ETA: 00:00:00\n",
            "Total time elapsed: 00:00:00\n"
          ],
          "name": "stderr"
        },
        {
          "output_type": "stream",
          "text": [
            "Finished Epoch 9 || Run Time:    0.0 | Load Time:    0.1 || F1:  54.55 | Prec:  42.86 | Rec:  75.00 || Ex/s: 882.81\n",
            "\n",
            "---------------------\n",
            "\n",
            "===>  TRAIN Epoch 10\n"
          ],
          "name": "stdout"
        },
        {
          "output_type": "stream",
          "text": [
            "0% [████] 100% | ETA: 00:00:00\n",
            "Total time elapsed: 00:00:00\n"
          ],
          "name": "stderr"
        },
        {
          "output_type": "stream",
          "text": [
            "Finished Epoch 10 || Run Time:    0.3 | Load Time:    0.2 || F1:  93.22 | Prec:  87.30 | Rec: 100.00 || Ex/s: 610.50\n",
            "\n",
            "===>  EVAL Epoch 10\n"
          ],
          "name": "stdout"
        },
        {
          "output_type": "stream",
          "text": [
            "0% [█] 100% | ETA: 00:00:00\n",
            "Total time elapsed: 00:00:00\n"
          ],
          "name": "stderr"
        },
        {
          "output_type": "stream",
          "text": [
            "Finished Epoch 10 || Run Time:    0.0 | Load Time:    0.1 || F1:  55.81 | Prec:  44.44 | Rec:  75.00 || Ex/s: 852.56\n",
            "\n",
            "* Best F1: tensor(55.8140, device='cuda:0')\n",
            "Saving best model...\n",
            "Done.\n",
            "---------------------\n",
            "\n",
            "Loading best model...\n",
            "Training done.\n",
            "Time:  7.681276948999766\n",
            "===>  EVAL Epoch 10\n",
            "Finished Epoch 10 || Run Time:    0.0 | Load Time:    0.1 || F1:  60.00 | Prec:  54.55 | Rec:  66.67 || Ex/s: 1062.38\n",
            "\n",
            "[[27.067668914794922, 27.48091697692871, 26.865671157836914, 27.067668914794922, 27.067668914794922, 26.666667938232422, 27.48091697692871, 27.48091697692871, 27.906978607177734, 26.666667938232422], [5.750015394000002, 5.685267965000094, 5.7302121419998, 5.657230900000286, 5.643488617000003, 5.653690455000287, 5.695949046000351, 5.649614863999886, 5.699012441999912, 5.686567185000058], [59.09090805053711, 62.96296691894531, 60.0], [7.687237744999948, 7.519205598000553, 7.681276948999766], [], [], [], []]\n",
            "* Number of trainable parameters: 768602\n",
            "===>  TRAIN Epoch 1\n"
          ],
          "name": "stdout"
        },
        {
          "output_type": "stream",
          "text": [
            "0% [████] 100% | ETA: 00:00:00\n",
            "Total time elapsed: 00:00:00\n"
          ],
          "name": "stderr"
        },
        {
          "output_type": "stream",
          "text": [
            "Finished Epoch 1 || Run Time:    0.3 | Load Time:    0.3 || F1:  28.57 | Prec:  17.57 | Rec:  76.36 || Ex/s: 605.56\n",
            "\n",
            "===>  EVAL Epoch 1\n"
          ],
          "name": "stdout"
        },
        {
          "output_type": "stream",
          "text": [
            "0% [█] 100% | ETA: 00:00:00\n",
            "Total time elapsed: 00:00:00\n"
          ],
          "name": "stderr"
        },
        {
          "output_type": "stream",
          "text": [
            "Finished Epoch 1 || Run Time:    0.0 | Load Time:    0.1 || F1:  23.88 | Prec:  13.56 | Rec: 100.00 || Ex/s: 859.90\n",
            "\n",
            "* Best F1: tensor(23.8806, device='cuda:0')\n",
            "Saving best model...\n",
            "Done.\n",
            "---------------------\n",
            "\n",
            "===>  TRAIN Epoch 2\n"
          ],
          "name": "stdout"
        },
        {
          "output_type": "stream",
          "text": [
            "0% [████] 100% | ETA: 00:00:00\n",
            "Total time elapsed: 00:00:00\n"
          ],
          "name": "stderr"
        },
        {
          "output_type": "stream",
          "text": [
            "Finished Epoch 2 || Run Time:    0.3 | Load Time:    0.3 || F1:  31.34 | Prec:  18.58 | Rec: 100.00 || Ex/s: 597.19\n",
            "\n",
            "===>  EVAL Epoch 2\n"
          ],
          "name": "stdout"
        },
        {
          "output_type": "stream",
          "text": [
            "0% [█] 100% | ETA: 00:00:00\n",
            "Total time elapsed: 00:00:00\n"
          ],
          "name": "stderr"
        },
        {
          "output_type": "stream",
          "text": [
            "Finished Epoch 2 || Run Time:    0.1 | Load Time:    0.1 || F1:  34.04 | Prec:  20.51 | Rec: 100.00 || Ex/s: 830.92\n",
            "\n",
            "* Best F1: tensor(34.0426, device='cuda:0')\n",
            "Saving best model...\n",
            "Done.\n",
            "---------------------\n",
            "\n",
            "===>  TRAIN Epoch 3\n"
          ],
          "name": "stdout"
        },
        {
          "output_type": "stream",
          "text": [
            "0% [████] 100% | ETA: 00:00:00\n",
            "Total time elapsed: 00:00:00\n"
          ],
          "name": "stderr"
        },
        {
          "output_type": "stream",
          "text": [
            "Finished Epoch 3 || Run Time:    0.3 | Load Time:    0.2 || F1:  47.21 | Prec:  30.90 | Rec: 100.00 || Ex/s: 603.57\n",
            "\n",
            "===>  EVAL Epoch 3\n"
          ],
          "name": "stdout"
        },
        {
          "output_type": "stream",
          "text": [
            "0% [█] 100% | ETA: 00:00:00\n",
            "Total time elapsed: 00:00:00\n"
          ],
          "name": "stderr"
        },
        {
          "output_type": "stream",
          "text": [
            "Finished Epoch 3 || Run Time:    0.0 | Load Time:    0.1 || F1:  40.51 | Prec:  25.40 | Rec: 100.00 || Ex/s: 864.63\n",
            "\n",
            "* Best F1: tensor(40.5063, device='cuda:0')\n",
            "Saving best model...\n",
            "Done.\n",
            "---------------------\n",
            "\n",
            "===>  TRAIN Epoch 4\n"
          ],
          "name": "stdout"
        },
        {
          "output_type": "stream",
          "text": [
            "0% [████] 100% | ETA: 00:00:00\n",
            "Total time elapsed: 00:00:00\n"
          ],
          "name": "stderr"
        },
        {
          "output_type": "stream",
          "text": [
            "Finished Epoch 4 || Run Time:    0.3 | Load Time:    0.3 || F1:  62.86 | Prec:  45.83 | Rec: 100.00 || Ex/s: 607.57\n",
            "\n",
            "===>  EVAL Epoch 4\n"
          ],
          "name": "stdout"
        },
        {
          "output_type": "stream",
          "text": [
            "0% [█] 100% | ETA: 00:00:00\n",
            "Total time elapsed: 00:00:00\n"
          ],
          "name": "stderr"
        },
        {
          "output_type": "stream",
          "text": [
            "Finished Epoch 4 || Run Time:    0.0 | Load Time:    0.1 || F1:  48.39 | Prec:  32.61 | Rec:  93.75 || Ex/s: 879.67\n",
            "\n",
            "* Best F1: tensor(48.3871, device='cuda:0')\n",
            "Saving best model...\n",
            "Done.\n",
            "---------------------\n",
            "\n",
            "===>  TRAIN Epoch 5\n"
          ],
          "name": "stdout"
        },
        {
          "output_type": "stream",
          "text": [
            "0% [████] 100% | ETA: 00:00:00\n",
            "Total time elapsed: 00:00:00\n"
          ],
          "name": "stderr"
        },
        {
          "output_type": "stream",
          "text": [
            "Finished Epoch 5 || Run Time:    0.4 | Load Time:    0.3 || F1:  71.90 | Prec:  56.12 | Rec: 100.00 || Ex/s: 576.91\n",
            "\n",
            "===>  EVAL Epoch 5\n"
          ],
          "name": "stdout"
        },
        {
          "output_type": "stream",
          "text": [
            "0% [█] 100% | ETA: 00:00:00\n",
            "Total time elapsed: 00:00:00\n"
          ],
          "name": "stderr"
        },
        {
          "output_type": "stream",
          "text": [
            "Finished Epoch 5 || Run Time:    0.0 | Load Time:    0.1 || F1:  49.12 | Prec:  34.15 | Rec:  87.50 || Ex/s: 844.05\n",
            "\n",
            "* Best F1: tensor(49.1228, device='cuda:0')\n",
            "Saving best model...\n",
            "Done.\n",
            "---------------------\n",
            "\n",
            "===>  TRAIN Epoch 6\n"
          ],
          "name": "stdout"
        },
        {
          "output_type": "stream",
          "text": [
            "0% [████] 100% | ETA: 00:00:00\n",
            "Total time elapsed: 00:00:00\n"
          ],
          "name": "stderr"
        },
        {
          "output_type": "stream",
          "text": [
            "Finished Epoch 6 || Run Time:    0.3 | Load Time:    0.3 || F1:  78.57 | Prec:  64.71 | Rec: 100.00 || Ex/s: 606.07\n",
            "\n",
            "===>  EVAL Epoch 6\n"
          ],
          "name": "stdout"
        },
        {
          "output_type": "stream",
          "text": [
            "0% [█] 100% | ETA: 00:00:00\n",
            "Total time elapsed: 00:00:00\n"
          ],
          "name": "stderr"
        },
        {
          "output_type": "stream",
          "text": [
            "Finished Epoch 6 || Run Time:    0.0 | Load Time:    0.1 || F1:  51.85 | Prec:  36.84 | Rec:  87.50 || Ex/s: 872.00\n",
            "\n",
            "* Best F1: tensor(51.8519, device='cuda:0')\n",
            "Saving best model...\n",
            "Done.\n",
            "---------------------\n",
            "\n",
            "===>  TRAIN Epoch 7\n"
          ],
          "name": "stdout"
        },
        {
          "output_type": "stream",
          "text": [
            "0% [████] 100% | ETA: 00:00:00\n",
            "Total time elapsed: 00:00:00\n"
          ],
          "name": "stderr"
        },
        {
          "output_type": "stream",
          "text": [
            "Finished Epoch 7 || Run Time:    0.3 | Load Time:    0.3 || F1:  85.94 | Prec:  75.34 | Rec: 100.00 || Ex/s: 601.80\n",
            "\n",
            "===>  EVAL Epoch 7\n"
          ],
          "name": "stdout"
        },
        {
          "output_type": "stream",
          "text": [
            "0% [█] 100% | ETA: 00:00:00\n",
            "Total time elapsed: 00:00:00\n"
          ],
          "name": "stderr"
        },
        {
          "output_type": "stream",
          "text": [
            "Finished Epoch 7 || Run Time:    0.0 | Load Time:    0.1 || F1:  44.00 | Prec:  32.35 | Rec:  68.75 || Ex/s: 846.08\n",
            "\n",
            "---------------------\n",
            "\n",
            "===>  TRAIN Epoch 8\n"
          ],
          "name": "stdout"
        },
        {
          "output_type": "stream",
          "text": [
            "0% [████] 100% | ETA: 00:00:00\n",
            "Total time elapsed: 00:00:00\n"
          ],
          "name": "stderr"
        },
        {
          "output_type": "stream",
          "text": [
            "Finished Epoch 8 || Run Time:    0.3 | Load Time:    0.3 || F1:  90.91 | Prec:  83.33 | Rec: 100.00 || Ex/s: 599.41\n",
            "\n",
            "===>  EVAL Epoch 8\n"
          ],
          "name": "stdout"
        },
        {
          "output_type": "stream",
          "text": [
            "0% [█] 100% | ETA: 00:00:00\n",
            "Total time elapsed: 00:00:00\n"
          ],
          "name": "stderr"
        },
        {
          "output_type": "stream",
          "text": [
            "Finished Epoch 8 || Run Time:    0.0 | Load Time:    0.1 || F1:  46.81 | Prec:  35.48 | Rec:  68.75 || Ex/s: 856.42\n",
            "\n",
            "---------------------\n",
            "\n",
            "===>  TRAIN Epoch 9\n"
          ],
          "name": "stdout"
        },
        {
          "output_type": "stream",
          "text": [
            "0% [████] 100% | ETA: 00:00:00\n",
            "Total time elapsed: 00:00:00\n"
          ],
          "name": "stderr"
        },
        {
          "output_type": "stream",
          "text": [
            "Finished Epoch 9 || Run Time:    0.3 | Load Time:    0.3 || F1:  92.44 | Prec:  85.94 | Rec: 100.00 || Ex/s: 609.85\n",
            "\n",
            "===>  EVAL Epoch 9\n"
          ],
          "name": "stdout"
        },
        {
          "output_type": "stream",
          "text": [
            "0% [█] 100% | ETA: 00:00:00\n",
            "Total time elapsed: 00:00:00\n"
          ],
          "name": "stderr"
        },
        {
          "output_type": "stream",
          "text": [
            "Finished Epoch 9 || Run Time:    0.0 | Load Time:    0.1 || F1:  50.00 | Prec:  39.29 | Rec:  68.75 || Ex/s: 873.38\n",
            "\n",
            "---------------------\n",
            "\n",
            "===>  TRAIN Epoch 10\n"
          ],
          "name": "stdout"
        },
        {
          "output_type": "stream",
          "text": [
            "0% [████] 100% | ETA: 00:00:00\n",
            "Total time elapsed: 00:00:00\n"
          ],
          "name": "stderr"
        },
        {
          "output_type": "stream",
          "text": [
            "Finished Epoch 10 || Run Time:    0.3 | Load Time:    0.2 || F1:  93.22 | Prec:  87.30 | Rec: 100.00 || Ex/s: 608.61\n",
            "\n",
            "===>  EVAL Epoch 10\n"
          ],
          "name": "stdout"
        },
        {
          "output_type": "stream",
          "text": [
            "0% [█] 100% | ETA: 00:00:00\n",
            "Total time elapsed: 00:00:00\n"
          ],
          "name": "stderr"
        },
        {
          "output_type": "stream",
          "text": [
            "Finished Epoch 10 || Run Time:    0.1 | Load Time:    0.1 || F1:  50.00 | Prec:  39.29 | Rec:  68.75 || Ex/s: 852.76\n",
            "\n",
            "---------------------\n",
            "\n",
            "Loading best model...\n",
            "Training done.\n",
            "Time:  7.656541180999739\n",
            "===>  EVAL Epoch 6\n",
            "Finished Epoch 6 || Run Time:    0.0 | Load Time:    0.1 || F1:  57.14 | Prec:  45.16 | Rec:  77.78 || Ex/s: 1034.17\n",
            "\n",
            "[[27.067668914794922, 27.48091697692871, 26.865671157836914, 27.067668914794922, 27.067668914794922, 26.666667938232422, 27.48091697692871, 27.48091697692871, 27.906978607177734, 26.666667938232422], [5.750015394000002, 5.685267965000094, 5.7302121419998, 5.657230900000286, 5.643488617000003, 5.653690455000287, 5.695949046000351, 5.649614863999886, 5.699012441999912, 5.686567185000058], [59.09090805053711, 62.96296691894531, 60.0, 57.142852783203125], [7.687237744999948, 7.519205598000553, 7.681276948999766, 7.656541180999739], [], [], [], []]\n",
            "* Number of trainable parameters: 768602\n",
            "===>  TRAIN Epoch 1\n"
          ],
          "name": "stdout"
        },
        {
          "output_type": "stream",
          "text": [
            "0% [████] 100% | ETA: 00:00:00\n",
            "Total time elapsed: 00:00:00\n"
          ],
          "name": "stderr"
        },
        {
          "output_type": "stream",
          "text": [
            "Finished Epoch 1 || Run Time:    0.3 | Load Time:    0.2 || F1:  26.55 | Prec:  15.85 | Rec:  81.82 || Ex/s: 608.78\n",
            "\n",
            "===>  EVAL Epoch 1\n"
          ],
          "name": "stdout"
        },
        {
          "output_type": "stream",
          "text": [
            "0% [█] 100% | ETA: 00:00:00\n",
            "Total time elapsed: 00:00:00\n"
          ],
          "name": "stderr"
        },
        {
          "output_type": "stream",
          "text": [
            "Finished Epoch 1 || Run Time:    0.0 | Load Time:    0.1 || F1:  23.70 | Prec:  13.45 | Rec: 100.00 || Ex/s: 839.10\n",
            "\n",
            "* Best F1: tensor(23.7037, device='cuda:0')\n",
            "Saving best model...\n",
            "Done.\n",
            "---------------------\n",
            "\n",
            "===>  TRAIN Epoch 2\n"
          ],
          "name": "stdout"
        },
        {
          "output_type": "stream",
          "text": [
            "0% [████] 100% | ETA: 00:00:00\n",
            "Total time elapsed: 00:00:00\n"
          ],
          "name": "stderr"
        },
        {
          "output_type": "stream",
          "text": [
            "Finished Epoch 2 || Run Time:    0.4 | Load Time:    0.2 || F1:  28.65 | Prec:  16.72 | Rec: 100.00 || Ex/s: 586.72\n",
            "\n",
            "===>  EVAL Epoch 2\n"
          ],
          "name": "stdout"
        },
        {
          "output_type": "stream",
          "text": [
            "0% [█] 100% | ETA: 00:00:00\n",
            "Total time elapsed: 00:00:00\n"
          ],
          "name": "stderr"
        },
        {
          "output_type": "stream",
          "text": [
            "Finished Epoch 2 || Run Time:    0.0 | Load Time:    0.1 || F1:  28.07 | Prec:  16.33 | Rec: 100.00 || Ex/s: 828.68\n",
            "\n",
            "* Best F1: tensor(28.0702, device='cuda:0')\n",
            "Saving best model...\n",
            "Done.\n",
            "---------------------\n",
            "\n",
            "===>  TRAIN Epoch 3\n"
          ],
          "name": "stdout"
        },
        {
          "output_type": "stream",
          "text": [
            "0% [████] 100% | ETA: 00:00:00\n",
            "Total time elapsed: 00:00:00\n"
          ],
          "name": "stderr"
        },
        {
          "output_type": "stream",
          "text": [
            "Finished Epoch 3 || Run Time:    0.3 | Load Time:    0.2 || F1:  46.81 | Prec:  30.56 | Rec: 100.00 || Ex/s: 609.66\n",
            "\n",
            "===>  EVAL Epoch 3\n"
          ],
          "name": "stdout"
        },
        {
          "output_type": "stream",
          "text": [
            "0% [█] 100% | ETA: 00:00:00\n",
            "Total time elapsed: 00:00:00\n"
          ],
          "name": "stderr"
        },
        {
          "output_type": "stream",
          "text": [
            "Finished Epoch 3 || Run Time:    0.0 | Load Time:    0.1 || F1:  41.56 | Prec:  26.23 | Rec: 100.00 || Ex/s: 876.16\n",
            "\n",
            "* Best F1: tensor(41.5584, device='cuda:0')\n",
            "Saving best model...\n",
            "Done.\n",
            "---------------------\n",
            "\n",
            "===>  TRAIN Epoch 4\n"
          ],
          "name": "stdout"
        },
        {
          "output_type": "stream",
          "text": [
            "0% [████] 100% | ETA: 00:00:00\n",
            "Total time elapsed: 00:00:00\n"
          ],
          "name": "stderr"
        },
        {
          "output_type": "stream",
          "text": [
            "Finished Epoch 4 || Run Time:    0.3 | Load Time:    0.3 || F1:  59.78 | Prec:  42.64 | Rec: 100.00 || Ex/s: 603.00\n",
            "\n",
            "===>  EVAL Epoch 4\n"
          ],
          "name": "stdout"
        },
        {
          "output_type": "stream",
          "text": [
            "0% [█] 100% | ETA: 00:00:00\n",
            "Total time elapsed: 00:00:00\n"
          ],
          "name": "stderr"
        },
        {
          "output_type": "stream",
          "text": [
            "Finished Epoch 4 || Run Time:    0.1 | Load Time:    0.1 || F1:  45.45 | Prec:  30.00 | Rec:  93.75 || Ex/s: 809.53\n",
            "\n",
            "* Best F1: tensor(45.4545, device='cuda:0')\n",
            "Saving best model...\n",
            "Done.\n",
            "---------------------\n",
            "\n",
            "===>  TRAIN Epoch 5\n"
          ],
          "name": "stdout"
        },
        {
          "output_type": "stream",
          "text": [
            "0% [████] 100% | ETA: 00:00:00\n",
            "Total time elapsed: 00:00:00\n"
          ],
          "name": "stderr"
        },
        {
          "output_type": "stream",
          "text": [
            "Finished Epoch 5 || Run Time:    0.3 | Load Time:    0.3 || F1:  69.62 | Prec:  53.40 | Rec: 100.00 || Ex/s: 594.66\n",
            "\n",
            "===>  EVAL Epoch 5\n"
          ],
          "name": "stdout"
        },
        {
          "output_type": "stream",
          "text": [
            "0% [█] 100% | ETA: 00:00:00\n",
            "Total time elapsed: 00:00:00\n"
          ],
          "name": "stderr"
        },
        {
          "output_type": "stream",
          "text": [
            "Finished Epoch 5 || Run Time:    0.0 | Load Time:    0.1 || F1:  47.27 | Prec:  33.33 | Rec:  81.25 || Ex/s: 873.13\n",
            "\n",
            "* Best F1: tensor(47.2727, device='cuda:0')\n",
            "Saving best model...\n",
            "Done.\n",
            "---------------------\n",
            "\n",
            "===>  TRAIN Epoch 6\n"
          ],
          "name": "stdout"
        },
        {
          "output_type": "stream",
          "text": [
            "0% [████] 100% | ETA: 00:00:00\n",
            "Total time elapsed: 00:00:00\n"
          ],
          "name": "stderr"
        },
        {
          "output_type": "stream",
          "text": [
            "Finished Epoch 6 || Run Time:    0.3 | Load Time:    0.2 || F1:  78.01 | Prec:  63.95 | Rec: 100.00 || Ex/s: 608.92\n",
            "\n",
            "===>  EVAL Epoch 6\n"
          ],
          "name": "stdout"
        },
        {
          "output_type": "stream",
          "text": [
            "0% [█] 100% | ETA: 00:00:00\n",
            "Total time elapsed: 00:00:00\n"
          ],
          "name": "stderr"
        },
        {
          "output_type": "stream",
          "text": [
            "Finished Epoch 6 || Run Time:    0.0 | Load Time:    0.1 || F1:  53.06 | Prec:  39.39 | Rec:  81.25 || Ex/s: 847.23\n",
            "\n",
            "* Best F1: tensor(53.0612, device='cuda:0')\n",
            "Saving best model...\n",
            "Done.\n",
            "---------------------\n",
            "\n",
            "===>  TRAIN Epoch 7\n"
          ],
          "name": "stdout"
        },
        {
          "output_type": "stream",
          "text": [
            "0% [████] 100% | ETA: 00:00:00\n",
            "Total time elapsed: 00:00:00\n"
          ],
          "name": "stderr"
        },
        {
          "output_type": "stream",
          "text": [
            "Finished Epoch 7 || Run Time:    0.3 | Load Time:    0.3 || F1:  84.62 | Prec:  73.33 | Rec: 100.00 || Ex/s: 604.07\n",
            "\n",
            "===>  EVAL Epoch 7\n"
          ],
          "name": "stdout"
        },
        {
          "output_type": "stream",
          "text": [
            "0% [█] 100% | ETA: 00:00:00\n",
            "Total time elapsed: 00:00:00\n"
          ],
          "name": "stderr"
        },
        {
          "output_type": "stream",
          "text": [
            "Finished Epoch 7 || Run Time:    0.0 | Load Time:    0.1 || F1:  53.06 | Prec:  39.39 | Rec:  81.25 || Ex/s: 874.78\n",
            "\n",
            "---------------------\n",
            "\n",
            "===>  TRAIN Epoch 8\n"
          ],
          "name": "stdout"
        },
        {
          "output_type": "stream",
          "text": [
            "0% [████] 100% | ETA: 00:00:00\n",
            "Total time elapsed: 00:00:00\n"
          ],
          "name": "stderr"
        },
        {
          "output_type": "stream",
          "text": [
            "Finished Epoch 8 || Run Time:    0.4 | Load Time:    0.3 || F1:  85.94 | Prec:  75.34 | Rec: 100.00 || Ex/s: 573.62\n",
            "\n",
            "===>  EVAL Epoch 8\n"
          ],
          "name": "stdout"
        },
        {
          "output_type": "stream",
          "text": [
            "0% [█] 100% | ETA: 00:00:00\n",
            "Total time elapsed: 00:00:00\n"
          ],
          "name": "stderr"
        },
        {
          "output_type": "stream",
          "text": [
            "Finished Epoch 8 || Run Time:    0.0 | Load Time:    0.1 || F1:  55.32 | Prec:  41.94 | Rec:  81.25 || Ex/s: 837.14\n",
            "\n",
            "* Best F1: tensor(55.3191, device='cuda:0')\n",
            "Saving best model...\n",
            "Done.\n",
            "---------------------\n",
            "\n",
            "===>  TRAIN Epoch 9\n"
          ],
          "name": "stdout"
        },
        {
          "output_type": "stream",
          "text": [
            "0% [████] 100% | ETA: 00:00:00\n",
            "Total time elapsed: 00:00:00\n"
          ],
          "name": "stderr"
        },
        {
          "output_type": "stream",
          "text": [
            "Finished Epoch 9 || Run Time:    0.3 | Load Time:    0.3 || F1:  90.16 | Prec:  82.09 | Rec: 100.00 || Ex/s: 594.39\n",
            "\n",
            "===>  EVAL Epoch 9\n"
          ],
          "name": "stdout"
        },
        {
          "output_type": "stream",
          "text": [
            "0% [█] 100% | ETA: 00:00:00\n",
            "Total time elapsed: 00:00:00\n"
          ],
          "name": "stderr"
        },
        {
          "output_type": "stream",
          "text": [
            "Finished Epoch 9 || Run Time:    0.0 | Load Time:    0.1 || F1:  54.55 | Prec:  42.86 | Rec:  75.00 || Ex/s: 890.70\n",
            "\n",
            "---------------------\n",
            "\n",
            "===>  TRAIN Epoch 10\n"
          ],
          "name": "stdout"
        },
        {
          "output_type": "stream",
          "text": [
            "0% [████] 100% | ETA: 00:00:00\n",
            "Total time elapsed: 00:00:00\n"
          ],
          "name": "stderr"
        },
        {
          "output_type": "stream",
          "text": [
            "Finished Epoch 10 || Run Time:    0.3 | Load Time:    0.2 || F1:  91.67 | Prec:  84.62 | Rec: 100.00 || Ex/s: 612.20\n",
            "\n",
            "===>  EVAL Epoch 10\n"
          ],
          "name": "stdout"
        },
        {
          "output_type": "stream",
          "text": [
            "0% [█] 100% | ETA: 00:00:00\n",
            "Total time elapsed: 00:00:00\n"
          ],
          "name": "stderr"
        },
        {
          "output_type": "stream",
          "text": [
            "Finished Epoch 10 || Run Time:    0.0 | Load Time:    0.1 || F1:  55.81 | Prec:  44.44 | Rec:  75.00 || Ex/s: 857.35\n",
            "\n",
            "* Best F1: tensor(55.8140, device='cuda:0')\n",
            "Saving best model...\n",
            "Done.\n",
            "---------------------\n",
            "\n",
            "Loading best model...\n",
            "Training done.\n",
            "Time:  7.761204930999156\n",
            "===>  EVAL Epoch 10\n",
            "Finished Epoch 10 || Run Time:    0.0 | Load Time:    0.1 || F1:  68.18 | Prec:  57.69 | Rec:  83.33 || Ex/s: 1068.09\n",
            "\n",
            "[[27.067668914794922, 27.48091697692871, 26.865671157836914, 27.067668914794922, 27.067668914794922, 26.666667938232422, 27.48091697692871, 27.48091697692871, 27.906978607177734, 26.666667938232422], [5.750015394000002, 5.685267965000094, 5.7302121419998, 5.657230900000286, 5.643488617000003, 5.653690455000287, 5.695949046000351, 5.649614863999886, 5.699012441999912, 5.686567185000058], [59.09090805053711, 62.96296691894531, 60.0, 57.142852783203125, 68.18182373046875], [7.687237744999948, 7.519205598000553, 7.681276948999766, 7.656541180999739, 7.761204930999156], [], [], [], []]\n",
            "* Number of trainable parameters: 768602\n",
            "===>  TRAIN Epoch 1\n"
          ],
          "name": "stdout"
        },
        {
          "output_type": "stream",
          "text": [
            "0% [████] 100% | ETA: 00:00:00\n",
            "Total time elapsed: 00:00:00\n"
          ],
          "name": "stderr"
        },
        {
          "output_type": "stream",
          "text": [
            "Finished Epoch 1 || Run Time:    0.3 | Load Time:    0.2 || F1:  29.13 | Prec:  18.59 | Rec:  67.27 || Ex/s: 608.20\n",
            "\n",
            "===>  EVAL Epoch 1\n"
          ],
          "name": "stdout"
        },
        {
          "output_type": "stream",
          "text": [
            "0% [█] 100% | ETA: 00:00:00\n",
            "Total time elapsed: 00:00:00\n"
          ],
          "name": "stderr"
        },
        {
          "output_type": "stream",
          "text": [
            "Finished Epoch 1 || Run Time:    0.0 | Load Time:    0.1 || F1:  23.70 | Prec:  13.45 | Rec: 100.00 || Ex/s: 869.45\n",
            "\n",
            "* Best F1: tensor(23.7037, device='cuda:0')\n",
            "Saving best model...\n",
            "Done.\n",
            "---------------------\n",
            "\n",
            "===>  TRAIN Epoch 2\n"
          ],
          "name": "stdout"
        },
        {
          "output_type": "stream",
          "text": [
            "0% [████] 100% | ETA: 00:00:00\n",
            "Total time elapsed: 00:00:00\n"
          ],
          "name": "stderr"
        },
        {
          "output_type": "stream",
          "text": [
            "Finished Epoch 2 || Run Time:    0.3 | Load Time:    0.3 || F1:  29.59 | Prec:  17.42 | Rec:  98.18 || Ex/s: 598.32\n",
            "\n",
            "===>  EVAL Epoch 2\n"
          ],
          "name": "stdout"
        },
        {
          "output_type": "stream",
          "text": [
            "0% [█] 100% | ETA: 00:00:00\n",
            "Total time elapsed: 00:00:00\n"
          ],
          "name": "stderr"
        },
        {
          "output_type": "stream",
          "text": [
            "Finished Epoch 2 || Run Time:    0.0 | Load Time:    0.1 || F1:  29.36 | Prec:  17.20 | Rec: 100.00 || Ex/s: 868.83\n",
            "\n",
            "* Best F1: tensor(29.3578, device='cuda:0')\n",
            "Saving best model...\n",
            "Done.\n",
            "---------------------\n",
            "\n",
            "===>  TRAIN Epoch 3\n"
          ],
          "name": "stdout"
        },
        {
          "output_type": "stream",
          "text": [
            "0% [████] 100% | ETA: 00:00:00\n",
            "Total time elapsed: 00:00:00\n"
          ],
          "name": "stderr"
        },
        {
          "output_type": "stream",
          "text": [
            "Finished Epoch 3 || Run Time:    0.3 | Load Time:    0.2 || F1:  46.96 | Prec:  30.86 | Rec:  98.18 || Ex/s: 612.43\n",
            "\n",
            "===>  EVAL Epoch 3\n"
          ],
          "name": "stdout"
        },
        {
          "output_type": "stream",
          "text": [
            "0% [█] 100% | ETA: 00:00:00\n",
            "Total time elapsed: 00:00:00\n"
          ],
          "name": "stderr"
        },
        {
          "output_type": "stream",
          "text": [
            "Finished Epoch 3 || Run Time:    0.0 | Load Time:    0.1 || F1:  39.51 | Prec:  24.62 | Rec: 100.00 || Ex/s: 841.29\n",
            "\n",
            "* Best F1: tensor(39.5062, device='cuda:0')\n",
            "Saving best model...\n",
            "Done.\n",
            "---------------------\n",
            "\n",
            "===>  TRAIN Epoch 4\n"
          ],
          "name": "stdout"
        },
        {
          "output_type": "stream",
          "text": [
            "0% [████] 100% | ETA: 00:00:00\n",
            "Total time elapsed: 00:00:00\n"
          ],
          "name": "stderr"
        },
        {
          "output_type": "stream",
          "text": [
            "Finished Epoch 4 || Run Time:    0.3 | Load Time:    0.3 || F1:  60.00 | Prec:  43.20 | Rec:  98.18 || Ex/s: 600.41\n",
            "\n",
            "===>  EVAL Epoch 4\n"
          ],
          "name": "stdout"
        },
        {
          "output_type": "stream",
          "text": [
            "0% [█] 100% | ETA: 00:00:00\n",
            "Total time elapsed: 00:00:00\n"
          ],
          "name": "stderr"
        },
        {
          "output_type": "stream",
          "text": [
            "Finished Epoch 4 || Run Time:    0.0 | Load Time:    0.1 || F1:  43.24 | Prec:  27.59 | Rec: 100.00 || Ex/s: 865.78\n",
            "\n",
            "* Best F1: tensor(43.2432, device='cuda:0')\n",
            "Saving best model...\n",
            "Done.\n",
            "---------------------\n",
            "\n",
            "===>  TRAIN Epoch 5\n"
          ],
          "name": "stdout"
        },
        {
          "output_type": "stream",
          "text": [
            "0% [████] 100% | ETA: 00:00:00\n",
            "Total time elapsed: 00:00:00\n"
          ],
          "name": "stderr"
        },
        {
          "output_type": "stream",
          "text": [
            "Finished Epoch 5 || Run Time:    0.3 | Load Time:    0.2 || F1:  70.06 | Prec:  53.92 | Rec: 100.00 || Ex/s: 611.09\n",
            "\n",
            "===>  EVAL Epoch 5\n"
          ],
          "name": "stdout"
        },
        {
          "output_type": "stream",
          "text": [
            "0% [█] 100% | ETA: 00:00:00\n",
            "Total time elapsed: 00:00:00\n"
          ],
          "name": "stderr"
        },
        {
          "output_type": "stream",
          "text": [
            "Finished Epoch 5 || Run Time:    0.0 | Load Time:    0.1 || F1:  42.62 | Prec:  28.89 | Rec:  81.25 || Ex/s: 870.97\n",
            "\n",
            "---------------------\n",
            "\n",
            "===>  TRAIN Epoch 6\n"
          ],
          "name": "stdout"
        },
        {
          "output_type": "stream",
          "text": [
            "0% [████] 100% | ETA: 00:00:00\n",
            "Total time elapsed: 00:00:00\n"
          ],
          "name": "stderr"
        },
        {
          "output_type": "stream",
          "text": [
            "Finished Epoch 6 || Run Time:    0.3 | Load Time:    0.2 || F1:  79.14 | Prec:  65.48 | Rec: 100.00 || Ex/s: 596.84\n",
            "\n",
            "===>  EVAL Epoch 6\n"
          ],
          "name": "stdout"
        },
        {
          "output_type": "stream",
          "text": [
            "0% [█] 100% | ETA: 00:00:00\n",
            "Total time elapsed: 00:00:00\n"
          ],
          "name": "stderr"
        },
        {
          "output_type": "stream",
          "text": [
            "Finished Epoch 6 || Run Time:    0.0 | Load Time:    0.1 || F1:  47.06 | Prec:  34.29 | Rec:  75.00 || Ex/s: 875.26\n",
            "\n",
            "* Best F1: tensor(47.0588, device='cuda:0')\n",
            "Saving best model...\n",
            "Done.\n",
            "---------------------\n",
            "\n",
            "===>  TRAIN Epoch 7\n"
          ],
          "name": "stdout"
        },
        {
          "output_type": "stream",
          "text": [
            "0% [████] 100% | ETA: 00:00:00\n",
            "Total time elapsed: 00:00:00\n"
          ],
          "name": "stderr"
        },
        {
          "output_type": "stream",
          "text": [
            "Finished Epoch 7 || Run Time:    0.3 | Load Time:    0.2 || F1:  83.33 | Prec:  71.43 | Rec: 100.00 || Ex/s: 607.68\n",
            "\n",
            "===>  EVAL Epoch 7\n"
          ],
          "name": "stdout"
        },
        {
          "output_type": "stream",
          "text": [
            "0% [█] 100% | ETA: 00:00:00\n",
            "Total time elapsed: 00:00:00\n"
          ],
          "name": "stderr"
        },
        {
          "output_type": "stream",
          "text": [
            "Finished Epoch 7 || Run Time:    0.0 | Load Time:    0.1 || F1:  45.28 | Prec:  32.43 | Rec:  75.00 || Ex/s: 844.27\n",
            "\n",
            "---------------------\n",
            "\n",
            "===>  TRAIN Epoch 8\n"
          ],
          "name": "stdout"
        },
        {
          "output_type": "stream",
          "text": [
            "0% [████] 100% | ETA: 00:00:00\n",
            "Total time elapsed: 00:00:00\n"
          ],
          "name": "stderr"
        },
        {
          "output_type": "stream",
          "text": [
            "Finished Epoch 8 || Run Time:    0.3 | Load Time:    0.3 || F1:  88.00 | Prec:  78.57 | Rec: 100.00 || Ex/s: 610.69\n",
            "\n",
            "===>  EVAL Epoch 8\n"
          ],
          "name": "stdout"
        },
        {
          "output_type": "stream",
          "text": [
            "0% [█] 100% | ETA: 00:00:00\n",
            "Total time elapsed: 00:00:00\n"
          ],
          "name": "stderr"
        },
        {
          "output_type": "stream",
          "text": [
            "Finished Epoch 8 || Run Time:    0.0 | Load Time:    0.1 || F1:  46.15 | Prec:  33.33 | Rec:  75.00 || Ex/s: 867.52\n",
            "\n",
            "---------------------\n",
            "\n",
            "===>  TRAIN Epoch 9\n"
          ],
          "name": "stdout"
        },
        {
          "output_type": "stream",
          "text": [
            "0% [████] 100% | ETA: 00:00:00\n",
            "Total time elapsed: 00:00:00\n"
          ],
          "name": "stderr"
        },
        {
          "output_type": "stream",
          "text": [
            "Finished Epoch 9 || Run Time:    0.3 | Load Time:    0.2 || F1:  89.43 | Prec:  80.88 | Rec: 100.00 || Ex/s: 611.53\n",
            "\n",
            "===>  EVAL Epoch 9\n"
          ],
          "name": "stdout"
        },
        {
          "output_type": "stream",
          "text": [
            "0% [█] 100% | ETA: 00:00:00\n",
            "Total time elapsed: 00:00:00\n"
          ],
          "name": "stderr"
        },
        {
          "output_type": "stream",
          "text": [
            "Finished Epoch 9 || Run Time:    0.1 | Load Time:    0.1 || F1:  45.28 | Prec:  32.43 | Rec:  75.00 || Ex/s: 811.36\n",
            "\n",
            "---------------------\n",
            "\n",
            "===>  TRAIN Epoch 10\n"
          ],
          "name": "stdout"
        },
        {
          "output_type": "stream",
          "text": [
            "0% [████] 100% | ETA: 00:00:00\n",
            "Total time elapsed: 00:00:00\n"
          ],
          "name": "stderr"
        },
        {
          "output_type": "stream",
          "text": [
            "Finished Epoch 10 || Run Time:    0.3 | Load Time:    0.3 || F1:  90.16 | Prec:  82.09 | Rec: 100.00 || Ex/s: 615.85\n",
            "\n",
            "===>  EVAL Epoch 10\n"
          ],
          "name": "stdout"
        },
        {
          "output_type": "stream",
          "text": [
            "0% [█] 100% | ETA: 00:00:00\n",
            "Total time elapsed: 00:00:00\n"
          ],
          "name": "stderr"
        },
        {
          "output_type": "stream",
          "text": [
            "Finished Epoch 10 || Run Time:    0.0 | Load Time:    0.1 || F1:  47.06 | Prec:  34.29 | Rec:  75.00 || Ex/s: 854.64\n",
            "\n",
            "---------------------\n",
            "\n",
            "Loading best model...\n",
            "Training done.\n",
            "Time:  7.552193080000507\n",
            "===>  EVAL Epoch 6\n",
            "Finished Epoch 6 || Run Time:    0.0 | Load Time:    0.1 || F1:  58.33 | Prec:  46.67 | Rec:  77.78 || Ex/s: 1100.63\n",
            "\n",
            "[[27.067668914794922, 27.48091697692871, 26.865671157836914, 27.067668914794922, 27.067668914794922, 26.666667938232422, 27.48091697692871, 27.48091697692871, 27.906978607177734, 26.666667938232422], [5.750015394000002, 5.685267965000094, 5.7302121419998, 5.657230900000286, 5.643488617000003, 5.653690455000287, 5.695949046000351, 5.649614863999886, 5.699012441999912, 5.686567185000058], [59.09090805053711, 62.96296691894531, 60.0, 57.142852783203125, 68.18182373046875, 58.33333969116211], [7.687237744999948, 7.519205598000553, 7.681276948999766, 7.656541180999739, 7.761204930999156, 7.552193080000507], [], [], [], []]\n",
            "* Number of trainable parameters: 768602\n",
            "===>  TRAIN Epoch 1\n"
          ],
          "name": "stdout"
        },
        {
          "output_type": "stream",
          "text": [
            "0% [████] 100% | ETA: 00:00:00\n",
            "Total time elapsed: 00:00:00\n"
          ],
          "name": "stderr"
        },
        {
          "output_type": "stream",
          "text": [
            "Finished Epoch 1 || Run Time:    0.3 | Load Time:    0.2 || F1:  26.67 | Prec:  15.74 | Rec:  87.27 || Ex/s: 608.58\n",
            "\n",
            "===>  EVAL Epoch 1\n"
          ],
          "name": "stdout"
        },
        {
          "output_type": "stream",
          "text": [
            "0% [█] 100% | ETA: 00:00:00\n",
            "Total time elapsed: 00:00:00\n"
          ],
          "name": "stderr"
        },
        {
          "output_type": "stream",
          "text": [
            "Finished Epoch 1 || Run Time:    0.0 | Load Time:    0.1 || F1:  23.70 | Prec:  13.45 | Rec: 100.00 || Ex/s: 874.54\n",
            "\n",
            "* Best F1: tensor(23.7037, device='cuda:0')\n",
            "Saving best model...\n",
            "Done.\n",
            "---------------------\n",
            "\n",
            "===>  TRAIN Epoch 2\n"
          ],
          "name": "stdout"
        },
        {
          "output_type": "stream",
          "text": [
            "0% [████] 100% | ETA: 00:00:00\n",
            "Total time elapsed: 00:00:00\n"
          ],
          "name": "stderr"
        },
        {
          "output_type": "stream",
          "text": [
            "Finished Epoch 2 || Run Time:    0.3 | Load Time:    0.3 || F1:  30.22 | Prec:  17.80 | Rec: 100.00 || Ex/s: 585.75\n",
            "\n",
            "===>  EVAL Epoch 2\n"
          ],
          "name": "stdout"
        },
        {
          "output_type": "stream",
          "text": [
            "0% [█] 100% | ETA: 00:00:00\n",
            "Total time elapsed: 00:00:00\n"
          ],
          "name": "stderr"
        },
        {
          "output_type": "stream",
          "text": [
            "Finished Epoch 2 || Run Time:    0.0 | Load Time:    0.1 || F1:  33.33 | Prec:  20.00 | Rec: 100.00 || Ex/s: 866.57\n",
            "\n",
            "* Best F1: tensor(33.3333, device='cuda:0')\n",
            "Saving best model...\n",
            "Done.\n",
            "---------------------\n",
            "\n",
            "===>  TRAIN Epoch 3\n"
          ],
          "name": "stdout"
        },
        {
          "output_type": "stream",
          "text": [
            "0% [████] 100% | ETA: 00:00:00\n",
            "Total time elapsed: 00:00:00\n"
          ],
          "name": "stderr"
        },
        {
          "output_type": "stream",
          "text": [
            "Finished Epoch 3 || Run Time:    0.3 | Load Time:    0.2 || F1:  48.87 | Prec:  32.53 | Rec:  98.18 || Ex/s: 606.95\n",
            "\n",
            "===>  EVAL Epoch 3\n"
          ],
          "name": "stdout"
        },
        {
          "output_type": "stream",
          "text": [
            "0% [█] 100% | ETA: 00:00:00\n",
            "Total time elapsed: 00:00:00\n"
          ],
          "name": "stderr"
        },
        {
          "output_type": "stream",
          "text": [
            "Finished Epoch 3 || Run Time:    0.0 | Load Time:    0.1 || F1:  42.11 | Prec:  26.67 | Rec: 100.00 || Ex/s: 860.62\n",
            "\n",
            "* Best F1: tensor(42.1053, device='cuda:0')\n",
            "Saving best model...\n",
            "Done.\n",
            "---------------------\n",
            "\n",
            "===>  TRAIN Epoch 4\n"
          ],
          "name": "stdout"
        },
        {
          "output_type": "stream",
          "text": [
            "0% [████] 100% | ETA: 00:00:00\n",
            "Total time elapsed: 00:00:00\n"
          ],
          "name": "stderr"
        },
        {
          "output_type": "stream",
          "text": [
            "Finished Epoch 4 || Run Time:    0.3 | Load Time:    0.3 || F1:  60.34 | Prec:  43.55 | Rec:  98.18 || Ex/s: 601.73\n",
            "\n",
            "===>  EVAL Epoch 4\n"
          ],
          "name": "stdout"
        },
        {
          "output_type": "stream",
          "text": [
            "0% [█] 100% | ETA: 00:00:00\n",
            "Total time elapsed: 00:00:00\n"
          ],
          "name": "stderr"
        },
        {
          "output_type": "stream",
          "text": [
            "Finished Epoch 4 || Run Time:    0.0 | Load Time:    0.1 || F1:  46.88 | Prec:  31.25 | Rec:  93.75 || Ex/s: 864.38\n",
            "\n",
            "* Best F1: tensor(46.8750, device='cuda:0')\n",
            "Saving best model...\n",
            "Done.\n",
            "---------------------\n",
            "\n",
            "===>  TRAIN Epoch 5\n"
          ],
          "name": "stdout"
        },
        {
          "output_type": "stream",
          "text": [
            "0% [████] 100% | ETA: 00:00:00\n",
            "Total time elapsed: 00:00:00\n"
          ],
          "name": "stderr"
        },
        {
          "output_type": "stream",
          "text": [
            "Finished Epoch 5 || Run Time:    0.3 | Load Time:    0.3 || F1:  70.51 | Prec:  54.46 | Rec: 100.00 || Ex/s: 608.64\n",
            "\n",
            "===>  EVAL Epoch 5\n"
          ],
          "name": "stdout"
        },
        {
          "output_type": "stream",
          "text": [
            "0% [█] 100% | ETA: 00:00:00\n",
            "Total time elapsed: 00:00:00\n"
          ],
          "name": "stderr"
        },
        {
          "output_type": "stream",
          "text": [
            "Finished Epoch 5 || Run Time:    0.1 | Load Time:    0.1 || F1:  49.12 | Prec:  34.15 | Rec:  87.50 || Ex/s: 828.99\n",
            "\n",
            "* Best F1: tensor(49.1228, device='cuda:0')\n",
            "Saving best model...\n",
            "Done.\n",
            "---------------------\n",
            "\n",
            "===>  TRAIN Epoch 6\n"
          ],
          "name": "stdout"
        },
        {
          "output_type": "stream",
          "text": [
            "0% [████] 100% | ETA: 00:00:00\n",
            "Total time elapsed: 00:00:00\n"
          ],
          "name": "stderr"
        },
        {
          "output_type": "stream",
          "text": [
            "Finished Epoch 6 || Run Time:    0.3 | Load Time:    0.3 || F1:  79.14 | Prec:  65.48 | Rec: 100.00 || Ex/s: 605.92\n",
            "\n",
            "===>  EVAL Epoch 6\n"
          ],
          "name": "stdout"
        },
        {
          "output_type": "stream",
          "text": [
            "0% [█] 100% | ETA: 00:00:00\n",
            "Total time elapsed: 00:00:00\n"
          ],
          "name": "stderr"
        },
        {
          "output_type": "stream",
          "text": [
            "Finished Epoch 6 || Run Time:    0.0 | Load Time:    0.1 || F1:  47.06 | Prec:  34.29 | Rec:  75.00 || Ex/s: 877.22\n",
            "\n",
            "---------------------\n",
            "\n",
            "===>  TRAIN Epoch 7\n"
          ],
          "name": "stdout"
        },
        {
          "output_type": "stream",
          "text": [
            "0% [████] 100% | ETA: 00:00:00\n",
            "Total time elapsed: 00:00:00\n"
          ],
          "name": "stderr"
        },
        {
          "output_type": "stream",
          "text": [
            "Finished Epoch 7 || Run Time:    0.3 | Load Time:    0.3 || F1:  87.30 | Prec:  77.46 | Rec: 100.00 || Ex/s: 605.50\n",
            "\n",
            "===>  EVAL Epoch 7\n"
          ],
          "name": "stdout"
        },
        {
          "output_type": "stream",
          "text": [
            "0% [█] 100% | ETA: 00:00:00\n",
            "Total time elapsed: 00:00:00\n"
          ],
          "name": "stderr"
        },
        {
          "output_type": "stream",
          "text": [
            "Finished Epoch 7 || Run Time:    0.0 | Load Time:    0.1 || F1:  48.98 | Prec:  36.36 | Rec:  75.00 || Ex/s: 859.44\n",
            "\n",
            "---------------------\n",
            "\n",
            "===>  TRAIN Epoch 8\n"
          ],
          "name": "stdout"
        },
        {
          "output_type": "stream",
          "text": [
            "0% [████] 100% | ETA: 00:00:00\n",
            "Total time elapsed: 00:00:00\n"
          ],
          "name": "stderr"
        },
        {
          "output_type": "stream",
          "text": [
            "Finished Epoch 8 || Run Time:    0.3 | Load Time:    0.2 || F1:  91.67 | Prec:  84.62 | Rec: 100.00 || Ex/s: 613.35\n",
            "\n",
            "===>  EVAL Epoch 8\n"
          ],
          "name": "stdout"
        },
        {
          "output_type": "stream",
          "text": [
            "0% [█] 100% | ETA: 00:00:00\n",
            "Total time elapsed: 00:00:00\n"
          ],
          "name": "stderr"
        },
        {
          "output_type": "stream",
          "text": [
            "Finished Epoch 8 || Run Time:    0.0 | Load Time:    0.1 || F1:  51.06 | Prec:  38.71 | Rec:  75.00 || Ex/s: 856.75\n",
            "\n",
            "* Best F1: tensor(51.0638, device='cuda:0')\n",
            "Saving best model...\n",
            "Done.\n",
            "---------------------\n",
            "\n",
            "===>  TRAIN Epoch 9\n"
          ],
          "name": "stdout"
        },
        {
          "output_type": "stream",
          "text": [
            "0% [████] 100% | ETA: 00:00:00\n",
            "Total time elapsed: 00:00:00\n"
          ],
          "name": "stderr"
        },
        {
          "output_type": "stream",
          "text": [
            "Finished Epoch 9 || Run Time:    0.3 | Load Time:    0.3 || F1:  91.67 | Prec:  84.62 | Rec: 100.00 || Ex/s: 605.05\n",
            "\n",
            "===>  EVAL Epoch 9\n"
          ],
          "name": "stdout"
        },
        {
          "output_type": "stream",
          "text": [
            "0% [█] 100% | ETA: 00:00:00\n",
            "Total time elapsed: 00:00:00\n"
          ],
          "name": "stderr"
        },
        {
          "output_type": "stream",
          "text": [
            "Finished Epoch 9 || Run Time:    0.0 | Load Time:    0.1 || F1:  47.83 | Prec:  36.67 | Rec:  68.75 || Ex/s: 860.54\n",
            "\n",
            "---------------------\n",
            "\n",
            "===>  TRAIN Epoch 10\n"
          ],
          "name": "stdout"
        },
        {
          "output_type": "stream",
          "text": [
            "0% [████] 100% | ETA: 00:00:00\n",
            "Total time elapsed: 00:00:00\n"
          ],
          "name": "stderr"
        },
        {
          "output_type": "stream",
          "text": [
            "Finished Epoch 10 || Run Time:    0.3 | Load Time:    0.3 || F1:  94.02 | Prec:  88.71 | Rec: 100.00 || Ex/s: 603.86\n",
            "\n",
            "===>  EVAL Epoch 10\n"
          ],
          "name": "stdout"
        },
        {
          "output_type": "stream",
          "text": [
            "0% [█] 100% | ETA: 00:00:00\n",
            "Total time elapsed: 00:00:00\n"
          ],
          "name": "stderr"
        },
        {
          "output_type": "stream",
          "text": [
            "Finished Epoch 10 || Run Time:    0.0 | Load Time:    0.1 || F1:  48.89 | Prec:  37.93 | Rec:  68.75 || Ex/s: 858.97\n",
            "\n",
            "---------------------\n",
            "\n",
            "Loading best model...\n",
            "Training done.\n",
            "Time:  7.624731124000391\n",
            "===>  EVAL Epoch 8\n",
            "Finished Epoch 8 || Run Time:    0.0 | Load Time:    0.1 || F1:  63.64 | Prec:  53.85 | Rec:  77.78 || Ex/s: 1012.07\n",
            "\n",
            "[[27.067668914794922, 27.48091697692871, 26.865671157836914, 27.067668914794922, 27.067668914794922, 26.666667938232422, 27.48091697692871, 27.48091697692871, 27.906978607177734, 26.666667938232422], [5.750015394000002, 5.685267965000094, 5.7302121419998, 5.657230900000286, 5.643488617000003, 5.653690455000287, 5.695949046000351, 5.649614863999886, 5.699012441999912, 5.686567185000058], [59.09090805053711, 62.96296691894531, 60.0, 57.142852783203125, 68.18182373046875, 58.33333969116211, 63.6363639831543], [7.687237744999948, 7.519205598000553, 7.681276948999766, 7.656541180999739, 7.761204930999156, 7.552193080000507, 7.624731124000391], [], [], [], []]\n",
            "* Number of trainable parameters: 768602\n",
            "===>  TRAIN Epoch 1\n"
          ],
          "name": "stdout"
        },
        {
          "output_type": "stream",
          "text": [
            "0% [████] 100% | ETA: 00:00:00\n",
            "Total time elapsed: 00:00:00\n"
          ],
          "name": "stderr"
        },
        {
          "output_type": "stream",
          "text": [
            "Finished Epoch 1 || Run Time:    0.3 | Load Time:    0.2 || F1:  26.96 | Prec:  15.58 | Rec: 100.00 || Ex/s: 615.38\n",
            "\n",
            "===>  EVAL Epoch 1\n"
          ],
          "name": "stdout"
        },
        {
          "output_type": "stream",
          "text": [
            "0% [█] 100% | ETA: 00:00:00\n",
            "Total time elapsed: 00:00:00\n"
          ],
          "name": "stderr"
        },
        {
          "output_type": "stream",
          "text": [
            "Finished Epoch 1 || Run Time:    0.0 | Load Time:    0.1 || F1:  23.70 | Prec:  13.45 | Rec: 100.00 || Ex/s: 879.93\n",
            "\n",
            "* Best F1: tensor(23.7037, device='cuda:0')\n",
            "Saving best model...\n",
            "Done.\n",
            "---------------------\n",
            "\n",
            "===>  TRAIN Epoch 2\n"
          ],
          "name": "stdout"
        },
        {
          "output_type": "stream",
          "text": [
            "0% [████] 100% | ETA: 00:00:00\n",
            "Total time elapsed: 00:00:00\n"
          ],
          "name": "stderr"
        },
        {
          "output_type": "stream",
          "text": [
            "Finished Epoch 2 || Run Time:    0.3 | Load Time:    0.3 || F1:  31.52 | Prec:  18.71 | Rec: 100.00 || Ex/s: 605.40\n",
            "\n",
            "===>  EVAL Epoch 2\n"
          ],
          "name": "stdout"
        },
        {
          "output_type": "stream",
          "text": [
            "0% [█] 100% | ETA: 00:00:00\n",
            "Total time elapsed: 00:00:00\n"
          ],
          "name": "stderr"
        },
        {
          "output_type": "stream",
          "text": [
            "Finished Epoch 2 || Run Time:    0.0 | Load Time:    0.1 || F1:  32.99 | Prec:  19.75 | Rec: 100.00 || Ex/s: 855.52\n",
            "\n",
            "* Best F1: tensor(32.9897, device='cuda:0')\n",
            "Saving best model...\n",
            "Done.\n",
            "---------------------\n",
            "\n",
            "===>  TRAIN Epoch 3\n"
          ],
          "name": "stdout"
        },
        {
          "output_type": "stream",
          "text": [
            "0% [████] 100% | ETA: 00:00:00\n",
            "Total time elapsed: 00:00:00\n"
          ],
          "name": "stderr"
        },
        {
          "output_type": "stream",
          "text": [
            "Finished Epoch 3 || Run Time:    0.4 | Load Time:    0.3 || F1:  52.17 | Prec:  35.53 | Rec:  98.18 || Ex/s: 579.45\n",
            "\n",
            "===>  EVAL Epoch 3\n"
          ],
          "name": "stdout"
        },
        {
          "output_type": "stream",
          "text": [
            "0% [█] 100% | ETA: 00:00:00\n",
            "Total time elapsed: 00:00:00\n"
          ],
          "name": "stderr"
        },
        {
          "output_type": "stream",
          "text": [
            "Finished Epoch 3 || Run Time:    0.1 | Load Time:    0.1 || F1:  43.84 | Prec:  28.07 | Rec: 100.00 || Ex/s: 807.80\n",
            "\n",
            "* Best F1: tensor(43.8356, device='cuda:0')\n",
            "Saving best model...\n",
            "Done.\n",
            "---------------------\n",
            "\n",
            "===>  TRAIN Epoch 4\n"
          ],
          "name": "stdout"
        },
        {
          "output_type": "stream",
          "text": [
            "0% [████] 100% | ETA: 00:00:00\n",
            "Total time elapsed: 00:00:00\n"
          ],
          "name": "stderr"
        },
        {
          "output_type": "stream",
          "text": [
            "Finished Epoch 4 || Run Time:    0.3 | Load Time:    0.3 || F1:  64.67 | Prec:  48.21 | Rec:  98.18 || Ex/s: 596.02\n",
            "\n",
            "===>  EVAL Epoch 4\n"
          ],
          "name": "stdout"
        },
        {
          "output_type": "stream",
          "text": [
            "0% [█] 100% | ETA: 00:00:00\n",
            "Total time elapsed: 00:00:00\n"
          ],
          "name": "stderr"
        },
        {
          "output_type": "stream",
          "text": [
            "Finished Epoch 4 || Run Time:    0.0 | Load Time:    0.1 || F1:  50.79 | Prec:  34.04 | Rec: 100.00 || Ex/s: 836.28\n",
            "\n",
            "* Best F1: tensor(50.7937, device='cuda:0')\n",
            "Saving best model...\n",
            "Done.\n",
            "---------------------\n",
            "\n",
            "===>  TRAIN Epoch 5\n"
          ],
          "name": "stdout"
        },
        {
          "output_type": "stream",
          "text": [
            "0% [████] 100% | ETA: 00:00:00\n",
            "Total time elapsed: 00:00:00\n"
          ],
          "name": "stderr"
        },
        {
          "output_type": "stream",
          "text": [
            "Finished Epoch 5 || Run Time:    0.3 | Load Time:    0.3 || F1:  77.46 | Prec:  63.22 | Rec: 100.00 || Ex/s: 599.79\n",
            "\n",
            "===>  EVAL Epoch 5\n"
          ],
          "name": "stdout"
        },
        {
          "output_type": "stream",
          "text": [
            "0% [█] 100% | ETA: 00:00:00\n",
            "Total time elapsed: 00:00:00\n"
          ],
          "name": "stderr"
        },
        {
          "output_type": "stream",
          "text": [
            "Finished Epoch 5 || Run Time:    0.0 | Load Time:    0.1 || F1:  45.28 | Prec:  32.43 | Rec:  75.00 || Ex/s: 813.57\n",
            "\n",
            "---------------------\n",
            "\n",
            "===>  TRAIN Epoch 6\n"
          ],
          "name": "stdout"
        },
        {
          "output_type": "stream",
          "text": [
            "0% [████] 100% | ETA: 00:00:00\n",
            "Total time elapsed: 00:00:00\n"
          ],
          "name": "stderr"
        },
        {
          "output_type": "stream",
          "text": [
            "Finished Epoch 6 || Run Time:    0.3 | Load Time:    0.3 || F1:  85.27 | Prec:  74.32 | Rec: 100.00 || Ex/s: 590.10\n",
            "\n",
            "===>  EVAL Epoch 6\n"
          ],
          "name": "stdout"
        },
        {
          "output_type": "stream",
          "text": [
            "0% [█] 100% | ETA: 00:00:00\n",
            "Total time elapsed: 00:00:00\n"
          ],
          "name": "stderr"
        },
        {
          "output_type": "stream",
          "text": [
            "Finished Epoch 6 || Run Time:    0.0 | Load Time:    0.1 || F1:  44.90 | Prec:  33.33 | Rec:  68.75 || Ex/s: 857.24\n",
            "\n",
            "---------------------\n",
            "\n",
            "===>  TRAIN Epoch 7\n"
          ],
          "name": "stdout"
        },
        {
          "output_type": "stream",
          "text": [
            "0% [████] 100% | ETA: 00:00:00\n",
            "Total time elapsed: 00:00:00\n"
          ],
          "name": "stderr"
        },
        {
          "output_type": "stream",
          "text": [
            "Finished Epoch 7 || Run Time:    0.3 | Load Time:    0.3 || F1:  90.16 | Prec:  82.09 | Rec: 100.00 || Ex/s: 600.73\n",
            "\n",
            "===>  EVAL Epoch 7\n"
          ],
          "name": "stdout"
        },
        {
          "output_type": "stream",
          "text": [
            "0% [█] 100% | ETA: 00:00:00\n",
            "Total time elapsed: 00:00:00\n"
          ],
          "name": "stderr"
        },
        {
          "output_type": "stream",
          "text": [
            "Finished Epoch 7 || Run Time:    0.0 | Load Time:    0.1 || F1:  45.83 | Prec:  34.38 | Rec:  68.75 || Ex/s: 850.27\n",
            "\n",
            "---------------------\n",
            "\n",
            "===>  TRAIN Epoch 8\n"
          ],
          "name": "stdout"
        },
        {
          "output_type": "stream",
          "text": [
            "0% [████] 100% | ETA: 00:00:00\n",
            "Total time elapsed: 00:00:00\n"
          ],
          "name": "stderr"
        },
        {
          "output_type": "stream",
          "text": [
            "Finished Epoch 8 || Run Time:    0.3 | Load Time:    0.2 || F1:  94.02 | Prec:  88.71 | Rec: 100.00 || Ex/s: 608.86\n",
            "\n",
            "===>  EVAL Epoch 8\n"
          ],
          "name": "stdout"
        },
        {
          "output_type": "stream",
          "text": [
            "0% [█] 100% | ETA: 00:00:00\n",
            "Total time elapsed: 00:00:00\n"
          ],
          "name": "stderr"
        },
        {
          "output_type": "stream",
          "text": [
            "Finished Epoch 8 || Run Time:    0.1 | Load Time:    0.1 || F1:  48.00 | Prec:  35.29 | Rec:  75.00 || Ex/s: 814.45\n",
            "\n",
            "---------------------\n",
            "\n",
            "===>  TRAIN Epoch 9\n"
          ],
          "name": "stdout"
        },
        {
          "output_type": "stream",
          "text": [
            "0% [████] 100% | ETA: 00:00:00\n",
            "Total time elapsed: 00:00:00\n"
          ],
          "name": "stderr"
        },
        {
          "output_type": "stream",
          "text": [
            "Finished Epoch 9 || Run Time:    0.3 | Load Time:    0.2 || F1:  95.65 | Prec:  91.67 | Rec: 100.00 || Ex/s: 606.09\n",
            "\n",
            "===>  EVAL Epoch 9\n"
          ],
          "name": "stdout"
        },
        {
          "output_type": "stream",
          "text": [
            "0% [█] 100% | ETA: 00:00:00\n",
            "Total time elapsed: 00:00:00\n"
          ],
          "name": "stderr"
        },
        {
          "output_type": "stream",
          "text": [
            "Finished Epoch 9 || Run Time:    0.0 | Load Time:    0.1 || F1:  50.00 | Prec:  39.29 | Rec:  68.75 || Ex/s: 858.13\n",
            "\n",
            "---------------------\n",
            "\n",
            "===>  TRAIN Epoch 10\n"
          ],
          "name": "stdout"
        },
        {
          "output_type": "stream",
          "text": [
            "0% [████] 100% | ETA: 00:00:00\n",
            "Total time elapsed: 00:00:00\n"
          ],
          "name": "stderr"
        },
        {
          "output_type": "stream",
          "text": [
            "Finished Epoch 10 || Run Time:    0.3 | Load Time:    0.2 || F1:  94.02 | Prec:  88.71 | Rec: 100.00 || Ex/s: 604.95\n",
            "\n",
            "===>  EVAL Epoch 10\n"
          ],
          "name": "stdout"
        },
        {
          "output_type": "stream",
          "text": [
            "0% [█] 100% | ETA: 00:00:00\n",
            "Total time elapsed: 00:00:00\n"
          ],
          "name": "stderr"
        },
        {
          "output_type": "stream",
          "text": [
            "Finished Epoch 10 || Run Time:    0.1 | Load Time:    0.1 || F1:  52.38 | Prec:  42.31 | Rec:  68.75 || Ex/s: 851.16\n",
            "\n",
            "* Best F1: tensor(52.3810, device='cuda:0')\n",
            "Saving best model...\n",
            "Done.\n",
            "---------------------\n",
            "\n",
            "Loading best model...\n",
            "Training done.\n",
            "Time:  7.639079702999879\n",
            "===>  EVAL Epoch 10\n",
            "Finished Epoch 10 || Run Time:    0.0 | Load Time:    0.1 || F1:  59.09 | Prec:  50.00 | Rec:  72.22 || Ex/s: 1057.95\n",
            "\n",
            "[[27.067668914794922, 27.48091697692871, 26.865671157836914, 27.067668914794922, 27.067668914794922, 26.666667938232422, 27.48091697692871, 27.48091697692871, 27.906978607177734, 26.666667938232422], [5.750015394000002, 5.685267965000094, 5.7302121419998, 5.657230900000286, 5.643488617000003, 5.653690455000287, 5.695949046000351, 5.649614863999886, 5.699012441999912, 5.686567185000058], [59.09090805053711, 62.96296691894531, 60.0, 57.142852783203125, 68.18182373046875, 58.33333969116211, 63.6363639831543, 59.09090805053711], [7.687237744999948, 7.519205598000553, 7.681276948999766, 7.656541180999739, 7.761204930999156, 7.552193080000507, 7.624731124000391, 7.639079702999879], [], [], [], []]\n",
            "* Number of trainable parameters: 768602\n",
            "===>  TRAIN Epoch 1\n"
          ],
          "name": "stdout"
        },
        {
          "output_type": "stream",
          "text": [
            "0% [████] 100% | ETA: 00:00:00\n",
            "Total time elapsed: 00:00:00\n"
          ],
          "name": "stderr"
        },
        {
          "output_type": "stream",
          "text": [
            "Finished Epoch 1 || Run Time:    0.3 | Load Time:    0.3 || F1:  26.29 | Prec:  15.59 | Rec:  83.64 || Ex/s: 594.33\n",
            "\n",
            "===>  EVAL Epoch 1\n"
          ],
          "name": "stdout"
        },
        {
          "output_type": "stream",
          "text": [
            "0% [█] 100% | ETA: 00:00:00\n",
            "Total time elapsed: 00:00:00\n"
          ],
          "name": "stderr"
        },
        {
          "output_type": "stream",
          "text": [
            "Finished Epoch 1 || Run Time:    0.0 | Load Time:    0.1 || F1:  23.70 | Prec:  13.45 | Rec: 100.00 || Ex/s: 849.17\n",
            "\n",
            "* Best F1: tensor(23.7037, device='cuda:0')\n",
            "Saving best model...\n",
            "Done.\n",
            "---------------------\n",
            "\n",
            "===>  TRAIN Epoch 2\n"
          ],
          "name": "stdout"
        },
        {
          "output_type": "stream",
          "text": [
            "0% [████] 100% | ETA: 00:00:00\n",
            "Total time elapsed: 00:00:00\n"
          ],
          "name": "stderr"
        },
        {
          "output_type": "stream",
          "text": [
            "Finished Epoch 2 || Run Time:    0.3 | Load Time:    0.3 || F1:  28.06 | Prec:  16.32 | Rec: 100.00 || Ex/s: 602.23\n",
            "\n",
            "===>  EVAL Epoch 2\n"
          ],
          "name": "stdout"
        },
        {
          "output_type": "stream",
          "text": [
            "0% [█] 100% | ETA: 00:00:00\n",
            "Total time elapsed: 00:00:00\n"
          ],
          "name": "stderr"
        },
        {
          "output_type": "stream",
          "text": [
            "Finished Epoch 2 || Run Time:    0.0 | Load Time:    0.1 || F1:  27.35 | Prec:  15.84 | Rec: 100.00 || Ex/s: 869.61\n",
            "\n",
            "* Best F1: tensor(27.3504, device='cuda:0')\n",
            "Saving best model...\n",
            "Done.\n",
            "---------------------\n",
            "\n",
            "===>  TRAIN Epoch 3\n"
          ],
          "name": "stdout"
        },
        {
          "output_type": "stream",
          "text": [
            "0% [████] 100% | ETA: 00:00:00\n",
            "Total time elapsed: 00:00:00\n"
          ],
          "name": "stderr"
        },
        {
          "output_type": "stream",
          "text": [
            "Finished Epoch 3 || Run Time:    0.3 | Load Time:    0.3 || F1:  44.81 | Prec:  29.03 | Rec:  98.18 || Ex/s: 605.79\n",
            "\n",
            "===>  EVAL Epoch 3\n"
          ],
          "name": "stdout"
        },
        {
          "output_type": "stream",
          "text": [
            "0% [█] 100% | ETA: 00:00:00\n",
            "Total time elapsed: 00:00:00\n"
          ],
          "name": "stderr"
        },
        {
          "output_type": "stream",
          "text": [
            "Finished Epoch 3 || Run Time:    0.0 | Load Time:    0.1 || F1:  40.51 | Prec:  25.40 | Rec: 100.00 || Ex/s: 872.06\n",
            "\n",
            "* Best F1: tensor(40.5063, device='cuda:0')\n",
            "Saving best model...\n",
            "Done.\n",
            "---------------------\n",
            "\n",
            "===>  TRAIN Epoch 4\n"
          ],
          "name": "stdout"
        },
        {
          "output_type": "stream",
          "text": [
            "0% [████] 100% | ETA: 00:00:00\n",
            "Total time elapsed: 00:00:00\n"
          ],
          "name": "stderr"
        },
        {
          "output_type": "stream",
          "text": [
            "Finished Epoch 4 || Run Time:    0.3 | Load Time:    0.3 || F1:  59.02 | Prec:  42.19 | Rec:  98.18 || Ex/s: 601.66\n",
            "\n",
            "===>  EVAL Epoch 4\n"
          ],
          "name": "stdout"
        },
        {
          "output_type": "stream",
          "text": [
            "0% [█] 100% | ETA: 00:00:00\n",
            "Total time elapsed: 00:00:00\n"
          ],
          "name": "stderr"
        },
        {
          "output_type": "stream",
          "text": [
            "Finished Epoch 4 || Run Time:    0.1 | Load Time:    0.1 || F1:  41.10 | Prec:  26.32 | Rec:  93.75 || Ex/s: 816.56\n",
            "\n",
            "* Best F1: tensor(41.0959, device='cuda:0')\n",
            "Saving best model...\n",
            "Done.\n",
            "---------------------\n",
            "\n",
            "===>  TRAIN Epoch 5\n"
          ],
          "name": "stdout"
        },
        {
          "output_type": "stream",
          "text": [
            "0% [████] 100% | ETA: 00:00:00\n",
            "Total time elapsed: 00:00:00\n"
          ],
          "name": "stderr"
        },
        {
          "output_type": "stream",
          "text": [
            "Finished Epoch 5 || Run Time:    0.3 | Load Time:    0.3 || F1:  70.13 | Prec:  54.55 | Rec:  98.18 || Ex/s: 599.92\n",
            "\n",
            "===>  EVAL Epoch 5\n"
          ],
          "name": "stdout"
        },
        {
          "output_type": "stream",
          "text": [
            "0% [█] 100% | ETA: 00:00:00\n",
            "Total time elapsed: 00:00:00\n"
          ],
          "name": "stderr"
        },
        {
          "output_type": "stream",
          "text": [
            "Finished Epoch 5 || Run Time:    0.0 | Load Time:    0.1 || F1:  43.33 | Prec:  29.55 | Rec:  81.25 || Ex/s: 869.55\n",
            "\n",
            "* Best F1: tensor(43.3333, device='cuda:0')\n",
            "Saving best model...\n",
            "Done.\n",
            "---------------------\n",
            "\n",
            "===>  TRAIN Epoch 6\n"
          ],
          "name": "stdout"
        },
        {
          "output_type": "stream",
          "text": [
            "0% [████] 100% | ETA: 00:00:00\n",
            "Total time elapsed: 00:00:00\n"
          ],
          "name": "stderr"
        },
        {
          "output_type": "stream",
          "text": [
            "Finished Epoch 6 || Run Time:    0.3 | Load Time:    0.3 || F1:  74.83 | Prec:  59.78 | Rec: 100.00 || Ex/s: 595.36\n",
            "\n",
            "===>  EVAL Epoch 6\n"
          ],
          "name": "stdout"
        },
        {
          "output_type": "stream",
          "text": [
            "0% [█] 100% | ETA: 00:00:00\n",
            "Total time elapsed: 00:00:00\n"
          ],
          "name": "stderr"
        },
        {
          "output_type": "stream",
          "text": [
            "Finished Epoch 6 || Run Time:    0.0 | Load Time:    0.1 || F1:  49.06 | Prec:  35.14 | Rec:  81.25 || Ex/s: 861.57\n",
            "\n",
            "* Best F1: tensor(49.0566, device='cuda:0')\n",
            "Saving best model...\n",
            "Done.\n",
            "---------------------\n",
            "\n",
            "===>  TRAIN Epoch 7\n"
          ],
          "name": "stdout"
        },
        {
          "output_type": "stream",
          "text": [
            "0% [████] 100% | ETA: 00:00:00\n",
            "Total time elapsed: 00:00:00\n"
          ],
          "name": "stderr"
        },
        {
          "output_type": "stream",
          "text": [
            "Finished Epoch 7 || Run Time:    0.3 | Load Time:    0.3 || F1:  81.48 | Prec:  68.75 | Rec: 100.00 || Ex/s: 597.22\n",
            "\n",
            "===>  EVAL Epoch 7\n"
          ],
          "name": "stdout"
        },
        {
          "output_type": "stream",
          "text": [
            "0% [█] 100% | ETA: 00:00:00\n",
            "Total time elapsed: 00:00:00\n"
          ],
          "name": "stderr"
        },
        {
          "output_type": "stream",
          "text": [
            "Finished Epoch 7 || Run Time:    0.1 | Load Time:    0.1 || F1:  47.27 | Prec:  33.33 | Rec:  81.25 || Ex/s: 774.41\n",
            "\n",
            "---------------------\n",
            "\n",
            "===>  TRAIN Epoch 8\n"
          ],
          "name": "stdout"
        },
        {
          "output_type": "stream",
          "text": [
            "0% [████] 100% | ETA: 00:00:00\n",
            "Total time elapsed: 00:00:00\n"
          ],
          "name": "stderr"
        },
        {
          "output_type": "stream",
          "text": [
            "Finished Epoch 8 || Run Time:    0.3 | Load Time:    0.3 || F1:  88.00 | Prec:  78.57 | Rec: 100.00 || Ex/s: 601.90\n",
            "\n",
            "===>  EVAL Epoch 8\n"
          ],
          "name": "stdout"
        },
        {
          "output_type": "stream",
          "text": [
            "0% [█] 100% | ETA: 00:00:00\n",
            "Total time elapsed: 00:00:00\n"
          ],
          "name": "stderr"
        },
        {
          "output_type": "stream",
          "text": [
            "Finished Epoch 8 || Run Time:    0.0 | Load Time:    0.1 || F1:  50.98 | Prec:  37.14 | Rec:  81.25 || Ex/s: 861.13\n",
            "\n",
            "* Best F1: tensor(50.9804, device='cuda:0')\n",
            "Saving best model...\n",
            "Done.\n",
            "---------------------\n",
            "\n",
            "===>  TRAIN Epoch 9\n"
          ],
          "name": "stdout"
        },
        {
          "output_type": "stream",
          "text": [
            "0% [████] 100% | ETA: 00:00:00\n",
            "Total time elapsed: 00:00:00\n"
          ],
          "name": "stderr"
        },
        {
          "output_type": "stream",
          "text": [
            "Finished Epoch 9 || Run Time:    0.3 | Load Time:    0.3 || F1:  88.71 | Prec:  79.71 | Rec: 100.00 || Ex/s: 586.68\n",
            "\n",
            "===>  EVAL Epoch 9\n"
          ],
          "name": "stdout"
        },
        {
          "output_type": "stream",
          "text": [
            "0% [█] 100% | ETA: 00:00:00\n",
            "Total time elapsed: 00:00:00\n"
          ],
          "name": "stderr"
        },
        {
          "output_type": "stream",
          "text": [
            "Finished Epoch 9 || Run Time:    0.0 | Load Time:    0.1 || F1:  54.17 | Prec:  40.62 | Rec:  81.25 || Ex/s: 870.52\n",
            "\n",
            "* Best F1: tensor(54.1667, device='cuda:0')\n",
            "Saving best model...\n",
            "Done.\n",
            "---------------------\n",
            "\n",
            "===>  TRAIN Epoch 10\n"
          ],
          "name": "stdout"
        },
        {
          "output_type": "stream",
          "text": [
            "0% [████] 100% | ETA: 00:00:00\n",
            "Total time elapsed: 00:00:00\n"
          ],
          "name": "stderr"
        },
        {
          "output_type": "stream",
          "text": [
            "Finished Epoch 10 || Run Time:    0.3 | Load Time:    0.2 || F1:  88.71 | Prec:  79.71 | Rec: 100.00 || Ex/s: 602.20\n",
            "\n",
            "===>  EVAL Epoch 10\n"
          ],
          "name": "stdout"
        },
        {
          "output_type": "stream",
          "text": [
            "0% [█] 100% | ETA: 00:00:00\n",
            "Total time elapsed: 00:00:00\n"
          ],
          "name": "stderr"
        },
        {
          "output_type": "stream",
          "text": [
            "Finished Epoch 10 || Run Time:    0.0 | Load Time:    0.1 || F1:  54.17 | Prec:  40.62 | Rec:  81.25 || Ex/s: 863.82\n",
            "\n",
            "---------------------\n",
            "\n",
            "Loading best model...\n",
            "Training done.\n",
            "Time:  7.779594614999951\n",
            "===>  EVAL Epoch 9\n",
            "Finished Epoch 9 || Run Time:    0.0 | Load Time:    0.1 || F1:  63.64 | Prec:  53.85 | Rec:  77.78 || Ex/s: 1097.33\n",
            "\n",
            "[[27.067668914794922, 27.48091697692871, 26.865671157836914, 27.067668914794922, 27.067668914794922, 26.666667938232422, 27.48091697692871, 27.48091697692871, 27.906978607177734, 26.666667938232422], [5.750015394000002, 5.685267965000094, 5.7302121419998, 5.657230900000286, 5.643488617000003, 5.653690455000287, 5.695949046000351, 5.649614863999886, 5.699012441999912, 5.686567185000058], [59.09090805053711, 62.96296691894531, 60.0, 57.142852783203125, 68.18182373046875, 58.33333969116211, 63.6363639831543, 59.09090805053711, 63.6363639831543], [7.687237744999948, 7.519205598000553, 7.681276948999766, 7.656541180999739, 7.761204930999156, 7.552193080000507, 7.624731124000391, 7.639079702999879, 7.779594614999951], [], [], [], []]\n",
            "* Number of trainable parameters: 768602\n",
            "===>  TRAIN Epoch 1\n"
          ],
          "name": "stdout"
        },
        {
          "output_type": "stream",
          "text": [
            "0% [████] 100% | ETA: 00:00:00\n",
            "Total time elapsed: 00:00:00\n"
          ],
          "name": "stderr"
        },
        {
          "output_type": "stream",
          "text": [
            "Finished Epoch 1 || Run Time:    0.3 | Load Time:    0.3 || F1:  25.94 | Prec:  15.41 | Rec:  81.82 || Ex/s: 594.90\n",
            "\n",
            "===>  EVAL Epoch 1\n"
          ],
          "name": "stdout"
        },
        {
          "output_type": "stream",
          "text": [
            "0% [█] 100% | ETA: 00:00:00\n",
            "Total time elapsed: 00:00:00\n"
          ],
          "name": "stderr"
        },
        {
          "output_type": "stream",
          "text": [
            "Finished Epoch 1 || Run Time:    0.0 | Load Time:    0.1 || F1:  23.70 | Prec:  13.45 | Rec: 100.00 || Ex/s: 856.95\n",
            "\n",
            "* Best F1: tensor(23.7037, device='cuda:0')\n",
            "Saving best model...\n",
            "Done.\n",
            "---------------------\n",
            "\n",
            "===>  TRAIN Epoch 2\n"
          ],
          "name": "stdout"
        },
        {
          "output_type": "stream",
          "text": [
            "0% [████] 100% | ETA: 00:00:00\n",
            "Total time elapsed: 00:00:00\n"
          ],
          "name": "stderr"
        },
        {
          "output_type": "stream",
          "text": [
            "Finished Epoch 2 || Run Time:    0.3 | Load Time:    0.3 || F1:  28.57 | Prec:  16.67 | Rec: 100.00 || Ex/s: 607.45\n",
            "\n",
            "===>  EVAL Epoch 2\n"
          ],
          "name": "stdout"
        },
        {
          "output_type": "stream",
          "text": [
            "0% [█] 100% | ETA: 00:00:00\n",
            "Total time elapsed: 00:00:00\n"
          ],
          "name": "stderr"
        },
        {
          "output_type": "stream",
          "text": [
            "Finished Epoch 2 || Run Time:    0.1 | Load Time:    0.1 || F1:  27.59 | Prec:  16.00 | Rec: 100.00 || Ex/s: 823.09\n",
            "\n",
            "* Best F1: tensor(27.5862, device='cuda:0')\n",
            "Saving best model...\n",
            "Done.\n",
            "---------------------\n",
            "\n",
            "===>  TRAIN Epoch 3\n"
          ],
          "name": "stdout"
        },
        {
          "output_type": "stream",
          "text": [
            "0% [████] 100% | ETA: 00:00:00\n",
            "Total time elapsed: 00:00:00\n"
          ],
          "name": "stderr"
        },
        {
          "output_type": "stream",
          "text": [
            "Finished Epoch 3 || Run Time:    0.3 | Load Time:    0.3 || F1:  45.27 | Prec:  29.26 | Rec: 100.00 || Ex/s: 607.04\n",
            "\n",
            "===>  EVAL Epoch 3\n"
          ],
          "name": "stdout"
        },
        {
          "output_type": "stream",
          "text": [
            "0% [█] 100% | ETA: 00:00:00\n",
            "Total time elapsed: 00:00:00\n"
          ],
          "name": "stderr"
        },
        {
          "output_type": "stream",
          "text": [
            "Finished Epoch 3 || Run Time:    0.0 | Load Time:    0.1 || F1:  38.55 | Prec:  23.88 | Rec: 100.00 || Ex/s: 876.49\n",
            "\n",
            "* Best F1: tensor(38.5542, device='cuda:0')\n",
            "Saving best model...\n",
            "Done.\n",
            "---------------------\n",
            "\n",
            "===>  TRAIN Epoch 4\n"
          ],
          "name": "stdout"
        },
        {
          "output_type": "stream",
          "text": [
            "0% [████] 100% | ETA: 00:00:00\n",
            "Total time elapsed: 00:00:00\n"
          ],
          "name": "stderr"
        },
        {
          "output_type": "stream",
          "text": [
            "Finished Epoch 4 || Run Time:    0.3 | Load Time:    0.3 || F1:  60.34 | Prec:  43.55 | Rec:  98.18 || Ex/s: 583.05\n",
            "\n",
            "===>  EVAL Epoch 4\n"
          ],
          "name": "stdout"
        },
        {
          "output_type": "stream",
          "text": [
            "0% [█] 100% | ETA: 00:00:00\n",
            "Total time elapsed: 00:00:00\n"
          ],
          "name": "stderr"
        },
        {
          "output_type": "stream",
          "text": [
            "Finished Epoch 4 || Run Time:    0.0 | Load Time:    0.1 || F1:  37.84 | Prec:  24.14 | Rec:  87.50 || Ex/s: 865.98\n",
            "\n",
            "---------------------\n",
            "\n",
            "===>  TRAIN Epoch 5\n"
          ],
          "name": "stdout"
        },
        {
          "output_type": "stream",
          "text": [
            "0% [████] 100% | ETA: 00:00:00\n",
            "Total time elapsed: 00:00:00\n"
          ],
          "name": "stderr"
        },
        {
          "output_type": "stream",
          "text": [
            "Finished Epoch 5 || Run Time:    0.3 | Load Time:    0.3 || F1:  70.51 | Prec:  54.46 | Rec: 100.00 || Ex/s: 608.47\n",
            "\n",
            "===>  EVAL Epoch 5\n"
          ],
          "name": "stdout"
        },
        {
          "output_type": "stream",
          "text": [
            "0% [█] 100% | ETA: 00:00:00\n",
            "Total time elapsed: 00:00:00\n"
          ],
          "name": "stderr"
        },
        {
          "output_type": "stream",
          "text": [
            "Finished Epoch 5 || Run Time:    0.0 | Load Time:    0.1 || F1:  44.83 | Prec:  30.95 | Rec:  81.25 || Ex/s: 863.49\n",
            "\n",
            "* Best F1: tensor(44.8276, device='cuda:0')\n",
            "Saving best model...\n",
            "Done.\n",
            "---------------------\n",
            "\n",
            "===>  TRAIN Epoch 6\n"
          ],
          "name": "stdout"
        },
        {
          "output_type": "stream",
          "text": [
            "0% [████] 100% | ETA: 00:00:00\n",
            "Total time elapsed: 00:00:00\n"
          ],
          "name": "stderr"
        },
        {
          "output_type": "stream",
          "text": [
            "Finished Epoch 6 || Run Time:    0.3 | Load Time:    0.2 || F1:  77.46 | Prec:  63.22 | Rec: 100.00 || Ex/s: 614.05\n",
            "\n",
            "===>  EVAL Epoch 6\n"
          ],
          "name": "stdout"
        },
        {
          "output_type": "stream",
          "text": [
            "0% [█] 100% | ETA: 00:00:00\n",
            "Total time elapsed: 00:00:00\n"
          ],
          "name": "stderr"
        },
        {
          "output_type": "stream",
          "text": [
            "Finished Epoch 6 || Run Time:    0.0 | Load Time:    0.1 || F1:  50.00 | Prec:  37.50 | Rec:  75.00 || Ex/s: 845.58\n",
            "\n",
            "* Best F1: tensor(50., device='cuda:0')\n",
            "Saving best model...\n",
            "Done.\n",
            "---------------------\n",
            "\n",
            "===>  TRAIN Epoch 7\n"
          ],
          "name": "stdout"
        },
        {
          "output_type": "stream",
          "text": [
            "0% [████] 100% | ETA: 00:00:00\n",
            "Total time elapsed: 00:00:00\n"
          ],
          "name": "stderr"
        },
        {
          "output_type": "stream",
          "text": [
            "Finished Epoch 7 || Run Time:    0.3 | Load Time:    0.3 || F1:  82.71 | Prec:  70.51 | Rec: 100.00 || Ex/s: 606.01\n",
            "\n",
            "===>  EVAL Epoch 7\n"
          ],
          "name": "stdout"
        },
        {
          "output_type": "stream",
          "text": [
            "0% [█] 100% | ETA: 00:00:00\n",
            "Total time elapsed: 00:00:00\n"
          ],
          "name": "stderr"
        },
        {
          "output_type": "stream",
          "text": [
            "Finished Epoch 7 || Run Time:    0.1 | Load Time:    0.1 || F1:  47.27 | Prec:  33.33 | Rec:  81.25 || Ex/s: 820.89\n",
            "\n",
            "---------------------\n",
            "\n",
            "===>  TRAIN Epoch 8\n"
          ],
          "name": "stdout"
        },
        {
          "output_type": "stream",
          "text": [
            "0% [████] 100% | ETA: 00:00:00\n",
            "Total time elapsed: 00:00:00\n"
          ],
          "name": "stderr"
        },
        {
          "output_type": "stream",
          "text": [
            "Finished Epoch 8 || Run Time:    0.3 | Load Time:    0.3 || F1:  85.94 | Prec:  75.34 | Rec: 100.00 || Ex/s: 599.93\n",
            "\n",
            "===>  EVAL Epoch 8\n"
          ],
          "name": "stdout"
        },
        {
          "output_type": "stream",
          "text": [
            "0% [█] 100% | ETA: 00:00:00\n",
            "Total time elapsed: 00:00:00\n"
          ],
          "name": "stderr"
        },
        {
          "output_type": "stream",
          "text": [
            "Finished Epoch 8 || Run Time:    0.0 | Load Time:    0.1 || F1:  50.00 | Prec:  36.11 | Rec:  81.25 || Ex/s: 869.48\n",
            "\n",
            "---------------------\n",
            "\n",
            "===>  TRAIN Epoch 9\n"
          ],
          "name": "stdout"
        },
        {
          "output_type": "stream",
          "text": [
            "0% [████] 100% | ETA: 00:00:00\n",
            "Total time elapsed: 00:00:00\n"
          ],
          "name": "stderr"
        },
        {
          "output_type": "stream",
          "text": [
            "Finished Epoch 9 || Run Time:    0.3 | Load Time:    0.3 || F1:  91.67 | Prec:  84.62 | Rec: 100.00 || Ex/s: 611.19\n",
            "\n",
            "===>  EVAL Epoch 9\n"
          ],
          "name": "stdout"
        },
        {
          "output_type": "stream",
          "text": [
            "0% [█] 100% | ETA: 00:00:00\n",
            "Total time elapsed: 00:00:00\n"
          ],
          "name": "stderr"
        },
        {
          "output_type": "stream",
          "text": [
            "Finished Epoch 9 || Run Time:    0.1 | Load Time:    0.1 || F1:  52.17 | Prec:  40.00 | Rec:  75.00 || Ex/s: 833.26\n",
            "\n",
            "* Best F1: tensor(52.1739, device='cuda:0')\n",
            "Saving best model...\n",
            "Done.\n",
            "---------------------\n",
            "\n",
            "===>  TRAIN Epoch 10\n"
          ],
          "name": "stdout"
        },
        {
          "output_type": "stream",
          "text": [
            "0% [████] 100% | ETA: 00:00:00\n",
            "Total time elapsed: 00:00:00\n"
          ],
          "name": "stderr"
        },
        {
          "output_type": "stream",
          "text": [
            "Finished Epoch 10 || Run Time:    0.3 | Load Time:    0.2 || F1:  93.22 | Prec:  87.30 | Rec: 100.00 || Ex/s: 609.12\n",
            "\n",
            "===>  EVAL Epoch 10\n"
          ],
          "name": "stdout"
        },
        {
          "output_type": "stream",
          "text": [
            "0% [█] 100% | ETA: 00:00:00\n",
            "Total time elapsed: 00:00:00\n"
          ],
          "name": "stderr"
        },
        {
          "output_type": "stream",
          "text": [
            "Finished Epoch 10 || Run Time:    0.0 | Load Time:    0.1 || F1:  52.17 | Prec:  40.00 | Rec:  75.00 || Ex/s: 851.52\n",
            "\n",
            "---------------------\n",
            "\n",
            "Loading best model...\n",
            "Training done.\n",
            "Time:  7.641921282000112\n",
            "===>  EVAL Epoch 9\n",
            "Finished Epoch 9 || Run Time:    0.0 | Load Time:    0.1 || F1:  62.22 | Prec:  51.85 | Rec:  77.78 || Ex/s: 1016.98\n",
            "\n",
            "[[27.067668914794922, 27.48091697692871, 26.865671157836914, 27.067668914794922, 27.067668914794922, 26.666667938232422, 27.48091697692871, 27.48091697692871, 27.906978607177734, 26.666667938232422], [5.750015394000002, 5.685267965000094, 5.7302121419998, 5.657230900000286, 5.643488617000003, 5.653690455000287, 5.695949046000351, 5.649614863999886, 5.699012441999912, 5.686567185000058], [59.09090805053711, 62.96296691894531, 60.0, 57.142852783203125, 68.18182373046875, 58.33333969116211, 63.6363639831543, 59.09090805053711, 63.6363639831543, 62.22221755981445], [7.687237744999948, 7.519205598000553, 7.681276948999766, 7.656541180999739, 7.761204930999156, 7.552193080000507, 7.624731124000391, 7.639079702999879, 7.779594614999951, 7.641921282000112], [], [], [], []]\n",
            "* Number of trainable parameters: 1444202\n",
            "===>  TRAIN Epoch 1\n"
          ],
          "name": "stdout"
        },
        {
          "output_type": "stream",
          "text": [
            "0% [████] 100% | ETA: 00:00:00\n",
            "Total time elapsed: 00:00:00\n"
          ],
          "name": "stderr"
        },
        {
          "output_type": "stream",
          "text": [
            "Finished Epoch 1 || Run Time:    0.6 | Load Time:    0.2 || F1:  27.86 | Prec:  16.79 | Rec:  81.82 || Ex/s: 422.79\n",
            "\n",
            "===>  EVAL Epoch 1\n"
          ],
          "name": "stdout"
        },
        {
          "output_type": "stream",
          "text": [
            "0% [█] 100% | ETA: 00:00:00\n",
            "Total time elapsed: 00:00:00\n"
          ],
          "name": "stderr"
        },
        {
          "output_type": "stream",
          "text": [
            "Finished Epoch 1 || Run Time:    0.1 | Load Time:    0.1 || F1:  28.07 | Prec:  16.33 | Rec: 100.00 || Ex/s: 624.71\n",
            "\n",
            "* Best F1: tensor(28.0702, device='cuda:0')\n",
            "Saving best model...\n",
            "Done.\n",
            "---------------------\n",
            "\n",
            "===>  TRAIN Epoch 2\n"
          ],
          "name": "stdout"
        },
        {
          "output_type": "stream",
          "text": [
            "0% [████] 100% | ETA: 00:00:00\n",
            "Total time elapsed: 00:00:00\n"
          ],
          "name": "stderr"
        },
        {
          "output_type": "stream",
          "text": [
            "Finished Epoch 2 || Run Time:    0.6 | Load Time:    0.3 || F1:  38.91 | Prec:  24.75 | Rec:  90.91 || Ex/s: 417.44\n",
            "\n",
            "===>  EVAL Epoch 2\n"
          ],
          "name": "stdout"
        },
        {
          "output_type": "stream",
          "text": [
            "0% [█] 100% | ETA: 00:00:00\n",
            "Total time elapsed: 00:00:00\n"
          ],
          "name": "stderr"
        },
        {
          "output_type": "stream",
          "text": [
            "Finished Epoch 2 || Run Time:    0.1 | Load Time:    0.1 || F1:  26.67 | Prec:  15.38 | Rec: 100.00 || Ex/s: 621.36\n",
            "\n",
            "---------------------\n",
            "\n",
            "===>  TRAIN Epoch 3\n"
          ],
          "name": "stdout"
        },
        {
          "output_type": "stream",
          "text": [
            "0% [████] 100% | ETA: 00:00:00\n",
            "Total time elapsed: 00:00:00\n"
          ],
          "name": "stderr"
        },
        {
          "output_type": "stream",
          "text": [
            "Finished Epoch 3 || Run Time:    0.6 | Load Time:    0.2 || F1:  41.26 | Prec:  27.38 | Rec:  83.64 || Ex/s: 433.94\n",
            "\n",
            "===>  EVAL Epoch 3\n"
          ],
          "name": "stdout"
        },
        {
          "output_type": "stream",
          "text": [
            "0% [█] 100% | ETA: 00:00:00\n",
            "Total time elapsed: 00:00:00\n"
          ],
          "name": "stderr"
        },
        {
          "output_type": "stream",
          "text": [
            "Finished Epoch 3 || Run Time:    0.1 | Load Time:    0.1 || F1:  24.81 | Prec:  14.16 | Rec: 100.00 || Ex/s: 624.96\n",
            "\n",
            "---------------------\n",
            "\n",
            "===>  TRAIN Epoch 4\n"
          ],
          "name": "stdout"
        },
        {
          "output_type": "stream",
          "text": [
            "0% [████] 100% | ETA: 00:00:00\n",
            "Total time elapsed: 00:00:00\n"
          ],
          "name": "stderr"
        },
        {
          "output_type": "stream",
          "text": [
            "Finished Epoch 4 || Run Time:    0.6 | Load Time:    0.2 || F1:  40.85 | Prec:  26.67 | Rec:  87.27 || Ex/s: 435.89\n",
            "\n",
            "===>  EVAL Epoch 4\n"
          ],
          "name": "stdout"
        },
        {
          "output_type": "stream",
          "text": [
            "0% [█] 100% | ETA: 00:00:00\n",
            "Total time elapsed: 00:00:00\n"
          ],
          "name": "stderr"
        },
        {
          "output_type": "stream",
          "text": [
            "Finished Epoch 4 || Run Time:    0.1 | Load Time:    0.1 || F1:  25.49 | Prec:  15.12 | Rec:  81.25 || Ex/s: 628.67\n",
            "\n",
            "---------------------\n",
            "\n",
            "===>  TRAIN Epoch 5\n"
          ],
          "name": "stdout"
        },
        {
          "output_type": "stream",
          "text": [
            "0% [████] 100% | ETA: 00:00:00\n",
            "Total time elapsed: 00:00:00\n"
          ],
          "name": "stderr"
        },
        {
          "output_type": "stream",
          "text": [
            "Finished Epoch 5 || Run Time:    0.6 | Load Time:    0.2 || F1:  41.84 | Prec:  27.17 | Rec:  90.91 || Ex/s: 438.12\n",
            "\n",
            "===>  EVAL Epoch 5\n"
          ],
          "name": "stdout"
        },
        {
          "output_type": "stream",
          "text": [
            "0% [█] 100% | ETA: 00:00:00\n",
            "Total time elapsed: 00:00:00\n"
          ],
          "name": "stderr"
        },
        {
          "output_type": "stream",
          "text": [
            "Finished Epoch 5 || Run Time:    0.1 | Load Time:    0.1 || F1:  32.00 | Prec:  20.34 | Rec:  75.00 || Ex/s: 596.29\n",
            "\n",
            "* Best F1: tensor(32., device='cuda:0')\n",
            "Saving best model...\n",
            "Done.\n",
            "---------------------\n",
            "\n",
            "===>  TRAIN Epoch 6\n"
          ],
          "name": "stdout"
        },
        {
          "output_type": "stream",
          "text": [
            "0% [████] 100% | ETA: 00:00:00\n",
            "Total time elapsed: 00:00:00\n"
          ],
          "name": "stderr"
        },
        {
          "output_type": "stream",
          "text": [
            "Finished Epoch 6 || Run Time:    0.6 | Load Time:    0.2 || F1:  46.02 | Prec:  30.41 | Rec:  94.55 || Ex/s: 431.18\n",
            "\n",
            "===>  EVAL Epoch 6\n"
          ],
          "name": "stdout"
        },
        {
          "output_type": "stream",
          "text": [
            "0% [█] 100% | ETA: 00:00:00\n",
            "Total time elapsed: 00:00:00\n"
          ],
          "name": "stderr"
        },
        {
          "output_type": "stream",
          "text": [
            "Finished Epoch 6 || Run Time:    0.1 | Load Time:    0.1 || F1:  32.43 | Prec:  20.69 | Rec:  75.00 || Ex/s: 635.64\n",
            "\n",
            "* Best F1: tensor(32.4324, device='cuda:0')\n",
            "Saving best model...\n",
            "Done.\n",
            "---------------------\n",
            "\n",
            "===>  TRAIN Epoch 7\n"
          ],
          "name": "stdout"
        },
        {
          "output_type": "stream",
          "text": [
            "0% [████] 100% | ETA: 00:00:00\n",
            "Total time elapsed: 00:00:00\n"
          ],
          "name": "stderr"
        },
        {
          "output_type": "stream",
          "text": [
            "Finished Epoch 7 || Run Time:    0.6 | Load Time:    0.2 || F1:  50.00 | Prec:  33.99 | Rec:  94.55 || Ex/s: 426.31\n",
            "\n",
            "===>  EVAL Epoch 7\n"
          ],
          "name": "stdout"
        },
        {
          "output_type": "stream",
          "text": [
            "0% [█] 100% | ETA: 00:00:00\n",
            "Total time elapsed: 00:00:00\n"
          ],
          "name": "stderr"
        },
        {
          "output_type": "stream",
          "text": [
            "Finished Epoch 7 || Run Time:    0.1 | Load Time:    0.1 || F1:  30.56 | Prec:  19.64 | Rec:  68.75 || Ex/s: 624.93\n",
            "\n",
            "---------------------\n",
            "\n",
            "===>  TRAIN Epoch 8\n"
          ],
          "name": "stdout"
        },
        {
          "output_type": "stream",
          "text": [
            "0% [████] 100% | ETA: 00:00:00\n",
            "Total time elapsed: 00:00:00\n"
          ],
          "name": "stderr"
        },
        {
          "output_type": "stream",
          "text": [
            "Finished Epoch 8 || Run Time:    0.6 | Load Time:    0.2 || F1:  51.21 | Prec:  34.87 | Rec:  96.36 || Ex/s: 430.56\n",
            "\n",
            "===>  EVAL Epoch 8\n"
          ],
          "name": "stdout"
        },
        {
          "output_type": "stream",
          "text": [
            "0% [█] 100% | ETA: 00:00:00\n",
            "Total time elapsed: 00:00:00\n"
          ],
          "name": "stderr"
        },
        {
          "output_type": "stream",
          "text": [
            "Finished Epoch 8 || Run Time:    0.1 | Load Time:    0.1 || F1:  31.43 | Prec:  20.37 | Rec:  68.75 || Ex/s: 622.78\n",
            "\n",
            "---------------------\n",
            "\n",
            "===>  TRAIN Epoch 9\n"
          ],
          "name": "stdout"
        },
        {
          "output_type": "stream",
          "text": [
            "0% [████] 100% | ETA: 00:00:00\n",
            "Total time elapsed: 00:00:00\n"
          ],
          "name": "stderr"
        },
        {
          "output_type": "stream",
          "text": [
            "Finished Epoch 9 || Run Time:    0.6 | Load Time:    0.2 || F1:  53.27 | Prec:  36.81 | Rec:  96.36 || Ex/s: 439.63\n",
            "\n",
            "===>  EVAL Epoch 9\n"
          ],
          "name": "stdout"
        },
        {
          "output_type": "stream",
          "text": [
            "0% [█] 100% | ETA: 00:00:00\n",
            "Total time elapsed: 00:00:00\n"
          ],
          "name": "stderr"
        },
        {
          "output_type": "stream",
          "text": [
            "Finished Epoch 9 || Run Time:    0.1 | Load Time:    0.1 || F1:  32.35 | Prec:  21.15 | Rec:  68.75 || Ex/s: 625.40\n",
            "\n",
            "---------------------\n",
            "\n",
            "===>  TRAIN Epoch 10\n"
          ],
          "name": "stdout"
        },
        {
          "output_type": "stream",
          "text": [
            "0% [████] 100% | ETA: 00:00:00\n",
            "Total time elapsed: 00:00:00\n"
          ],
          "name": "stderr"
        },
        {
          "output_type": "stream",
          "text": [
            "Finished Epoch 10 || Run Time:    0.6 | Load Time:    0.2 || F1:  54.36 | Prec:  37.86 | Rec:  96.36 || Ex/s: 431.33\n",
            "\n",
            "===>  EVAL Epoch 10\n"
          ],
          "name": "stdout"
        },
        {
          "output_type": "stream",
          "text": [
            "0% [█] 100% | ETA: 00:00:00\n",
            "Total time elapsed: 00:00:00\n"
          ],
          "name": "stderr"
        },
        {
          "output_type": "stream",
          "text": [
            "Finished Epoch 10 || Run Time:    0.1 | Load Time:    0.1 || F1:  32.84 | Prec:  21.57 | Rec:  68.75 || Ex/s: 620.46\n",
            "\n",
            "* Best F1: tensor(32.8358, device='cuda:0')\n",
            "Saving best model...\n",
            "Done.\n",
            "---------------------\n",
            "\n",
            "Loading best model...\n",
            "Training done.\n",
            "Time:  10.559607815999698\n",
            "===>  EVAL Epoch 10\n",
            "Finished Epoch 10 || Run Time:    0.1 | Load Time:    0.1 || F1:  48.00 | Prec:  37.50 | Rec:  66.67 || Ex/s: 863.35\n",
            "\n",
            "[[27.067668914794922, 27.48091697692871, 26.865671157836914, 27.067668914794922, 27.067668914794922, 26.666667938232422, 27.48091697692871, 27.48091697692871, 27.906978607177734, 26.666667938232422], [5.750015394000002, 5.685267965000094, 5.7302121419998, 5.657230900000286, 5.643488617000003, 5.653690455000287, 5.695949046000351, 5.649614863999886, 5.699012441999912, 5.686567185000058], [59.09090805053711, 62.96296691894531, 60.0, 57.142852783203125, 68.18182373046875, 58.33333969116211, 63.6363639831543, 59.09090805053711, 63.6363639831543, 62.22221755981445], [7.687237744999948, 7.519205598000553, 7.681276948999766, 7.656541180999739, 7.761204930999156, 7.552193080000507, 7.624731124000391, 7.639079702999879, 7.779594614999951, 7.641921282000112], [48.0], [10.559607815999698], [], []]\n",
            "* Number of trainable parameters: 1444202\n",
            "===>  TRAIN Epoch 1\n"
          ],
          "name": "stdout"
        },
        {
          "output_type": "stream",
          "text": [
            "0% [████] 100% | ETA: 00:00:00\n",
            "Total time elapsed: 00:00:00\n"
          ],
          "name": "stderr"
        },
        {
          "output_type": "stream",
          "text": [
            "Finished Epoch 1 || Run Time:    0.6 | Load Time:    0.2 || F1:  26.95 | Prec:  16.13 | Rec:  81.82 || Ex/s: 431.11\n",
            "\n",
            "===>  EVAL Epoch 1\n"
          ],
          "name": "stdout"
        },
        {
          "output_type": "stream",
          "text": [
            "0% [█] 100% | ETA: 00:00:00\n",
            "Total time elapsed: 00:00:00\n"
          ],
          "name": "stderr"
        },
        {
          "output_type": "stream",
          "text": [
            "Finished Epoch 1 || Run Time:    0.1 | Load Time:    0.1 || F1:  27.35 | Prec:  15.84 | Rec: 100.00 || Ex/s: 609.73\n",
            "\n",
            "* Best F1: tensor(27.3504, device='cuda:0')\n",
            "Saving best model...\n",
            "Done.\n",
            "---------------------\n",
            "\n",
            "===>  TRAIN Epoch 2\n"
          ],
          "name": "stdout"
        },
        {
          "output_type": "stream",
          "text": [
            "0% [████] 100% | ETA: 00:00:00\n",
            "Total time elapsed: 00:00:00\n"
          ],
          "name": "stderr"
        },
        {
          "output_type": "stream",
          "text": [
            "Finished Epoch 2 || Run Time:    0.6 | Load Time:    0.3 || F1:  37.50 | Prec:  23.88 | Rec:  87.27 || Ex/s: 430.28\n",
            "\n",
            "===>  EVAL Epoch 2\n"
          ],
          "name": "stdout"
        },
        {
          "output_type": "stream",
          "text": [
            "0% [█] 100% | ETA: 00:00:00\n",
            "Total time elapsed: 00:00:00\n"
          ],
          "name": "stderr"
        },
        {
          "output_type": "stream",
          "text": [
            "Finished Epoch 2 || Run Time:    0.1 | Load Time:    0.1 || F1:  24.43 | Prec:  13.91 | Rec: 100.00 || Ex/s: 608.56\n",
            "\n",
            "---------------------\n",
            "\n",
            "===>  TRAIN Epoch 3\n"
          ],
          "name": "stdout"
        },
        {
          "output_type": "stream",
          "text": [
            "0% [████] 100% | ETA: 00:00:00\n",
            "Total time elapsed: 00:00:00\n"
          ],
          "name": "stderr"
        },
        {
          "output_type": "stream",
          "text": [
            "Finished Epoch 3 || Run Time:    0.6 | Load Time:    0.2 || F1:  38.98 | Prec:  25.41 | Rec:  83.64 || Ex/s: 435.22\n",
            "\n",
            "===>  EVAL Epoch 3\n"
          ],
          "name": "stdout"
        },
        {
          "output_type": "stream",
          "text": [
            "0% [█] 100% | ETA: 00:00:00\n",
            "Total time elapsed: 00:00:00\n"
          ],
          "name": "stderr"
        },
        {
          "output_type": "stream",
          "text": [
            "Finished Epoch 3 || Run Time:    0.1 | Load Time:    0.1 || F1:  24.43 | Prec:  13.91 | Rec: 100.00 || Ex/s: 628.42\n",
            "\n",
            "---------------------\n",
            "\n",
            "===>  TRAIN Epoch 4\n"
          ],
          "name": "stdout"
        },
        {
          "output_type": "stream",
          "text": [
            "0% [████] 100% | ETA: 00:00:00\n",
            "Total time elapsed: 00:00:00\n"
          ],
          "name": "stderr"
        },
        {
          "output_type": "stream",
          "text": [
            "Finished Epoch 4 || Run Time:    0.6 | Load Time:    0.2 || F1:  40.51 | Prec:  26.37 | Rec:  87.27 || Ex/s: 435.00\n",
            "\n",
            "===>  EVAL Epoch 4\n"
          ],
          "name": "stdout"
        },
        {
          "output_type": "stream",
          "text": [
            "0% [█] 100% | ETA: 00:00:00\n",
            "Total time elapsed: 00:00:00\n"
          ],
          "name": "stderr"
        },
        {
          "output_type": "stream",
          "text": [
            "Finished Epoch 4 || Run Time:    0.1 | Load Time:    0.1 || F1:  25.24 | Prec:  14.94 | Rec:  81.25 || Ex/s: 640.82\n",
            "\n",
            "---------------------\n",
            "\n",
            "===>  TRAIN Epoch 5\n"
          ],
          "name": "stdout"
        },
        {
          "output_type": "stream",
          "text": [
            "0% [████] 100% | ETA: 00:00:00\n",
            "Total time elapsed: 00:00:00\n"
          ],
          "name": "stderr"
        },
        {
          "output_type": "stream",
          "text": [
            "Finished Epoch 5 || Run Time:    0.6 | Load Time:    0.3 || F1:  41.67 | Prec:  27.03 | Rec:  90.91 || Ex/s: 431.88\n",
            "\n",
            "===>  EVAL Epoch 5\n"
          ],
          "name": "stdout"
        },
        {
          "output_type": "stream",
          "text": [
            "0% [█] 100% | ETA: 00:00:00\n",
            "Total time elapsed: 00:00:00\n"
          ],
          "name": "stderr"
        },
        {
          "output_type": "stream",
          "text": [
            "Finished Epoch 5 || Run Time:    0.1 | Load Time:    0.1 || F1:  29.33 | Prec:  18.64 | Rec:  68.75 || Ex/s: 619.12\n",
            "\n",
            "* Best F1: tensor(29.3333, device='cuda:0')\n",
            "Saving best model...\n",
            "Done.\n",
            "---------------------\n",
            "\n",
            "===>  TRAIN Epoch 6\n"
          ],
          "name": "stdout"
        },
        {
          "output_type": "stream",
          "text": [
            "0% [████] 100% | ETA: 00:00:00\n",
            "Total time elapsed: 00:00:00\n"
          ],
          "name": "stderr"
        },
        {
          "output_type": "stream",
          "text": [
            "Finished Epoch 6 || Run Time:    0.6 | Load Time:    0.3 || F1:  47.00 | Prec:  31.48 | Rec:  92.73 || Ex/s: 429.86\n",
            "\n",
            "===>  EVAL Epoch 6\n"
          ],
          "name": "stdout"
        },
        {
          "output_type": "stream",
          "text": [
            "0% [█] 100% | ETA: 00:00:00\n",
            "Total time elapsed: 00:00:00\n"
          ],
          "name": "stderr"
        },
        {
          "output_type": "stream",
          "text": [
            "Finished Epoch 6 || Run Time:    0.1 | Load Time:    0.1 || F1:  29.33 | Prec:  18.64 | Rec:  68.75 || Ex/s: 623.76\n",
            "\n",
            "---------------------\n",
            "\n",
            "===>  TRAIN Epoch 7\n"
          ],
          "name": "stdout"
        },
        {
          "output_type": "stream",
          "text": [
            "0% [████] 100% | ETA: 00:00:00\n",
            "Total time elapsed: 00:00:00\n"
          ],
          "name": "stderr"
        },
        {
          "output_type": "stream",
          "text": [
            "Finished Epoch 7 || Run Time:    0.6 | Load Time:    0.3 || F1:  50.00 | Prec:  34.23 | Rec:  92.73 || Ex/s: 429.16\n",
            "\n",
            "===>  EVAL Epoch 7\n"
          ],
          "name": "stdout"
        },
        {
          "output_type": "stream",
          "text": [
            "0% [█] 100% | ETA: 00:00:00\n",
            "Total time elapsed: 00:00:00\n"
          ],
          "name": "stderr"
        },
        {
          "output_type": "stream",
          "text": [
            "Finished Epoch 7 || Run Time:    0.1 | Load Time:    0.1 || F1:  30.99 | Prec:  20.00 | Rec:  68.75 || Ex/s: 612.32\n",
            "\n",
            "* Best F1: tensor(30.9859, device='cuda:0')\n",
            "Saving best model...\n",
            "Done.\n",
            "---------------------\n",
            "\n",
            "===>  TRAIN Epoch 8\n"
          ],
          "name": "stdout"
        },
        {
          "output_type": "stream",
          "text": [
            "0% [████] 100% | ETA: 00:00:00\n",
            "Total time elapsed: 00:00:00\n"
          ],
          "name": "stderr"
        },
        {
          "output_type": "stream",
          "text": [
            "Finished Epoch 8 || Run Time:    0.6 | Load Time:    0.3 || F1:  51.74 | Prec:  35.62 | Rec:  94.55 || Ex/s: 427.40\n",
            "\n",
            "===>  EVAL Epoch 8\n"
          ],
          "name": "stdout"
        },
        {
          "output_type": "stream",
          "text": [
            "0% [█] 100% | ETA: 00:00:00\n",
            "Total time elapsed: 00:00:00\n"
          ],
          "name": "stderr"
        },
        {
          "output_type": "stream",
          "text": [
            "Finished Epoch 8 || Run Time:    0.1 | Load Time:    0.1 || F1:  29.85 | Prec:  19.61 | Rec:  62.50 || Ex/s: 609.59\n",
            "\n",
            "---------------------\n",
            "\n",
            "===>  TRAIN Epoch 9\n"
          ],
          "name": "stdout"
        },
        {
          "output_type": "stream",
          "text": [
            "0% [████] 100% | ETA: 00:00:00\n",
            "Total time elapsed: 00:00:00\n"
          ],
          "name": "stderr"
        },
        {
          "output_type": "stream",
          "text": [
            "Finished Epoch 9 || Run Time:    0.6 | Load Time:    0.3 || F1:  53.61 | Prec:  37.41 | Rec:  94.55 || Ex/s: 429.61\n",
            "\n",
            "===>  EVAL Epoch 9\n"
          ],
          "name": "stdout"
        },
        {
          "output_type": "stream",
          "text": [
            "0% [█] 100% | ETA: 00:00:00\n",
            "Total time elapsed: 00:00:00\n"
          ],
          "name": "stderr"
        },
        {
          "output_type": "stream",
          "text": [
            "Finished Epoch 9 || Run Time:    0.1 | Load Time:    0.1 || F1:  29.85 | Prec:  19.61 | Rec:  62.50 || Ex/s: 618.64\n",
            "\n",
            "---------------------\n",
            "\n",
            "===>  TRAIN Epoch 10\n"
          ],
          "name": "stdout"
        },
        {
          "output_type": "stream",
          "text": [
            "0% [████] 100% | ETA: 00:00:00\n",
            "Total time elapsed: 00:00:00\n"
          ],
          "name": "stderr"
        },
        {
          "output_type": "stream",
          "text": [
            "Finished Epoch 10 || Run Time:    0.6 | Load Time:    0.3 || F1:  55.03 | Prec:  38.81 | Rec:  94.55 || Ex/s: 428.58\n",
            "\n",
            "===>  EVAL Epoch 10\n"
          ],
          "name": "stdout"
        },
        {
          "output_type": "stream",
          "text": [
            "0% [█] 100% | ETA: 00:00:00\n",
            "Total time elapsed: 00:00:00\n"
          ],
          "name": "stderr"
        },
        {
          "output_type": "stream",
          "text": [
            "Finished Epoch 10 || Run Time:    0.1 | Load Time:    0.1 || F1:  29.85 | Prec:  19.61 | Rec:  62.50 || Ex/s: 581.38\n",
            "\n",
            "---------------------\n",
            "\n",
            "Loading best model...\n",
            "Training done.\n",
            "Time:  10.517272215000048\n",
            "===>  EVAL Epoch 7\n",
            "Finished Epoch 7 || Run Time:    0.0 | Load Time:    0.1 || F1:  44.44 | Prec:  33.33 | Rec:  66.67 || Ex/s: 879.62\n",
            "\n",
            "[[27.067668914794922, 27.48091697692871, 26.865671157836914, 27.067668914794922, 27.067668914794922, 26.666667938232422, 27.48091697692871, 27.48091697692871, 27.906978607177734, 26.666667938232422], [5.750015394000002, 5.685267965000094, 5.7302121419998, 5.657230900000286, 5.643488617000003, 5.653690455000287, 5.695949046000351, 5.649614863999886, 5.699012441999912, 5.686567185000058], [59.09090805053711, 62.96296691894531, 60.0, 57.142852783203125, 68.18182373046875, 58.33333969116211, 63.6363639831543, 59.09090805053711, 63.6363639831543, 62.22221755981445], [7.687237744999948, 7.519205598000553, 7.681276948999766, 7.656541180999739, 7.761204930999156, 7.552193080000507, 7.624731124000391, 7.639079702999879, 7.779594614999951, 7.641921282000112], [48.0, 44.44444274902344], [10.559607815999698, 10.517272215000048], [], []]\n",
            "* Number of trainable parameters: 1444202\n",
            "===>  TRAIN Epoch 1\n"
          ],
          "name": "stdout"
        },
        {
          "output_type": "stream",
          "text": [
            "0% [████] 100% | ETA: 00:00:00\n",
            "Total time elapsed: 00:00:00\n"
          ],
          "name": "stderr"
        },
        {
          "output_type": "stream",
          "text": [
            "Finished Epoch 1 || Run Time:    0.6 | Load Time:    0.3 || F1:  30.67 | Prec:  18.60 | Rec:  87.27 || Ex/s: 421.42\n",
            "\n",
            "===>  EVAL Epoch 1\n"
          ],
          "name": "stdout"
        },
        {
          "output_type": "stream",
          "text": [
            "0% [█] 100% | ETA: 00:00:00\n",
            "Total time elapsed: 00:00:00\n"
          ],
          "name": "stderr"
        },
        {
          "output_type": "stream",
          "text": [
            "Finished Epoch 1 || Run Time:    0.1 | Load Time:    0.1 || F1:  26.00 | Prec:  15.48 | Rec:  81.25 || Ex/s: 629.70\n",
            "\n",
            "* Best F1: tensor(26., device='cuda:0')\n",
            "Saving best model...\n",
            "Done.\n",
            "---------------------\n",
            "\n",
            "===>  TRAIN Epoch 2\n"
          ],
          "name": "stdout"
        },
        {
          "output_type": "stream",
          "text": [
            "0% [████] 100% | ETA: 00:00:00\n",
            "Total time elapsed: 00:00:00\n"
          ],
          "name": "stderr"
        },
        {
          "output_type": "stream",
          "text": [
            "Finished Epoch 2 || Run Time:    0.6 | Load Time:    0.2 || F1:  40.64 | Prec:  26.02 | Rec:  92.73 || Ex/s: 428.95\n",
            "\n",
            "===>  EVAL Epoch 2\n"
          ],
          "name": "stdout"
        },
        {
          "output_type": "stream",
          "text": [
            "0% [█] 100% | ETA: 00:00:00\n",
            "Total time elapsed: 00:00:00\n"
          ],
          "name": "stderr"
        },
        {
          "output_type": "stream",
          "text": [
            "Finished Epoch 2 || Run Time:    0.1 | Load Time:    0.1 || F1:  25.93 | Prec:  15.22 | Rec:  87.50 || Ex/s: 606.38\n",
            "\n",
            "---------------------\n",
            "\n",
            "===>  TRAIN Epoch 3\n"
          ],
          "name": "stdout"
        },
        {
          "output_type": "stream",
          "text": [
            "0% [████] 100% | ETA: 00:00:00\n",
            "Total time elapsed: 00:00:00\n"
          ],
          "name": "stderr"
        },
        {
          "output_type": "stream",
          "text": [
            "Finished Epoch 3 || Run Time:    0.6 | Load Time:    0.2 || F1:  42.61 | Prec:  28.00 | Rec:  89.09 || Ex/s: 427.76\n",
            "\n",
            "===>  EVAL Epoch 3\n"
          ],
          "name": "stdout"
        },
        {
          "output_type": "stream",
          "text": [
            "0% [█] 100% | ETA: 00:00:00\n",
            "Total time elapsed: 00:00:00\n"
          ],
          "name": "stderr"
        },
        {
          "output_type": "stream",
          "text": [
            "Finished Epoch 3 || Run Time:    0.1 | Load Time:    0.1 || F1:  24.19 | Prec:  13.89 | Rec:  93.75 || Ex/s: 604.50\n",
            "\n",
            "---------------------\n",
            "\n",
            "===>  TRAIN Epoch 4\n"
          ],
          "name": "stdout"
        },
        {
          "output_type": "stream",
          "text": [
            "0% [████] 100% | ETA: 00:00:00\n",
            "Total time elapsed: 00:00:00\n"
          ],
          "name": "stderr"
        },
        {
          "output_type": "stream",
          "text": [
            "Finished Epoch 4 || Run Time:    0.6 | Load Time:    0.2 || F1:  41.05 | Prec:  27.01 | Rec:  85.45 || Ex/s: 432.23\n",
            "\n",
            "===>  EVAL Epoch 4\n"
          ],
          "name": "stdout"
        },
        {
          "output_type": "stream",
          "text": [
            "0% [█] 100% | ETA: 00:00:00\n",
            "Total time elapsed: 00:00:00\n"
          ],
          "name": "stderr"
        },
        {
          "output_type": "stream",
          "text": [
            "Finished Epoch 4 || Run Time:    0.1 | Load Time:    0.1 || F1:  25.69 | Prec:  15.05 | Rec:  87.50 || Ex/s: 637.92\n",
            "\n",
            "---------------------\n",
            "\n",
            "===>  TRAIN Epoch 5\n"
          ],
          "name": "stdout"
        },
        {
          "output_type": "stream",
          "text": [
            "0% [████] 100% | ETA: 00:00:00\n",
            "Total time elapsed: 00:00:00\n"
          ],
          "name": "stderr"
        },
        {
          "output_type": "stream",
          "text": [
            "Finished Epoch 5 || Run Time:    0.6 | Load Time:    0.3 || F1:  41.38 | Prec:  27.12 | Rec:  87.27 || Ex/s: 427.35\n",
            "\n",
            "===>  EVAL Epoch 5\n"
          ],
          "name": "stdout"
        },
        {
          "output_type": "stream",
          "text": [
            "0% [█] 100% | ETA: 00:00:00\n",
            "Total time elapsed: 00:00:00\n"
          ],
          "name": "stderr"
        },
        {
          "output_type": "stream",
          "text": [
            "Finished Epoch 5 || Run Time:    0.1 | Load Time:    0.1 || F1:  32.43 | Prec:  20.69 | Rec:  75.00 || Ex/s: 630.80\n",
            "\n",
            "* Best F1: tensor(32.4324, device='cuda:0')\n",
            "Saving best model...\n",
            "Done.\n",
            "---------------------\n",
            "\n",
            "===>  TRAIN Epoch 6\n"
          ],
          "name": "stdout"
        },
        {
          "output_type": "stream",
          "text": [
            "0% [████] 100% | ETA: 00:00:00\n",
            "Total time elapsed: 00:00:00\n"
          ],
          "name": "stderr"
        },
        {
          "output_type": "stream",
          "text": [
            "Finished Epoch 6 || Run Time:    0.6 | Load Time:    0.2 || F1:  47.32 | Prec:  31.36 | Rec:  96.36 || Ex/s: 425.07\n",
            "\n",
            "===>  EVAL Epoch 6\n"
          ],
          "name": "stdout"
        },
        {
          "output_type": "stream",
          "text": [
            "0% [█] 100% | ETA: 00:00:00\n",
            "Total time elapsed: 00:00:00\n"
          ],
          "name": "stderr"
        },
        {
          "output_type": "stream",
          "text": [
            "Finished Epoch 6 || Run Time:    0.1 | Load Time:    0.1 || F1:  33.33 | Prec:  21.43 | Rec:  75.00 || Ex/s: 637.68\n",
            "\n",
            "* Best F1: tensor(33.3333, device='cuda:0')\n",
            "Saving best model...\n",
            "Done.\n",
            "---------------------\n",
            "\n",
            "===>  TRAIN Epoch 7\n"
          ],
          "name": "stdout"
        },
        {
          "output_type": "stream",
          "text": [
            "0% [████] 100% | ETA: 00:00:00\n",
            "Total time elapsed: 00:00:00\n"
          ],
          "name": "stderr"
        },
        {
          "output_type": "stream",
          "text": [
            "Finished Epoch 7 || Run Time:    0.6 | Load Time:    0.3 || F1:  50.24 | Prec:  33.97 | Rec:  96.36 || Ex/s: 429.19\n",
            "\n",
            "===>  EVAL Epoch 7\n"
          ],
          "name": "stdout"
        },
        {
          "output_type": "stream",
          "text": [
            "0% [█] 100% | ETA: 00:00:00\n",
            "Total time elapsed: 00:00:00\n"
          ],
          "name": "stderr"
        },
        {
          "output_type": "stream",
          "text": [
            "Finished Epoch 7 || Run Time:    0.1 | Load Time:    0.1 || F1:  30.14 | Prec:  19.30 | Rec:  68.75 || Ex/s: 598.82\n",
            "\n",
            "---------------------\n",
            "\n",
            "===>  TRAIN Epoch 8\n"
          ],
          "name": "stdout"
        },
        {
          "output_type": "stream",
          "text": [
            "0% [████] 100% | ETA: 00:00:00\n",
            "Total time elapsed: 00:00:00\n"
          ],
          "name": "stderr"
        },
        {
          "output_type": "stream",
          "text": [
            "Finished Epoch 8 || Run Time:    0.6 | Load Time:    0.3 || F1:  50.96 | Prec:  34.64 | Rec:  96.36 || Ex/s: 430.39\n",
            "\n",
            "===>  EVAL Epoch 8\n"
          ],
          "name": "stdout"
        },
        {
          "output_type": "stream",
          "text": [
            "0% [█] 100% | ETA: 00:00:00\n",
            "Total time elapsed: 00:00:00\n"
          ],
          "name": "stderr"
        },
        {
          "output_type": "stream",
          "text": [
            "Finished Epoch 8 || Run Time:    0.1 | Load Time:    0.1 || F1:  30.56 | Prec:  19.64 | Rec:  68.75 || Ex/s: 632.30\n",
            "\n",
            "---------------------\n",
            "\n",
            "===>  TRAIN Epoch 9\n"
          ],
          "name": "stdout"
        },
        {
          "output_type": "stream",
          "text": [
            "0% [████] 100% | ETA: 00:00:00\n",
            "Total time elapsed: 00:00:00\n"
          ],
          "name": "stderr"
        },
        {
          "output_type": "stream",
          "text": [
            "Finished Epoch 9 || Run Time:    0.6 | Load Time:    0.2 || F1:  53.27 | Prec:  36.81 | Rec:  96.36 || Ex/s: 434.24\n",
            "\n",
            "===>  EVAL Epoch 9\n"
          ],
          "name": "stdout"
        },
        {
          "output_type": "stream",
          "text": [
            "0% [█] 100% | ETA: 00:00:00\n",
            "Total time elapsed: 00:00:00\n"
          ],
          "name": "stderr"
        },
        {
          "output_type": "stream",
          "text": [
            "Finished Epoch 9 || Run Time:    0.1 | Load Time:    0.1 || F1:  30.99 | Prec:  20.00 | Rec:  68.75 || Ex/s: 622.61\n",
            "\n",
            "---------------------\n",
            "\n",
            "===>  TRAIN Epoch 10\n"
          ],
          "name": "stdout"
        },
        {
          "output_type": "stream",
          "text": [
            "0% [████] 100% | ETA: 00:00:00\n",
            "Total time elapsed: 00:00:00\n"
          ],
          "name": "stderr"
        },
        {
          "output_type": "stream",
          "text": [
            "Finished Epoch 10 || Run Time:    0.6 | Load Time:    0.2 || F1:  53.81 | Prec:  37.32 | Rec:  96.36 || Ex/s: 423.39\n",
            "\n",
            "===>  EVAL Epoch 10\n"
          ],
          "name": "stdout"
        },
        {
          "output_type": "stream",
          "text": [
            "0% [█] 100% | ETA: 00:00:00\n",
            "Total time elapsed: 00:00:00\n"
          ],
          "name": "stderr"
        },
        {
          "output_type": "stream",
          "text": [
            "Finished Epoch 10 || Run Time:    0.1 | Load Time:    0.1 || F1:  29.85 | Prec:  19.61 | Rec:  62.50 || Ex/s: 615.09\n",
            "\n",
            "---------------------\n",
            "\n",
            "Loading best model...\n",
            "Training done.\n",
            "Time:  10.539255294999748\n",
            "===>  EVAL Epoch 6\n",
            "Finished Epoch 6 || Run Time:    0.0 | Load Time:    0.1 || F1:  41.27 | Prec:  28.89 | Rec:  72.22 || Ex/s: 868.13\n",
            "\n",
            "[[27.067668914794922, 27.48091697692871, 26.865671157836914, 27.067668914794922, 27.067668914794922, 26.666667938232422, 27.48091697692871, 27.48091697692871, 27.906978607177734, 26.666667938232422], [5.750015394000002, 5.685267965000094, 5.7302121419998, 5.657230900000286, 5.643488617000003, 5.653690455000287, 5.695949046000351, 5.649614863999886, 5.699012441999912, 5.686567185000058], [59.09090805053711, 62.96296691894531, 60.0, 57.142852783203125, 68.18182373046875, 58.33333969116211, 63.6363639831543, 59.09090805053711, 63.6363639831543, 62.22221755981445], [7.687237744999948, 7.519205598000553, 7.681276948999766, 7.656541180999739, 7.761204930999156, 7.552193080000507, 7.624731124000391, 7.639079702999879, 7.779594614999951, 7.641921282000112], [48.0, 44.44444274902344, 41.269840240478516], [10.559607815999698, 10.517272215000048, 10.539255294999748], [], []]\n",
            "* Number of trainable parameters: 1444202\n",
            "===>  TRAIN Epoch 1\n"
          ],
          "name": "stdout"
        },
        {
          "output_type": "stream",
          "text": [
            "0% [████] 100% | ETA: 00:00:00\n",
            "Total time elapsed: 00:00:00\n"
          ],
          "name": "stderr"
        },
        {
          "output_type": "stream",
          "text": [
            "Finished Epoch 1 || Run Time:    0.6 | Load Time:    0.3 || F1:  30.25 | Prec:  18.22 | Rec:  89.09 || Ex/s: 425.74\n",
            "\n",
            "===>  EVAL Epoch 1\n"
          ],
          "name": "stdout"
        },
        {
          "output_type": "stream",
          "text": [
            "0% [█] 100% | ETA: 00:00:00\n",
            "Total time elapsed: 00:00:00\n"
          ],
          "name": "stderr"
        },
        {
          "output_type": "stream",
          "text": [
            "Finished Epoch 1 || Run Time:    0.1 | Load Time:    0.1 || F1:  24.78 | Prec:  14.43 | Rec:  87.50 || Ex/s: 636.36\n",
            "\n",
            "* Best F1: tensor(24.7788, device='cuda:0')\n",
            "Saving best model...\n",
            "Done.\n",
            "---------------------\n",
            "\n",
            "===>  TRAIN Epoch 2\n"
          ],
          "name": "stdout"
        },
        {
          "output_type": "stream",
          "text": [
            "0% [████] 100% | ETA: 00:00:00\n",
            "Total time elapsed: 00:00:00\n"
          ],
          "name": "stderr"
        },
        {
          "output_type": "stream",
          "text": [
            "Finished Epoch 2 || Run Time:    0.6 | Load Time:    0.3 || F1:  38.28 | Prec:  24.38 | Rec:  89.09 || Ex/s: 419.33\n",
            "\n",
            "===>  EVAL Epoch 2\n"
          ],
          "name": "stdout"
        },
        {
          "output_type": "stream",
          "text": [
            "0% [█] 100% | ETA: 00:00:00\n",
            "Total time elapsed: 00:00:00\n"
          ],
          "name": "stderr"
        },
        {
          "output_type": "stream",
          "text": [
            "Finished Epoch 2 || Run Time:    0.1 | Load Time:    0.1 || F1:  24.62 | Prec:  14.04 | Rec: 100.00 || Ex/s: 632.31\n",
            "\n",
            "---------------------\n",
            "\n",
            "===>  TRAIN Epoch 3\n"
          ],
          "name": "stdout"
        },
        {
          "output_type": "stream",
          "text": [
            "0% [████] 100% | ETA: 00:00:00\n",
            "Total time elapsed: 00:00:00\n"
          ],
          "name": "stderr"
        },
        {
          "output_type": "stream",
          "text": [
            "Finished Epoch 3 || Run Time:    0.6 | Load Time:    0.3 || F1:  40.34 | Prec:  26.40 | Rec:  85.45 || Ex/s: 431.58\n",
            "\n",
            "===>  EVAL Epoch 3\n"
          ],
          "name": "stdout"
        },
        {
          "output_type": "stream",
          "text": [
            "0% [█] 100% | ETA: 00:00:00\n",
            "Total time elapsed: 00:00:00\n"
          ],
          "name": "stderr"
        },
        {
          "output_type": "stream",
          "text": [
            "Finished Epoch 3 || Run Time:    0.1 | Load Time:    0.1 || F1:  24.24 | Prec:  13.79 | Rec: 100.00 || Ex/s: 625.81\n",
            "\n",
            "---------------------\n",
            "\n",
            "===>  TRAIN Epoch 4\n"
          ],
          "name": "stdout"
        },
        {
          "output_type": "stream",
          "text": [
            "0% [████] 100% | ETA: 00:00:00\n",
            "Total time elapsed: 00:00:00\n"
          ],
          "name": "stderr"
        },
        {
          "output_type": "stream",
          "text": [
            "Finished Epoch 4 || Run Time:    0.6 | Load Time:    0.3 || F1:  40.85 | Prec:  26.67 | Rec:  87.27 || Ex/s: 429.99\n",
            "\n",
            "===>  EVAL Epoch 4\n"
          ],
          "name": "stdout"
        },
        {
          "output_type": "stream",
          "text": [
            "0% [█] 100% | ETA: 00:00:00\n",
            "Total time elapsed: 00:00:00\n"
          ],
          "name": "stderr"
        },
        {
          "output_type": "stream",
          "text": [
            "Finished Epoch 4 || Run Time:    0.1 | Load Time:    0.1 || F1:  24.24 | Prec:  14.46 | Rec:  75.00 || Ex/s: 636.87\n",
            "\n",
            "---------------------\n",
            "\n",
            "===>  TRAIN Epoch 5\n"
          ],
          "name": "stdout"
        },
        {
          "output_type": "stream",
          "text": [
            "0% [████] 100% | ETA: 00:00:00\n",
            "Total time elapsed: 00:00:00\n"
          ],
          "name": "stderr"
        },
        {
          "output_type": "stream",
          "text": [
            "Finished Epoch 5 || Run Time:    0.6 | Load Time:    0.2 || F1:  41.30 | Prec:  26.56 | Rec:  92.73 || Ex/s: 435.55\n",
            "\n",
            "===>  EVAL Epoch 5\n"
          ],
          "name": "stdout"
        },
        {
          "output_type": "stream",
          "text": [
            "0% [█] 100% | ETA: 00:00:00\n",
            "Total time elapsed: 00:00:00\n"
          ],
          "name": "stderr"
        },
        {
          "output_type": "stream",
          "text": [
            "Finished Epoch 5 || Run Time:    0.1 | Load Time:    0.1 || F1:  29.33 | Prec:  18.64 | Rec:  68.75 || Ex/s: 629.71\n",
            "\n",
            "* Best F1: tensor(29.3333, device='cuda:0')\n",
            "Saving best model...\n",
            "Done.\n",
            "---------------------\n",
            "\n",
            "===>  TRAIN Epoch 6\n"
          ],
          "name": "stdout"
        },
        {
          "output_type": "stream",
          "text": [
            "0% [████] 100% | ETA: 00:00:00\n",
            "Total time elapsed: 00:00:00\n"
          ],
          "name": "stderr"
        },
        {
          "output_type": "stream",
          "text": [
            "Finished Epoch 6 || Run Time:    0.6 | Load Time:    0.2 || F1:  44.16 | Prec:  28.98 | Rec:  92.73 || Ex/s: 425.98\n",
            "\n",
            "===>  EVAL Epoch 6\n"
          ],
          "name": "stdout"
        },
        {
          "output_type": "stream",
          "text": [
            "0% [█] 100% | ETA: 00:00:00\n",
            "Total time elapsed: 00:00:00\n"
          ],
          "name": "stderr"
        },
        {
          "output_type": "stream",
          "text": [
            "Finished Epoch 6 || Run Time:    0.1 | Load Time:    0.1 || F1:  29.33 | Prec:  18.64 | Rec:  68.75 || Ex/s: 621.49\n",
            "\n",
            "---------------------\n",
            "\n",
            "===>  TRAIN Epoch 7\n"
          ],
          "name": "stdout"
        },
        {
          "output_type": "stream",
          "text": [
            "0% [████] 100% | ETA: 00:00:00\n",
            "Total time elapsed: 00:00:00\n"
          ],
          "name": "stderr"
        },
        {
          "output_type": "stream",
          "text": [
            "Finished Epoch 7 || Run Time:    0.6 | Load Time:    0.2 || F1:  47.22 | Prec:  31.68 | Rec:  92.73 || Ex/s: 432.73\n",
            "\n",
            "===>  EVAL Epoch 7\n"
          ],
          "name": "stdout"
        },
        {
          "output_type": "stream",
          "text": [
            "0% [█] 100% | ETA: 00:00:00\n",
            "Total time elapsed: 00:00:00\n"
          ],
          "name": "stderr"
        },
        {
          "output_type": "stream",
          "text": [
            "Finished Epoch 7 || Run Time:    0.1 | Load Time:    0.1 || F1:  29.73 | Prec:  18.97 | Rec:  68.75 || Ex/s: 593.96\n",
            "\n",
            "* Best F1: tensor(29.7297, device='cuda:0')\n",
            "Saving best model...\n",
            "Done.\n",
            "---------------------\n",
            "\n",
            "===>  TRAIN Epoch 8\n"
          ],
          "name": "stdout"
        },
        {
          "output_type": "stream",
          "text": [
            "0% [████] 100% | ETA: 00:00:00\n",
            "Total time elapsed: 00:00:00\n"
          ],
          "name": "stderr"
        },
        {
          "output_type": "stream",
          "text": [
            "Finished Epoch 8 || Run Time:    0.6 | Load Time:    0.2 || F1:  50.48 | Prec:  34.19 | Rec:  96.36 || Ex/s: 431.36\n",
            "\n",
            "===>  EVAL Epoch 8\n"
          ],
          "name": "stdout"
        },
        {
          "output_type": "stream",
          "text": [
            "0% [█] 100% | ETA: 00:00:00\n",
            "Total time elapsed: 00:00:00\n"
          ],
          "name": "stderr"
        },
        {
          "output_type": "stream",
          "text": [
            "Finished Epoch 8 || Run Time:    0.1 | Load Time:    0.1 || F1:  30.56 | Prec:  19.64 | Rec:  68.75 || Ex/s: 584.37\n",
            "\n",
            "* Best F1: tensor(30.5556, device='cuda:0')\n",
            "Saving best model...\n",
            "Done.\n",
            "---------------------\n",
            "\n",
            "===>  TRAIN Epoch 9\n"
          ],
          "name": "stdout"
        },
        {
          "output_type": "stream",
          "text": [
            "0% [████] 100% | ETA: 00:00:00\n",
            "Total time elapsed: 00:00:00\n"
          ],
          "name": "stderr"
        },
        {
          "output_type": "stream",
          "text": [
            "Finished Epoch 9 || Run Time:    0.6 | Load Time:    0.2 || F1:  51.46 | Prec:  35.10 | Rec:  96.36 || Ex/s: 432.59\n",
            "\n",
            "===>  EVAL Epoch 9\n"
          ],
          "name": "stdout"
        },
        {
          "output_type": "stream",
          "text": [
            "0% [█] 100% | ETA: 00:00:00\n",
            "Total time elapsed: 00:00:00\n"
          ],
          "name": "stderr"
        },
        {
          "output_type": "stream",
          "text": [
            "Finished Epoch 9 || Run Time:    0.1 | Load Time:    0.1 || F1:  31.43 | Prec:  20.37 | Rec:  68.75 || Ex/s: 588.31\n",
            "\n",
            "* Best F1: tensor(31.4286, device='cuda:0')\n",
            "Saving best model...\n",
            "Done.\n",
            "---------------------\n",
            "\n",
            "===>  TRAIN Epoch 10\n"
          ],
          "name": "stdout"
        },
        {
          "output_type": "stream",
          "text": [
            "0% [████] 100% | ETA: 00:00:00\n",
            "Total time elapsed: 00:00:00\n"
          ],
          "name": "stderr"
        },
        {
          "output_type": "stream",
          "text": [
            "Finished Epoch 10 || Run Time:    0.6 | Load Time:    0.3 || F1:  51.46 | Prec:  35.10 | Rec:  96.36 || Ex/s: 428.71\n",
            "\n",
            "===>  EVAL Epoch 10\n"
          ],
          "name": "stdout"
        },
        {
          "output_type": "stream",
          "text": [
            "0% [█] 100% | ETA: 00:00:00\n",
            "Total time elapsed: 00:00:00\n"
          ],
          "name": "stderr"
        },
        {
          "output_type": "stream",
          "text": [
            "Finished Epoch 10 || Run Time:    0.1 | Load Time:    0.1 || F1:  31.43 | Prec:  20.37 | Rec:  68.75 || Ex/s: 635.04\n",
            "\n",
            "---------------------\n",
            "\n",
            "Loading best model...\n",
            "Training done.\n",
            "Time:  10.651794481000252\n",
            "===>  EVAL Epoch 9\n",
            "Finished Epoch 9 || Run Time:    0.1 | Load Time:    0.1 || F1:  49.06 | Prec:  37.14 | Rec:  72.22 || Ex/s: 880.88\n",
            "\n",
            "[[27.067668914794922, 27.48091697692871, 26.865671157836914, 27.067668914794922, 27.067668914794922, 26.666667938232422, 27.48091697692871, 27.48091697692871, 27.906978607177734, 26.666667938232422], [5.750015394000002, 5.685267965000094, 5.7302121419998, 5.657230900000286, 5.643488617000003, 5.653690455000287, 5.695949046000351, 5.649614863999886, 5.699012441999912, 5.686567185000058], [59.09090805053711, 62.96296691894531, 60.0, 57.142852783203125, 68.18182373046875, 58.33333969116211, 63.6363639831543, 59.09090805053711, 63.6363639831543, 62.22221755981445], [7.687237744999948, 7.519205598000553, 7.681276948999766, 7.656541180999739, 7.761204930999156, 7.552193080000507, 7.624731124000391, 7.639079702999879, 7.779594614999951, 7.641921282000112], [48.0, 44.44444274902344, 41.269840240478516, 49.05659866333008], [10.559607815999698, 10.517272215000048, 10.539255294999748, 10.651794481000252], [], []]\n",
            "* Number of trainable parameters: 1444202\n",
            "===>  TRAIN Epoch 1\n"
          ],
          "name": "stdout"
        },
        {
          "output_type": "stream",
          "text": [
            "0% [████] 100% | ETA: 00:00:00\n",
            "Total time elapsed: 00:00:00\n"
          ],
          "name": "stderr"
        },
        {
          "output_type": "stream",
          "text": [
            "Finished Epoch 1 || Run Time:    0.6 | Load Time:    0.2 || F1:  32.65 | Prec:  20.08 | Rec:  87.27 || Ex/s: 418.87\n",
            "\n",
            "===>  EVAL Epoch 1\n"
          ],
          "name": "stdout"
        },
        {
          "output_type": "stream",
          "text": [
            "0% [█] 100% | ETA: 00:00:00\n",
            "Total time elapsed: 00:00:00\n"
          ],
          "name": "stderr"
        },
        {
          "output_type": "stream",
          "text": [
            "Finished Epoch 1 || Run Time:    0.1 | Load Time:    0.1 || F1:  26.97 | Prec:  16.44 | Rec:  75.00 || Ex/s: 623.16\n",
            "\n",
            "* Best F1: tensor(26.9663, device='cuda:0')\n",
            "Saving best model...\n",
            "Done.\n",
            "---------------------\n",
            "\n",
            "===>  TRAIN Epoch 2\n"
          ],
          "name": "stdout"
        },
        {
          "output_type": "stream",
          "text": [
            "0% [████] 100% | ETA: 00:00:00\n",
            "Total time elapsed: 00:00:00\n"
          ],
          "name": "stderr"
        },
        {
          "output_type": "stream",
          "text": [
            "Finished Epoch 2 || Run Time:    0.6 | Load Time:    0.3 || F1:  40.49 | Prec:  26.04 | Rec:  90.91 || Ex/s: 426.01\n",
            "\n",
            "===>  EVAL Epoch 2\n"
          ],
          "name": "stdout"
        },
        {
          "output_type": "stream",
          "text": [
            "0% [█] 100% | ETA: 00:00:00\n",
            "Total time elapsed: 00:00:00\n"
          ],
          "name": "stderr"
        },
        {
          "output_type": "stream",
          "text": [
            "Finished Epoch 2 || Run Time:    0.1 | Load Time:    0.1 || F1:  24.07 | Prec:  14.13 | Rec:  81.25 || Ex/s: 619.47\n",
            "\n",
            "---------------------\n",
            "\n",
            "===>  TRAIN Epoch 3\n"
          ],
          "name": "stdout"
        },
        {
          "output_type": "stream",
          "text": [
            "0% [████] 100% | ETA: 00:00:00\n",
            "Total time elapsed: 00:00:00\n"
          ],
          "name": "stderr"
        },
        {
          "output_type": "stream",
          "text": [
            "Finished Epoch 3 || Run Time:    0.6 | Load Time:    0.3 || F1:  41.78 | Prec:  27.65 | Rec:  85.45 || Ex/s: 421.00\n",
            "\n",
            "===>  EVAL Epoch 3\n"
          ],
          "name": "stdout"
        },
        {
          "output_type": "stream",
          "text": [
            "0% [█] 100% | ETA: 00:00:00\n",
            "Total time elapsed: 00:00:00\n"
          ],
          "name": "stderr"
        },
        {
          "output_type": "stream",
          "text": [
            "Finished Epoch 3 || Run Time:    0.1 | Load Time:    0.1 || F1:  23.33 | Prec:  13.46 | Rec:  87.50 || Ex/s: 627.58\n",
            "\n",
            "---------------------\n",
            "\n",
            "===>  TRAIN Epoch 4\n"
          ],
          "name": "stdout"
        },
        {
          "output_type": "stream",
          "text": [
            "0% [████] 100% | ETA: 00:00:00\n",
            "Total time elapsed: 00:00:00\n"
          ],
          "name": "stderr"
        },
        {
          "output_type": "stream",
          "text": [
            "Finished Epoch 4 || Run Time:    0.6 | Load Time:    0.2 || F1:  41.38 | Prec:  27.12 | Rec:  87.27 || Ex/s: 430.14\n",
            "\n",
            "===>  EVAL Epoch 4\n"
          ],
          "name": "stdout"
        },
        {
          "output_type": "stream",
          "text": [
            "0% [█] 100% | ETA: 00:00:00\n",
            "Total time elapsed: 00:00:00\n"
          ],
          "name": "stderr"
        },
        {
          "output_type": "stream",
          "text": [
            "Finished Epoch 4 || Run Time:    0.1 | Load Time:    0.1 || F1:  26.26 | Prec:  15.66 | Rec:  81.25 || Ex/s: 629.78\n",
            "\n",
            "---------------------\n",
            "\n",
            "===>  TRAIN Epoch 5\n"
          ],
          "name": "stdout"
        },
        {
          "output_type": "stream",
          "text": [
            "0% [████] 100% | ETA: 00:00:00\n",
            "Total time elapsed: 00:00:00\n"
          ],
          "name": "stderr"
        },
        {
          "output_type": "stream",
          "text": [
            "Finished Epoch 5 || Run Time:    0.6 | Load Time:    0.3 || F1:  42.32 | Prec:  27.42 | Rec:  92.73 || Ex/s: 429.09\n",
            "\n",
            "===>  EVAL Epoch 5\n"
          ],
          "name": "stdout"
        },
        {
          "output_type": "stream",
          "text": [
            "0% [█] 100% | ETA: 00:00:00\n",
            "Total time elapsed: 00:00:00\n"
          ],
          "name": "stderr"
        },
        {
          "output_type": "stream",
          "text": [
            "Finished Epoch 5 || Run Time:    0.1 | Load Time:    0.1 || F1:  30.99 | Prec:  20.00 | Rec:  68.75 || Ex/s: 582.63\n",
            "\n",
            "* Best F1: tensor(30.9859, device='cuda:0')\n",
            "Saving best model...\n",
            "Done.\n",
            "---------------------\n",
            "\n",
            "===>  TRAIN Epoch 6\n"
          ],
          "name": "stdout"
        },
        {
          "output_type": "stream",
          "text": [
            "0% [████] 100% | ETA: 00:00:00\n",
            "Total time elapsed: 00:00:00\n"
          ],
          "name": "stderr"
        },
        {
          "output_type": "stream",
          "text": [
            "Finished Epoch 6 || Run Time:    0.6 | Load Time:    0.3 || F1:  47.71 | Prec:  31.90 | Rec:  94.55 || Ex/s: 421.50\n",
            "\n",
            "===>  EVAL Epoch 6\n"
          ],
          "name": "stdout"
        },
        {
          "output_type": "stream",
          "text": [
            "0% [█] 100% | ETA: 00:00:00\n",
            "Total time elapsed: 00:00:00\n"
          ],
          "name": "stderr"
        },
        {
          "output_type": "stream",
          "text": [
            "Finished Epoch 6 || Run Time:    0.1 | Load Time:    0.1 || F1:  30.56 | Prec:  19.64 | Rec:  68.75 || Ex/s: 611.29\n",
            "\n",
            "---------------------\n",
            "\n",
            "===>  TRAIN Epoch 7\n"
          ],
          "name": "stdout"
        },
        {
          "output_type": "stream",
          "text": [
            "0% [████] 100% | ETA: 00:00:00\n",
            "Total time elapsed: 00:00:00\n"
          ],
          "name": "stderr"
        },
        {
          "output_type": "stream",
          "text": [
            "Finished Epoch 7 || Run Time:    0.6 | Load Time:    0.3 || F1:  49.76 | Prec:  33.77 | Rec:  94.55 || Ex/s: 428.47\n",
            "\n",
            "===>  EVAL Epoch 7\n"
          ],
          "name": "stdout"
        },
        {
          "output_type": "stream",
          "text": [
            "0% [█] 100% | ETA: 00:00:00\n",
            "Total time elapsed: 00:00:00\n"
          ],
          "name": "stderr"
        },
        {
          "output_type": "stream",
          "text": [
            "Finished Epoch 7 || Run Time:    0.1 | Load Time:    0.1 || F1:  30.99 | Prec:  20.00 | Rec:  68.75 || Ex/s: 598.66\n",
            "\n",
            "---------------------\n",
            "\n",
            "===>  TRAIN Epoch 8\n"
          ],
          "name": "stdout"
        },
        {
          "output_type": "stream",
          "text": [
            "0% [████] 100% | ETA: 00:00:00\n",
            "Total time elapsed: 00:00:00\n"
          ],
          "name": "stderr"
        },
        {
          "output_type": "stream",
          "text": [
            "Finished Epoch 8 || Run Time:    0.6 | Load Time:    0.2 || F1:  50.73 | Prec:  34.67 | Rec:  94.55 || Ex/s: 428.71\n",
            "\n",
            "===>  EVAL Epoch 8\n"
          ],
          "name": "stdout"
        },
        {
          "output_type": "stream",
          "text": [
            "0% [█] 100% | ETA: 00:00:00\n",
            "Total time elapsed: 00:00:00\n"
          ],
          "name": "stderr"
        },
        {
          "output_type": "stream",
          "text": [
            "Finished Epoch 8 || Run Time:    0.1 | Load Time:    0.1 || F1:  28.99 | Prec:  18.87 | Rec:  62.50 || Ex/s: 628.73\n",
            "\n",
            "---------------------\n",
            "\n",
            "===>  TRAIN Epoch 9\n"
          ],
          "name": "stdout"
        },
        {
          "output_type": "stream",
          "text": [
            "0% [████] 100% | ETA: 00:00:00\n",
            "Total time elapsed: 00:00:00\n"
          ],
          "name": "stderr"
        },
        {
          "output_type": "stream",
          "text": [
            "Finished Epoch 9 || Run Time:    0.6 | Load Time:    0.2 || F1:  52.53 | Prec:  36.36 | Rec:  94.55 || Ex/s: 432.88\n",
            "\n",
            "===>  EVAL Epoch 9\n"
          ],
          "name": "stdout"
        },
        {
          "output_type": "stream",
          "text": [
            "0% [█] 100% | ETA: 00:00:00\n",
            "Total time elapsed: 00:00:00\n"
          ],
          "name": "stderr"
        },
        {
          "output_type": "stream",
          "text": [
            "Finished Epoch 9 || Run Time:    0.1 | Load Time:    0.1 || F1:  29.85 | Prec:  19.61 | Rec:  62.50 || Ex/s: 617.42\n",
            "\n",
            "---------------------\n",
            "\n",
            "===>  TRAIN Epoch 10\n"
          ],
          "name": "stdout"
        },
        {
          "output_type": "stream",
          "text": [
            "0% [████] 100% | ETA: 00:00:00\n",
            "Total time elapsed: 00:00:00\n"
          ],
          "name": "stderr"
        },
        {
          "output_type": "stream",
          "text": [
            "Finished Epoch 10 || Run Time:    0.6 | Load Time:    0.2 || F1:  55.10 | Prec:  38.30 | Rec:  98.18 || Ex/s: 424.19\n",
            "\n",
            "===>  EVAL Epoch 10\n"
          ],
          "name": "stdout"
        },
        {
          "output_type": "stream",
          "text": [
            "0% [█] 100% | ETA: 00:00:00\n",
            "Total time elapsed: 00:00:00\n"
          ],
          "name": "stderr"
        },
        {
          "output_type": "stream",
          "text": [
            "Finished Epoch 10 || Run Time:    0.1 | Load Time:    0.1 || F1:  31.25 | Prec:  20.83 | Rec:  62.50 || Ex/s: 626.81\n",
            "\n",
            "* Best F1: tensor(31.2500, device='cuda:0')\n",
            "Saving best model...\n",
            "Done.\n",
            "---------------------\n",
            "\n",
            "Loading best model...\n",
            "Training done.\n",
            "Time:  10.594529773999966\n",
            "===>  EVAL Epoch 10\n",
            "Finished Epoch 10 || Run Time:    0.1 | Load Time:    0.1 || F1:  47.06 | Prec:  36.36 | Rec:  66.67 || Ex/s: 853.97\n",
            "\n",
            "[[27.067668914794922, 27.48091697692871, 26.865671157836914, 27.067668914794922, 27.067668914794922, 26.666667938232422, 27.48091697692871, 27.48091697692871, 27.906978607177734, 26.666667938232422], [5.750015394000002, 5.685267965000094, 5.7302121419998, 5.657230900000286, 5.643488617000003, 5.653690455000287, 5.695949046000351, 5.649614863999886, 5.699012441999912, 5.686567185000058], [59.09090805053711, 62.96296691894531, 60.0, 57.142852783203125, 68.18182373046875, 58.33333969116211, 63.6363639831543, 59.09090805053711, 63.6363639831543, 62.22221755981445], [7.687237744999948, 7.519205598000553, 7.681276948999766, 7.656541180999739, 7.761204930999156, 7.552193080000507, 7.624731124000391, 7.639079702999879, 7.779594614999951, 7.641921282000112], [48.0, 44.44444274902344, 41.269840240478516, 49.05659866333008, 47.05881881713867], [10.559607815999698, 10.517272215000048, 10.539255294999748, 10.651794481000252, 10.594529773999966], [], []]\n",
            "* Number of trainable parameters: 1444202\n",
            "===>  TRAIN Epoch 1\n"
          ],
          "name": "stdout"
        },
        {
          "output_type": "stream",
          "text": [
            "0% [████] 100% | ETA: 00:00:00\n",
            "Total time elapsed: 00:00:00\n"
          ],
          "name": "stderr"
        },
        {
          "output_type": "stream",
          "text": [
            "Finished Epoch 1 || Run Time:    0.6 | Load Time:    0.3 || F1:  32.57 | Prec:  19.84 | Rec:  90.91 || Ex/s: 420.35\n",
            "\n",
            "===>  EVAL Epoch 1\n"
          ],
          "name": "stdout"
        },
        {
          "output_type": "stream",
          "text": [
            "0% [█] 100% | ETA: 00:00:00\n",
            "Total time elapsed: 00:00:00\n"
          ],
          "name": "stderr"
        },
        {
          "output_type": "stream",
          "text": [
            "Finished Epoch 1 || Run Time:    0.1 | Load Time:    0.1 || F1:  30.00 | Prec:  18.75 | Rec:  75.00 || Ex/s: 618.98\n",
            "\n",
            "* Best F1: tensor(30., device='cuda:0')\n",
            "Saving best model...\n",
            "Done.\n",
            "---------------------\n",
            "\n",
            "===>  TRAIN Epoch 2\n"
          ],
          "name": "stdout"
        },
        {
          "output_type": "stream",
          "text": [
            "0% [████] 100% | ETA: 00:00:00\n",
            "Total time elapsed: 00:00:00\n"
          ],
          "name": "stderr"
        },
        {
          "output_type": "stream",
          "text": [
            "Finished Epoch 2 || Run Time:    0.6 | Load Time:    0.3 || F1:  40.80 | Prec:  26.15 | Rec:  92.73 || Ex/s: 427.32\n",
            "\n",
            "===>  EVAL Epoch 2\n"
          ],
          "name": "stdout"
        },
        {
          "output_type": "stream",
          "text": [
            "0% [█] 100% | ETA: 00:00:00\n",
            "Total time elapsed: 00:00:00\n"
          ],
          "name": "stderr"
        },
        {
          "output_type": "stream",
          "text": [
            "Finished Epoch 2 || Run Time:    0.1 | Load Time:    0.1 || F1:  26.67 | Prec:  16.22 | Rec:  75.00 || Ex/s: 631.06\n",
            "\n",
            "---------------------\n",
            "\n",
            "===>  TRAIN Epoch 3\n"
          ],
          "name": "stdout"
        },
        {
          "output_type": "stream",
          "text": [
            "0% [████] 100% | ETA: 00:00:00\n",
            "Total time elapsed: 00:00:00\n"
          ],
          "name": "stderr"
        },
        {
          "output_type": "stream",
          "text": [
            "Finished Epoch 3 || Run Time:    0.6 | Load Time:    0.2 || F1:  44.16 | Prec:  28.98 | Rec:  92.73 || Ex/s: 433.46\n",
            "\n",
            "===>  EVAL Epoch 3\n"
          ],
          "name": "stdout"
        },
        {
          "output_type": "stream",
          "text": [
            "0% [█] 100% | ETA: 00:00:00\n",
            "Total time elapsed: 00:00:00\n"
          ],
          "name": "stderr"
        },
        {
          "output_type": "stream",
          "text": [
            "Finished Epoch 3 || Run Time:    0.1 | Load Time:    0.1 || F1:  25.00 | Prec:  14.58 | Rec:  87.50 || Ex/s: 593.69\n",
            "\n",
            "---------------------\n",
            "\n",
            "===>  TRAIN Epoch 4\n"
          ],
          "name": "stdout"
        },
        {
          "output_type": "stream",
          "text": [
            "0% [████] 100% | ETA: 00:00:00\n",
            "Total time elapsed: 00:00:00\n"
          ],
          "name": "stderr"
        },
        {
          "output_type": "stream",
          "text": [
            "Finished Epoch 4 || Run Time:    0.6 | Load Time:    0.3 || F1:  43.64 | Prec:  29.09 | Rec:  87.27 || Ex/s: 431.48\n",
            "\n",
            "===>  EVAL Epoch 4\n"
          ],
          "name": "stdout"
        },
        {
          "output_type": "stream",
          "text": [
            "0% [█] 100% | ETA: 00:00:00\n",
            "Total time elapsed: 00:00:00\n"
          ],
          "name": "stderr"
        },
        {
          "output_type": "stream",
          "text": [
            "Finished Epoch 4 || Run Time:    0.1 | Load Time:    0.1 || F1:  24.14 | Prec:  14.00 | Rec:  87.50 || Ex/s: 605.28\n",
            "\n",
            "---------------------\n",
            "\n",
            "===>  TRAIN Epoch 5\n"
          ],
          "name": "stdout"
        },
        {
          "output_type": "stream",
          "text": [
            "0% [████] 100% | ETA: 00:00:00\n",
            "Total time elapsed: 00:00:00\n"
          ],
          "name": "stderr"
        },
        {
          "output_type": "stream",
          "text": [
            "Finished Epoch 5 || Run Time:    0.6 | Load Time:    0.2 || F1:  43.12 | Prec:  28.83 | Rec:  85.45 || Ex/s: 433.64\n",
            "\n",
            "===>  EVAL Epoch 5\n"
          ],
          "name": "stdout"
        },
        {
          "output_type": "stream",
          "text": [
            "0% [█] 100% | ETA: 00:00:00\n",
            "Total time elapsed: 00:00:00\n"
          ],
          "name": "stderr"
        },
        {
          "output_type": "stream",
          "text": [
            "Finished Epoch 5 || Run Time:    0.1 | Load Time:    0.1 || F1:  28.57 | Prec:  17.65 | Rec:  75.00 || Ex/s: 621.72\n",
            "\n",
            "---------------------\n",
            "\n",
            "===>  TRAIN Epoch 6\n"
          ],
          "name": "stdout"
        },
        {
          "output_type": "stream",
          "text": [
            "0% [████] 100% | ETA: 00:00:00\n",
            "Total time elapsed: 00:00:00\n"
          ],
          "name": "stderr"
        },
        {
          "output_type": "stream",
          "text": [
            "Finished Epoch 6 || Run Time:    0.6 | Load Time:    0.2 || F1:  45.69 | Prec:  29.94 | Rec:  96.36 || Ex/s: 436.55\n",
            "\n",
            "===>  EVAL Epoch 6\n"
          ],
          "name": "stdout"
        },
        {
          "output_type": "stream",
          "text": [
            "0% [█] 100% | ETA: 00:00:00\n",
            "Total time elapsed: 00:00:00\n"
          ],
          "name": "stderr"
        },
        {
          "output_type": "stream",
          "text": [
            "Finished Epoch 6 || Run Time:    0.1 | Load Time:    0.1 || F1:  29.73 | Prec:  18.97 | Rec:  68.75 || Ex/s: 617.70\n",
            "\n",
            "---------------------\n",
            "\n",
            "===>  TRAIN Epoch 7\n"
          ],
          "name": "stdout"
        },
        {
          "output_type": "stream",
          "text": [
            "0% [████] 100% | ETA: 00:00:00\n",
            "Total time elapsed: 00:00:00\n"
          ],
          "name": "stderr"
        },
        {
          "output_type": "stream",
          "text": [
            "Finished Epoch 7 || Run Time:    0.6 | Load Time:    0.2 || F1:  49.53 | Prec:  33.33 | Rec:  96.36 || Ex/s: 439.42\n",
            "\n",
            "===>  EVAL Epoch 7\n"
          ],
          "name": "stdout"
        },
        {
          "output_type": "stream",
          "text": [
            "0% [█] 100% | ETA: 00:00:00\n",
            "Total time elapsed: 00:00:00\n"
          ],
          "name": "stderr"
        },
        {
          "output_type": "stream",
          "text": [
            "Finished Epoch 7 || Run Time:    0.1 | Load Time:    0.1 || F1:  29.33 | Prec:  18.64 | Rec:  68.75 || Ex/s: 612.87\n",
            "\n",
            "---------------------\n",
            "\n",
            "===>  TRAIN Epoch 8\n"
          ],
          "name": "stdout"
        },
        {
          "output_type": "stream",
          "text": [
            "0% [████] 100% | ETA: 00:00:00\n",
            "Total time elapsed: 00:00:00\n"
          ],
          "name": "stderr"
        },
        {
          "output_type": "stream",
          "text": [
            "Finished Epoch 8 || Run Time:    0.6 | Load Time:    0.2 || F1:  50.72 | Prec:  34.42 | Rec:  96.36 || Ex/s: 435.15\n",
            "\n",
            "===>  EVAL Epoch 8\n"
          ],
          "name": "stdout"
        },
        {
          "output_type": "stream",
          "text": [
            "0% [█] 100% | ETA: 00:00:00\n",
            "Total time elapsed: 00:00:00\n"
          ],
          "name": "stderr"
        },
        {
          "output_type": "stream",
          "text": [
            "Finished Epoch 8 || Run Time:    0.1 | Load Time:    0.1 || F1:  29.73 | Prec:  18.97 | Rec:  68.75 || Ex/s: 619.03\n",
            "\n",
            "---------------------\n",
            "\n",
            "===>  TRAIN Epoch 9\n"
          ],
          "name": "stdout"
        },
        {
          "output_type": "stream",
          "text": [
            "0% [████] 100% | ETA: 00:00:00\n",
            "Total time elapsed: 00:00:00\n"
          ],
          "name": "stderr"
        },
        {
          "output_type": "stream",
          "text": [
            "Finished Epoch 9 || Run Time:    0.6 | Load Time:    0.2 || F1:  52.48 | Prec:  36.05 | Rec:  96.36 || Ex/s: 432.16\n",
            "\n",
            "===>  EVAL Epoch 9\n"
          ],
          "name": "stdout"
        },
        {
          "output_type": "stream",
          "text": [
            "0% [█] 100% | ETA: 00:00:00\n",
            "Total time elapsed: 00:00:00\n"
          ],
          "name": "stderr"
        },
        {
          "output_type": "stream",
          "text": [
            "Finished Epoch 9 || Run Time:    0.1 | Load Time:    0.1 || F1:  30.56 | Prec:  19.64 | Rec:  68.75 || Ex/s: 629.06\n",
            "\n",
            "* Best F1: tensor(30.5556, device='cuda:0')\n",
            "Saving best model...\n",
            "Done.\n",
            "---------------------\n",
            "\n",
            "===>  TRAIN Epoch 10\n"
          ],
          "name": "stdout"
        },
        {
          "output_type": "stream",
          "text": [
            "0% [████] 100% | ETA: 00:00:00\n",
            "Total time elapsed: 00:00:00\n"
          ],
          "name": "stderr"
        },
        {
          "output_type": "stream",
          "text": [
            "Finished Epoch 10 || Run Time:    0.6 | Load Time:    0.3 || F1:  54.55 | Prec:  37.76 | Rec:  98.18 || Ex/s: 427.89\n",
            "\n",
            "===>  EVAL Epoch 10\n"
          ],
          "name": "stdout"
        },
        {
          "output_type": "stream",
          "text": [
            "0% [█] 100% | ETA: 00:00:00\n",
            "Total time elapsed: 00:00:00\n"
          ],
          "name": "stderr"
        },
        {
          "output_type": "stream",
          "text": [
            "Finished Epoch 10 || Run Time:    0.1 | Load Time:    0.1 || F1:  28.57 | Prec:  18.52 | Rec:  62.50 || Ex/s: 626.84\n",
            "\n",
            "---------------------\n",
            "\n",
            "Loading best model...\n",
            "Training done.\n",
            "Time:  10.422362688999783\n",
            "===>  EVAL Epoch 9\n",
            "Finished Epoch 9 || Run Time:    0.1 | Load Time:    0.1 || F1:  45.28 | Prec:  34.29 | Rec:  66.67 || Ex/s: 812.27\n",
            "\n",
            "[[27.067668914794922, 27.48091697692871, 26.865671157836914, 27.067668914794922, 27.067668914794922, 26.666667938232422, 27.48091697692871, 27.48091697692871, 27.906978607177734, 26.666667938232422], [5.750015394000002, 5.685267965000094, 5.7302121419998, 5.657230900000286, 5.643488617000003, 5.653690455000287, 5.695949046000351, 5.649614863999886, 5.699012441999912, 5.686567185000058], [59.09090805053711, 62.96296691894531, 60.0, 57.142852783203125, 68.18182373046875, 58.33333969116211, 63.6363639831543, 59.09090805053711, 63.6363639831543, 62.22221755981445], [7.687237744999948, 7.519205598000553, 7.681276948999766, 7.656541180999739, 7.761204930999156, 7.552193080000507, 7.624731124000391, 7.639079702999879, 7.779594614999951, 7.641921282000112], [48.0, 44.44444274902344, 41.269840240478516, 49.05659866333008, 47.05881881713867, 45.283016204833984], [10.559607815999698, 10.517272215000048, 10.539255294999748, 10.651794481000252, 10.594529773999966, 10.422362688999783], [], []]\n",
            "* Number of trainable parameters: 1444202\n",
            "===>  TRAIN Epoch 1\n"
          ],
          "name": "stdout"
        },
        {
          "output_type": "stream",
          "text": [
            "0% [████] 100% | ETA: 00:00:00\n",
            "Total time elapsed: 00:00:00\n"
          ],
          "name": "stderr"
        },
        {
          "output_type": "stream",
          "text": [
            "Finished Epoch 1 || Run Time:    0.6 | Load Time:    0.2 || F1:  27.59 | Prec:  16.67 | Rec:  80.00 || Ex/s: 428.20\n",
            "\n",
            "===>  EVAL Epoch 1\n"
          ],
          "name": "stdout"
        },
        {
          "output_type": "stream",
          "text": [
            "0% [█] 100% | ETA: 00:00:00\n",
            "Total time elapsed: 00:00:00\n"
          ],
          "name": "stderr"
        },
        {
          "output_type": "stream",
          "text": [
            "Finished Epoch 1 || Run Time:    0.1 | Load Time:    0.1 || F1:  23.88 | Prec:  13.56 | Rec: 100.00 || Ex/s: 627.00\n",
            "\n",
            "* Best F1: tensor(23.8806, device='cuda:0')\n",
            "Saving best model...\n",
            "Done.\n",
            "---------------------\n",
            "\n",
            "===>  TRAIN Epoch 2\n"
          ],
          "name": "stdout"
        },
        {
          "output_type": "stream",
          "text": [
            "0% [████] 100% | ETA: 00:00:00\n",
            "Total time elapsed: 00:00:00\n"
          ],
          "name": "stderr"
        },
        {
          "output_type": "stream",
          "text": [
            "Finished Epoch 2 || Run Time:    0.6 | Load Time:    0.2 || F1:  36.14 | Prec:  23.20 | Rec:  81.82 || Ex/s: 432.68\n",
            "\n",
            "===>  EVAL Epoch 2\n"
          ],
          "name": "stdout"
        },
        {
          "output_type": "stream",
          "text": [
            "0% [█] 100% | ETA: 00:00:00\n",
            "Total time elapsed: 00:00:00\n"
          ],
          "name": "stderr"
        },
        {
          "output_type": "stream",
          "text": [
            "Finished Epoch 2 || Run Time:    0.1 | Load Time:    0.1 || F1:  23.88 | Prec:  13.56 | Rec: 100.00 || Ex/s: 631.87\n",
            "\n",
            "---------------------\n",
            "\n",
            "===>  TRAIN Epoch 3\n"
          ],
          "name": "stdout"
        },
        {
          "output_type": "stream",
          "text": [
            "0% [████] 100% | ETA: 00:00:00\n",
            "Total time elapsed: 00:00:00\n"
          ],
          "name": "stderr"
        },
        {
          "output_type": "stream",
          "text": [
            "Finished Epoch 3 || Run Time:    0.6 | Load Time:    0.2 || F1:  40.34 | Prec:  26.23 | Rec:  87.27 || Ex/s: 431.84\n",
            "\n",
            "===>  EVAL Epoch 3\n"
          ],
          "name": "stdout"
        },
        {
          "output_type": "stream",
          "text": [
            "0% [█] 100% | ETA: 00:00:00\n",
            "Total time elapsed: 00:00:00\n"
          ],
          "name": "stderr"
        },
        {
          "output_type": "stream",
          "text": [
            "Finished Epoch 3 || Run Time:    0.1 | Load Time:    0.1 || F1:  24.00 | Prec:  13.76 | Rec:  93.75 || Ex/s: 613.88\n",
            "\n",
            "* Best F1: tensor(24., device='cuda:0')\n",
            "Saving best model...\n",
            "Done.\n",
            "---------------------\n",
            "\n",
            "===>  TRAIN Epoch 4\n"
          ],
          "name": "stdout"
        },
        {
          "output_type": "stream",
          "text": [
            "0% [████] 100% | ETA: 00:00:00\n",
            "Total time elapsed: 00:00:00\n"
          ],
          "name": "stderr"
        },
        {
          "output_type": "stream",
          "text": [
            "Finished Epoch 4 || Run Time:    0.6 | Load Time:    0.2 || F1:  39.84 | Prec:  25.65 | Rec:  89.09 || Ex/s: 433.68\n",
            "\n",
            "===>  EVAL Epoch 4\n"
          ],
          "name": "stdout"
        },
        {
          "output_type": "stream",
          "text": [
            "0% [█] 100% | ETA: 00:00:00\n",
            "Total time elapsed: 00:00:00\n"
          ],
          "name": "stderr"
        },
        {
          "output_type": "stream",
          "text": [
            "Finished Epoch 4 || Run Time:    0.1 | Load Time:    0.1 || F1:  25.29 | Prec:  15.49 | Rec:  68.75 || Ex/s: 621.40\n",
            "\n",
            "* Best F1: tensor(25.2874, device='cuda:0')\n",
            "Saving best model...\n",
            "Done.\n",
            "---------------------\n",
            "\n",
            "===>  TRAIN Epoch 5\n"
          ],
          "name": "stdout"
        },
        {
          "output_type": "stream",
          "text": [
            "0% [████] 100% | ETA: 00:00:00\n",
            "Total time elapsed: 00:00:00\n"
          ],
          "name": "stderr"
        },
        {
          "output_type": "stream",
          "text": [
            "Finished Epoch 5 || Run Time:    0.6 | Load Time:    0.3 || F1:  43.40 | Prec:  28.33 | Rec:  92.73 || Ex/s: 429.03\n",
            "\n",
            "===>  EVAL Epoch 5\n"
          ],
          "name": "stdout"
        },
        {
          "output_type": "stream",
          "text": [
            "0% [█] 100% | ETA: 00:00:00\n",
            "Total time elapsed: 00:00:00\n"
          ],
          "name": "stderr"
        },
        {
          "output_type": "stream",
          "text": [
            "Finished Epoch 5 || Run Time:    0.1 | Load Time:    0.1 || F1:  28.21 | Prec:  17.74 | Rec:  68.75 || Ex/s: 606.54\n",
            "\n",
            "* Best F1: tensor(28.2051, device='cuda:0')\n",
            "Saving best model...\n",
            "Done.\n",
            "---------------------\n",
            "\n",
            "===>  TRAIN Epoch 6\n"
          ],
          "name": "stdout"
        },
        {
          "output_type": "stream",
          "text": [
            "0% [████] 100% | ETA: 00:00:00\n",
            "Total time elapsed: 00:00:00\n"
          ],
          "name": "stderr"
        },
        {
          "output_type": "stream",
          "text": [
            "Finished Epoch 6 || Run Time:    0.6 | Load Time:    0.2 || F1:  47.75 | Prec:  31.74 | Rec:  96.36 || Ex/s: 424.37\n",
            "\n",
            "===>  EVAL Epoch 6\n"
          ],
          "name": "stdout"
        },
        {
          "output_type": "stream",
          "text": [
            "0% [█] 100% | ETA: 00:00:00\n",
            "Total time elapsed: 00:00:00\n"
          ],
          "name": "stderr"
        },
        {
          "output_type": "stream",
          "text": [
            "Finished Epoch 6 || Run Time:    0.1 | Load Time:    0.1 || F1:  27.85 | Prec:  17.46 | Rec:  68.75 || Ex/s: 635.34\n",
            "\n",
            "---------------------\n",
            "\n",
            "===>  TRAIN Epoch 7\n"
          ],
          "name": "stdout"
        },
        {
          "output_type": "stream",
          "text": [
            "0% [████] 100% | ETA: 00:00:00\n",
            "Total time elapsed: 00:00:00\n"
          ],
          "name": "stderr"
        },
        {
          "output_type": "stream",
          "text": [
            "Finished Epoch 7 || Run Time:    0.6 | Load Time:    0.2 || F1:  49.76 | Prec:  33.77 | Rec:  94.55 || Ex/s: 433.51\n",
            "\n",
            "===>  EVAL Epoch 7\n"
          ],
          "name": "stdout"
        },
        {
          "output_type": "stream",
          "text": [
            "0% [█] 100% | ETA: 00:00:00\n",
            "Total time elapsed: 00:00:00\n"
          ],
          "name": "stderr"
        },
        {
          "output_type": "stream",
          "text": [
            "Finished Epoch 7 || Run Time:    0.1 | Load Time:    0.1 || F1:  28.57 | Prec:  18.03 | Rec:  68.75 || Ex/s: 628.56\n",
            "\n",
            "* Best F1: tensor(28.5714, device='cuda:0')\n",
            "Saving best model...\n",
            "Done.\n",
            "---------------------\n",
            "\n",
            "===>  TRAIN Epoch 8\n"
          ],
          "name": "stdout"
        },
        {
          "output_type": "stream",
          "text": [
            "0% [████] 100% | ETA: 00:00:00\n",
            "Total time elapsed: 00:00:00\n"
          ],
          "name": "stderr"
        },
        {
          "output_type": "stream",
          "text": [
            "Finished Epoch 8 || Run Time:    0.6 | Load Time:    0.3 || F1:  51.49 | Prec:  35.37 | Rec:  94.55 || Ex/s: 420.23\n",
            "\n",
            "===>  EVAL Epoch 8\n"
          ],
          "name": "stdout"
        },
        {
          "output_type": "stream",
          "text": [
            "0% [█] 100% | ETA: 00:00:00\n",
            "Total time elapsed: 00:00:00\n"
          ],
          "name": "stderr"
        },
        {
          "output_type": "stream",
          "text": [
            "Finished Epoch 8 || Run Time:    0.1 | Load Time:    0.1 || F1:  28.17 | Prec:  18.18 | Rec:  62.50 || Ex/s: 625.79\n",
            "\n",
            "---------------------\n",
            "\n",
            "===>  TRAIN Epoch 9\n"
          ],
          "name": "stdout"
        },
        {
          "output_type": "stream",
          "text": [
            "0% [████] 100% | ETA: 00:00:00\n",
            "Total time elapsed: 00:00:00\n"
          ],
          "name": "stderr"
        },
        {
          "output_type": "stream",
          "text": [
            "Finished Epoch 9 || Run Time:    0.6 | Load Time:    0.2 || F1:  53.81 | Prec:  37.32 | Rec:  96.36 || Ex/s: 424.17\n",
            "\n",
            "===>  EVAL Epoch 9\n"
          ],
          "name": "stdout"
        },
        {
          "output_type": "stream",
          "text": [
            "0% [█] 100% | ETA: 00:00:00\n",
            "Total time elapsed: 00:00:00\n"
          ],
          "name": "stderr"
        },
        {
          "output_type": "stream",
          "text": [
            "Finished Epoch 9 || Run Time:    0.1 | Load Time:    0.1 || F1:  28.57 | Prec:  18.52 | Rec:  62.50 || Ex/s: 621.15\n",
            "\n",
            "---------------------\n",
            "\n",
            "===>  TRAIN Epoch 10\n"
          ],
          "name": "stdout"
        },
        {
          "output_type": "stream",
          "text": [
            "0% [████] 100% | ETA: 00:00:00\n",
            "Total time elapsed: 00:00:00\n"
          ],
          "name": "stderr"
        },
        {
          "output_type": "stream",
          "text": [
            "Finished Epoch 10 || Run Time:    0.6 | Load Time:    0.2 || F1:  55.96 | Prec:  39.13 | Rec:  98.18 || Ex/s: 432.62\n",
            "\n",
            "===>  EVAL Epoch 10\n"
          ],
          "name": "stdout"
        },
        {
          "output_type": "stream",
          "text": [
            "0% [█] 100% | ETA: 00:00:00\n",
            "Total time elapsed: 00:00:00\n"
          ],
          "name": "stderr"
        },
        {
          "output_type": "stream",
          "text": [
            "Finished Epoch 10 || Run Time:    0.1 | Load Time:    0.1 || F1:  29.41 | Prec:  19.23 | Rec:  62.50 || Ex/s: 617.93\n",
            "\n",
            "* Best F1: tensor(29.4118, device='cuda:0')\n",
            "Saving best model...\n",
            "Done.\n",
            "---------------------\n",
            "\n",
            "Loading best model...\n",
            "Training done.\n",
            "Time:  10.721303318000537\n",
            "===>  EVAL Epoch 10\n",
            "Finished Epoch 10 || Run Time:    0.1 | Load Time:    0.1 || F1:  45.28 | Prec:  34.29 | Rec:  66.67 || Ex/s: 770.50\n",
            "\n",
            "[[27.067668914794922, 27.48091697692871, 26.865671157836914, 27.067668914794922, 27.067668914794922, 26.666667938232422, 27.48091697692871, 27.48091697692871, 27.906978607177734, 26.666667938232422], [5.750015394000002, 5.685267965000094, 5.7302121419998, 5.657230900000286, 5.643488617000003, 5.653690455000287, 5.695949046000351, 5.649614863999886, 5.699012441999912, 5.686567185000058], [59.09090805053711, 62.96296691894531, 60.0, 57.142852783203125, 68.18182373046875, 58.33333969116211, 63.6363639831543, 59.09090805053711, 63.6363639831543, 62.22221755981445], [7.687237744999948, 7.519205598000553, 7.681276948999766, 7.656541180999739, 7.761204930999156, 7.552193080000507, 7.624731124000391, 7.639079702999879, 7.779594614999951, 7.641921282000112], [48.0, 44.44444274902344, 41.269840240478516, 49.05659866333008, 47.05881881713867, 45.283016204833984, 45.283016204833984], [10.559607815999698, 10.517272215000048, 10.539255294999748, 10.651794481000252, 10.594529773999966, 10.422362688999783, 10.721303318000537], [], []]\n",
            "* Number of trainable parameters: 1444202\n",
            "===>  TRAIN Epoch 1\n"
          ],
          "name": "stdout"
        },
        {
          "output_type": "stream",
          "text": [
            "0% [████] 100% | ETA: 00:00:00\n",
            "Total time elapsed: 00:00:00\n"
          ],
          "name": "stderr"
        },
        {
          "output_type": "stream",
          "text": [
            "Finished Epoch 1 || Run Time:    0.6 | Load Time:    0.3 || F1:  26.50 | Prec:  16.03 | Rec:  76.36 || Ex/s: 421.99\n",
            "\n",
            "===>  EVAL Epoch 1\n"
          ],
          "name": "stdout"
        },
        {
          "output_type": "stream",
          "text": [
            "0% [█] 100% | ETA: 00:00:00\n",
            "Total time elapsed: 00:00:00\n"
          ],
          "name": "stderr"
        },
        {
          "output_type": "stream",
          "text": [
            "Finished Epoch 1 || Run Time:    0.1 | Load Time:    0.1 || F1:  25.60 | Prec:  14.68 | Rec: 100.00 || Ex/s: 626.83\n",
            "\n",
            "* Best F1: tensor(25.6000, device='cuda:0')\n",
            "Saving best model...\n",
            "Done.\n",
            "---------------------\n",
            "\n",
            "===>  TRAIN Epoch 2\n"
          ],
          "name": "stdout"
        },
        {
          "output_type": "stream",
          "text": [
            "0% [████] 100% | ETA: 00:00:00\n",
            "Total time elapsed: 00:00:00\n"
          ],
          "name": "stderr"
        },
        {
          "output_type": "stream",
          "text": [
            "Finished Epoch 2 || Run Time:    0.6 | Load Time:    0.2 || F1:  36.86 | Prec:  23.50 | Rec:  85.45 || Ex/s: 434.03\n",
            "\n",
            "===>  EVAL Epoch 2\n"
          ],
          "name": "stdout"
        },
        {
          "output_type": "stream",
          "text": [
            "0% [█] 100% | ETA: 00:00:00\n",
            "Total time elapsed: 00:00:00\n"
          ],
          "name": "stderr"
        },
        {
          "output_type": "stream",
          "text": [
            "Finished Epoch 2 || Run Time:    0.1 | Load Time:    0.1 || F1:  24.00 | Prec:  13.76 | Rec:  93.75 || Ex/s: 627.52\n",
            "\n",
            "---------------------\n",
            "\n",
            "===>  TRAIN Epoch 3\n"
          ],
          "name": "stdout"
        },
        {
          "output_type": "stream",
          "text": [
            "0% [████] 100% | ETA: 00:00:00\n",
            "Total time elapsed: 00:00:00\n"
          ],
          "name": "stderr"
        },
        {
          "output_type": "stream",
          "text": [
            "Finished Epoch 3 || Run Time:    0.6 | Load Time:    0.3 || F1:  39.15 | Prec:  25.56 | Rec:  83.64 || Ex/s: 420.36\n",
            "\n",
            "===>  EVAL Epoch 3\n"
          ],
          "name": "stdout"
        },
        {
          "output_type": "stream",
          "text": [
            "0% [█] 100% | ETA: 00:00:00\n",
            "Total time elapsed: 00:00:00\n"
          ],
          "name": "stderr"
        },
        {
          "output_type": "stream",
          "text": [
            "Finished Epoch 3 || Run Time:    0.1 | Load Time:    0.1 || F1:  24.00 | Prec:  13.76 | Rec:  93.75 || Ex/s: 633.01\n",
            "\n",
            "---------------------\n",
            "\n",
            "===>  TRAIN Epoch 4\n"
          ],
          "name": "stdout"
        },
        {
          "output_type": "stream",
          "text": [
            "0% [████] 100% | ETA: 00:00:00\n",
            "Total time elapsed: 00:00:00\n"
          ],
          "name": "stderr"
        },
        {
          "output_type": "stream",
          "text": [
            "Finished Epoch 4 || Run Time:    0.6 | Load Time:    0.3 || F1:  39.51 | Prec:  25.53 | Rec:  87.27 || Ex/s: 426.99\n",
            "\n",
            "===>  EVAL Epoch 4\n"
          ],
          "name": "stdout"
        },
        {
          "output_type": "stream",
          "text": [
            "0% [█] 100% | ETA: 00:00:00\n",
            "Total time elapsed: 00:00:00\n"
          ],
          "name": "stderr"
        },
        {
          "output_type": "stream",
          "text": [
            "Finished Epoch 4 || Run Time:    0.1 | Load Time:    0.1 || F1:  26.92 | Prec:  15.91 | Rec:  87.50 || Ex/s: 630.44\n",
            "\n",
            "* Best F1: tensor(26.9231, device='cuda:0')\n",
            "Saving best model...\n",
            "Done.\n",
            "---------------------\n",
            "\n",
            "===>  TRAIN Epoch 5\n"
          ],
          "name": "stdout"
        },
        {
          "output_type": "stream",
          "text": [
            "0% [████] 100% | ETA: 00:00:00\n",
            "Total time elapsed: 00:00:00\n"
          ],
          "name": "stderr"
        },
        {
          "output_type": "stream",
          "text": [
            "Finished Epoch 5 || Run Time:    0.6 | Load Time:    0.2 || F1:  40.65 | Prec:  26.18 | Rec:  90.91 || Ex/s: 434.16\n",
            "\n",
            "===>  EVAL Epoch 5\n"
          ],
          "name": "stdout"
        },
        {
          "output_type": "stream",
          "text": [
            "0% [█] 100% | ETA: 00:00:00\n",
            "Total time elapsed: 00:00:00\n"
          ],
          "name": "stderr"
        },
        {
          "output_type": "stream",
          "text": [
            "Finished Epoch 5 || Run Time:    0.1 | Load Time:    0.1 || F1:  27.16 | Prec:  16.92 | Rec:  68.75 || Ex/s: 596.60\n",
            "\n",
            "* Best F1: tensor(27.1605, device='cuda:0')\n",
            "Saving best model...\n",
            "Done.\n",
            "---------------------\n",
            "\n",
            "===>  TRAIN Epoch 6\n"
          ],
          "name": "stdout"
        },
        {
          "output_type": "stream",
          "text": [
            "0% [████] 100% | ETA: 00:00:00\n",
            "Total time elapsed: 00:00:00\n"
          ],
          "name": "stderr"
        },
        {
          "output_type": "stream",
          "text": [
            "Finished Epoch 6 || Run Time:    0.6 | Load Time:    0.3 || F1:  45.81 | Prec:  30.23 | Rec:  94.55 || Ex/s: 426.95\n",
            "\n",
            "===>  EVAL Epoch 6\n"
          ],
          "name": "stdout"
        },
        {
          "output_type": "stream",
          "text": [
            "0% [█] 100% | ETA: 00:00:00\n",
            "Total time elapsed: 00:00:00\n"
          ],
          "name": "stderr"
        },
        {
          "output_type": "stream",
          "text": [
            "Finished Epoch 6 || Run Time:    0.1 | Load Time:    0.1 || F1:  28.57 | Prec:  18.03 | Rec:  68.75 || Ex/s: 618.94\n",
            "\n",
            "* Best F1: tensor(28.5714, device='cuda:0')\n",
            "Saving best model...\n",
            "Done.\n",
            "---------------------\n",
            "\n",
            "===>  TRAIN Epoch 7\n"
          ],
          "name": "stdout"
        },
        {
          "output_type": "stream",
          "text": [
            "0% [████] 100% | ETA: 00:00:00\n",
            "Total time elapsed: 00:00:00\n"
          ],
          "name": "stderr"
        },
        {
          "output_type": "stream",
          "text": [
            "Finished Epoch 7 || Run Time:    0.6 | Load Time:    0.3 || F1:  48.60 | Prec:  32.70 | Rec:  94.55 || Ex/s: 430.51\n",
            "\n",
            "===>  EVAL Epoch 7\n"
          ],
          "name": "stdout"
        },
        {
          "output_type": "stream",
          "text": [
            "0% [█] 100% | ETA: 00:00:00\n",
            "Total time elapsed: 00:00:00\n"
          ],
          "name": "stderr"
        },
        {
          "output_type": "stream",
          "text": [
            "Finished Epoch 7 || Run Time:    0.1 | Load Time:    0.1 || F1:  29.73 | Prec:  18.97 | Rec:  68.75 || Ex/s: 598.69\n",
            "\n",
            "* Best F1: tensor(29.7297, device='cuda:0')\n",
            "Saving best model...\n",
            "Done.\n",
            "---------------------\n",
            "\n",
            "===>  TRAIN Epoch 8\n"
          ],
          "name": "stdout"
        },
        {
          "output_type": "stream",
          "text": [
            "0% [████] 100% | ETA: 00:00:00\n",
            "Total time elapsed: 00:00:00\n"
          ],
          "name": "stderr"
        },
        {
          "output_type": "stream",
          "text": [
            "Finished Epoch 8 || Run Time:    0.6 | Load Time:    0.3 || F1:  50.96 | Prec:  34.64 | Rec:  96.36 || Ex/s: 420.35\n",
            "\n",
            "===>  EVAL Epoch 8\n"
          ],
          "name": "stdout"
        },
        {
          "output_type": "stream",
          "text": [
            "0% [█] 100% | ETA: 00:00:00\n",
            "Total time elapsed: 00:00:00\n"
          ],
          "name": "stderr"
        },
        {
          "output_type": "stream",
          "text": [
            "Finished Epoch 8 || Run Time:    0.1 | Load Time:    0.1 || F1:  29.73 | Prec:  18.97 | Rec:  68.75 || Ex/s: 635.54\n",
            "\n",
            "---------------------\n",
            "\n",
            "===>  TRAIN Epoch 9\n"
          ],
          "name": "stdout"
        },
        {
          "output_type": "stream",
          "text": [
            "0% [████] 100% | ETA: 00:00:00\n",
            "Total time elapsed: 00:00:00\n"
          ],
          "name": "stderr"
        },
        {
          "output_type": "stream",
          "text": [
            "Finished Epoch 9 || Run Time:    0.6 | Load Time:    0.3 || F1:  53.27 | Prec:  36.81 | Rec:  96.36 || Ex/s: 436.45\n",
            "\n",
            "===>  EVAL Epoch 9\n"
          ],
          "name": "stdout"
        },
        {
          "output_type": "stream",
          "text": [
            "0% [█] 100% | ETA: 00:00:00\n",
            "Total time elapsed: 00:00:00\n"
          ],
          "name": "stderr"
        },
        {
          "output_type": "stream",
          "text": [
            "Finished Epoch 9 || Run Time:    0.1 | Load Time:    0.1 || F1:  31.43 | Prec:  20.37 | Rec:  68.75 || Ex/s: 642.81\n",
            "\n",
            "* Best F1: tensor(31.4286, device='cuda:0')\n",
            "Saving best model...\n",
            "Done.\n",
            "---------------------\n",
            "\n",
            "===>  TRAIN Epoch 10\n"
          ],
          "name": "stdout"
        },
        {
          "output_type": "stream",
          "text": [
            "0% [████] 100% | ETA: 00:00:00\n",
            "Total time elapsed: 00:00:00\n"
          ],
          "name": "stderr"
        },
        {
          "output_type": "stream",
          "text": [
            "Finished Epoch 10 || Run Time:    0.6 | Load Time:    0.3 || F1:  53.00 | Prec:  36.55 | Rec:  96.36 || Ex/s: 415.64\n",
            "\n",
            "===>  EVAL Epoch 10\n"
          ],
          "name": "stdout"
        },
        {
          "output_type": "stream",
          "text": [
            "0% [█] 100% | ETA: 00:00:00\n",
            "Total time elapsed: 00:00:00\n"
          ],
          "name": "stderr"
        },
        {
          "output_type": "stream",
          "text": [
            "Finished Epoch 10 || Run Time:    0.1 | Load Time:    0.1 || F1:  31.88 | Prec:  20.75 | Rec:  68.75 || Ex/s: 626.61\n",
            "\n",
            "* Best F1: tensor(31.8841, device='cuda:0')\n",
            "Saving best model...\n",
            "Done.\n",
            "---------------------\n",
            "\n",
            "Loading best model...\n",
            "Training done.\n",
            "Time:  10.835616287999983\n",
            "===>  EVAL Epoch 10\n",
            "Finished Epoch 10 || Run Time:    0.1 | Load Time:    0.1 || F1:  48.00 | Prec:  37.50 | Rec:  66.67 || Ex/s: 852.00\n",
            "\n",
            "[[27.067668914794922, 27.48091697692871, 26.865671157836914, 27.067668914794922, 27.067668914794922, 26.666667938232422, 27.48091697692871, 27.48091697692871, 27.906978607177734, 26.666667938232422], [5.750015394000002, 5.685267965000094, 5.7302121419998, 5.657230900000286, 5.643488617000003, 5.653690455000287, 5.695949046000351, 5.649614863999886, 5.699012441999912, 5.686567185000058], [59.09090805053711, 62.96296691894531, 60.0, 57.142852783203125, 68.18182373046875, 58.33333969116211, 63.6363639831543, 59.09090805053711, 63.6363639831543, 62.22221755981445], [7.687237744999948, 7.519205598000553, 7.681276948999766, 7.656541180999739, 7.761204930999156, 7.552193080000507, 7.624731124000391, 7.639079702999879, 7.779594614999951, 7.641921282000112], [48.0, 44.44444274902344, 41.269840240478516, 49.05659866333008, 47.05881881713867, 45.283016204833984, 45.283016204833984, 48.0], [10.559607815999698, 10.517272215000048, 10.539255294999748, 10.651794481000252, 10.594529773999966, 10.422362688999783, 10.721303318000537, 10.835616287999983], [], []]\n",
            "* Number of trainable parameters: 1444202\n",
            "===>  TRAIN Epoch 1\n"
          ],
          "name": "stdout"
        },
        {
          "output_type": "stream",
          "text": [
            "0% [████] 100% | ETA: 00:00:00\n",
            "Total time elapsed: 00:00:00\n"
          ],
          "name": "stderr"
        },
        {
          "output_type": "stream",
          "text": [
            "Finished Epoch 1 || Run Time:    0.6 | Load Time:    0.3 || F1:  30.25 | Prec:  18.22 | Rec:  89.09 || Ex/s: 432.12\n",
            "\n",
            "===>  EVAL Epoch 1\n"
          ],
          "name": "stdout"
        },
        {
          "output_type": "stream",
          "text": [
            "0% [█] 100% | ETA: 00:00:00\n",
            "Total time elapsed: 00:00:00\n"
          ],
          "name": "stderr"
        },
        {
          "output_type": "stream",
          "text": [
            "Finished Epoch 1 || Run Time:    0.1 | Load Time:    0.1 || F1:  26.26 | Prec:  15.66 | Rec:  81.25 || Ex/s: 615.57\n",
            "\n",
            "* Best F1: tensor(26.2626, device='cuda:0')\n",
            "Saving best model...\n",
            "Done.\n",
            "---------------------\n",
            "\n",
            "===>  TRAIN Epoch 2\n"
          ],
          "name": "stdout"
        },
        {
          "output_type": "stream",
          "text": [
            "0% [████] 100% | ETA: 00:00:00\n",
            "Total time elapsed: 00:00:00\n"
          ],
          "name": "stderr"
        },
        {
          "output_type": "stream",
          "text": [
            "Finished Epoch 2 || Run Time:    0.6 | Load Time:    0.2 || F1:  40.78 | Prec:  26.00 | Rec:  94.55 || Ex/s: 435.36\n",
            "\n",
            "===>  EVAL Epoch 2\n"
          ],
          "name": "stdout"
        },
        {
          "output_type": "stream",
          "text": [
            "0% [█] 100% | ETA: 00:00:00\n",
            "Total time elapsed: 00:00:00\n"
          ],
          "name": "stderr"
        },
        {
          "output_type": "stream",
          "text": [
            "Finished Epoch 2 || Run Time:    0.1 | Load Time:    0.1 || F1:  25.81 | Prec:  15.58 | Rec:  75.00 || Ex/s: 613.26\n",
            "\n",
            "---------------------\n",
            "\n",
            "===>  TRAIN Epoch 3\n"
          ],
          "name": "stdout"
        },
        {
          "output_type": "stream",
          "text": [
            "0% [████] 100% | ETA: 00:00:00\n",
            "Total time elapsed: 00:00:00\n"
          ],
          "name": "stderr"
        },
        {
          "output_type": "stream",
          "text": [
            "Finished Epoch 3 || Run Time:    0.6 | Load Time:    0.3 || F1:  43.48 | Prec:  28.57 | Rec:  90.91 || Ex/s: 430.40\n",
            "\n",
            "===>  EVAL Epoch 3\n"
          ],
          "name": "stdout"
        },
        {
          "output_type": "stream",
          "text": [
            "0% [█] 100% | ETA: 00:00:00\n",
            "Total time elapsed: 00:00:00\n"
          ],
          "name": "stderr"
        },
        {
          "output_type": "stream",
          "text": [
            "Finished Epoch 3 || Run Time:    0.1 | Load Time:    0.1 || F1:  24.78 | Prec:  14.43 | Rec:  87.50 || Ex/s: 604.43\n",
            "\n",
            "---------------------\n",
            "\n",
            "===>  TRAIN Epoch 4\n"
          ],
          "name": "stdout"
        },
        {
          "output_type": "stream",
          "text": [
            "0% [████] 100% | ETA: 00:00:00\n",
            "Total time elapsed: 00:00:00\n"
          ],
          "name": "stderr"
        },
        {
          "output_type": "stream",
          "text": [
            "Finished Epoch 4 || Run Time:    0.6 | Load Time:    0.2 || F1:  43.64 | Prec:  29.09 | Rec:  87.27 || Ex/s: 438.76\n",
            "\n",
            "===>  EVAL Epoch 4\n"
          ],
          "name": "stdout"
        },
        {
          "output_type": "stream",
          "text": [
            "0% [█] 100% | ETA: 00:00:00\n",
            "Total time elapsed: 00:00:00\n"
          ],
          "name": "stderr"
        },
        {
          "output_type": "stream",
          "text": [
            "Finished Epoch 4 || Run Time:    0.1 | Load Time:    0.1 || F1:  23.33 | Prec:  13.46 | Rec:  87.50 || Ex/s: 623.51\n",
            "\n",
            "---------------------\n",
            "\n",
            "===>  TRAIN Epoch 5\n"
          ],
          "name": "stdout"
        },
        {
          "output_type": "stream",
          "text": [
            "0% [████] 100% | ETA: 00:00:00\n",
            "Total time elapsed: 00:00:00\n"
          ],
          "name": "stderr"
        },
        {
          "output_type": "stream",
          "text": [
            "Finished Epoch 5 || Run Time:    0.6 | Load Time:    0.2 || F1:  42.48 | Prec:  28.07 | Rec:  87.27 || Ex/s: 430.64\n",
            "\n",
            "===>  EVAL Epoch 5\n"
          ],
          "name": "stdout"
        },
        {
          "output_type": "stream",
          "text": [
            "0% [█] 100% | ETA: 00:00:00\n",
            "Total time elapsed: 00:00:00\n"
          ],
          "name": "stderr"
        },
        {
          "output_type": "stream",
          "text": [
            "Finished Epoch 5 || Run Time:    0.1 | Load Time:    0.1 || F1:  25.58 | Prec:  15.71 | Rec:  68.75 || Ex/s: 597.23\n",
            "\n",
            "---------------------\n",
            "\n",
            "===>  TRAIN Epoch 6\n"
          ],
          "name": "stdout"
        },
        {
          "output_type": "stream",
          "text": [
            "0% [████] 100% | ETA: 00:00:00\n",
            "Total time elapsed: 00:00:00\n"
          ],
          "name": "stderr"
        },
        {
          "output_type": "stream",
          "text": [
            "Finished Epoch 6 || Run Time:    0.6 | Load Time:    0.2 || F1:  44.26 | Prec:  28.89 | Rec:  94.55 || Ex/s: 440.45\n",
            "\n",
            "===>  EVAL Epoch 6\n"
          ],
          "name": "stdout"
        },
        {
          "output_type": "stream",
          "text": [
            "0% [█] 100% | ETA: 00:00:00\n",
            "Total time elapsed: 00:00:00\n"
          ],
          "name": "stderr"
        },
        {
          "output_type": "stream",
          "text": [
            "Finished Epoch 6 || Run Time:    0.1 | Load Time:    0.1 || F1:  29.33 | Prec:  18.64 | Rec:  68.75 || Ex/s: 602.52\n",
            "\n",
            "* Best F1: tensor(29.3333, device='cuda:0')\n",
            "Saving best model...\n",
            "Done.\n",
            "---------------------\n",
            "\n",
            "===>  TRAIN Epoch 7\n"
          ],
          "name": "stdout"
        },
        {
          "output_type": "stream",
          "text": [
            "0% [████] 100% | ETA: 00:00:00\n",
            "Total time elapsed: 00:00:00\n"
          ],
          "name": "stderr"
        },
        {
          "output_type": "stream",
          "text": [
            "Finished Epoch 7 || Run Time:    0.6 | Load Time:    0.2 || F1:  50.48 | Prec:  34.19 | Rec:  96.36 || Ex/s: 433.27\n",
            "\n",
            "===>  EVAL Epoch 7\n"
          ],
          "name": "stdout"
        },
        {
          "output_type": "stream",
          "text": [
            "0% [█] 100% | ETA: 00:00:00\n",
            "Total time elapsed: 00:00:00\n"
          ],
          "name": "stderr"
        },
        {
          "output_type": "stream",
          "text": [
            "Finished Epoch 7 || Run Time:    0.1 | Load Time:    0.1 || F1:  30.14 | Prec:  19.30 | Rec:  68.75 || Ex/s: 614.53\n",
            "\n",
            "* Best F1: tensor(30.1370, device='cuda:0')\n",
            "Saving best model...\n",
            "Done.\n",
            "---------------------\n",
            "\n",
            "===>  TRAIN Epoch 8\n"
          ],
          "name": "stdout"
        },
        {
          "output_type": "stream",
          "text": [
            "0% [████] 100% | ETA: 00:00:00\n",
            "Total time elapsed: 00:00:00\n"
          ],
          "name": "stderr"
        },
        {
          "output_type": "stream",
          "text": [
            "Finished Epoch 8 || Run Time:    0.6 | Load Time:    0.3 || F1:  52.22 | Prec:  35.81 | Rec:  96.36 || Ex/s: 427.03\n",
            "\n",
            "===>  EVAL Epoch 8\n"
          ],
          "name": "stdout"
        },
        {
          "output_type": "stream",
          "text": [
            "0% [█] 100% | ETA: 00:00:00\n",
            "Total time elapsed: 00:00:00\n"
          ],
          "name": "stderr"
        },
        {
          "output_type": "stream",
          "text": [
            "Finished Epoch 8 || Run Time:    0.1 | Load Time:    0.1 || F1:  30.99 | Prec:  20.00 | Rec:  68.75 || Ex/s: 618.17\n",
            "\n",
            "* Best F1: tensor(30.9859, device='cuda:0')\n",
            "Saving best model...\n",
            "Done.\n",
            "---------------------\n",
            "\n",
            "===>  TRAIN Epoch 9\n"
          ],
          "name": "stdout"
        },
        {
          "output_type": "stream",
          "text": [
            "0% [████] 100% | ETA: 00:00:00\n",
            "Total time elapsed: 00:00:00\n"
          ],
          "name": "stderr"
        },
        {
          "output_type": "stream",
          "text": [
            "Finished Epoch 9 || Run Time:    0.6 | Load Time:    0.3 || F1:  53.81 | Prec:  37.32 | Rec:  96.36 || Ex/s: 421.09\n",
            "\n",
            "===>  EVAL Epoch 9\n"
          ],
          "name": "stdout"
        },
        {
          "output_type": "stream",
          "text": [
            "0% [█] 100% | ETA: 00:00:00\n",
            "Total time elapsed: 00:00:00\n"
          ],
          "name": "stderr"
        },
        {
          "output_type": "stream",
          "text": [
            "Finished Epoch 9 || Run Time:    0.1 | Load Time:    0.1 || F1:  31.88 | Prec:  20.75 | Rec:  68.75 || Ex/s: 633.07\n",
            "\n",
            "* Best F1: tensor(31.8841, device='cuda:0')\n",
            "Saving best model...\n",
            "Done.\n",
            "---------------------\n",
            "\n",
            "===>  TRAIN Epoch 10\n"
          ],
          "name": "stdout"
        },
        {
          "output_type": "stream",
          "text": [
            "0% [████] 100% | ETA: 00:00:00\n",
            "Total time elapsed: 00:00:00\n"
          ],
          "name": "stderr"
        },
        {
          "output_type": "stream",
          "text": [
            "Finished Epoch 10 || Run Time:    0.6 | Load Time:    0.3 || F1:  55.21 | Prec:  38.69 | Rec:  96.36 || Ex/s: 419.12\n",
            "\n",
            "===>  EVAL Epoch 10\n"
          ],
          "name": "stdout"
        },
        {
          "output_type": "stream",
          "text": [
            "0% [█] 100% | ETA: 00:00:00\n",
            "Total time elapsed: 00:00:00\n"
          ],
          "name": "stderr"
        },
        {
          "output_type": "stream",
          "text": [
            "Finished Epoch 10 || Run Time:    0.1 | Load Time:    0.1 || F1:  30.77 | Prec:  20.41 | Rec:  62.50 || Ex/s: 641.25\n",
            "\n",
            "---------------------\n",
            "\n",
            "Loading best model...\n",
            "Training done.\n",
            "Time:  10.645157035999546\n",
            "===>  EVAL Epoch 9\n",
            "Finished Epoch 9 || Run Time:    0.0 | Load Time:    0.1 || F1:  41.51 | Prec:  31.43 | Rec:  61.11 || Ex/s: 862.77\n",
            "\n",
            "[[27.067668914794922, 27.48091697692871, 26.865671157836914, 27.067668914794922, 27.067668914794922, 26.666667938232422, 27.48091697692871, 27.48091697692871, 27.906978607177734, 26.666667938232422], [5.750015394000002, 5.685267965000094, 5.7302121419998, 5.657230900000286, 5.643488617000003, 5.653690455000287, 5.695949046000351, 5.649614863999886, 5.699012441999912, 5.686567185000058], [59.09090805053711, 62.96296691894531, 60.0, 57.142852783203125, 68.18182373046875, 58.33333969116211, 63.6363639831543, 59.09090805053711, 63.6363639831543, 62.22221755981445], [7.687237744999948, 7.519205598000553, 7.681276948999766, 7.656541180999739, 7.761204930999156, 7.552193080000507, 7.624731124000391, 7.639079702999879, 7.779594614999951, 7.641921282000112], [48.0, 44.44444274902344, 41.269840240478516, 49.05659866333008, 47.05881881713867, 45.283016204833984, 45.283016204833984, 48.0, 41.50943374633789], [10.559607815999698, 10.517272215000048, 10.539255294999748, 10.651794481000252, 10.594529773999966, 10.422362688999783, 10.721303318000537, 10.835616287999983, 10.645157035999546], [], []]\n",
            "* Number of trainable parameters: 1444202\n",
            "===>  TRAIN Epoch 1\n"
          ],
          "name": "stdout"
        },
        {
          "output_type": "stream",
          "text": [
            "0% [████] 100% | ETA: 00:00:00\n",
            "Total time elapsed: 00:00:00\n"
          ],
          "name": "stderr"
        },
        {
          "output_type": "stream",
          "text": [
            "Finished Epoch 1 || Run Time:    0.6 | Load Time:    0.2 || F1:  29.63 | Prec:  18.18 | Rec:  80.00 || Ex/s: 437.49\n",
            "\n",
            "===>  EVAL Epoch 1\n"
          ],
          "name": "stdout"
        },
        {
          "output_type": "stream",
          "text": [
            "0% [█] 100% | ETA: 00:00:00\n",
            "Total time elapsed: 00:00:00\n"
          ],
          "name": "stderr"
        },
        {
          "output_type": "stream",
          "text": [
            "Finished Epoch 1 || Run Time:    0.1 | Load Time:    0.1 || F1:  25.40 | Prec:  14.55 | Rec: 100.00 || Ex/s: 637.90\n",
            "\n",
            "* Best F1: tensor(25.3968, device='cuda:0')\n",
            "Saving best model...\n",
            "Done.\n",
            "---------------------\n",
            "\n",
            "===>  TRAIN Epoch 2\n"
          ],
          "name": "stdout"
        },
        {
          "output_type": "stream",
          "text": [
            "0% [████] 100% | ETA: 00:00:00\n",
            "Total time elapsed: 00:00:00\n"
          ],
          "name": "stderr"
        },
        {
          "output_type": "stream",
          "text": [
            "Finished Epoch 2 || Run Time:    0.6 | Load Time:    0.3 || F1:  35.66 | Prec:  22.66 | Rec:  83.64 || Ex/s: 420.04\n",
            "\n",
            "===>  EVAL Epoch 2\n"
          ],
          "name": "stdout"
        },
        {
          "output_type": "stream",
          "text": [
            "0% [█] 100% | ETA: 00:00:00\n",
            "Total time elapsed: 00:00:00\n"
          ],
          "name": "stderr"
        },
        {
          "output_type": "stream",
          "text": [
            "Finished Epoch 2 || Run Time:    0.1 | Load Time:    0.1 || F1:  24.24 | Prec:  13.79 | Rec: 100.00 || Ex/s: 626.15\n",
            "\n",
            "---------------------\n",
            "\n",
            "===>  TRAIN Epoch 3\n"
          ],
          "name": "stdout"
        },
        {
          "output_type": "stream",
          "text": [
            "0% [████] 100% | ETA: 00:00:00\n",
            "Total time elapsed: 00:00:00\n"
          ],
          "name": "stderr"
        },
        {
          "output_type": "stream",
          "text": [
            "Finished Epoch 3 || Run Time:    0.6 | Load Time:    0.3 || F1:  39.33 | Prec:  25.54 | Rec:  85.45 || Ex/s: 423.08\n",
            "\n",
            "===>  EVAL Epoch 3\n"
          ],
          "name": "stdout"
        },
        {
          "output_type": "stream",
          "text": [
            "0% [█] 100% | ETA: 00:00:00\n",
            "Total time elapsed: 00:00:00\n"
          ],
          "name": "stderr"
        },
        {
          "output_type": "stream",
          "text": [
            "Finished Epoch 3 || Run Time:    0.1 | Load Time:    0.1 || F1:  23.73 | Prec:  13.73 | Rec:  87.50 || Ex/s: 630.02\n",
            "\n",
            "---------------------\n",
            "\n",
            "===>  TRAIN Epoch 4\n"
          ],
          "name": "stdout"
        },
        {
          "output_type": "stream",
          "text": [
            "0% [████] 100% | ETA: 00:00:00\n",
            "Total time elapsed: 00:00:00\n"
          ],
          "name": "stderr"
        },
        {
          "output_type": "stream",
          "text": [
            "Finished Epoch 4 || Run Time:    0.6 | Load Time:    0.3 || F1:  40.00 | Prec:  25.79 | Rec:  89.09 || Ex/s: 426.92\n",
            "\n",
            "===>  EVAL Epoch 4\n"
          ],
          "name": "stdout"
        },
        {
          "output_type": "stream",
          "text": [
            "0% [█] 100% | ETA: 00:00:00\n",
            "Total time elapsed: 00:00:00\n"
          ],
          "name": "stderr"
        },
        {
          "output_type": "stream",
          "text": [
            "Finished Epoch 4 || Run Time:    0.1 | Load Time:    0.1 || F1:  25.00 | Prec:  15.28 | Rec:  68.75 || Ex/s: 627.97\n",
            "\n",
            "---------------------\n",
            "\n",
            "===>  TRAIN Epoch 5\n"
          ],
          "name": "stdout"
        },
        {
          "output_type": "stream",
          "text": [
            "0% [████] 100% | ETA: 00:00:00\n",
            "Total time elapsed: 00:00:00\n"
          ],
          "name": "stderr"
        },
        {
          "output_type": "stream",
          "text": [
            "Finished Epoch 5 || Run Time:    0.6 | Load Time:    0.2 || F1:  43.15 | Prec:  27.96 | Rec:  94.55 || Ex/s: 434.66\n",
            "\n",
            "===>  EVAL Epoch 5\n"
          ],
          "name": "stdout"
        },
        {
          "output_type": "stream",
          "text": [
            "0% [█] 100% | ETA: 00:00:00\n",
            "Total time elapsed: 00:00:00\n"
          ],
          "name": "stderr"
        },
        {
          "output_type": "stream",
          "text": [
            "Finished Epoch 5 || Run Time:    0.1 | Load Time:    0.1 || F1:  28.21 | Prec:  17.74 | Rec:  68.75 || Ex/s: 613.69\n",
            "\n",
            "* Best F1: tensor(28.2051, device='cuda:0')\n",
            "Saving best model...\n",
            "Done.\n",
            "---------------------\n",
            "\n",
            "===>  TRAIN Epoch 6\n"
          ],
          "name": "stdout"
        },
        {
          "output_type": "stream",
          "text": [
            "0% [████] 100% | ETA: 00:00:00\n",
            "Total time elapsed: 00:00:00\n"
          ],
          "name": "stderr"
        },
        {
          "output_type": "stream",
          "text": [
            "Finished Epoch 6 || Run Time:    0.6 | Load Time:    0.3 || F1:  47.75 | Prec:  31.74 | Rec:  96.36 || Ex/s: 430.26\n",
            "\n",
            "===>  EVAL Epoch 6\n"
          ],
          "name": "stdout"
        },
        {
          "output_type": "stream",
          "text": [
            "0% [█] 100% | ETA: 00:00:00\n",
            "Total time elapsed: 00:00:00\n"
          ],
          "name": "stderr"
        },
        {
          "output_type": "stream",
          "text": [
            "Finished Epoch 6 || Run Time:    0.1 | Load Time:    0.1 || F1:  28.21 | Prec:  17.74 | Rec:  68.75 || Ex/s: 618.69\n",
            "\n",
            "---------------------\n",
            "\n",
            "===>  TRAIN Epoch 7\n"
          ],
          "name": "stdout"
        },
        {
          "output_type": "stream",
          "text": [
            "0% [████] 100% | ETA: 00:00:00\n",
            "Total time elapsed: 00:00:00\n"
          ],
          "name": "stderr"
        },
        {
          "output_type": "stream",
          "text": [
            "Finished Epoch 7 || Run Time:    0.6 | Load Time:    0.3 || F1:  51.21 | Prec:  34.87 | Rec:  96.36 || Ex/s: 428.08\n",
            "\n",
            "===>  EVAL Epoch 7\n"
          ],
          "name": "stdout"
        },
        {
          "output_type": "stream",
          "text": [
            "0% [█] 100% | ETA: 00:00:00\n",
            "Total time elapsed: 00:00:00\n"
          ],
          "name": "stderr"
        },
        {
          "output_type": "stream",
          "text": [
            "Finished Epoch 7 || Run Time:    0.1 | Load Time:    0.1 || F1:  28.95 | Prec:  18.33 | Rec:  68.75 || Ex/s: 628.44\n",
            "\n",
            "* Best F1: tensor(28.9474, device='cuda:0')\n",
            "Saving best model...\n",
            "Done.\n",
            "---------------------\n",
            "\n",
            "===>  TRAIN Epoch 8\n"
          ],
          "name": "stdout"
        },
        {
          "output_type": "stream",
          "text": [
            "0% [████] 100% | ETA: 00:00:00\n",
            "Total time elapsed: 00:00:00\n"
          ],
          "name": "stderr"
        },
        {
          "output_type": "stream",
          "text": [
            "Finished Epoch 8 || Run Time:    0.6 | Load Time:    0.3 || F1:  52.48 | Prec:  36.05 | Rec:  96.36 || Ex/s: 428.91\n",
            "\n",
            "===>  EVAL Epoch 8\n"
          ],
          "name": "stdout"
        },
        {
          "output_type": "stream",
          "text": [
            "0% [█] 100% | ETA: 00:00:00\n",
            "Total time elapsed: 00:00:00\n"
          ],
          "name": "stderr"
        },
        {
          "output_type": "stream",
          "text": [
            "Finished Epoch 8 || Run Time:    0.1 | Load Time:    0.1 || F1:  30.99 | Prec:  20.00 | Rec:  68.75 || Ex/s: 629.14\n",
            "\n",
            "* Best F1: tensor(30.9859, device='cuda:0')\n",
            "Saving best model...\n",
            "Done.\n",
            "---------------------\n",
            "\n",
            "===>  TRAIN Epoch 9\n"
          ],
          "name": "stdout"
        },
        {
          "output_type": "stream",
          "text": [
            "0% [████] 100% | ETA: 00:00:00\n",
            "Total time elapsed: 00:00:00\n"
          ],
          "name": "stderr"
        },
        {
          "output_type": "stream",
          "text": [
            "Finished Epoch 9 || Run Time:    0.6 | Load Time:    0.3 || F1:  54.64 | Prec:  38.13 | Rec:  96.36 || Ex/s: 426.53\n",
            "\n",
            "===>  EVAL Epoch 9\n"
          ],
          "name": "stdout"
        },
        {
          "output_type": "stream",
          "text": [
            "0% [█] 100% | ETA: 00:00:00\n",
            "Total time elapsed: 00:00:00\n"
          ],
          "name": "stderr"
        },
        {
          "output_type": "stream",
          "text": [
            "Finished Epoch 9 || Run Time:    0.1 | Load Time:    0.1 || F1:  32.84 | Prec:  21.57 | Rec:  68.75 || Ex/s: 609.96\n",
            "\n",
            "* Best F1: tensor(32.8358, device='cuda:0')\n",
            "Saving best model...\n",
            "Done.\n",
            "---------------------\n",
            "\n",
            "===>  TRAIN Epoch 10\n"
          ],
          "name": "stdout"
        },
        {
          "output_type": "stream",
          "text": [
            "0% [████] 100% | ETA: 00:00:00\n",
            "Total time elapsed: 00:00:00\n"
          ],
          "name": "stderr"
        },
        {
          "output_type": "stream",
          "text": [
            "Finished Epoch 10 || Run Time:    0.6 | Load Time:    0.2 || F1:  56.08 | Prec:  39.55 | Rec:  96.36 || Ex/s: 427.30\n",
            "\n",
            "===>  EVAL Epoch 10\n"
          ],
          "name": "stdout"
        },
        {
          "output_type": "stream",
          "text": [
            "0% [█] 100% | ETA: 00:00:00\n",
            "Total time elapsed: 00:00:00\n"
          ],
          "name": "stderr"
        },
        {
          "output_type": "stream",
          "text": [
            "Finished Epoch 10 || Run Time:    0.1 | Load Time:    0.1 || F1:  32.84 | Prec:  21.57 | Rec:  68.75 || Ex/s: 598.22\n",
            "\n",
            "---------------------\n",
            "\n",
            "Loading best model...\n",
            "Training done.\n",
            "Time:  10.671217783999964\n",
            "===>  EVAL Epoch 9\n",
            "Finished Epoch 9 || Run Time:    0.0 | Load Time:    0.1 || F1:  47.06 | Prec:  36.36 | Rec:  66.67 || Ex/s: 873.32\n",
            "\n",
            "[[27.067668914794922, 27.48091697692871, 26.865671157836914, 27.067668914794922, 27.067668914794922, 26.666667938232422, 27.48091697692871, 27.48091697692871, 27.906978607177734, 26.666667938232422], [5.750015394000002, 5.685267965000094, 5.7302121419998, 5.657230900000286, 5.643488617000003, 5.653690455000287, 5.695949046000351, 5.649614863999886, 5.699012441999912, 5.686567185000058], [59.09090805053711, 62.96296691894531, 60.0, 57.142852783203125, 68.18182373046875, 58.33333969116211, 63.6363639831543, 59.09090805053711, 63.6363639831543, 62.22221755981445], [7.687237744999948, 7.519205598000553, 7.681276948999766, 7.656541180999739, 7.761204930999156, 7.552193080000507, 7.624731124000391, 7.639079702999879, 7.779594614999951, 7.641921282000112], [48.0, 44.44444274902344, 41.269840240478516, 49.05659866333008, 47.05881881713867, 45.283016204833984, 45.283016204833984, 48.0, 41.50943374633789, 47.05881881713867], [10.559607815999698, 10.517272215000048, 10.539255294999748, 10.651794481000252, 10.594529773999966, 10.422362688999783, 10.721303318000537, 10.835616287999983, 10.645157035999546, 10.671217783999964], [], []]\n",
            "* Number of trainable parameters: 2798703\n",
            "===>  TRAIN Epoch 1\n"
          ],
          "name": "stdout"
        },
        {
          "output_type": "stream",
          "text": [
            "0% [████] 100% | ETA: 00:00:00\n",
            "Total time elapsed: 00:00:01\n"
          ],
          "name": "stderr"
        },
        {
          "output_type": "stream",
          "text": [
            "Finished Epoch 1 || Run Time:    1.0 | Load Time:    0.2 || F1:  26.34 | Prec:  15.46 | Rec:  89.09 || Ex/s: 276.03\n",
            "\n",
            "===>  EVAL Epoch 1\n"
          ],
          "name": "stdout"
        },
        {
          "output_type": "stream",
          "text": [
            "0% [█] 100% | ETA: 00:00:00\n",
            "Total time elapsed: 00:00:00\n"
          ],
          "name": "stderr"
        },
        {
          "output_type": "stream",
          "text": [
            "Finished Epoch 1 || Run Time:    0.2 | Load Time:    0.1 || F1:  23.70 | Prec:  13.45 | Rec: 100.00 || Ex/s: 466.99\n",
            "\n",
            "* Best F1: tensor(23.7037, device='cuda:0')\n",
            "Saving best model...\n",
            "Done.\n",
            "---------------------\n",
            "\n",
            "===>  TRAIN Epoch 2\n"
          ],
          "name": "stdout"
        },
        {
          "output_type": "stream",
          "text": [
            "0% [████] 100% | ETA: 00:00:00\n",
            "Total time elapsed: 00:00:01\n"
          ],
          "name": "stderr"
        },
        {
          "output_type": "stream",
          "text": [
            "Finished Epoch 2 || Run Time:    1.0 | Load Time:    0.3 || F1:  35.42 | Prec:  22.22 | Rec:  87.27 || Ex/s: 276.88\n",
            "\n",
            "===>  EVAL Epoch 2\n"
          ],
          "name": "stdout"
        },
        {
          "output_type": "stream",
          "text": [
            "0% [█] 100% | ETA: 00:00:00\n",
            "Total time elapsed: 00:00:00\n"
          ],
          "name": "stderr"
        },
        {
          "output_type": "stream",
          "text": [
            "Finished Epoch 2 || Run Time:    0.2 | Load Time:    0.1 || F1:  23.85 | Prec:  13.98 | Rec:  81.25 || Ex/s: 477.80\n",
            "\n",
            "* Best F1: tensor(23.8532, device='cuda:0')\n",
            "Saving best model...\n",
            "Done.\n",
            "---------------------\n",
            "\n",
            "===>  TRAIN Epoch 3\n"
          ],
          "name": "stdout"
        },
        {
          "output_type": "stream",
          "text": [
            "0% [████] 100% | ETA: 00:00:00\n",
            "Total time elapsed: 00:00:01\n"
          ],
          "name": "stderr"
        },
        {
          "output_type": "stream",
          "text": [
            "Finished Epoch 3 || Run Time:    1.0 | Load Time:    0.3 || F1:  40.34 | Prec:  26.40 | Rec:  85.45 || Ex/s: 273.31\n",
            "\n",
            "===>  EVAL Epoch 3\n"
          ],
          "name": "stdout"
        },
        {
          "output_type": "stream",
          "text": [
            "0% [█] 100% | ETA: 00:00:00\n",
            "Total time elapsed: 00:00:00\n"
          ],
          "name": "stderr"
        },
        {
          "output_type": "stream",
          "text": [
            "Finished Epoch 3 || Run Time:    0.2 | Load Time:    0.1 || F1:  23.81 | Prec:  13.64 | Rec:  93.75 || Ex/s: 469.26\n",
            "\n",
            "---------------------\n",
            "\n",
            "===>  TRAIN Epoch 4\n"
          ],
          "name": "stdout"
        },
        {
          "output_type": "stream",
          "text": [
            "0% [████] 100% | ETA: 00:00:00\n",
            "Total time elapsed: 00:00:01\n"
          ],
          "name": "stderr"
        },
        {
          "output_type": "stream",
          "text": [
            "Finished Epoch 4 || Run Time:    1.0 | Load Time:    0.3 || F1:  40.68 | Prec:  26.52 | Rec:  87.27 || Ex/s: 275.86\n",
            "\n",
            "===>  EVAL Epoch 4\n"
          ],
          "name": "stdout"
        },
        {
          "output_type": "stream",
          "text": [
            "0% [█] 100% | ETA: 00:00:00\n",
            "Total time elapsed: 00:00:00\n"
          ],
          "name": "stderr"
        },
        {
          "output_type": "stream",
          "text": [
            "Finished Epoch 4 || Run Time:    0.2 | Load Time:    0.1 || F1:  23.76 | Prec:  14.12 | Rec:  75.00 || Ex/s: 471.49\n",
            "\n",
            "---------------------\n",
            "\n",
            "===>  TRAIN Epoch 5\n"
          ],
          "name": "stdout"
        },
        {
          "output_type": "stream",
          "text": [
            "0% [████] 100% | ETA: 00:00:00\n",
            "Total time elapsed: 00:00:01\n"
          ],
          "name": "stderr"
        },
        {
          "output_type": "stream",
          "text": [
            "Finished Epoch 5 || Run Time:    1.0 | Load Time:    0.2 || F1:  42.67 | Prec:  28.24 | Rec:  87.27 || Ex/s: 276.58\n",
            "\n",
            "===>  EVAL Epoch 5\n"
          ],
          "name": "stdout"
        },
        {
          "output_type": "stream",
          "text": [
            "0% [█] 100% | ETA: 00:00:00\n",
            "Total time elapsed: 00:00:00\n"
          ],
          "name": "stderr"
        },
        {
          "output_type": "stream",
          "text": [
            "Finished Epoch 5 || Run Time:    0.2 | Load Time:    0.1 || F1:  28.57 | Prec:  18.03 | Rec:  68.75 || Ex/s: 453.77\n",
            "\n",
            "* Best F1: tensor(28.5714, device='cuda:0')\n",
            "Saving best model...\n",
            "Done.\n",
            "---------------------\n",
            "\n",
            "===>  TRAIN Epoch 6\n"
          ],
          "name": "stdout"
        },
        {
          "output_type": "stream",
          "text": [
            "0% [████] 100% | ETA: 00:00:00\n",
            "Total time elapsed: 00:00:01\n"
          ],
          "name": "stderr"
        },
        {
          "output_type": "stream",
          "text": [
            "Finished Epoch 6 || Run Time:    1.0 | Load Time:    0.3 || F1:  47.80 | Prec:  32.67 | Rec:  89.09 || Ex/s: 275.50\n",
            "\n",
            "===>  EVAL Epoch 6\n"
          ],
          "name": "stdout"
        },
        {
          "output_type": "stream",
          "text": [
            "0% [█] 100% | ETA: 00:00:00\n",
            "Total time elapsed: 00:00:00\n"
          ],
          "name": "stderr"
        },
        {
          "output_type": "stream",
          "text": [
            "Finished Epoch 6 || Run Time:    0.2 | Load Time:    0.1 || F1:  31.43 | Prec:  20.37 | Rec:  68.75 || Ex/s: 461.04\n",
            "\n",
            "* Best F1: tensor(31.4286, device='cuda:0')\n",
            "Saving best model...\n",
            "Done.\n",
            "---------------------\n",
            "\n",
            "===>  TRAIN Epoch 7\n"
          ],
          "name": "stdout"
        },
        {
          "output_type": "stream",
          "text": [
            "0% [████] 100% | ETA: 00:00:00\n",
            "Total time elapsed: 00:00:01\n"
          ],
          "name": "stderr"
        },
        {
          "output_type": "stream",
          "text": [
            "Finished Epoch 7 || Run Time:    1.0 | Load Time:    0.2 || F1:  50.81 | Prec:  36.15 | Rec:  85.45 || Ex/s: 279.14\n",
            "\n",
            "===>  EVAL Epoch 7\n"
          ],
          "name": "stdout"
        },
        {
          "output_type": "stream",
          "text": [
            "0% [█] 100% | ETA: 00:00:00\n",
            "Total time elapsed: 00:00:00\n"
          ],
          "name": "stderr"
        },
        {
          "output_type": "stream",
          "text": [
            "Finished Epoch 7 || Run Time:    0.2 | Load Time:    0.1 || F1:  33.85 | Prec:  22.45 | Rec:  68.75 || Ex/s: 459.21\n",
            "\n",
            "* Best F1: tensor(33.8462, device='cuda:0')\n",
            "Saving best model...\n",
            "Done.\n",
            "---------------------\n",
            "\n",
            "===>  TRAIN Epoch 8\n"
          ],
          "name": "stdout"
        },
        {
          "output_type": "stream",
          "text": [
            "0% [████] 100% | ETA: 00:00:00\n",
            "Total time elapsed: 00:00:01\n"
          ],
          "name": "stderr"
        },
        {
          "output_type": "stream",
          "text": [
            "Finished Epoch 8 || Run Time:    1.0 | Load Time:    0.2 || F1:  54.65 | Prec:  40.17 | Rec:  85.45 || Ex/s: 275.45\n",
            "\n",
            "===>  EVAL Epoch 8\n"
          ],
          "name": "stdout"
        },
        {
          "output_type": "stream",
          "text": [
            "0% [█] 100% | ETA: 00:00:00\n",
            "Total time elapsed: 00:00:00\n"
          ],
          "name": "stderr"
        },
        {
          "output_type": "stream",
          "text": [
            "Finished Epoch 8 || Run Time:    0.2 | Load Time:    0.1 || F1:  35.48 | Prec:  23.91 | Rec:  68.75 || Ex/s: 467.41\n",
            "\n",
            "* Best F1: tensor(35.4839, device='cuda:0')\n",
            "Saving best model...\n",
            "Done.\n",
            "---------------------\n",
            "\n",
            "===>  TRAIN Epoch 9\n"
          ],
          "name": "stdout"
        },
        {
          "output_type": "stream",
          "text": [
            "0% [████] 100% | ETA: 00:00:00\n",
            "Total time elapsed: 00:00:01\n"
          ],
          "name": "stderr"
        },
        {
          "output_type": "stream",
          "text": [
            "Finished Epoch 9 || Run Time:    1.0 | Load Time:    0.3 || F1:  56.29 | Prec:  41.96 | Rec:  85.45 || Ex/s: 275.33\n",
            "\n",
            "===>  EVAL Epoch 9\n"
          ],
          "name": "stdout"
        },
        {
          "output_type": "stream",
          "text": [
            "0% [█] 100% | ETA: 00:00:00\n",
            "Total time elapsed: 00:00:00\n"
          ],
          "name": "stderr"
        },
        {
          "output_type": "stream",
          "text": [
            "Finished Epoch 9 || Run Time:    0.2 | Load Time:    0.1 || F1:  35.09 | Prec:  24.39 | Rec:  62.50 || Ex/s: 471.57\n",
            "\n",
            "---------------------\n",
            "\n",
            "===>  TRAIN Epoch 10\n"
          ],
          "name": "stdout"
        },
        {
          "output_type": "stream",
          "text": [
            "0% [████] 100% | ETA: 00:00:00\n",
            "Total time elapsed: 00:00:01\n"
          ],
          "name": "stderr"
        },
        {
          "output_type": "stream",
          "text": [
            "Finished Epoch 10 || Run Time:    1.0 | Load Time:    0.2 || F1:  57.31 | Prec:  42.24 | Rec:  89.09 || Ex/s: 280.22\n",
            "\n",
            "===>  EVAL Epoch 10\n"
          ],
          "name": "stdout"
        },
        {
          "output_type": "stream",
          "text": [
            "0% [█] 100% | ETA: 00:00:00\n",
            "Total time elapsed: 00:00:00\n"
          ],
          "name": "stderr"
        },
        {
          "output_type": "stream",
          "text": [
            "Finished Epoch 10 || Run Time:    0.2 | Load Time:    0.1 || F1:  35.71 | Prec:  25.00 | Rec:  62.50 || Ex/s: 483.48\n",
            "\n",
            "* Best F1: tensor(35.7143, device='cuda:0')\n",
            "Saving best model...\n",
            "Done.\n",
            "---------------------\n",
            "\n",
            "Loading best model...\n",
            "Training done.\n",
            "Time:  16.40533823199985\n",
            "===>  EVAL Epoch 10\n",
            "Finished Epoch 10 || Run Time:    0.1 | Load Time:    0.1 || F1:  40.91 | Prec:  34.62 | Rec:  50.00 || Ex/s: 703.74\n",
            "\n",
            "[[27.067668914794922, 27.48091697692871, 26.865671157836914, 27.067668914794922, 27.067668914794922, 26.666667938232422, 27.48091697692871, 27.48091697692871, 27.906978607177734, 26.666667938232422], [5.750015394000002, 5.685267965000094, 5.7302121419998, 5.657230900000286, 5.643488617000003, 5.653690455000287, 5.695949046000351, 5.649614863999886, 5.699012441999912, 5.686567185000058], [59.09090805053711, 62.96296691894531, 60.0, 57.142852783203125, 68.18182373046875, 58.33333969116211, 63.6363639831543, 59.09090805053711, 63.6363639831543, 62.22221755981445], [7.687237744999948, 7.519205598000553, 7.681276948999766, 7.656541180999739, 7.761204930999156, 7.552193080000507, 7.624731124000391, 7.639079702999879, 7.779594614999951, 7.641921282000112], [48.0, 44.44444274902344, 41.269840240478516, 49.05659866333008, 47.05881881713867, 45.283016204833984, 45.283016204833984, 48.0, 41.50943374633789, 47.05881881713867], [10.559607815999698, 10.517272215000048, 10.539255294999748, 10.651794481000252, 10.594529773999966, 10.422362688999783, 10.721303318000537, 10.835616287999983, 10.645157035999546, 10.671217783999964], [40.909088134765625], [16.40533823199985]]\n",
            "* Number of trainable parameters: 2798703\n",
            "===>  TRAIN Epoch 1\n"
          ],
          "name": "stdout"
        },
        {
          "output_type": "stream",
          "text": [
            "0% [████] 100% | ETA: 00:00:00\n",
            "Total time elapsed: 00:00:01\n"
          ],
          "name": "stderr"
        },
        {
          "output_type": "stream",
          "text": [
            "Finished Epoch 1 || Run Time:    1.1 | Load Time:    0.2 || F1:  26.02 | Prec:  15.13 | Rec:  92.73 || Ex/s: 270.83\n",
            "\n",
            "===>  EVAL Epoch 1\n"
          ],
          "name": "stdout"
        },
        {
          "output_type": "stream",
          "text": [
            "0% [█] 100% | ETA: 00:00:00\n",
            "Total time elapsed: 00:00:00\n"
          ],
          "name": "stderr"
        },
        {
          "output_type": "stream",
          "text": [
            "Finished Epoch 1 || Run Time:    0.2 | Load Time:    0.1 || F1:  23.70 | Prec:  13.45 | Rec: 100.00 || Ex/s: 477.78\n",
            "\n",
            "* Best F1: tensor(23.7037, device='cuda:0')\n",
            "Saving best model...\n",
            "Done.\n",
            "---------------------\n",
            "\n",
            "===>  TRAIN Epoch 2\n"
          ],
          "name": "stdout"
        },
        {
          "output_type": "stream",
          "text": [
            "0% [████] 100% | ETA: 00:00:00\n",
            "Total time elapsed: 00:00:01\n"
          ],
          "name": "stderr"
        },
        {
          "output_type": "stream",
          "text": [
            "Finished Epoch 2 || Run Time:    1.0 | Load Time:    0.2 || F1:  35.21 | Prec:  22.17 | Rec:  85.45 || Ex/s: 276.52\n",
            "\n",
            "===>  EVAL Epoch 2\n"
          ],
          "name": "stdout"
        },
        {
          "output_type": "stream",
          "text": [
            "0% [█] 100% | ETA: 00:00:00\n",
            "Total time elapsed: 00:00:00\n"
          ],
          "name": "stderr"
        },
        {
          "output_type": "stream",
          "text": [
            "Finished Epoch 2 || Run Time:    0.2 | Load Time:    0.1 || F1:  24.07 | Prec:  14.13 | Rec:  81.25 || Ex/s: 474.16\n",
            "\n",
            "* Best F1: tensor(24.0741, device='cuda:0')\n",
            "Saving best model...\n",
            "Done.\n",
            "---------------------\n",
            "\n",
            "===>  TRAIN Epoch 3\n"
          ],
          "name": "stdout"
        },
        {
          "output_type": "stream",
          "text": [
            "0% [████] 100% | ETA: 00:00:00\n",
            "Total time elapsed: 00:00:01\n"
          ],
          "name": "stderr"
        },
        {
          "output_type": "stream",
          "text": [
            "Finished Epoch 3 || Run Time:    1.0 | Load Time:    0.3 || F1:  40.52 | Prec:  26.55 | Rec:  85.45 || Ex/s: 273.33\n",
            "\n",
            "===>  EVAL Epoch 3\n"
          ],
          "name": "stdout"
        },
        {
          "output_type": "stream",
          "text": [
            "0% [█] 100% | ETA: 00:00:00\n",
            "Total time elapsed: 00:00:00\n"
          ],
          "name": "stderr"
        },
        {
          "output_type": "stream",
          "text": [
            "Finished Epoch 3 || Run Time:    0.2 | Load Time:    0.1 || F1:  24.39 | Prec:  14.02 | Rec:  93.75 || Ex/s: 473.04\n",
            "\n",
            "* Best F1: tensor(24.3902, device='cuda:0')\n",
            "Saving best model...\n",
            "Done.\n",
            "---------------------\n",
            "\n",
            "===>  TRAIN Epoch 4\n"
          ],
          "name": "stdout"
        },
        {
          "output_type": "stream",
          "text": [
            "0% [████] 100% | ETA: 00:00:00\n",
            "Total time elapsed: 00:00:01\n"
          ],
          "name": "stderr"
        },
        {
          "output_type": "stream",
          "text": [
            "Finished Epoch 4 || Run Time:    1.0 | Load Time:    0.2 || F1:  42.29 | Prec:  27.91 | Rec:  87.27 || Ex/s: 275.25\n",
            "\n",
            "===>  EVAL Epoch 4\n"
          ],
          "name": "stdout"
        },
        {
          "output_type": "stream",
          "text": [
            "0% [█] 100% | ETA: 00:00:00\n",
            "Total time elapsed: 00:00:00\n"
          ],
          "name": "stderr"
        },
        {
          "output_type": "stream",
          "text": [
            "Finished Epoch 4 || Run Time:    0.2 | Load Time:    0.1 || F1:  24.49 | Prec:  14.63 | Rec:  75.00 || Ex/s: 458.39\n",
            "\n",
            "* Best F1: tensor(24.4898, device='cuda:0')\n",
            "Saving best model...\n",
            "Done.\n",
            "---------------------\n",
            "\n",
            "===>  TRAIN Epoch 5\n"
          ],
          "name": "stdout"
        },
        {
          "output_type": "stream",
          "text": [
            "0% [████] 100% | ETA: 00:00:00\n",
            "Total time elapsed: 00:00:01\n"
          ],
          "name": "stderr"
        },
        {
          "output_type": "stream",
          "text": [
            "Finished Epoch 5 || Run Time:    1.0 | Load Time:    0.3 || F1:  43.32 | Prec:  29.01 | Rec:  85.45 || Ex/s: 275.41\n",
            "\n",
            "===>  EVAL Epoch 5\n"
          ],
          "name": "stdout"
        },
        {
          "output_type": "stream",
          "text": [
            "0% [█] 100% | ETA: 00:00:00\n",
            "Total time elapsed: 00:00:00\n"
          ],
          "name": "stderr"
        },
        {
          "output_type": "stream",
          "text": [
            "Finished Epoch 5 || Run Time:    0.2 | Load Time:    0.1 || F1:  28.21 | Prec:  17.74 | Rec:  68.75 || Ex/s: 466.26\n",
            "\n",
            "* Best F1: tensor(28.2051, device='cuda:0')\n",
            "Saving best model...\n",
            "Done.\n",
            "---------------------\n",
            "\n",
            "===>  TRAIN Epoch 6\n"
          ],
          "name": "stdout"
        },
        {
          "output_type": "stream",
          "text": [
            "0% [████] 100% | ETA: 00:00:00\n",
            "Total time elapsed: 00:00:01\n"
          ],
          "name": "stderr"
        },
        {
          "output_type": "stream",
          "text": [
            "Finished Epoch 6 || Run Time:    1.0 | Load Time:    0.3 || F1:  47.57 | Prec:  32.45 | Rec:  89.09 || Ex/s: 276.54\n",
            "\n",
            "===>  EVAL Epoch 6\n"
          ],
          "name": "stdout"
        },
        {
          "output_type": "stream",
          "text": [
            "0% [█] 100% | ETA: 00:00:00\n",
            "Total time elapsed: 00:00:00\n"
          ],
          "name": "stderr"
        },
        {
          "output_type": "stream",
          "text": [
            "Finished Epoch 6 || Run Time:    0.2 | Load Time:    0.1 || F1:  30.56 | Prec:  19.64 | Rec:  68.75 || Ex/s: 474.30\n",
            "\n",
            "* Best F1: tensor(30.5556, device='cuda:0')\n",
            "Saving best model...\n",
            "Done.\n",
            "---------------------\n",
            "\n",
            "===>  TRAIN Epoch 7\n"
          ],
          "name": "stdout"
        },
        {
          "output_type": "stream",
          "text": [
            "0% [████] 100% | ETA: 00:00:00\n",
            "Total time elapsed: 00:00:01\n"
          ],
          "name": "stderr"
        },
        {
          "output_type": "stream",
          "text": [
            "Finished Epoch 7 || Run Time:    1.1 | Load Time:    0.3 || F1:  50.53 | Prec:  35.56 | Rec:  87.27 || Ex/s: 269.12\n",
            "\n",
            "===>  EVAL Epoch 7\n"
          ],
          "name": "stdout"
        },
        {
          "output_type": "stream",
          "text": [
            "0% [█] 100% | ETA: 00:00:00\n",
            "Total time elapsed: 00:00:00\n"
          ],
          "name": "stderr"
        },
        {
          "output_type": "stream",
          "text": [
            "Finished Epoch 7 || Run Time:    0.2 | Load Time:    0.1 || F1:  33.85 | Prec:  22.45 | Rec:  68.75 || Ex/s: 461.26\n",
            "\n",
            "* Best F1: tensor(33.8462, device='cuda:0')\n",
            "Saving best model...\n",
            "Done.\n",
            "---------------------\n",
            "\n",
            "===>  TRAIN Epoch 8\n"
          ],
          "name": "stdout"
        },
        {
          "output_type": "stream",
          "text": [
            "0% [████] 100% | ETA: 00:00:00\n",
            "Total time elapsed: 00:00:01\n"
          ],
          "name": "stderr"
        },
        {
          "output_type": "stream",
          "text": [
            "Finished Epoch 8 || Run Time:    1.0 | Load Time:    0.3 || F1:  53.41 | Prec:  38.84 | Rec:  85.45 || Ex/s: 274.31\n",
            "\n",
            "===>  EVAL Epoch 8\n"
          ],
          "name": "stdout"
        },
        {
          "output_type": "stream",
          "text": [
            "0% [█] 100% | ETA: 00:00:00\n",
            "Total time elapsed: 00:00:00\n"
          ],
          "name": "stderr"
        },
        {
          "output_type": "stream",
          "text": [
            "Finished Epoch 8 || Run Time:    0.2 | Load Time:    0.1 || F1:  36.67 | Prec:  25.00 | Rec:  68.75 || Ex/s: 461.31\n",
            "\n",
            "* Best F1: tensor(36.6667, device='cuda:0')\n",
            "Saving best model...\n",
            "Done.\n",
            "---------------------\n",
            "\n",
            "===>  TRAIN Epoch 9\n"
          ],
          "name": "stdout"
        },
        {
          "output_type": "stream",
          "text": [
            "0% [████] 100% | ETA: 00:00:00\n",
            "Total time elapsed: 00:00:01\n"
          ],
          "name": "stderr"
        },
        {
          "output_type": "stream",
          "text": [
            "Finished Epoch 9 || Run Time:    1.1 | Load Time:    0.3 || F1:  56.63 | Prec:  42.34 | Rec:  85.45 || Ex/s: 266.85\n",
            "\n",
            "===>  EVAL Epoch 9\n"
          ],
          "name": "stdout"
        },
        {
          "output_type": "stream",
          "text": [
            "0% [█] 100% | ETA: 00:00:00\n",
            "Total time elapsed: 00:00:00\n"
          ],
          "name": "stderr"
        },
        {
          "output_type": "stream",
          "text": [
            "Finished Epoch 9 || Run Time:    0.2 | Load Time:    0.1 || F1:  35.71 | Prec:  25.00 | Rec:  62.50 || Ex/s: 461.56\n",
            "\n",
            "---------------------\n",
            "\n",
            "===>  TRAIN Epoch 10\n"
          ],
          "name": "stdout"
        },
        {
          "output_type": "stream",
          "text": [
            "0% [████] 100% | ETA: 00:00:00\n",
            "Total time elapsed: 00:00:01\n"
          ],
          "name": "stderr"
        },
        {
          "output_type": "stream",
          "text": [
            "Finished Epoch 10 || Run Time:    1.1 | Load Time:    0.3 || F1:  57.83 | Prec:  43.24 | Rec:  87.27 || Ex/s: 268.18\n",
            "\n",
            "===>  EVAL Epoch 10\n"
          ],
          "name": "stdout"
        },
        {
          "output_type": "stream",
          "text": [
            "0% [█] 100% | ETA: 00:00:00\n",
            "Total time elapsed: 00:00:00\n"
          ],
          "name": "stderr"
        },
        {
          "output_type": "stream",
          "text": [
            "Finished Epoch 10 || Run Time:    0.2 | Load Time:    0.1 || F1:  37.04 | Prec:  26.32 | Rec:  62.50 || Ex/s: 452.11\n",
            "\n",
            "* Best F1: tensor(37.0370, device='cuda:0')\n",
            "Saving best model...\n",
            "Done.\n",
            "---------------------\n",
            "\n",
            "Loading best model...\n",
            "Training done.\n",
            "Time:  16.843502366999928\n",
            "===>  EVAL Epoch 10\n",
            "Finished Epoch 10 || Run Time:    0.1 | Load Time:    0.1 || F1:  42.86 | Prec:  37.50 | Rec:  50.00 || Ex/s: 693.30\n",
            "\n",
            "[[27.067668914794922, 27.48091697692871, 26.865671157836914, 27.067668914794922, 27.067668914794922, 26.666667938232422, 27.48091697692871, 27.48091697692871, 27.906978607177734, 26.666667938232422], [5.750015394000002, 5.685267965000094, 5.7302121419998, 5.657230900000286, 5.643488617000003, 5.653690455000287, 5.695949046000351, 5.649614863999886, 5.699012441999912, 5.686567185000058], [59.09090805053711, 62.96296691894531, 60.0, 57.142852783203125, 68.18182373046875, 58.33333969116211, 63.6363639831543, 59.09090805053711, 63.6363639831543, 62.22221755981445], [7.687237744999948, 7.519205598000553, 7.681276948999766, 7.656541180999739, 7.761204930999156, 7.552193080000507, 7.624731124000391, 7.639079702999879, 7.779594614999951, 7.641921282000112], [48.0, 44.44444274902344, 41.269840240478516, 49.05659866333008, 47.05881881713867, 45.283016204833984, 45.283016204833984, 48.0, 41.50943374633789, 47.05881881713867], [10.559607815999698, 10.517272215000048, 10.539255294999748, 10.651794481000252, 10.594529773999966, 10.422362688999783, 10.721303318000537, 10.835616287999983, 10.645157035999546, 10.671217783999964], [40.909088134765625, 42.85714340209961], [16.40533823199985, 16.843502366999928]]\n",
            "* Number of trainable parameters: 2798703\n",
            "===>  TRAIN Epoch 1\n"
          ],
          "name": "stdout"
        },
        {
          "output_type": "stream",
          "text": [
            "0% [████] 100% | ETA: 00:00:00\n",
            "Total time elapsed: 00:00:01\n"
          ],
          "name": "stderr"
        },
        {
          "output_type": "stream",
          "text": [
            "Finished Epoch 1 || Run Time:    1.1 | Load Time:    0.3 || F1:  25.19 | Prec:  14.67 | Rec:  89.09 || Ex/s: 268.50\n",
            "\n",
            "===>  EVAL Epoch 1\n"
          ],
          "name": "stdout"
        },
        {
          "output_type": "stream",
          "text": [
            "0% [█] 100% | ETA: 00:00:00\n",
            "Total time elapsed: 00:00:00\n"
          ],
          "name": "stderr"
        },
        {
          "output_type": "stream",
          "text": [
            "Finished Epoch 1 || Run Time:    0.2 | Load Time:    0.1 || F1:  23.70 | Prec:  13.45 | Rec: 100.00 || Ex/s: 457.17\n",
            "\n",
            "* Best F1: tensor(23.7037, device='cuda:0')\n",
            "Saving best model...\n",
            "Done.\n",
            "---------------------\n",
            "\n",
            "===>  TRAIN Epoch 2\n"
          ],
          "name": "stdout"
        },
        {
          "output_type": "stream",
          "text": [
            "0% [████] 100% | ETA: 00:00:00\n",
            "Total time elapsed: 00:00:01\n"
          ],
          "name": "stderr"
        },
        {
          "output_type": "stream",
          "text": [
            "Finished Epoch 2 || Run Time:    1.1 | Load Time:    0.3 || F1:  33.57 | Prec:  20.89 | Rec:  85.45 || Ex/s: 269.99\n",
            "\n",
            "===>  EVAL Epoch 2\n"
          ],
          "name": "stdout"
        },
        {
          "output_type": "stream",
          "text": [
            "0% [█] 100% | ETA: 00:00:00\n",
            "Total time elapsed: 00:00:00\n"
          ],
          "name": "stderr"
        },
        {
          "output_type": "stream",
          "text": [
            "Finished Epoch 2 || Run Time:    0.2 | Load Time:    0.1 || F1:  21.67 | Prec:  12.50 | Rec:  81.25 || Ex/s: 467.25\n",
            "\n",
            "---------------------\n",
            "\n",
            "===>  TRAIN Epoch 3\n"
          ],
          "name": "stdout"
        },
        {
          "output_type": "stream",
          "text": [
            "0% [████] 100% | ETA: 00:00:00\n",
            "Total time elapsed: 00:00:01\n"
          ],
          "name": "stderr"
        },
        {
          "output_type": "stream",
          "text": [
            "Finished Epoch 3 || Run Time:    1.0 | Load Time:    0.3 || F1:  38.98 | Prec:  25.41 | Rec:  83.64 || Ex/s: 275.63\n",
            "\n",
            "===>  EVAL Epoch 3\n"
          ],
          "name": "stdout"
        },
        {
          "output_type": "stream",
          "text": [
            "0% [█] 100% | ETA: 00:00:00\n",
            "Total time elapsed: 00:00:00\n"
          ],
          "name": "stderr"
        },
        {
          "output_type": "stream",
          "text": [
            "Finished Epoch 3 || Run Time:    0.2 | Load Time:    0.1 || F1:  21.31 | Prec:  12.26 | Rec:  81.25 || Ex/s: 467.44\n",
            "\n",
            "---------------------\n",
            "\n",
            "===>  TRAIN Epoch 4\n"
          ],
          "name": "stdout"
        },
        {
          "output_type": "stream",
          "text": [
            "0% [████] 100% | ETA: 00:00:00\n",
            "Total time elapsed: 00:00:01\n"
          ],
          "name": "stderr"
        },
        {
          "output_type": "stream",
          "text": [
            "Finished Epoch 4 || Run Time:    1.0 | Load Time:    0.2 || F1:  41.56 | Prec:  27.27 | Rec:  87.27 || Ex/s: 278.83\n",
            "\n",
            "===>  EVAL Epoch 4\n"
          ],
          "name": "stdout"
        },
        {
          "output_type": "stream",
          "text": [
            "0% [█] 100% | ETA: 00:00:00\n",
            "Total time elapsed: 00:00:00\n"
          ],
          "name": "stderr"
        },
        {
          "output_type": "stream",
          "text": [
            "Finished Epoch 4 || Run Time:    0.2 | Load Time:    0.1 || F1:  24.74 | Prec:  14.81 | Rec:  75.00 || Ex/s: 469.18\n",
            "\n",
            "* Best F1: tensor(24.7423, device='cuda:0')\n",
            "Saving best model...\n",
            "Done.\n",
            "---------------------\n",
            "\n",
            "===>  TRAIN Epoch 5\n"
          ],
          "name": "stdout"
        },
        {
          "output_type": "stream",
          "text": [
            "0% [████] 100% | ETA: 00:00:00\n",
            "Total time elapsed: 00:00:01\n"
          ],
          "name": "stderr"
        },
        {
          "output_type": "stream",
          "text": [
            "Finished Epoch 5 || Run Time:    1.0 | Load Time:    0.3 || F1:  43.36 | Prec:  28.65 | Rec:  89.09 || Ex/s: 278.31\n",
            "\n",
            "===>  EVAL Epoch 5\n"
          ],
          "name": "stdout"
        },
        {
          "output_type": "stream",
          "text": [
            "0% [█] 100% | ETA: 00:00:00\n",
            "Total time elapsed: 00:00:00\n"
          ],
          "name": "stderr"
        },
        {
          "output_type": "stream",
          "text": [
            "Finished Epoch 5 || Run Time:    0.2 | Load Time:    0.1 || F1:  31.17 | Prec:  19.67 | Rec:  75.00 || Ex/s: 464.68\n",
            "\n",
            "* Best F1: tensor(31.1688, device='cuda:0')\n",
            "Saving best model...\n",
            "Done.\n",
            "---------------------\n",
            "\n",
            "===>  TRAIN Epoch 6\n"
          ],
          "name": "stdout"
        },
        {
          "output_type": "stream",
          "text": [
            "0% [████] 100% | ETA: 00:00:00\n",
            "Total time elapsed: 00:00:01\n"
          ],
          "name": "stderr"
        },
        {
          "output_type": "stream",
          "text": [
            "Finished Epoch 6 || Run Time:    1.0 | Load Time:    0.3 || F1:  48.04 | Prec:  32.89 | Rec:  89.09 || Ex/s: 277.64\n",
            "\n",
            "===>  EVAL Epoch 6\n"
          ],
          "name": "stdout"
        },
        {
          "output_type": "stream",
          "text": [
            "0% [█] 100% | ETA: 00:00:00\n",
            "Total time elapsed: 00:00:00\n"
          ],
          "name": "stderr"
        },
        {
          "output_type": "stream",
          "text": [
            "Finished Epoch 6 || Run Time:    0.2 | Load Time:    0.1 || F1:  30.99 | Prec:  20.00 | Rec:  68.75 || Ex/s: 455.63\n",
            "\n",
            "---------------------\n",
            "\n",
            "===>  TRAIN Epoch 7\n"
          ],
          "name": "stdout"
        },
        {
          "output_type": "stream",
          "text": [
            "0% [████] 100% | ETA: 00:00:00\n",
            "Total time elapsed: 00:00:01\n"
          ],
          "name": "stderr"
        },
        {
          "output_type": "stream",
          "text": [
            "Finished Epoch 7 || Run Time:    1.0 | Load Time:    0.2 || F1:  51.34 | Prec:  36.36 | Rec:  87.27 || Ex/s: 279.88\n",
            "\n",
            "===>  EVAL Epoch 7\n"
          ],
          "name": "stdout"
        },
        {
          "output_type": "stream",
          "text": [
            "0% [█] 100% | ETA: 00:00:00\n",
            "Total time elapsed: 00:00:00\n"
          ],
          "name": "stderr"
        },
        {
          "output_type": "stream",
          "text": [
            "Finished Epoch 7 || Run Time:    0.2 | Load Time:    0.1 || F1:  34.92 | Prec:  23.40 | Rec:  68.75 || Ex/s: 458.53\n",
            "\n",
            "* Best F1: tensor(34.9206, device='cuda:0')\n",
            "Saving best model...\n",
            "Done.\n",
            "---------------------\n",
            "\n",
            "===>  TRAIN Epoch 8\n"
          ],
          "name": "stdout"
        },
        {
          "output_type": "stream",
          "text": [
            "0% [████] 100% | ETA: 00:00:00\n",
            "Total time elapsed: 00:00:01\n"
          ],
          "name": "stderr"
        },
        {
          "output_type": "stream",
          "text": [
            "Finished Epoch 8 || Run Time:    1.0 | Load Time:    0.3 || F1:  52.81 | Prec:  38.21 | Rec:  85.45 || Ex/s: 273.11\n",
            "\n",
            "===>  EVAL Epoch 8\n"
          ],
          "name": "stdout"
        },
        {
          "output_type": "stream",
          "text": [
            "0% [█] 100% | ETA: 00:00:00\n",
            "Total time elapsed: 00:00:00\n"
          ],
          "name": "stderr"
        },
        {
          "output_type": "stream",
          "text": [
            "Finished Epoch 8 || Run Time:    0.2 | Load Time:    0.1 || F1:  36.07 | Prec:  24.44 | Rec:  68.75 || Ex/s: 465.24\n",
            "\n",
            "* Best F1: tensor(36.0656, device='cuda:0')\n",
            "Saving best model...\n",
            "Done.\n",
            "---------------------\n",
            "\n",
            "===>  TRAIN Epoch 9\n"
          ],
          "name": "stdout"
        },
        {
          "output_type": "stream",
          "text": [
            "0% [████] 100% | ETA: 00:00:00\n",
            "Total time elapsed: 00:00:01\n"
          ],
          "name": "stderr"
        },
        {
          "output_type": "stream",
          "text": [
            "Finished Epoch 9 || Run Time:    1.0 | Load Time:    0.3 || F1:  54.02 | Prec:  39.50 | Rec:  85.45 || Ex/s: 275.02\n",
            "\n",
            "===>  EVAL Epoch 9\n"
          ],
          "name": "stdout"
        },
        {
          "output_type": "stream",
          "text": [
            "0% [█] 100% | ETA: 00:00:00\n",
            "Total time elapsed: 00:00:00\n"
          ],
          "name": "stderr"
        },
        {
          "output_type": "stream",
          "text": [
            "Finished Epoch 9 || Run Time:    0.2 | Load Time:    0.1 || F1:  36.36 | Prec:  25.64 | Rec:  62.50 || Ex/s: 476.06\n",
            "\n",
            "* Best F1: tensor(36.3636, device='cuda:0')\n",
            "Saving best model...\n",
            "Done.\n",
            "---------------------\n",
            "\n",
            "===>  TRAIN Epoch 10\n"
          ],
          "name": "stdout"
        },
        {
          "output_type": "stream",
          "text": [
            "0% [████] 100% | ETA: 00:00:00\n",
            "Total time elapsed: 00:00:01\n"
          ],
          "name": "stderr"
        },
        {
          "output_type": "stream",
          "text": [
            "Finished Epoch 10 || Run Time:    1.0 | Load Time:    0.3 || F1:  56.65 | Prec:  41.53 | Rec:  89.09 || Ex/s: 275.04\n",
            "\n",
            "===>  EVAL Epoch 10\n"
          ],
          "name": "stdout"
        },
        {
          "output_type": "stream",
          "text": [
            "0% [█] 100% | ETA: 00:00:00\n",
            "Total time elapsed: 00:00:00\n"
          ],
          "name": "stderr"
        },
        {
          "output_type": "stream",
          "text": [
            "Finished Epoch 10 || Run Time:    0.2 | Load Time:    0.1 || F1:  35.09 | Prec:  24.39 | Rec:  62.50 || Ex/s: 479.00\n",
            "\n",
            "---------------------\n",
            "\n",
            "Loading best model...\n",
            "Training done.\n",
            "Time:  16.363356346999353\n",
            "===>  EVAL Epoch 9\n",
            "Finished Epoch 9 || Run Time:    0.1 | Load Time:    0.1 || F1:  43.48 | Prec:  35.71 | Rec:  55.56 || Ex/s: 709.75\n",
            "\n",
            "[[27.067668914794922, 27.48091697692871, 26.865671157836914, 27.067668914794922, 27.067668914794922, 26.666667938232422, 27.48091697692871, 27.48091697692871, 27.906978607177734, 26.666667938232422], [5.750015394000002, 5.685267965000094, 5.7302121419998, 5.657230900000286, 5.643488617000003, 5.653690455000287, 5.695949046000351, 5.649614863999886, 5.699012441999912, 5.686567185000058], [59.09090805053711, 62.96296691894531, 60.0, 57.142852783203125, 68.18182373046875, 58.33333969116211, 63.6363639831543, 59.09090805053711, 63.6363639831543, 62.22221755981445], [7.687237744999948, 7.519205598000553, 7.681276948999766, 7.656541180999739, 7.761204930999156, 7.552193080000507, 7.624731124000391, 7.639079702999879, 7.779594614999951, 7.641921282000112], [48.0, 44.44444274902344, 41.269840240478516, 49.05659866333008, 47.05881881713867, 45.283016204833984, 45.283016204833984, 48.0, 41.50943374633789, 47.05881881713867], [10.559607815999698, 10.517272215000048, 10.539255294999748, 10.651794481000252, 10.594529773999966, 10.422362688999783, 10.721303318000537, 10.835616287999983, 10.645157035999546, 10.671217783999964], [40.909088134765625, 42.85714340209961, 43.4782600402832], [16.40533823199985, 16.843502366999928, 16.363356346999353]]\n",
            "* Number of trainable parameters: 2798703\n",
            "===>  TRAIN Epoch 1\n"
          ],
          "name": "stdout"
        },
        {
          "output_type": "stream",
          "text": [
            "0% [████] 100% | ETA: 00:00:00\n",
            "Total time elapsed: 00:00:01\n"
          ],
          "name": "stderr"
        },
        {
          "output_type": "stream",
          "text": [
            "Finished Epoch 1 || Run Time:    1.0 | Load Time:    0.3 || F1:  25.77 | Prec:  15.02 | Rec:  90.91 || Ex/s: 278.04\n",
            "\n",
            "===>  EVAL Epoch 1\n"
          ],
          "name": "stdout"
        },
        {
          "output_type": "stream",
          "text": [
            "0% [█] 100% | ETA: 00:00:00\n",
            "Total time elapsed: 00:00:00\n"
          ],
          "name": "stderr"
        },
        {
          "output_type": "stream",
          "text": [
            "Finished Epoch 1 || Run Time:    0.2 | Load Time:    0.1 || F1:  23.70 | Prec:  13.45 | Rec: 100.00 || Ex/s: 484.18\n",
            "\n",
            "* Best F1: tensor(23.7037, device='cuda:0')\n",
            "Saving best model...\n",
            "Done.\n",
            "---------------------\n",
            "\n",
            "===>  TRAIN Epoch 2\n"
          ],
          "name": "stdout"
        },
        {
          "output_type": "stream",
          "text": [
            "0% [████] 100% | ETA: 00:00:00\n",
            "Total time elapsed: 00:00:01\n"
          ],
          "name": "stderr"
        },
        {
          "output_type": "stream",
          "text": [
            "Finished Epoch 2 || Run Time:    1.1 | Load Time:    0.3 || F1:  35.47 | Prec:  22.38 | Rec:  85.45 || Ex/s: 269.32\n",
            "\n",
            "===>  EVAL Epoch 2\n"
          ],
          "name": "stdout"
        },
        {
          "output_type": "stream",
          "text": [
            "0% [█] 100% | ETA: 00:00:00\n",
            "Total time elapsed: 00:00:00\n"
          ],
          "name": "stderr"
        },
        {
          "output_type": "stream",
          "text": [
            "Finished Epoch 2 || Run Time:    0.2 | Load Time:    0.1 || F1:  24.00 | Prec:  14.29 | Rec:  75.00 || Ex/s: 473.07\n",
            "\n",
            "* Best F1: tensor(24., device='cuda:0')\n",
            "Saving best model...\n",
            "Done.\n",
            "---------------------\n",
            "\n",
            "===>  TRAIN Epoch 3\n"
          ],
          "name": "stdout"
        },
        {
          "output_type": "stream",
          "text": [
            "0% [████] 100% | ETA: 00:00:00\n",
            "Total time elapsed: 00:00:01\n"
          ],
          "name": "stderr"
        },
        {
          "output_type": "stream",
          "text": [
            "Finished Epoch 3 || Run Time:    1.1 | Load Time:    0.3 || F1:  40.52 | Prec:  26.55 | Rec:  85.45 || Ex/s: 270.94\n",
            "\n",
            "===>  EVAL Epoch 3\n"
          ],
          "name": "stdout"
        },
        {
          "output_type": "stream",
          "text": [
            "0% [█] 100% | ETA: 00:00:00\n",
            "Total time elapsed: 00:00:00\n"
          ],
          "name": "stderr"
        },
        {
          "output_type": "stream",
          "text": [
            "Finished Epoch 3 || Run Time:    0.2 | Load Time:    0.1 || F1:  20.80 | Prec:  11.93 | Rec:  81.25 || Ex/s: 477.21\n",
            "\n",
            "---------------------\n",
            "\n",
            "===>  TRAIN Epoch 4\n"
          ],
          "name": "stdout"
        },
        {
          "output_type": "stream",
          "text": [
            "0% [████] 100% | ETA: 00:00:00\n",
            "Total time elapsed: 00:00:01\n"
          ],
          "name": "stderr"
        },
        {
          "output_type": "stream",
          "text": [
            "Finished Epoch 4 || Run Time:    1.0 | Load Time:    0.2 || F1:  41.05 | Prec:  27.01 | Rec:  85.45 || Ex/s: 277.88\n",
            "\n",
            "===>  EVAL Epoch 4\n"
          ],
          "name": "stdout"
        },
        {
          "output_type": "stream",
          "text": [
            "0% [█] 100% | ETA: 00:00:00\n",
            "Total time elapsed: 00:00:00\n"
          ],
          "name": "stderr"
        },
        {
          "output_type": "stream",
          "text": [
            "Finished Epoch 4 || Run Time:    0.2 | Load Time:    0.1 || F1:  23.01 | Prec:  13.40 | Rec:  81.25 || Ex/s: 472.38\n",
            "\n",
            "---------------------\n",
            "\n",
            "===>  TRAIN Epoch 5\n"
          ],
          "name": "stdout"
        },
        {
          "output_type": "stream",
          "text": [
            "0% [████] 100% | ETA: 00:00:00\n",
            "Total time elapsed: 00:00:01\n"
          ],
          "name": "stderr"
        },
        {
          "output_type": "stream",
          "text": [
            "Finished Epoch 5 || Run Time:    1.0 | Load Time:    0.2 || F1:  41.96 | Prec:  27.81 | Rec:  85.45 || Ex/s: 277.34\n",
            "\n",
            "===>  EVAL Epoch 5\n"
          ],
          "name": "stdout"
        },
        {
          "output_type": "stream",
          "text": [
            "0% [█] 100% | ETA: 00:00:00\n",
            "Total time elapsed: 00:00:00\n"
          ],
          "name": "stderr"
        },
        {
          "output_type": "stream",
          "text": [
            "Finished Epoch 5 || Run Time:    0.2 | Load Time:    0.1 || F1:  27.50 | Prec:  17.19 | Rec:  68.75 || Ex/s: 478.19\n",
            "\n",
            "* Best F1: tensor(27.5000, device='cuda:0')\n",
            "Saving best model...\n",
            "Done.\n",
            "---------------------\n",
            "\n",
            "===>  TRAIN Epoch 6\n"
          ],
          "name": "stdout"
        },
        {
          "output_type": "stream",
          "text": [
            "0% [████] 100% | ETA: 00:00:00\n",
            "Total time elapsed: 00:00:01\n"
          ],
          "name": "stderr"
        },
        {
          "output_type": "stream",
          "text": [
            "Finished Epoch 6 || Run Time:    1.0 | Load Time:    0.3 || F1:  48.51 | Prec:  33.33 | Rec:  89.09 || Ex/s: 275.86\n",
            "\n",
            "===>  EVAL Epoch 6\n"
          ],
          "name": "stdout"
        },
        {
          "output_type": "stream",
          "text": [
            "0% [█] 100% | ETA: 00:00:00\n",
            "Total time elapsed: 00:00:00\n"
          ],
          "name": "stderr"
        },
        {
          "output_type": "stream",
          "text": [
            "Finished Epoch 6 || Run Time:    0.2 | Load Time:    0.1 || F1:  32.79 | Prec:  22.22 | Rec:  62.50 || Ex/s: 464.27\n",
            "\n",
            "* Best F1: tensor(32.7869, device='cuda:0')\n",
            "Saving best model...\n",
            "Done.\n",
            "---------------------\n",
            "\n",
            "===>  TRAIN Epoch 7\n"
          ],
          "name": "stdout"
        },
        {
          "output_type": "stream",
          "text": [
            "0% [████] 100% | ETA: 00:00:00\n",
            "Total time elapsed: 00:00:01\n"
          ],
          "name": "stderr"
        },
        {
          "output_type": "stream",
          "text": [
            "Finished Epoch 7 || Run Time:    1.0 | Load Time:    0.3 || F1:  50.26 | Prec:  35.29 | Rec:  87.27 || Ex/s: 275.73\n",
            "\n",
            "===>  EVAL Epoch 7\n"
          ],
          "name": "stdout"
        },
        {
          "output_type": "stream",
          "text": [
            "0% [█] 100% | ETA: 00:00:00\n",
            "Total time elapsed: 00:00:00\n"
          ],
          "name": "stderr"
        },
        {
          "output_type": "stream",
          "text": [
            "Finished Epoch 7 || Run Time:    0.2 | Load Time:    0.1 || F1:  33.90 | Prec:  23.26 | Rec:  62.50 || Ex/s: 464.18\n",
            "\n",
            "* Best F1: tensor(33.8983, device='cuda:0')\n",
            "Saving best model...\n",
            "Done.\n",
            "---------------------\n",
            "\n",
            "===>  TRAIN Epoch 8\n"
          ],
          "name": "stdout"
        },
        {
          "output_type": "stream",
          "text": [
            "0% [████] 100% | ETA: 00:00:00\n",
            "Total time elapsed: 00:00:01\n"
          ],
          "name": "stderr"
        },
        {
          "output_type": "stream",
          "text": [
            "Finished Epoch 8 || Run Time:    1.0 | Load Time:    0.3 || F1:  54.24 | Prec:  39.34 | Rec:  87.27 || Ex/s: 273.18\n",
            "\n",
            "===>  EVAL Epoch 8\n"
          ],
          "name": "stdout"
        },
        {
          "output_type": "stream",
          "text": [
            "0% [█] 100% | ETA: 00:00:00\n",
            "Total time elapsed: 00:00:00\n"
          ],
          "name": "stderr"
        },
        {
          "output_type": "stream",
          "text": [
            "Finished Epoch 8 || Run Time:    0.2 | Load Time:    0.1 || F1:  33.33 | Prec:  22.73 | Rec:  62.50 || Ex/s: 469.69\n",
            "\n",
            "---------------------\n",
            "\n",
            "===>  TRAIN Epoch 9\n"
          ],
          "name": "stdout"
        },
        {
          "output_type": "stream",
          "text": [
            "0% [████] 100% | ETA: 00:00:00\n",
            "Total time elapsed: 00:00:01\n"
          ],
          "name": "stderr"
        },
        {
          "output_type": "stream",
          "text": [
            "Finished Epoch 9 || Run Time:    1.0 | Load Time:    0.2 || F1:  58.62 | Prec:  42.86 | Rec:  92.73 || Ex/s: 279.28\n",
            "\n",
            "===>  EVAL Epoch 9\n"
          ],
          "name": "stdout"
        },
        {
          "output_type": "stream",
          "text": [
            "0% [█] 100% | ETA: 00:00:00\n",
            "Total time elapsed: 00:00:00\n"
          ],
          "name": "stderr"
        },
        {
          "output_type": "stream",
          "text": [
            "Finished Epoch 9 || Run Time:    0.2 | Load Time:    0.1 || F1:  34.48 | Prec:  23.81 | Rec:  62.50 || Ex/s: 468.69\n",
            "\n",
            "* Best F1: tensor(34.4828, device='cuda:0')\n",
            "Saving best model...\n",
            "Done.\n",
            "---------------------\n",
            "\n",
            "===>  TRAIN Epoch 10\n"
          ],
          "name": "stdout"
        },
        {
          "output_type": "stream",
          "text": [
            "0% [████] 100% | ETA: 00:00:00\n",
            "Total time elapsed: 00:00:01\n"
          ],
          "name": "stderr"
        },
        {
          "output_type": "stream",
          "text": [
            "Finished Epoch 10 || Run Time:    1.0 | Load Time:    0.2 || F1:  60.36 | Prec:  44.74 | Rec:  92.73 || Ex/s: 273.77\n",
            "\n",
            "===>  EVAL Epoch 10\n"
          ],
          "name": "stdout"
        },
        {
          "output_type": "stream",
          "text": [
            "0% [█] 100% | ETA: 00:00:00\n",
            "Total time elapsed: 00:00:00\n"
          ],
          "name": "stderr"
        },
        {
          "output_type": "stream",
          "text": [
            "Finished Epoch 10 || Run Time:    0.2 | Load Time:    0.1 || F1:  36.36 | Prec:  25.64 | Rec:  62.50 || Ex/s: 475.29\n",
            "\n",
            "* Best F1: tensor(36.3636, device='cuda:0')\n",
            "Saving best model...\n",
            "Done.\n",
            "---------------------\n",
            "\n",
            "Loading best model...\n",
            "Training done.\n",
            "Time:  16.452517071999864\n",
            "===>  EVAL Epoch 10\n",
            "Finished Epoch 10 || Run Time:    0.1 | Load Time:    0.1 || F1:  41.67 | Prec:  33.33 | Rec:  55.56 || Ex/s: 650.01\n",
            "\n",
            "[[27.067668914794922, 27.48091697692871, 26.865671157836914, 27.067668914794922, 27.067668914794922, 26.666667938232422, 27.48091697692871, 27.48091697692871, 27.906978607177734, 26.666667938232422], [5.750015394000002, 5.685267965000094, 5.7302121419998, 5.657230900000286, 5.643488617000003, 5.653690455000287, 5.695949046000351, 5.649614863999886, 5.699012441999912, 5.686567185000058], [59.09090805053711, 62.96296691894531, 60.0, 57.142852783203125, 68.18182373046875, 58.33333969116211, 63.6363639831543, 59.09090805053711, 63.6363639831543, 62.22221755981445], [7.687237744999948, 7.519205598000553, 7.681276948999766, 7.656541180999739, 7.761204930999156, 7.552193080000507, 7.624731124000391, 7.639079702999879, 7.779594614999951, 7.641921282000112], [48.0, 44.44444274902344, 41.269840240478516, 49.05659866333008, 47.05881881713867, 45.283016204833984, 45.283016204833984, 48.0, 41.50943374633789, 47.05881881713867], [10.559607815999698, 10.517272215000048, 10.539255294999748, 10.651794481000252, 10.594529773999966, 10.422362688999783, 10.721303318000537, 10.835616287999983, 10.645157035999546, 10.671217783999964], [40.909088134765625, 42.85714340209961, 43.4782600402832, 41.66666793823242], [16.40533823199985, 16.843502366999928, 16.363356346999353, 16.452517071999864]]\n",
            "* Number of trainable parameters: 2798703\n",
            "===>  TRAIN Epoch 1\n"
          ],
          "name": "stdout"
        },
        {
          "output_type": "stream",
          "text": [
            "0% [████] 100% | ETA: 00:00:00\n",
            "Total time elapsed: 00:00:01\n"
          ],
          "name": "stderr"
        },
        {
          "output_type": "stream",
          "text": [
            "Finished Epoch 1 || Run Time:    1.0 | Load Time:    0.2 || F1:  26.74 | Prec:  15.57 | Rec:  94.55 || Ex/s: 276.51\n",
            "\n",
            "===>  EVAL Epoch 1\n"
          ],
          "name": "stdout"
        },
        {
          "output_type": "stream",
          "text": [
            "0% [█] 100% | ETA: 00:00:00\n",
            "Total time elapsed: 00:00:00\n"
          ],
          "name": "stderr"
        },
        {
          "output_type": "stream",
          "text": [
            "Finished Epoch 1 || Run Time:    0.2 | Load Time:    0.1 || F1:  23.70 | Prec:  13.45 | Rec: 100.00 || Ex/s: 474.55\n",
            "\n",
            "* Best F1: tensor(23.7037, device='cuda:0')\n",
            "Saving best model...\n",
            "Done.\n",
            "---------------------\n",
            "\n",
            "===>  TRAIN Epoch 2\n"
          ],
          "name": "stdout"
        },
        {
          "output_type": "stream",
          "text": [
            "0% [████] 100% | ETA: 00:00:00\n",
            "Total time elapsed: 00:00:01\n"
          ],
          "name": "stderr"
        },
        {
          "output_type": "stream",
          "text": [
            "Finished Epoch 2 || Run Time:    1.0 | Load Time:    0.3 || F1:  34.46 | Prec:  21.70 | Rec:  83.64 || Ex/s: 278.08\n",
            "\n",
            "===>  EVAL Epoch 2\n"
          ],
          "name": "stdout"
        },
        {
          "output_type": "stream",
          "text": [
            "0% [█] 100% | ETA: 00:00:00\n",
            "Total time elapsed: 00:00:00\n"
          ],
          "name": "stderr"
        },
        {
          "output_type": "stream",
          "text": [
            "Finished Epoch 2 || Run Time:    0.2 | Load Time:    0.1 || F1:  24.59 | Prec:  14.15 | Rec:  93.75 || Ex/s: 462.48\n",
            "\n",
            "* Best F1: tensor(24.5902, device='cuda:0')\n",
            "Saving best model...\n",
            "Done.\n",
            "---------------------\n",
            "\n",
            "===>  TRAIN Epoch 3\n"
          ],
          "name": "stdout"
        },
        {
          "output_type": "stream",
          "text": [
            "0% [████] 100% | ETA: 00:00:00\n",
            "Total time elapsed: 00:00:01\n"
          ],
          "name": "stderr"
        },
        {
          "output_type": "stream",
          "text": [
            "Finished Epoch 3 || Run Time:    1.0 | Load Time:    0.3 || F1:  40.00 | Prec:  26.11 | Rec:  85.45 || Ex/s: 272.18\n",
            "\n",
            "===>  EVAL Epoch 3\n"
          ],
          "name": "stdout"
        },
        {
          "output_type": "stream",
          "text": [
            "0% [█] 100% | ETA: 00:00:00\n",
            "Total time elapsed: 00:00:00\n"
          ],
          "name": "stderr"
        },
        {
          "output_type": "stream",
          "text": [
            "Finished Epoch 3 || Run Time:    0.2 | Load Time:    0.1 || F1:  24.39 | Prec:  14.02 | Rec:  93.75 || Ex/s: 463.34\n",
            "\n",
            "---------------------\n",
            "\n",
            "===>  TRAIN Epoch 4\n"
          ],
          "name": "stdout"
        },
        {
          "output_type": "stream",
          "text": [
            "0% [████] 100% | ETA: 00:00:00\n",
            "Total time elapsed: 00:00:01\n"
          ],
          "name": "stderr"
        },
        {
          "output_type": "stream",
          "text": [
            "Finished Epoch 4 || Run Time:    1.0 | Load Time:    0.2 || F1:  40.85 | Prec:  26.67 | Rec:  87.27 || Ex/s: 281.64\n",
            "\n",
            "===>  EVAL Epoch 4\n"
          ],
          "name": "stdout"
        },
        {
          "output_type": "stream",
          "text": [
            "0% [█] 100% | ETA: 00:00:00\n",
            "Total time elapsed: 00:00:00\n"
          ],
          "name": "stderr"
        },
        {
          "output_type": "stream",
          "text": [
            "Finished Epoch 4 || Run Time:    0.2 | Load Time:    0.1 || F1:  24.00 | Prec:  14.29 | Rec:  75.00 || Ex/s: 472.98\n",
            "\n",
            "---------------------\n",
            "\n",
            "===>  TRAIN Epoch 5\n"
          ],
          "name": "stdout"
        },
        {
          "output_type": "stream",
          "text": [
            "0% [████] 100% | ETA: 00:00:00\n",
            "Total time elapsed: 00:00:01\n"
          ],
          "name": "stderr"
        },
        {
          "output_type": "stream",
          "text": [
            "Finished Epoch 5 || Run Time:    1.0 | Load Time:    0.3 || F1:  43.64 | Prec:  29.09 | Rec:  87.27 || Ex/s: 274.90\n",
            "\n",
            "===>  EVAL Epoch 5\n"
          ],
          "name": "stdout"
        },
        {
          "output_type": "stream",
          "text": [
            "0% [█] 100% | ETA: 00:00:00\n",
            "Total time elapsed: 00:00:00\n"
          ],
          "name": "stderr"
        },
        {
          "output_type": "stream",
          "text": [
            "Finished Epoch 5 || Run Time:    0.2 | Load Time:    0.1 || F1:  27.50 | Prec:  17.19 | Rec:  68.75 || Ex/s: 465.20\n",
            "\n",
            "* Best F1: tensor(27.5000, device='cuda:0')\n",
            "Saving best model...\n",
            "Done.\n",
            "---------------------\n",
            "\n",
            "===>  TRAIN Epoch 6\n"
          ],
          "name": "stdout"
        },
        {
          "output_type": "stream",
          "text": [
            "0% [████] 100% | ETA: 00:00:00\n",
            "Total time elapsed: 00:00:01\n"
          ],
          "name": "stderr"
        },
        {
          "output_type": "stream",
          "text": [
            "Finished Epoch 6 || Run Time:    1.0 | Load Time:    0.2 || F1:  45.63 | Prec:  31.13 | Rec:  85.45 || Ex/s: 274.02\n",
            "\n",
            "===>  EVAL Epoch 6\n"
          ],
          "name": "stdout"
        },
        {
          "output_type": "stream",
          "text": [
            "0% [█] 100% | ETA: 00:00:00\n",
            "Total time elapsed: 00:00:00\n"
          ],
          "name": "stderr"
        },
        {
          "output_type": "stream",
          "text": [
            "Finished Epoch 6 || Run Time:    0.2 | Load Time:    0.1 || F1:  32.35 | Prec:  21.15 | Rec:  68.75 || Ex/s: 479.67\n",
            "\n",
            "* Best F1: tensor(32.3529, device='cuda:0')\n",
            "Saving best model...\n",
            "Done.\n",
            "---------------------\n",
            "\n",
            "===>  TRAIN Epoch 7\n"
          ],
          "name": "stdout"
        },
        {
          "output_type": "stream",
          "text": [
            "0% [████] 100% | ETA: 00:00:00\n",
            "Total time elapsed: 00:00:01\n"
          ],
          "name": "stderr"
        },
        {
          "output_type": "stream",
          "text": [
            "Finished Epoch 7 || Run Time:    1.0 | Load Time:    0.3 || F1:  49.47 | Prec:  34.81 | Rec:  85.45 || Ex/s: 276.52\n",
            "\n",
            "===>  EVAL Epoch 7\n"
          ],
          "name": "stdout"
        },
        {
          "output_type": "stream",
          "text": [
            "0% [█] 100% | ETA: 00:00:00\n",
            "Total time elapsed: 00:00:00\n"
          ],
          "name": "stderr"
        },
        {
          "output_type": "stream",
          "text": [
            "Finished Epoch 7 || Run Time:    0.2 | Load Time:    0.1 || F1:  36.07 | Prec:  24.44 | Rec:  68.75 || Ex/s: 485.52\n",
            "\n",
            "* Best F1: tensor(36.0656, device='cuda:0')\n",
            "Saving best model...\n",
            "Done.\n",
            "---------------------\n",
            "\n",
            "===>  TRAIN Epoch 8\n"
          ],
          "name": "stdout"
        },
        {
          "output_type": "stream",
          "text": [
            "0% [████] 100% | ETA: 00:00:00\n",
            "Total time elapsed: 00:00:01\n"
          ],
          "name": "stderr"
        },
        {
          "output_type": "stream",
          "text": [
            "Finished Epoch 8 || Run Time:    1.0 | Load Time:    0.2 || F1:  52.81 | Prec:  38.21 | Rec:  85.45 || Ex/s: 275.75\n",
            "\n",
            "===>  EVAL Epoch 8\n"
          ],
          "name": "stdout"
        },
        {
          "output_type": "stream",
          "text": [
            "0% [█] 100% | ETA: 00:00:00\n",
            "Total time elapsed: 00:00:00\n"
          ],
          "name": "stderr"
        },
        {
          "output_type": "stream",
          "text": [
            "Finished Epoch 8 || Run Time:    0.2 | Load Time:    0.1 || F1:  38.60 | Prec:  26.83 | Rec:  68.75 || Ex/s: 476.50\n",
            "\n",
            "* Best F1: tensor(38.5965, device='cuda:0')\n",
            "Saving best model...\n",
            "Done.\n",
            "---------------------\n",
            "\n",
            "===>  TRAIN Epoch 9\n"
          ],
          "name": "stdout"
        },
        {
          "output_type": "stream",
          "text": [
            "0% [████] 100% | ETA: 00:00:00\n",
            "Total time elapsed: 00:00:01\n"
          ],
          "name": "stderr"
        },
        {
          "output_type": "stream",
          "text": [
            "Finished Epoch 9 || Run Time:    1.0 | Load Time:    0.3 || F1:  55.62 | Prec:  41.23 | Rec:  85.45 || Ex/s: 276.67\n",
            "\n",
            "===>  EVAL Epoch 9\n"
          ],
          "name": "stdout"
        },
        {
          "output_type": "stream",
          "text": [
            "0% [█] 100% | ETA: 00:00:00\n",
            "Total time elapsed: 00:00:00\n"
          ],
          "name": "stderr"
        },
        {
          "output_type": "stream",
          "text": [
            "Finished Epoch 9 || Run Time:    0.2 | Load Time:    0.1 || F1:  36.36 | Prec:  25.64 | Rec:  62.50 || Ex/s: 464.96\n",
            "\n",
            "---------------------\n",
            "\n",
            "===>  TRAIN Epoch 10\n"
          ],
          "name": "stdout"
        },
        {
          "output_type": "stream",
          "text": [
            "0% [████] 100% | ETA: 00:00:00\n",
            "Total time elapsed: 00:00:01\n"
          ],
          "name": "stderr"
        },
        {
          "output_type": "stream",
          "text": [
            "Finished Epoch 10 || Run Time:    1.0 | Load Time:    0.2 || F1:  57.14 | Prec:  42.48 | Rec:  87.27 || Ex/s: 277.10\n",
            "\n",
            "===>  EVAL Epoch 10\n"
          ],
          "name": "stdout"
        },
        {
          "output_type": "stream",
          "text": [
            "0% [█] 100% | ETA: 00:00:00\n",
            "Total time elapsed: 00:00:00\n"
          ],
          "name": "stderr"
        },
        {
          "output_type": "stream",
          "text": [
            "Finished Epoch 10 || Run Time:    0.2 | Load Time:    0.1 || F1:  35.71 | Prec:  25.00 | Rec:  62.50 || Ex/s: 463.34\n",
            "\n",
            "---------------------\n",
            "\n",
            "Loading best model...\n",
            "Training done.\n",
            "Time:  16.3185509799996\n",
            "===>  EVAL Epoch 8\n",
            "Finished Epoch 8 || Run Time:    0.1 | Load Time:    0.1 || F1:  46.81 | Prec:  37.93 | Rec:  61.11 || Ex/s: 685.56\n",
            "\n",
            "[[27.067668914794922, 27.48091697692871, 26.865671157836914, 27.067668914794922, 27.067668914794922, 26.666667938232422, 27.48091697692871, 27.48091697692871, 27.906978607177734, 26.666667938232422], [5.750015394000002, 5.685267965000094, 5.7302121419998, 5.657230900000286, 5.643488617000003, 5.653690455000287, 5.695949046000351, 5.649614863999886, 5.699012441999912, 5.686567185000058], [59.09090805053711, 62.96296691894531, 60.0, 57.142852783203125, 68.18182373046875, 58.33333969116211, 63.6363639831543, 59.09090805053711, 63.6363639831543, 62.22221755981445], [7.687237744999948, 7.519205598000553, 7.681276948999766, 7.656541180999739, 7.761204930999156, 7.552193080000507, 7.624731124000391, 7.639079702999879, 7.779594614999951, 7.641921282000112], [48.0, 44.44444274902344, 41.269840240478516, 49.05659866333008, 47.05881881713867, 45.283016204833984, 45.283016204833984, 48.0, 41.50943374633789, 47.05881881713867], [10.559607815999698, 10.517272215000048, 10.539255294999748, 10.651794481000252, 10.594529773999966, 10.422362688999783, 10.721303318000537, 10.835616287999983, 10.645157035999546, 10.671217783999964], [40.909088134765625, 42.85714340209961, 43.4782600402832, 41.66666793823242, 46.808509826660156], [16.40533823199985, 16.843502366999928, 16.363356346999353, 16.452517071999864, 16.3185509799996]]\n",
            "* Number of trainable parameters: 2798703\n",
            "===>  TRAIN Epoch 1\n"
          ],
          "name": "stdout"
        },
        {
          "output_type": "stream",
          "text": [
            "0% [████] 100% | ETA: 00:00:00\n",
            "Total time elapsed: 00:00:01\n"
          ],
          "name": "stderr"
        },
        {
          "output_type": "stream",
          "text": [
            "Finished Epoch 1 || Run Time:    1.0 | Load Time:    0.2 || F1:  26.60 | Prec:  15.58 | Rec:  90.91 || Ex/s: 274.12\n",
            "\n",
            "===>  EVAL Epoch 1\n"
          ],
          "name": "stdout"
        },
        {
          "output_type": "stream",
          "text": [
            "0% [█] 100% | ETA: 00:00:00\n",
            "Total time elapsed: 00:00:00\n"
          ],
          "name": "stderr"
        },
        {
          "output_type": "stream",
          "text": [
            "Finished Epoch 1 || Run Time:    0.2 | Load Time:    0.1 || F1:  23.70 | Prec:  13.45 | Rec: 100.00 || Ex/s: 461.47\n",
            "\n",
            "* Best F1: tensor(23.7037, device='cuda:0')\n",
            "Saving best model...\n",
            "Done.\n",
            "---------------------\n",
            "\n",
            "===>  TRAIN Epoch 2\n"
          ],
          "name": "stdout"
        },
        {
          "output_type": "stream",
          "text": [
            "0% [████] 100% | ETA: 00:00:00\n",
            "Total time elapsed: 00:00:01\n"
          ],
          "name": "stderr"
        },
        {
          "output_type": "stream",
          "text": [
            "Finished Epoch 2 || Run Time:    1.0 | Load Time:    0.2 || F1:  34.72 | Prec:  21.90 | Rec:  83.64 || Ex/s: 278.73\n",
            "\n",
            "===>  EVAL Epoch 2\n"
          ],
          "name": "stdout"
        },
        {
          "output_type": "stream",
          "text": [
            "0% [█] 100% | ETA: 00:00:00\n",
            "Total time elapsed: 00:00:00\n"
          ],
          "name": "stderr"
        },
        {
          "output_type": "stream",
          "text": [
            "Finished Epoch 2 || Run Time:    0.2 | Load Time:    0.1 || F1:  24.14 | Prec:  14.00 | Rec:  87.50 || Ex/s: 461.43\n",
            "\n",
            "* Best F1: tensor(24.1379, device='cuda:0')\n",
            "Saving best model...\n",
            "Done.\n",
            "---------------------\n",
            "\n",
            "===>  TRAIN Epoch 3\n"
          ],
          "name": "stdout"
        },
        {
          "output_type": "stream",
          "text": [
            "0% [████] 100% | ETA: 00:00:00\n",
            "Total time elapsed: 00:00:01\n"
          ],
          "name": "stderr"
        },
        {
          "output_type": "stream",
          "text": [
            "Finished Epoch 3 || Run Time:    1.0 | Load Time:    0.2 || F1:  40.34 | Prec:  26.40 | Rec:  85.45 || Ex/s: 274.67\n",
            "\n",
            "===>  EVAL Epoch 3\n"
          ],
          "name": "stdout"
        },
        {
          "output_type": "stream",
          "text": [
            "0% [█] 100% | ETA: 00:00:00\n",
            "Total time elapsed: 00:00:00\n"
          ],
          "name": "stderr"
        },
        {
          "output_type": "stream",
          "text": [
            "Finished Epoch 3 || Run Time:    0.2 | Load Time:    0.1 || F1:  24.00 | Prec:  13.76 | Rec:  93.75 || Ex/s: 475.02\n",
            "\n",
            "---------------------\n",
            "\n",
            "===>  TRAIN Epoch 4\n"
          ],
          "name": "stdout"
        },
        {
          "output_type": "stream",
          "text": [
            "0% [████] 100% | ETA: 00:00:00\n",
            "Total time elapsed: 00:00:01\n"
          ],
          "name": "stderr"
        },
        {
          "output_type": "stream",
          "text": [
            "Finished Epoch 4 || Run Time:    1.0 | Load Time:    0.2 || F1:  41.56 | Prec:  27.27 | Rec:  87.27 || Ex/s: 276.88\n",
            "\n",
            "===>  EVAL Epoch 4\n"
          ],
          "name": "stdout"
        },
        {
          "output_type": "stream",
          "text": [
            "0% [█] 100% | ETA: 00:00:00\n",
            "Total time elapsed: 00:00:00\n"
          ],
          "name": "stderr"
        },
        {
          "output_type": "stream",
          "text": [
            "Finished Epoch 4 || Run Time:    0.2 | Load Time:    0.1 || F1:  23.76 | Prec:  14.12 | Rec:  75.00 || Ex/s: 480.32\n",
            "\n",
            "---------------------\n",
            "\n",
            "===>  TRAIN Epoch 5\n"
          ],
          "name": "stdout"
        },
        {
          "output_type": "stream",
          "text": [
            "0% [████] 100% | ETA: 00:00:00\n",
            "Total time elapsed: 00:00:01\n"
          ],
          "name": "stderr"
        },
        {
          "output_type": "stream",
          "text": [
            "Finished Epoch 5 || Run Time:    1.0 | Load Time:    0.2 || F1:  42.73 | Prec:  28.48 | Rec:  85.45 || Ex/s: 280.07\n",
            "\n",
            "===>  EVAL Epoch 5\n"
          ],
          "name": "stdout"
        },
        {
          "output_type": "stream",
          "text": [
            "0% [█] 100% | ETA: 00:00:00\n",
            "Total time elapsed: 00:00:00\n"
          ],
          "name": "stderr"
        },
        {
          "output_type": "stream",
          "text": [
            "Finished Epoch 5 || Run Time:    0.2 | Load Time:    0.1 || F1:  27.85 | Prec:  17.46 | Rec:  68.75 || Ex/s: 479.45\n",
            "\n",
            "* Best F1: tensor(27.8481, device='cuda:0')\n",
            "Saving best model...\n",
            "Done.\n",
            "---------------------\n",
            "\n",
            "===>  TRAIN Epoch 6\n"
          ],
          "name": "stdout"
        },
        {
          "output_type": "stream",
          "text": [
            "0% [████] 100% | ETA: 00:00:00\n",
            "Total time elapsed: 00:00:01\n"
          ],
          "name": "stderr"
        },
        {
          "output_type": "stream",
          "text": [
            "Finished Epoch 6 || Run Time:    1.0 | Load Time:    0.3 || F1:  47.06 | Prec:  32.21 | Rec:  87.27 || Ex/s: 273.69\n",
            "\n",
            "===>  EVAL Epoch 6\n"
          ],
          "name": "stdout"
        },
        {
          "output_type": "stream",
          "text": [
            "0% [█] 100% | ETA: 00:00:00\n",
            "Total time elapsed: 00:00:00\n"
          ],
          "name": "stderr"
        },
        {
          "output_type": "stream",
          "text": [
            "Finished Epoch 6 || Run Time:    0.2 | Load Time:    0.1 || F1:  31.88 | Prec:  20.75 | Rec:  68.75 || Ex/s: 474.76\n",
            "\n",
            "* Best F1: tensor(31.8841, device='cuda:0')\n",
            "Saving best model...\n",
            "Done.\n",
            "---------------------\n",
            "\n",
            "===>  TRAIN Epoch 7\n"
          ],
          "name": "stdout"
        },
        {
          "output_type": "stream",
          "text": [
            "0% [████] 100% | ETA: 00:00:00\n",
            "Total time elapsed: 00:00:01\n"
          ],
          "name": "stderr"
        },
        {
          "output_type": "stream",
          "text": [
            "Finished Epoch 7 || Run Time:    1.1 | Load Time:    0.3 || F1:  51.37 | Prec:  36.72 | Rec:  85.45 || Ex/s: 269.41\n",
            "\n",
            "===>  EVAL Epoch 7\n"
          ],
          "name": "stdout"
        },
        {
          "output_type": "stream",
          "text": [
            "0% [█] 100% | ETA: 00:00:00\n",
            "Total time elapsed: 00:00:00\n"
          ],
          "name": "stderr"
        },
        {
          "output_type": "stream",
          "text": [
            "Finished Epoch 7 || Run Time:    0.2 | Load Time:    0.1 || F1:  34.92 | Prec:  23.40 | Rec:  68.75 || Ex/s: 481.81\n",
            "\n",
            "* Best F1: tensor(34.9206, device='cuda:0')\n",
            "Saving best model...\n",
            "Done.\n",
            "---------------------\n",
            "\n",
            "===>  TRAIN Epoch 8\n"
          ],
          "name": "stdout"
        },
        {
          "output_type": "stream",
          "text": [
            "0% [████] 100% | ETA: 00:00:00\n",
            "Total time elapsed: 00:00:01\n"
          ],
          "name": "stderr"
        },
        {
          "output_type": "stream",
          "text": [
            "Finished Epoch 8 || Run Time:    1.0 | Load Time:    0.3 || F1:  53.71 | Prec:  39.17 | Rec:  85.45 || Ex/s: 277.25\n",
            "\n",
            "===>  EVAL Epoch 8\n"
          ],
          "name": "stdout"
        },
        {
          "output_type": "stream",
          "text": [
            "0% [█] 100% | ETA: 00:00:00\n",
            "Total time elapsed: 00:00:00\n"
          ],
          "name": "stderr"
        },
        {
          "output_type": "stream",
          "text": [
            "Finished Epoch 8 || Run Time:    0.2 | Load Time:    0.1 || F1:  33.33 | Prec:  22.73 | Rec:  62.50 || Ex/s: 460.95\n",
            "\n",
            "---------------------\n",
            "\n",
            "===>  TRAIN Epoch 9\n"
          ],
          "name": "stdout"
        },
        {
          "output_type": "stream",
          "text": [
            "0% [████] 100% | ETA: 00:00:00\n",
            "Total time elapsed: 00:00:01\n"
          ],
          "name": "stderr"
        },
        {
          "output_type": "stream",
          "text": [
            "Finished Epoch 9 || Run Time:    1.0 | Load Time:    0.2 || F1:  57.49 | Prec:  42.86 | Rec:  87.27 || Ex/s: 277.75\n",
            "\n",
            "===>  EVAL Epoch 9\n"
          ],
          "name": "stdout"
        },
        {
          "output_type": "stream",
          "text": [
            "0% [█] 100% | ETA: 00:00:00\n",
            "Total time elapsed: 00:00:00\n"
          ],
          "name": "stderr"
        },
        {
          "output_type": "stream",
          "text": [
            "Finished Epoch 9 || Run Time:    0.2 | Load Time:    0.1 || F1:  36.36 | Prec:  25.64 | Rec:  62.50 || Ex/s: 471.96\n",
            "\n",
            "* Best F1: tensor(36.3636, device='cuda:0')\n",
            "Saving best model...\n",
            "Done.\n",
            "---------------------\n",
            "\n",
            "===>  TRAIN Epoch 10\n"
          ],
          "name": "stdout"
        },
        {
          "output_type": "stream",
          "text": [
            "0% [████] 100% | ETA: 00:00:00\n",
            "Total time elapsed: 00:00:01\n"
          ],
          "name": "stderr"
        },
        {
          "output_type": "stream",
          "text": [
            "Finished Epoch 10 || Run Time:    1.0 | Load Time:    0.3 || F1:  59.52 | Prec:  44.25 | Rec:  90.91 || Ex/s: 274.54\n",
            "\n",
            "===>  EVAL Epoch 10\n"
          ],
          "name": "stdout"
        },
        {
          "output_type": "stream",
          "text": [
            "0% [█] 100% | ETA: 00:00:00\n",
            "Total time elapsed: 00:00:00\n"
          ],
          "name": "stderr"
        },
        {
          "output_type": "stream",
          "text": [
            "Finished Epoch 10 || Run Time:    0.2 | Load Time:    0.1 || F1:  35.09 | Prec:  24.39 | Rec:  62.50 || Ex/s: 477.91\n",
            "\n",
            "---------------------\n",
            "\n",
            "Loading best model...\n",
            "Training done.\n",
            "Time:  16.309778520999316\n",
            "===>  EVAL Epoch 9\n",
            "Finished Epoch 9 || Run Time:    0.1 | Load Time:    0.1 || F1:  42.55 | Prec:  34.48 | Rec:  55.56 || Ex/s: 708.87\n",
            "\n",
            "[[27.067668914794922, 27.48091697692871, 26.865671157836914, 27.067668914794922, 27.067668914794922, 26.666667938232422, 27.48091697692871, 27.48091697692871, 27.906978607177734, 26.666667938232422], [5.750015394000002, 5.685267965000094, 5.7302121419998, 5.657230900000286, 5.643488617000003, 5.653690455000287, 5.695949046000351, 5.649614863999886, 5.699012441999912, 5.686567185000058], [59.09090805053711, 62.96296691894531, 60.0, 57.142852783203125, 68.18182373046875, 58.33333969116211, 63.6363639831543, 59.09090805053711, 63.6363639831543, 62.22221755981445], [7.687237744999948, 7.519205598000553, 7.681276948999766, 7.656541180999739, 7.761204930999156, 7.552193080000507, 7.624731124000391, 7.639079702999879, 7.779594614999951, 7.641921282000112], [48.0, 44.44444274902344, 41.269840240478516, 49.05659866333008, 47.05881881713867, 45.283016204833984, 45.283016204833984, 48.0, 41.50943374633789, 47.05881881713867], [10.559607815999698, 10.517272215000048, 10.539255294999748, 10.651794481000252, 10.594529773999966, 10.422362688999783, 10.721303318000537, 10.835616287999983, 10.645157035999546, 10.671217783999964], [40.909088134765625, 42.85714340209961, 43.4782600402832, 41.66666793823242, 46.808509826660156, 42.553192138671875], [16.40533823199985, 16.843502366999928, 16.363356346999353, 16.452517071999864, 16.3185509799996, 16.309778520999316]]\n",
            "* Number of trainable parameters: 2798703\n",
            "===>  TRAIN Epoch 1\n"
          ],
          "name": "stdout"
        },
        {
          "output_type": "stream",
          "text": [
            "0% [████] 100% | ETA: 00:00:00\n",
            "Total time elapsed: 00:00:01\n"
          ],
          "name": "stderr"
        },
        {
          "output_type": "stream",
          "text": [
            "Finished Epoch 1 || Run Time:    1.0 | Load Time:    0.2 || F1:  26.18 | Prec:  15.29 | Rec:  90.91 || Ex/s: 279.02\n",
            "\n",
            "===>  EVAL Epoch 1\n"
          ],
          "name": "stdout"
        },
        {
          "output_type": "stream",
          "text": [
            "0% [█] 100% | ETA: 00:00:00\n",
            "Total time elapsed: 00:00:00\n"
          ],
          "name": "stderr"
        },
        {
          "output_type": "stream",
          "text": [
            "Finished Epoch 1 || Run Time:    0.2 | Load Time:    0.1 || F1:  23.70 | Prec:  13.45 | Rec: 100.00 || Ex/s: 453.92\n",
            "\n",
            "* Best F1: tensor(23.7037, device='cuda:0')\n",
            "Saving best model...\n",
            "Done.\n",
            "---------------------\n",
            "\n",
            "===>  TRAIN Epoch 2\n"
          ],
          "name": "stdout"
        },
        {
          "output_type": "stream",
          "text": [
            "0% [████] 100% | ETA: 00:00:00\n",
            "Total time elapsed: 00:00:01\n"
          ],
          "name": "stderr"
        },
        {
          "output_type": "stream",
          "text": [
            "Finished Epoch 2 || Run Time:    1.0 | Load Time:    0.3 || F1:  36.70 | Prec:  23.11 | Rec:  89.09 || Ex/s: 273.33\n",
            "\n",
            "===>  EVAL Epoch 2\n"
          ],
          "name": "stdout"
        },
        {
          "output_type": "stream",
          "text": [
            "0% [█] 100% | ETA: 00:00:00\n",
            "Total time elapsed: 00:00:00\n"
          ],
          "name": "stderr"
        },
        {
          "output_type": "stream",
          "text": [
            "Finished Epoch 2 || Run Time:    0.2 | Load Time:    0.1 || F1:  26.09 | Prec:  15.79 | Rec:  75.00 || Ex/s: 480.08\n",
            "\n",
            "* Best F1: tensor(26.0870, device='cuda:0')\n",
            "Saving best model...\n",
            "Done.\n",
            "---------------------\n",
            "\n",
            "===>  TRAIN Epoch 3\n"
          ],
          "name": "stdout"
        },
        {
          "output_type": "stream",
          "text": [
            "0% [████] 100% | ETA: 00:00:00\n",
            "Total time elapsed: 00:00:01\n"
          ],
          "name": "stderr"
        },
        {
          "output_type": "stream",
          "text": [
            "Finished Epoch 3 || Run Time:    1.0 | Load Time:    0.2 || F1:  40.34 | Prec:  26.23 | Rec:  87.27 || Ex/s: 276.73\n",
            "\n",
            "===>  EVAL Epoch 3\n"
          ],
          "name": "stdout"
        },
        {
          "output_type": "stream",
          "text": [
            "0% [█] 100% | ETA: 00:00:00\n",
            "Total time elapsed: 00:00:00\n"
          ],
          "name": "stderr"
        },
        {
          "output_type": "stream",
          "text": [
            "Finished Epoch 3 || Run Time:    0.2 | Load Time:    0.1 || F1:  20.97 | Prec:  12.04 | Rec:  81.25 || Ex/s: 447.03\n",
            "\n",
            "---------------------\n",
            "\n",
            "===>  TRAIN Epoch 4\n"
          ],
          "name": "stdout"
        },
        {
          "output_type": "stream",
          "text": [
            "0% [████] 100% | ETA: 00:00:00\n",
            "Total time elapsed: 00:00:01\n"
          ],
          "name": "stderr"
        },
        {
          "output_type": "stream",
          "text": [
            "Finished Epoch 4 || Run Time:    1.0 | Load Time:    0.2 || F1:  41.92 | Prec:  27.59 | Rec:  87.27 || Ex/s: 281.97\n",
            "\n",
            "===>  EVAL Epoch 4\n"
          ],
          "name": "stdout"
        },
        {
          "output_type": "stream",
          "text": [
            "0% [█] 100% | ETA: 00:00:00\n",
            "Total time elapsed: 00:00:00\n"
          ],
          "name": "stderr"
        },
        {
          "output_type": "stream",
          "text": [
            "Finished Epoch 4 || Run Time:    0.2 | Load Time:    0.1 || F1:  22.61 | Prec:  13.13 | Rec:  81.25 || Ex/s: 467.99\n",
            "\n",
            "---------------------\n",
            "\n",
            "===>  TRAIN Epoch 5\n"
          ],
          "name": "stdout"
        },
        {
          "output_type": "stream",
          "text": [
            "0% [████] 100% | ETA: 00:00:00\n",
            "Total time elapsed: 00:00:01\n"
          ],
          "name": "stderr"
        },
        {
          "output_type": "stream",
          "text": [
            "Finished Epoch 5 || Run Time:    1.0 | Load Time:    0.3 || F1:  42.15 | Prec:  27.98 | Rec:  85.45 || Ex/s: 276.98\n",
            "\n",
            "===>  EVAL Epoch 5\n"
          ],
          "name": "stdout"
        },
        {
          "output_type": "stream",
          "text": [
            "0% [█] 100% | ETA: 00:00:00\n",
            "Total time elapsed: 00:00:00\n"
          ],
          "name": "stderr"
        },
        {
          "output_type": "stream",
          "text": [
            "Finished Epoch 5 || Run Time:    0.2 | Load Time:    0.1 || F1:  26.19 | Prec:  16.18 | Rec:  68.75 || Ex/s: 480.95\n",
            "\n",
            "* Best F1: tensor(26.1905, device='cuda:0')\n",
            "Saving best model...\n",
            "Done.\n",
            "---------------------\n",
            "\n",
            "===>  TRAIN Epoch 6\n"
          ],
          "name": "stdout"
        },
        {
          "output_type": "stream",
          "text": [
            "0% [████] 100% | ETA: 00:00:00\n",
            "Total time elapsed: 00:00:01\n"
          ],
          "name": "stderr"
        },
        {
          "output_type": "stream",
          "text": [
            "Finished Epoch 6 || Run Time:    1.0 | Load Time:    0.2 || F1:  46.23 | Prec:  31.21 | Rec:  89.09 || Ex/s: 274.47\n",
            "\n",
            "===>  EVAL Epoch 6\n"
          ],
          "name": "stdout"
        },
        {
          "output_type": "stream",
          "text": [
            "0% [█] 100% | ETA: 00:00:00\n",
            "Total time elapsed: 00:00:00\n"
          ],
          "name": "stderr"
        },
        {
          "output_type": "stream",
          "text": [
            "Finished Epoch 6 || Run Time:    0.2 | Load Time:    0.1 || F1:  33.33 | Prec:  22.00 | Rec:  68.75 || Ex/s: 446.14\n",
            "\n",
            "* Best F1: tensor(33.3333, device='cuda:0')\n",
            "Saving best model...\n",
            "Done.\n",
            "---------------------\n",
            "\n",
            "===>  TRAIN Epoch 7\n"
          ],
          "name": "stdout"
        },
        {
          "output_type": "stream",
          "text": [
            "0% [████] 100% | ETA: 00:00:00\n",
            "Total time elapsed: 00:00:01\n"
          ],
          "name": "stderr"
        },
        {
          "output_type": "stream",
          "text": [
            "Finished Epoch 7 || Run Time:    1.0 | Load Time:    0.2 || F1:  49.48 | Prec:  34.53 | Rec:  87.27 || Ex/s: 276.63\n",
            "\n",
            "===>  EVAL Epoch 7\n"
          ],
          "name": "stdout"
        },
        {
          "output_type": "stream",
          "text": [
            "0% [█] 100% | ETA: 00:00:00\n",
            "Total time elapsed: 00:00:00\n"
          ],
          "name": "stderr"
        },
        {
          "output_type": "stream",
          "text": [
            "Finished Epoch 7 || Run Time:    0.2 | Load Time:    0.1 || F1:  34.92 | Prec:  23.40 | Rec:  68.75 || Ex/s: 485.85\n",
            "\n",
            "* Best F1: tensor(34.9206, device='cuda:0')\n",
            "Saving best model...\n",
            "Done.\n",
            "---------------------\n",
            "\n",
            "===>  TRAIN Epoch 8\n"
          ],
          "name": "stdout"
        },
        {
          "output_type": "stream",
          "text": [
            "0% [████] 100% | ETA: 00:00:00\n",
            "Total time elapsed: 00:00:01\n"
          ],
          "name": "stderr"
        },
        {
          "output_type": "stream",
          "text": [
            "Finished Epoch 8 || Run Time:    1.0 | Load Time:    0.3 || F1:  52.81 | Prec:  38.21 | Rec:  85.45 || Ex/s: 271.30\n",
            "\n",
            "===>  EVAL Epoch 8\n"
          ],
          "name": "stdout"
        },
        {
          "output_type": "stream",
          "text": [
            "0% [█] 100% | ETA: 00:00:00\n",
            "Total time elapsed: 00:00:00\n"
          ],
          "name": "stderr"
        },
        {
          "output_type": "stream",
          "text": [
            "Finished Epoch 8 || Run Time:    0.2 | Load Time:    0.1 || F1:  32.79 | Prec:  22.22 | Rec:  62.50 || Ex/s: 472.26\n",
            "\n",
            "---------------------\n",
            "\n",
            "===>  TRAIN Epoch 9\n"
          ],
          "name": "stdout"
        },
        {
          "output_type": "stream",
          "text": [
            "0% [████] 100% | ETA: 00:00:00\n",
            "Total time elapsed: 00:00:01\n"
          ],
          "name": "stderr"
        },
        {
          "output_type": "stream",
          "text": [
            "Finished Epoch 9 || Run Time:    1.0 | Load Time:    0.2 || F1:  54.02 | Prec:  39.50 | Rec:  85.45 || Ex/s: 280.45\n",
            "\n",
            "===>  EVAL Epoch 9\n"
          ],
          "name": "stdout"
        },
        {
          "output_type": "stream",
          "text": [
            "0% [█] 100% | ETA: 00:00:00\n",
            "Total time elapsed: 00:00:00\n"
          ],
          "name": "stderr"
        },
        {
          "output_type": "stream",
          "text": [
            "Finished Epoch 9 || Run Time:    0.2 | Load Time:    0.1 || F1:  33.90 | Prec:  23.26 | Rec:  62.50 || Ex/s: 457.47\n",
            "\n",
            "---------------------\n",
            "\n",
            "===>  TRAIN Epoch 10\n"
          ],
          "name": "stdout"
        },
        {
          "output_type": "stream",
          "text": [
            "0% [████] 100% | ETA: 00:00:00\n",
            "Total time elapsed: 00:00:01\n"
          ],
          "name": "stderr"
        },
        {
          "output_type": "stream",
          "text": [
            "Finished Epoch 10 || Run Time:    1.0 | Load Time:    0.2 || F1:  57.99 | Prec:  42.98 | Rec:  89.09 || Ex/s: 276.37\n",
            "\n",
            "===>  EVAL Epoch 10\n"
          ],
          "name": "stdout"
        },
        {
          "output_type": "stream",
          "text": [
            "0% [█] 100% | ETA: 00:00:00\n",
            "Total time elapsed: 00:00:00\n"
          ],
          "name": "stderr"
        },
        {
          "output_type": "stream",
          "text": [
            "Finished Epoch 10 || Run Time:    0.2 | Load Time:    0.1 || F1:  34.48 | Prec:  23.81 | Rec:  62.50 || Ex/s: 480.21\n",
            "\n",
            "---------------------\n",
            "\n",
            "Loading best model...\n",
            "Training done.\n",
            "Time:  16.179531221000616\n",
            "===>  EVAL Epoch 7\n",
            "Finished Epoch 7 || Run Time:    0.1 | Load Time:    0.1 || F1:  40.00 | Prec:  29.73 | Rec:  61.11 || Ex/s: 708.33\n",
            "\n",
            "[[27.067668914794922, 27.48091697692871, 26.865671157836914, 27.067668914794922, 27.067668914794922, 26.666667938232422, 27.48091697692871, 27.48091697692871, 27.906978607177734, 26.666667938232422], [5.750015394000002, 5.685267965000094, 5.7302121419998, 5.657230900000286, 5.643488617000003, 5.653690455000287, 5.695949046000351, 5.649614863999886, 5.699012441999912, 5.686567185000058], [59.09090805053711, 62.96296691894531, 60.0, 57.142852783203125, 68.18182373046875, 58.33333969116211, 63.6363639831543, 59.09090805053711, 63.6363639831543, 62.22221755981445], [7.687237744999948, 7.519205598000553, 7.681276948999766, 7.656541180999739, 7.761204930999156, 7.552193080000507, 7.624731124000391, 7.639079702999879, 7.779594614999951, 7.641921282000112], [48.0, 44.44444274902344, 41.269840240478516, 49.05659866333008, 47.05881881713867, 45.283016204833984, 45.283016204833984, 48.0, 41.50943374633789, 47.05881881713867], [10.559607815999698, 10.517272215000048, 10.539255294999748, 10.651794481000252, 10.594529773999966, 10.422362688999783, 10.721303318000537, 10.835616287999983, 10.645157035999546, 10.671217783999964], [40.909088134765625, 42.85714340209961, 43.4782600402832, 41.66666793823242, 46.808509826660156, 42.553192138671875, 40.0], [16.40533823199985, 16.843502366999928, 16.363356346999353, 16.452517071999864, 16.3185509799996, 16.309778520999316, 16.179531221000616]]\n",
            "* Number of trainable parameters: 2798703\n",
            "===>  TRAIN Epoch 1\n"
          ],
          "name": "stdout"
        },
        {
          "output_type": "stream",
          "text": [
            "0% [████] 100% | ETA: 00:00:00\n",
            "Total time elapsed: 00:00:01\n"
          ],
          "name": "stderr"
        },
        {
          "output_type": "stream",
          "text": [
            "Finished Epoch 1 || Run Time:    1.0 | Load Time:    0.2 || F1:  26.49 | Prec:  15.56 | Rec:  89.09 || Ex/s: 276.66\n",
            "\n",
            "===>  EVAL Epoch 1\n"
          ],
          "name": "stdout"
        },
        {
          "output_type": "stream",
          "text": [
            "0% [█] 100% | ETA: 00:00:00\n",
            "Total time elapsed: 00:00:00\n"
          ],
          "name": "stderr"
        },
        {
          "output_type": "stream",
          "text": [
            "Finished Epoch 1 || Run Time:    0.2 | Load Time:    0.1 || F1:  23.70 | Prec:  13.45 | Rec: 100.00 || Ex/s: 480.33\n",
            "\n",
            "* Best F1: tensor(23.7037, device='cuda:0')\n",
            "Saving best model...\n",
            "Done.\n",
            "---------------------\n",
            "\n",
            "===>  TRAIN Epoch 2\n"
          ],
          "name": "stdout"
        },
        {
          "output_type": "stream",
          "text": [
            "0% [████] 100% | ETA: 00:00:00\n",
            "Total time elapsed: 00:00:01\n"
          ],
          "name": "stderr"
        },
        {
          "output_type": "stream",
          "text": [
            "Finished Epoch 2 || Run Time:    1.0 | Load Time:    0.3 || F1:  33.09 | Prec:  20.63 | Rec:  83.64 || Ex/s: 276.66\n",
            "\n",
            "===>  EVAL Epoch 2\n"
          ],
          "name": "stdout"
        },
        {
          "output_type": "stream",
          "text": [
            "0% [█] 100% | ETA: 00:00:00\n",
            "Total time elapsed: 00:00:00\n"
          ],
          "name": "stderr"
        },
        {
          "output_type": "stream",
          "text": [
            "Finished Epoch 2 || Run Time:    0.2 | Load Time:    0.1 || F1:  23.44 | Prec:  13.39 | Rec:  93.75 || Ex/s: 476.75\n",
            "\n",
            "---------------------\n",
            "\n",
            "===>  TRAIN Epoch 3\n"
          ],
          "name": "stdout"
        },
        {
          "output_type": "stream",
          "text": [
            "0% [████] 100% | ETA: 00:00:00\n",
            "Total time elapsed: 00:00:01\n"
          ],
          "name": "stderr"
        },
        {
          "output_type": "stream",
          "text": [
            "Finished Epoch 3 || Run Time:    1.0 | Load Time:    0.2 || F1:  38.84 | Prec:  25.13 | Rec:  85.45 || Ex/s: 281.17\n",
            "\n",
            "===>  EVAL Epoch 3\n"
          ],
          "name": "stdout"
        },
        {
          "output_type": "stream",
          "text": [
            "0% [█] 100% | ETA: 00:00:00\n",
            "Total time elapsed: 00:00:00\n"
          ],
          "name": "stderr"
        },
        {
          "output_type": "stream",
          "text": [
            "Finished Epoch 3 || Run Time:    0.2 | Load Time:    0.1 || F1:  23.62 | Prec:  13.51 | Rec:  93.75 || Ex/s: 480.77\n",
            "\n",
            "---------------------\n",
            "\n",
            "===>  TRAIN Epoch 4\n"
          ],
          "name": "stdout"
        },
        {
          "output_type": "stream",
          "text": [
            "0% [████] 100% | ETA: 00:00:00\n",
            "Total time elapsed: 00:00:01\n"
          ],
          "name": "stderr"
        },
        {
          "output_type": "stream",
          "text": [
            "Finished Epoch 4 || Run Time:    1.0 | Load Time:    0.3 || F1:  40.51 | Prec:  26.37 | Rec:  87.27 || Ex/s: 275.80\n",
            "\n",
            "===>  EVAL Epoch 4\n"
          ],
          "name": "stdout"
        },
        {
          "output_type": "stream",
          "text": [
            "0% [█] 100% | ETA: 00:00:00\n",
            "Total time elapsed: 00:00:00\n"
          ],
          "name": "stderr"
        },
        {
          "output_type": "stream",
          "text": [
            "Finished Epoch 4 || Run Time:    0.2 | Load Time:    0.1 || F1:  24.74 | Prec:  14.81 | Rec:  75.00 || Ex/s: 463.64\n",
            "\n",
            "* Best F1: tensor(24.7423, device='cuda:0')\n",
            "Saving best model...\n",
            "Done.\n",
            "---------------------\n",
            "\n",
            "===>  TRAIN Epoch 5\n"
          ],
          "name": "stdout"
        },
        {
          "output_type": "stream",
          "text": [
            "0% [████] 100% | ETA: 00:00:00\n",
            "Total time elapsed: 00:00:01\n"
          ],
          "name": "stderr"
        },
        {
          "output_type": "stream",
          "text": [
            "Finished Epoch 5 || Run Time:    1.0 | Load Time:    0.3 || F1:  43.75 | Prec:  28.99 | Rec:  89.09 || Ex/s: 274.88\n",
            "\n",
            "===>  EVAL Epoch 5\n"
          ],
          "name": "stdout"
        },
        {
          "output_type": "stream",
          "text": [
            "0% [█] 100% | ETA: 00:00:00\n",
            "Total time elapsed: 00:00:00\n"
          ],
          "name": "stderr"
        },
        {
          "output_type": "stream",
          "text": [
            "Finished Epoch 5 || Run Time:    0.2 | Load Time:    0.1 || F1:  27.50 | Prec:  17.19 | Rec:  68.75 || Ex/s: 477.16\n",
            "\n",
            "* Best F1: tensor(27.5000, device='cuda:0')\n",
            "Saving best model...\n",
            "Done.\n",
            "---------------------\n",
            "\n",
            "===>  TRAIN Epoch 6\n"
          ],
          "name": "stdout"
        },
        {
          "output_type": "stream",
          "text": [
            "0% [████] 100% | ETA: 00:00:00\n",
            "Total time elapsed: 00:00:01\n"
          ],
          "name": "stderr"
        },
        {
          "output_type": "stream",
          "text": [
            "Finished Epoch 6 || Run Time:    1.0 | Load Time:    0.3 || F1:  46.83 | Prec:  32.00 | Rec:  87.27 || Ex/s: 272.60\n",
            "\n",
            "===>  EVAL Epoch 6\n"
          ],
          "name": "stdout"
        },
        {
          "output_type": "stream",
          "text": [
            "0% [█] 100% | ETA: 00:00:00\n",
            "Total time elapsed: 00:00:00\n"
          ],
          "name": "stderr"
        },
        {
          "output_type": "stream",
          "text": [
            "Finished Epoch 6 || Run Time:    0.2 | Load Time:    0.1 || F1:  30.56 | Prec:  19.64 | Rec:  68.75 || Ex/s: 461.44\n",
            "\n",
            "* Best F1: tensor(30.5556, device='cuda:0')\n",
            "Saving best model...\n",
            "Done.\n",
            "---------------------\n",
            "\n",
            "===>  TRAIN Epoch 7\n"
          ],
          "name": "stdout"
        },
        {
          "output_type": "stream",
          "text": [
            "0% [████] 100% | ETA: 00:00:00\n",
            "Total time elapsed: 00:00:01\n"
          ],
          "name": "stderr"
        },
        {
          "output_type": "stream",
          "text": [
            "Finished Epoch 7 || Run Time:    1.0 | Load Time:    0.3 || F1:  51.06 | Prec:  36.09 | Rec:  87.27 || Ex/s: 274.90\n",
            "\n",
            "===>  EVAL Epoch 7\n"
          ],
          "name": "stdout"
        },
        {
          "output_type": "stream",
          "text": [
            "0% [█] 100% | ETA: 00:00:00\n",
            "Total time elapsed: 00:00:00\n"
          ],
          "name": "stderr"
        },
        {
          "output_type": "stream",
          "text": [
            "Finished Epoch 7 || Run Time:    0.2 | Load Time:    0.1 || F1:  32.79 | Prec:  22.22 | Rec:  62.50 || Ex/s: 474.42\n",
            "\n",
            "* Best F1: tensor(32.7869, device='cuda:0')\n",
            "Saving best model...\n",
            "Done.\n",
            "---------------------\n",
            "\n",
            "===>  TRAIN Epoch 8\n"
          ],
          "name": "stdout"
        },
        {
          "output_type": "stream",
          "text": [
            "0% [████] 100% | ETA: 00:00:00\n",
            "Total time elapsed: 00:00:01\n"
          ],
          "name": "stderr"
        },
        {
          "output_type": "stream",
          "text": [
            "Finished Epoch 8 || Run Time:    1.0 | Load Time:    0.3 || F1:  54.02 | Prec:  39.50 | Rec:  85.45 || Ex/s: 277.48\n",
            "\n",
            "===>  EVAL Epoch 8\n"
          ],
          "name": "stdout"
        },
        {
          "output_type": "stream",
          "text": [
            "0% [█] 100% | ETA: 00:00:00\n",
            "Total time elapsed: 00:00:00\n"
          ],
          "name": "stderr"
        },
        {
          "output_type": "stream",
          "text": [
            "Finished Epoch 8 || Run Time:    0.2 | Load Time:    0.1 || F1:  36.36 | Prec:  25.64 | Rec:  62.50 || Ex/s: 473.58\n",
            "\n",
            "* Best F1: tensor(36.3636, device='cuda:0')\n",
            "Saving best model...\n",
            "Done.\n",
            "---------------------\n",
            "\n",
            "===>  TRAIN Epoch 9\n"
          ],
          "name": "stdout"
        },
        {
          "output_type": "stream",
          "text": [
            "0% [████] 100% | ETA: 00:00:00\n",
            "Total time elapsed: 00:00:01\n"
          ],
          "name": "stderr"
        },
        {
          "output_type": "stream",
          "text": [
            "Finished Epoch 9 || Run Time:    1.0 | Load Time:    0.2 || F1:  57.65 | Prec:  42.61 | Rec:  89.09 || Ex/s: 275.40\n",
            "\n",
            "===>  EVAL Epoch 9\n"
          ],
          "name": "stdout"
        },
        {
          "output_type": "stream",
          "text": [
            "0% [█] 100% | ETA: 00:00:00\n",
            "Total time elapsed: 00:00:00\n"
          ],
          "name": "stderr"
        },
        {
          "output_type": "stream",
          "text": [
            "Finished Epoch 9 || Run Time:    0.2 | Load Time:    0.1 || F1:  37.74 | Prec:  27.03 | Rec:  62.50 || Ex/s: 482.04\n",
            "\n",
            "* Best F1: tensor(37.7359, device='cuda:0')\n",
            "Saving best model...\n",
            "Done.\n",
            "---------------------\n",
            "\n",
            "===>  TRAIN Epoch 10\n"
          ],
          "name": "stdout"
        },
        {
          "output_type": "stream",
          "text": [
            "0% [████] 100% | ETA: 00:00:00\n",
            "Total time elapsed: 00:00:01\n"
          ],
          "name": "stderr"
        },
        {
          "output_type": "stream",
          "text": [
            "Finished Epoch 10 || Run Time:    1.0 | Load Time:    0.2 || F1:  60.24 | Prec:  45.05 | Rec:  90.91 || Ex/s: 278.32\n",
            "\n",
            "===>  EVAL Epoch 10\n"
          ],
          "name": "stdout"
        },
        {
          "output_type": "stream",
          "text": [
            "0% [█] 100% | ETA: 00:00:00\n",
            "Total time elapsed: 00:00:00\n"
          ],
          "name": "stderr"
        },
        {
          "output_type": "stream",
          "text": [
            "Finished Epoch 10 || Run Time:    0.2 | Load Time:    0.1 || F1:  36.36 | Prec:  25.64 | Rec:  62.50 || Ex/s: 464.86\n",
            "\n",
            "---------------------\n",
            "\n",
            "Loading best model...\n",
            "Training done.\n",
            "Time:  16.392255485999158\n",
            "===>  EVAL Epoch 9\n",
            "Finished Epoch 9 || Run Time:    0.1 | Load Time:    0.1 || F1:  42.55 | Prec:  34.48 | Rec:  55.56 || Ex/s: 652.29\n",
            "\n",
            "[[27.067668914794922, 27.48091697692871, 26.865671157836914, 27.067668914794922, 27.067668914794922, 26.666667938232422, 27.48091697692871, 27.48091697692871, 27.906978607177734, 26.666667938232422], [5.750015394000002, 5.685267965000094, 5.7302121419998, 5.657230900000286, 5.643488617000003, 5.653690455000287, 5.695949046000351, 5.649614863999886, 5.699012441999912, 5.686567185000058], [59.09090805053711, 62.96296691894531, 60.0, 57.142852783203125, 68.18182373046875, 58.33333969116211, 63.6363639831543, 59.09090805053711, 63.6363639831543, 62.22221755981445], [7.687237744999948, 7.519205598000553, 7.681276948999766, 7.656541180999739, 7.761204930999156, 7.552193080000507, 7.624731124000391, 7.639079702999879, 7.779594614999951, 7.641921282000112], [48.0, 44.44444274902344, 41.269840240478516, 49.05659866333008, 47.05881881713867, 45.283016204833984, 45.283016204833984, 48.0, 41.50943374633789, 47.05881881713867], [10.559607815999698, 10.517272215000048, 10.539255294999748, 10.651794481000252, 10.594529773999966, 10.422362688999783, 10.721303318000537, 10.835616287999983, 10.645157035999546, 10.671217783999964], [40.909088134765625, 42.85714340209961, 43.4782600402832, 41.66666793823242, 46.808509826660156, 42.553192138671875, 40.0, 42.553192138671875], [16.40533823199985, 16.843502366999928, 16.363356346999353, 16.452517071999864, 16.3185509799996, 16.309778520999316, 16.179531221000616, 16.392255485999158]]\n",
            "* Number of trainable parameters: 2798703\n",
            "===>  TRAIN Epoch 1\n"
          ],
          "name": "stdout"
        },
        {
          "output_type": "stream",
          "text": [
            "0% [████] 100% | ETA: 00:00:00\n",
            "Total time elapsed: 00:00:01\n"
          ],
          "name": "stderr"
        },
        {
          "output_type": "stream",
          "text": [
            "Finished Epoch 1 || Run Time:    1.0 | Load Time:    0.2 || F1:  25.89 | Prec:  15.04 | Rec:  92.73 || Ex/s: 278.81\n",
            "\n",
            "===>  EVAL Epoch 1\n"
          ],
          "name": "stdout"
        },
        {
          "output_type": "stream",
          "text": [
            "0% [█] 100% | ETA: 00:00:00\n",
            "Total time elapsed: 00:00:00\n"
          ],
          "name": "stderr"
        },
        {
          "output_type": "stream",
          "text": [
            "Finished Epoch 1 || Run Time:    0.2 | Load Time:    0.1 || F1:  23.70 | Prec:  13.45 | Rec: 100.00 || Ex/s: 469.90\n",
            "\n",
            "* Best F1: tensor(23.7037, device='cuda:0')\n",
            "Saving best model...\n",
            "Done.\n",
            "---------------------\n",
            "\n",
            "===>  TRAIN Epoch 2\n"
          ],
          "name": "stdout"
        },
        {
          "output_type": "stream",
          "text": [
            "0% [████] 100% | ETA: 00:00:00\n",
            "Total time elapsed: 00:00:01\n"
          ],
          "name": "stderr"
        },
        {
          "output_type": "stream",
          "text": [
            "Finished Epoch 2 || Run Time:    1.0 | Load Time:    0.3 || F1:  36.03 | Prec:  22.58 | Rec:  89.09 || Ex/s: 272.62\n",
            "\n",
            "===>  EVAL Epoch 2\n"
          ],
          "name": "stdout"
        },
        {
          "output_type": "stream",
          "text": [
            "0% [█] 100% | ETA: 00:00:00\n",
            "Total time elapsed: 00:00:00\n"
          ],
          "name": "stderr"
        },
        {
          "output_type": "stream",
          "text": [
            "Finished Epoch 2 || Run Time:    0.2 | Load Time:    0.1 || F1:  22.22 | Prec:  12.87 | Rec:  81.25 || Ex/s: 486.56\n",
            "\n",
            "---------------------\n",
            "\n",
            "===>  TRAIN Epoch 3\n"
          ],
          "name": "stdout"
        },
        {
          "output_type": "stream",
          "text": [
            "0% [████] 100% | ETA: 00:00:00\n",
            "Total time elapsed: 00:00:01\n"
          ],
          "name": "stderr"
        },
        {
          "output_type": "stream",
          "text": [
            "Finished Epoch 3 || Run Time:    1.0 | Load Time:    0.3 || F1:  40.00 | Prec:  26.11 | Rec:  85.45 || Ex/s: 279.96\n",
            "\n",
            "===>  EVAL Epoch 3\n"
          ],
          "name": "stdout"
        },
        {
          "output_type": "stream",
          "text": [
            "0% [█] 100% | ETA: 00:00:00\n",
            "Total time elapsed: 00:00:00\n"
          ],
          "name": "stderr"
        },
        {
          "output_type": "stream",
          "text": [
            "Finished Epoch 3 || Run Time:    0.2 | Load Time:    0.1 || F1:  21.14 | Prec:  12.15 | Rec:  81.25 || Ex/s: 486.58\n",
            "\n",
            "---------------------\n",
            "\n",
            "===>  TRAIN Epoch 4\n"
          ],
          "name": "stdout"
        },
        {
          "output_type": "stream",
          "text": [
            "0% [████] 100% | ETA: 00:00:00\n",
            "Total time elapsed: 00:00:01\n"
          ],
          "name": "stderr"
        },
        {
          "output_type": "stream",
          "text": [
            "Finished Epoch 4 || Run Time:    1.0 | Load Time:    0.2 || F1:  41.56 | Prec:  27.27 | Rec:  87.27 || Ex/s: 280.91\n",
            "\n",
            "===>  EVAL Epoch 4\n"
          ],
          "name": "stdout"
        },
        {
          "output_type": "stream",
          "text": [
            "0% [█] 100% | ETA: 00:00:00\n",
            "Total time elapsed: 00:00:00\n"
          ],
          "name": "stderr"
        },
        {
          "output_type": "stream",
          "text": [
            "Finished Epoch 4 || Run Time:    0.2 | Load Time:    0.1 || F1:  22.02 | Prec:  12.90 | Rec:  75.00 || Ex/s: 472.40\n",
            "\n",
            "---------------------\n",
            "\n",
            "===>  TRAIN Epoch 5\n"
          ],
          "name": "stdout"
        },
        {
          "output_type": "stream",
          "text": [
            "0% [████] 100% | ETA: 00:00:00\n",
            "Total time elapsed: 00:00:01\n"
          ],
          "name": "stderr"
        },
        {
          "output_type": "stream",
          "text": [
            "Finished Epoch 5 || Run Time:    1.0 | Load Time:    0.2 || F1:  43.12 | Prec:  28.83 | Rec:  85.45 || Ex/s: 279.00\n",
            "\n",
            "===>  EVAL Epoch 5\n"
          ],
          "name": "stdout"
        },
        {
          "output_type": "stream",
          "text": [
            "0% [█] 100% | ETA: 00:00:00\n",
            "Total time elapsed: 00:00:00\n"
          ],
          "name": "stderr"
        },
        {
          "output_type": "stream",
          "text": [
            "Finished Epoch 5 || Run Time:    0.2 | Load Time:    0.1 || F1:  26.51 | Prec:  16.42 | Rec:  68.75 || Ex/s: 479.65\n",
            "\n",
            "* Best F1: tensor(26.5060, device='cuda:0')\n",
            "Saving best model...\n",
            "Done.\n",
            "---------------------\n",
            "\n",
            "===>  TRAIN Epoch 6\n"
          ],
          "name": "stdout"
        },
        {
          "output_type": "stream",
          "text": [
            "0% [████] 100% | ETA: 00:00:00\n",
            "Total time elapsed: 00:00:01\n"
          ],
          "name": "stderr"
        },
        {
          "output_type": "stream",
          "text": [
            "Finished Epoch 6 || Run Time:    1.0 | Load Time:    0.3 || F1:  46.08 | Prec:  31.54 | Rec:  85.45 || Ex/s: 277.83\n",
            "\n",
            "===>  EVAL Epoch 6\n"
          ],
          "name": "stdout"
        },
        {
          "output_type": "stream",
          "text": [
            "0% [█] 100% | ETA: 00:00:00\n",
            "Total time elapsed: 00:00:00\n"
          ],
          "name": "stderr"
        },
        {
          "output_type": "stream",
          "text": [
            "Finished Epoch 6 || Run Time:    0.2 | Load Time:    0.1 || F1:  30.30 | Prec:  20.00 | Rec:  62.50 || Ex/s: 467.45\n",
            "\n",
            "* Best F1: tensor(30.3030, device='cuda:0')\n",
            "Saving best model...\n",
            "Done.\n",
            "---------------------\n",
            "\n",
            "===>  TRAIN Epoch 7\n"
          ],
          "name": "stdout"
        },
        {
          "output_type": "stream",
          "text": [
            "0% [████] 100% | ETA: 00:00:00\n",
            "Total time elapsed: 00:00:01\n"
          ],
          "name": "stderr"
        },
        {
          "output_type": "stream",
          "text": [
            "Finished Epoch 7 || Run Time:    1.0 | Load Time:    0.3 || F1:  49.74 | Prec:  34.78 | Rec:  87.27 || Ex/s: 274.25\n",
            "\n",
            "===>  EVAL Epoch 7\n"
          ],
          "name": "stdout"
        },
        {
          "output_type": "stream",
          "text": [
            "0% [█] 100% | ETA: 00:00:00\n",
            "Total time elapsed: 00:00:00\n"
          ],
          "name": "stderr"
        },
        {
          "output_type": "stream",
          "text": [
            "Finished Epoch 7 || Run Time:    0.2 | Load Time:    0.1 || F1:  35.09 | Prec:  24.39 | Rec:  62.50 || Ex/s: 462.65\n",
            "\n",
            "* Best F1: tensor(35.0877, device='cuda:0')\n",
            "Saving best model...\n",
            "Done.\n",
            "---------------------\n",
            "\n",
            "===>  TRAIN Epoch 8\n"
          ],
          "name": "stdout"
        },
        {
          "output_type": "stream",
          "text": [
            "0% [████] 100% | ETA: 00:00:00\n",
            "Total time elapsed: 00:00:01\n"
          ],
          "name": "stderr"
        },
        {
          "output_type": "stream",
          "text": [
            "Finished Epoch 8 || Run Time:    1.0 | Load Time:    0.3 || F1:  54.14 | Prec:  38.89 | Rec:  89.09 || Ex/s: 278.07\n",
            "\n",
            "===>  EVAL Epoch 8\n"
          ],
          "name": "stdout"
        },
        {
          "output_type": "stream",
          "text": [
            "0% [█] 100% | ETA: 00:00:00\n",
            "Total time elapsed: 00:00:00\n"
          ],
          "name": "stderr"
        },
        {
          "output_type": "stream",
          "text": [
            "Finished Epoch 8 || Run Time:    0.2 | Load Time:    0.1 || F1:  37.74 | Prec:  27.03 | Rec:  62.50 || Ex/s: 476.84\n",
            "\n",
            "* Best F1: tensor(37.7359, device='cuda:0')\n",
            "Saving best model...\n",
            "Done.\n",
            "---------------------\n",
            "\n",
            "===>  TRAIN Epoch 9\n"
          ],
          "name": "stdout"
        },
        {
          "output_type": "stream",
          "text": [
            "0% [████] 100% | ETA: 00:00:00\n",
            "Total time elapsed: 00:00:01\n"
          ],
          "name": "stderr"
        },
        {
          "output_type": "stream",
          "text": [
            "Finished Epoch 9 || Run Time:    1.0 | Load Time:    0.3 || F1:  59.17 | Prec:  43.86 | Rec:  90.91 || Ex/s: 275.17\n",
            "\n",
            "===>  EVAL Epoch 9\n"
          ],
          "name": "stdout"
        },
        {
          "output_type": "stream",
          "text": [
            "0% [█] 100% | ETA: 00:00:00\n",
            "Total time elapsed: 00:00:00\n"
          ],
          "name": "stderr"
        },
        {
          "output_type": "stream",
          "text": [
            "Finished Epoch 9 || Run Time:    0.2 | Load Time:    0.1 || F1:  33.96 | Prec:  24.32 | Rec:  56.25 || Ex/s: 478.82\n",
            "\n",
            "---------------------\n",
            "\n",
            "===>  TRAIN Epoch 10\n"
          ],
          "name": "stdout"
        },
        {
          "output_type": "stream",
          "text": [
            "0% [████] 100% | ETA: 00:00:00\n",
            "Total time elapsed: 00:00:01\n"
          ],
          "name": "stderr"
        },
        {
          "output_type": "stream",
          "text": [
            "Finished Epoch 10 || Run Time:    1.0 | Load Time:    0.3 || F1:  60.71 | Prec:  45.13 | Rec:  92.73 || Ex/s: 274.01\n",
            "\n",
            "===>  EVAL Epoch 10\n"
          ],
          "name": "stdout"
        },
        {
          "output_type": "stream",
          "text": [
            "0% [█] 100% | ETA: 00:00:00\n",
            "Total time elapsed: 00:00:00\n"
          ],
          "name": "stderr"
        },
        {
          "output_type": "stream",
          "text": [
            "Finished Epoch 10 || Run Time:    0.2 | Load Time:    0.1 || F1:  33.33 | Prec:  23.68 | Rec:  56.25 || Ex/s: 474.09\n",
            "\n",
            "---------------------\n",
            "\n",
            "Loading best model...\n",
            "Training done.\n",
            "Time:  16.12842561999969\n",
            "===>  EVAL Epoch 8\n",
            "Finished Epoch 8 || Run Time:    0.1 | Load Time:    0.1 || F1:  42.55 | Prec:  34.48 | Rec:  55.56 || Ex/s: 710.60\n",
            "\n",
            "[[27.067668914794922, 27.48091697692871, 26.865671157836914, 27.067668914794922, 27.067668914794922, 26.666667938232422, 27.48091697692871, 27.48091697692871, 27.906978607177734, 26.666667938232422], [5.750015394000002, 5.685267965000094, 5.7302121419998, 5.657230900000286, 5.643488617000003, 5.653690455000287, 5.695949046000351, 5.649614863999886, 5.699012441999912, 5.686567185000058], [59.09090805053711, 62.96296691894531, 60.0, 57.142852783203125, 68.18182373046875, 58.33333969116211, 63.6363639831543, 59.09090805053711, 63.6363639831543, 62.22221755981445], [7.687237744999948, 7.519205598000553, 7.681276948999766, 7.656541180999739, 7.761204930999156, 7.552193080000507, 7.624731124000391, 7.639079702999879, 7.779594614999951, 7.641921282000112], [48.0, 44.44444274902344, 41.269840240478516, 49.05659866333008, 47.05881881713867, 45.283016204833984, 45.283016204833984, 48.0, 41.50943374633789, 47.05881881713867], [10.559607815999698, 10.517272215000048, 10.539255294999748, 10.651794481000252, 10.594529773999966, 10.422362688999783, 10.721303318000537, 10.835616287999983, 10.645157035999546, 10.671217783999964], [40.909088134765625, 42.85714340209961, 43.4782600402832, 41.66666793823242, 46.808509826660156, 42.553192138671875, 40.0, 42.553192138671875, 42.553192138671875], [16.40533823199985, 16.843502366999928, 16.363356346999353, 16.452517071999864, 16.3185509799996, 16.309778520999316, 16.179531221000616, 16.392255485999158, 16.12842561999969]]\n",
            "* Number of trainable parameters: 2798703\n",
            "===>  TRAIN Epoch 1\n"
          ],
          "name": "stdout"
        },
        {
          "output_type": "stream",
          "text": [
            "0% [████] 100% | ETA: 00:00:00\n",
            "Total time elapsed: 00:00:01\n"
          ],
          "name": "stderr"
        },
        {
          "output_type": "stream",
          "text": [
            "Finished Epoch 1 || Run Time:    1.0 | Load Time:    0.2 || F1:  27.70 | Prec:  16.34 | Rec:  90.91 || Ex/s: 280.93\n",
            "\n",
            "===>  EVAL Epoch 1\n"
          ],
          "name": "stdout"
        },
        {
          "output_type": "stream",
          "text": [
            "0% [█] 100% | ETA: 00:00:00\n",
            "Total time elapsed: 00:00:00\n"
          ],
          "name": "stderr"
        },
        {
          "output_type": "stream",
          "text": [
            "Finished Epoch 1 || Run Time:    0.2 | Load Time:    0.1 || F1:  23.70 | Prec:  13.45 | Rec: 100.00 || Ex/s: 462.01\n",
            "\n",
            "* Best F1: tensor(23.7037, device='cuda:0')\n",
            "Saving best model...\n",
            "Done.\n",
            "---------------------\n",
            "\n",
            "===>  TRAIN Epoch 2\n"
          ],
          "name": "stdout"
        },
        {
          "output_type": "stream",
          "text": [
            "0% [████] 100% | ETA: 00:00:00\n",
            "Total time elapsed: 00:00:01\n"
          ],
          "name": "stderr"
        },
        {
          "output_type": "stream",
          "text": [
            "Finished Epoch 2 || Run Time:    1.0 | Load Time:    0.3 || F1:  35.96 | Prec:  22.64 | Rec:  87.27 || Ex/s: 272.73\n",
            "\n",
            "===>  EVAL Epoch 2\n"
          ],
          "name": "stdout"
        },
        {
          "output_type": "stream",
          "text": [
            "0% [█] 100% | ETA: 00:00:00\n",
            "Total time elapsed: 00:00:00\n"
          ],
          "name": "stderr"
        },
        {
          "output_type": "stream",
          "text": [
            "Finished Epoch 2 || Run Time:    0.2 | Load Time:    0.1 || F1:  23.62 | Prec:  13.51 | Rec:  93.75 || Ex/s: 467.48\n",
            "\n",
            "---------------------\n",
            "\n",
            "===>  TRAIN Epoch 3\n"
          ],
          "name": "stdout"
        },
        {
          "output_type": "stream",
          "text": [
            "0% [████] 100% | ETA: 00:00:00\n",
            "Total time elapsed: 00:00:01\n"
          ],
          "name": "stderr"
        },
        {
          "output_type": "stream",
          "text": [
            "Finished Epoch 3 || Run Time:    1.0 | Load Time:    0.2 || F1:  39.66 | Prec:  25.82 | Rec:  85.45 || Ex/s: 278.72\n",
            "\n",
            "===>  EVAL Epoch 3\n"
          ],
          "name": "stdout"
        },
        {
          "output_type": "stream",
          "text": [
            "0% [█] 100% | ETA: 00:00:00\n",
            "Total time elapsed: 00:00:00\n"
          ],
          "name": "stderr"
        },
        {
          "output_type": "stream",
          "text": [
            "Finished Epoch 3 || Run Time:    0.2 | Load Time:    0.1 || F1:  22.58 | Prec:  12.96 | Rec:  87.50 || Ex/s: 477.34\n",
            "\n",
            "---------------------\n",
            "\n",
            "===>  TRAIN Epoch 4\n"
          ],
          "name": "stdout"
        },
        {
          "output_type": "stream",
          "text": [
            "0% [████] 100% | ETA: 00:00:00\n",
            "Total time elapsed: 00:00:01\n"
          ],
          "name": "stderr"
        },
        {
          "output_type": "stream",
          "text": [
            "Finished Epoch 4 || Run Time:    1.0 | Load Time:    0.2 || F1:  41.20 | Prec:  26.97 | Rec:  87.27 || Ex/s: 281.24\n",
            "\n",
            "===>  EVAL Epoch 4\n"
          ],
          "name": "stdout"
        },
        {
          "output_type": "stream",
          "text": [
            "0% [█] 100% | ETA: 00:00:00\n",
            "Total time elapsed: 00:00:00\n"
          ],
          "name": "stderr"
        },
        {
          "output_type": "stream",
          "text": [
            "Finished Epoch 4 || Run Time:    0.2 | Load Time:    0.1 || F1:  24.74 | Prec:  14.81 | Rec:  75.00 || Ex/s: 477.92\n",
            "\n",
            "* Best F1: tensor(24.7423, device='cuda:0')\n",
            "Saving best model...\n",
            "Done.\n",
            "---------------------\n",
            "\n",
            "===>  TRAIN Epoch 5\n"
          ],
          "name": "stdout"
        },
        {
          "output_type": "stream",
          "text": [
            "0% [████] 100% | ETA: 00:00:00\n",
            "Total time elapsed: 00:00:01\n"
          ],
          "name": "stderr"
        },
        {
          "output_type": "stream",
          "text": [
            "Finished Epoch 5 || Run Time:    1.0 | Load Time:    0.3 || F1:  43.84 | Prec:  29.27 | Rec:  87.27 || Ex/s: 272.46\n",
            "\n",
            "===>  EVAL Epoch 5\n"
          ],
          "name": "stdout"
        },
        {
          "output_type": "stream",
          "text": [
            "0% [█] 100% | ETA: 00:00:00\n",
            "Total time elapsed: 00:00:00\n"
          ],
          "name": "stderr"
        },
        {
          "output_type": "stream",
          "text": [
            "Finished Epoch 5 || Run Time:    0.2 | Load Time:    0.1 || F1:  28.21 | Prec:  17.74 | Rec:  68.75 || Ex/s: 471.24\n",
            "\n",
            "* Best F1: tensor(28.2051, device='cuda:0')\n",
            "Saving best model...\n",
            "Done.\n",
            "---------------------\n",
            "\n",
            "===>  TRAIN Epoch 6\n"
          ],
          "name": "stdout"
        },
        {
          "output_type": "stream",
          "text": [
            "0% [████] 100% | ETA: 00:00:00\n",
            "Total time elapsed: 00:00:01\n"
          ],
          "name": "stderr"
        },
        {
          "output_type": "stream",
          "text": [
            "Finished Epoch 6 || Run Time:    1.0 | Load Time:    0.3 || F1:  47.12 | Prec:  32.03 | Rec:  89.09 || Ex/s: 273.18\n",
            "\n",
            "===>  EVAL Epoch 6\n"
          ],
          "name": "stdout"
        },
        {
          "output_type": "stream",
          "text": [
            "0% [█] 100% | ETA: 00:00:00\n",
            "Total time elapsed: 00:00:00\n"
          ],
          "name": "stderr"
        },
        {
          "output_type": "stream",
          "text": [
            "Finished Epoch 6 || Run Time:    0.2 | Load Time:    0.1 || F1:  29.73 | Prec:  18.97 | Rec:  68.75 || Ex/s: 479.94\n",
            "\n",
            "* Best F1: tensor(29.7297, device='cuda:0')\n",
            "Saving best model...\n",
            "Done.\n",
            "---------------------\n",
            "\n",
            "===>  TRAIN Epoch 7\n"
          ],
          "name": "stdout"
        },
        {
          "output_type": "stream",
          "text": [
            "0% [████] 100% | ETA: 00:00:00\n",
            "Total time elapsed: 00:00:01\n"
          ],
          "name": "stderr"
        },
        {
          "output_type": "stream",
          "text": [
            "Finished Epoch 7 || Run Time:    1.0 | Load Time:    0.2 || F1:  49.47 | Prec:  34.81 | Rec:  85.45 || Ex/s: 277.26\n",
            "\n",
            "===>  EVAL Epoch 7\n"
          ],
          "name": "stdout"
        },
        {
          "output_type": "stream",
          "text": [
            "0% [█] 100% | ETA: 00:00:00\n",
            "Total time elapsed: 00:00:00\n"
          ],
          "name": "stderr"
        },
        {
          "output_type": "stream",
          "text": [
            "Finished Epoch 7 || Run Time:    0.2 | Load Time:    0.1 || F1:  32.35 | Prec:  21.15 | Rec:  68.75 || Ex/s: 472.51\n",
            "\n",
            "* Best F1: tensor(32.3529, device='cuda:0')\n",
            "Saving best model...\n",
            "Done.\n",
            "---------------------\n",
            "\n",
            "===>  TRAIN Epoch 8\n"
          ],
          "name": "stdout"
        },
        {
          "output_type": "stream",
          "text": [
            "0% [████] 100% | ETA: 00:00:00\n",
            "Total time elapsed: 00:00:01\n"
          ],
          "name": "stderr"
        },
        {
          "output_type": "stream",
          "text": [
            "Finished Epoch 8 || Run Time:    1.0 | Load Time:    0.2 || F1:  53.41 | Prec:  38.84 | Rec:  85.45 || Ex/s: 277.32\n",
            "\n",
            "===>  EVAL Epoch 8\n"
          ],
          "name": "stdout"
        },
        {
          "output_type": "stream",
          "text": [
            "0% [█] 100% | ETA: 00:00:00\n",
            "Total time elapsed: 00:00:00\n"
          ],
          "name": "stderr"
        },
        {
          "output_type": "stream",
          "text": [
            "Finished Epoch 8 || Run Time:    0.2 | Load Time:    0.1 || F1:  36.07 | Prec:  24.44 | Rec:  68.75 || Ex/s: 471.69\n",
            "\n",
            "* Best F1: tensor(36.0656, device='cuda:0')\n",
            "Saving best model...\n",
            "Done.\n",
            "---------------------\n",
            "\n",
            "===>  TRAIN Epoch 9\n"
          ],
          "name": "stdout"
        },
        {
          "output_type": "stream",
          "text": [
            "0% [████] 100% | ETA: 00:00:00\n",
            "Total time elapsed: 00:00:01\n"
          ],
          "name": "stderr"
        },
        {
          "output_type": "stream",
          "text": [
            "Finished Epoch 9 || Run Time:    1.0 | Load Time:    0.3 || F1:  55.62 | Prec:  41.23 | Rec:  85.45 || Ex/s: 272.12\n",
            "\n",
            "===>  EVAL Epoch 9\n"
          ],
          "name": "stdout"
        },
        {
          "output_type": "stream",
          "text": [
            "0% [█] 100% | ETA: 00:00:00\n",
            "Total time elapsed: 00:00:00\n"
          ],
          "name": "stderr"
        },
        {
          "output_type": "stream",
          "text": [
            "Finished Epoch 9 || Run Time:    0.2 | Load Time:    0.1 || F1:  35.71 | Prec:  25.00 | Rec:  62.50 || Ex/s: 473.54\n",
            "\n",
            "---------------------\n",
            "\n",
            "===>  TRAIN Epoch 10\n"
          ],
          "name": "stdout"
        },
        {
          "output_type": "stream",
          "text": [
            "0% [████] 100% | ETA: 00:00:00\n",
            "Total time elapsed: 00:00:01\n"
          ],
          "name": "stderr"
        },
        {
          "output_type": "stream",
          "text": [
            "Finished Epoch 10 || Run Time:    1.0 | Load Time:    0.3 || F1:  57.49 | Prec:  42.86 | Rec:  87.27 || Ex/s: 276.61\n",
            "\n",
            "===>  EVAL Epoch 10\n"
          ],
          "name": "stdout"
        },
        {
          "output_type": "stream",
          "text": [
            "0% [█] 100% | ETA: 00:00:00\n",
            "Total time elapsed: 00:00:00\n"
          ],
          "name": "stderr"
        },
        {
          "output_type": "stream",
          "text": [
            "Finished Epoch 10 || Run Time:    0.2 | Load Time:    0.1 || F1:  35.71 | Prec:  25.00 | Rec:  62.50 || Ex/s: 481.08\n",
            "\n",
            "---------------------\n",
            "\n",
            "Loading best model...\n",
            "Training done.\n",
            "Time:  16.375299617000564\n",
            "===>  EVAL Epoch 8\n",
            "Finished Epoch 8 || Run Time:    0.1 | Load Time:    0.1 || F1:  44.00 | Prec:  34.38 | Rec:  61.11 || Ex/s: 702.33\n",
            "\n"
          ],
          "name": "stdout"
        }
      ]
    },
    {
      "cell_type": "code",
      "metadata": {
        "id": "vPub57EZelRP",
        "colab": {
          "base_uri": "https://localhost:8080/"
        },
        "outputId": "7a6edfd4-1a2c-4ce2-8b57-1624ec04152d"
      },
      "source": [
        "print(result)\n",
        "siff1=result[0]\n",
        "siftime=result[1]\n",
        "rnnf1=result[2]\n",
        "rnntime=result[3]\n",
        "attentionf1=result[4]\n",
        "attentiontime=result[5]\n",
        "hybridf1=result[6]\n",
        "hybridtime=result[7]\n",
        "dict = {'SIF - F1': siff1, 'SIF - Running Time': siftime, 'RNN - F1': rnnf1, 'RNN - Running Time': rnntime,'Attention - F1': attentionf1, 'Attention - Running Time': attentiontime,'Hybrid - F1': hybridf1, 'Hybrid - Running Time': hybridtime} \n",
        "df = pd.DataFrame(dict)  \n",
        "    \n",
        "# saving the dataframe  \n",
        "df.to_csv('UTS.csv') \n",
        "\n",
        "#print(result[0][1])\n",
        "#print(type(result[0][1]))\n",
        "#print(result[0][1].item())"
      ],
      "execution_count": 109,
      "outputs": [
        {
          "output_type": "stream",
          "text": [
            "[[27.067668914794922, 27.48091697692871, 26.865671157836914, 27.067668914794922, 27.067668914794922, 26.666667938232422, 27.48091697692871, 27.48091697692871, 27.906978607177734, 26.666667938232422], [5.750015394000002, 5.685267965000094, 5.7302121419998, 5.657230900000286, 5.643488617000003, 5.653690455000287, 5.695949046000351, 5.649614863999886, 5.699012441999912, 5.686567185000058], [59.09090805053711, 62.96296691894531, 60.0, 57.142852783203125, 68.18182373046875, 58.33333969116211, 63.6363639831543, 59.09090805053711, 63.6363639831543, 62.22221755981445], [7.687237744999948, 7.519205598000553, 7.681276948999766, 7.656541180999739, 7.761204930999156, 7.552193080000507, 7.624731124000391, 7.639079702999879, 7.779594614999951, 7.641921282000112], [48.0, 44.44444274902344, 41.269840240478516, 49.05659866333008, 47.05881881713867, 45.283016204833984, 45.283016204833984, 48.0, 41.50943374633789, 47.05881881713867], [10.559607815999698, 10.517272215000048, 10.539255294999748, 10.651794481000252, 10.594529773999966, 10.422362688999783, 10.721303318000537, 10.835616287999983, 10.645157035999546, 10.671217783999964], [40.909088134765625, 42.85714340209961, 43.4782600402832, 41.66666793823242, 46.808509826660156, 42.553192138671875, 40.0, 42.553192138671875, 42.553192138671875, 43.999996185302734], [16.40533823199985, 16.843502366999928, 16.363356346999353, 16.452517071999864, 16.3185509799996, 16.309778520999316, 16.179531221000616, 16.392255485999158, 16.12842561999969, 16.375299617000564]]\n"
          ],
          "name": "stdout"
        }
      ]
    },
    {
      "cell_type": "code",
      "metadata": {
        "id": "NwUE2jMXQJO7"
      },
      "source": [
        "\n",
        "#model = dm.MatchingModel(attr_summarizer='sif')\n",
        "\n",
        "#start = timeit.default_timer()\n",
        "\n",
        "#Your statements here\n",
        "#model.run_train(\n",
        " #   train,\n",
        " #   validation,\n",
        " #   epochs=10,\n",
        " #   batch_size=16,\n",
        " #   best_save_path='hybrid_model.pth',\n",
        " #   pos_neg_ratio=7)\n",
        "\n",
        "#stop = timeit.default_timer()\n",
        "\n",
        "#print('Time: ', stop - start)  \n",
        "\n",
        "#model.run_eval(test)"
      ],
      "execution_count": 110,
      "outputs": []
    }
  ]
}