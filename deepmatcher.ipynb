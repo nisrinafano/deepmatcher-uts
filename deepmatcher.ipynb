{
  "nbformat": 4,
  "nbformat_minor": 0,
  "metadata": {
    "accelerator": "GPU",
    "colab": {
      "name": "deepmatcher",
      "provenance": [],
      "collapsed_sections": [],
      "toc_visible": true,
      "include_colab_link": true
    },
    "kernelspec": {
      "display_name": "Python 3",
      "language": "python",
      "name": "python3"
    },
    "language_info": {
      "codemirror_mode": {
        "name": "ipython",
        "version": 3
      },
      "file_extension": ".py",
      "mimetype": "text/x-python",
      "name": "python",
      "nbconvert_exporter": "python",
      "pygments_lexer": "ipython3",
      "version": "3.6.4"
    }
  },
  "cells": [
    {
      "cell_type": "markdown",
      "metadata": {
        "id": "view-in-github",
        "colab_type": "text"
      },
      "source": [
        "<a href=\"https://colab.research.google.com/github/nisrinafano/deepmatcher-uts/blob/main/deepmatcher.ipynb\" target=\"_parent\"><img src=\"https://colab.research.google.com/assets/colab-badge.svg\" alt=\"Open In Colab\"/></a>"
      ]
    },
    {
      "cell_type": "markdown",
      "metadata": {
        "id": "sBtZVvrSQJOf"
      },
      "source": [
        "## Step 0. Setup"
      ]
    },
    {
      "cell_type": "code",
      "metadata": {
        "id": "LEiDiDNz-PEG",
        "colab": {
          "base_uri": "https://localhost:8080/"
        },
        "outputId": "196de0f1-1147-4051-c008-a78424d11d04"
      },
      "source": [
        "try:\n",
        "    import deepmatcher\n",
        "except:\n",
        "    !pip install -qqq deepmatcher"
      ],
      "execution_count": 1,
      "outputs": [
        {
          "output_type": "stream",
          "text": [
            "\u001b[K     |████████████████████████████████| 51kB 4.2MB/s \n",
            "\u001b[K     |████████████████████████████████| 51kB 6.0MB/s \n",
            "\u001b[K     |████████████████████████████████| 194kB 11.7MB/s \n",
            "\u001b[?25h  Building wheel for deepmatcher (setup.py) ... \u001b[?25l\u001b[?25hdone\n",
            "  Building wheel for fasttextmirror (setup.py) ... \u001b[?25lerror\n",
            "\u001b[31m  ERROR: Failed building wheel for fasttextmirror\u001b[0m\n",
            "\u001b[?25h    Running setup.py install for fasttextmirror ... \u001b[?25l\u001b[?25hdone\n"
          ],
          "name": "stdout"
        }
      ]
    },
    {
      "cell_type": "code",
      "metadata": {
        "id": "0422OsKBQJOk"
      },
      "source": [
        "import deepmatcher as dm\n",
        "import pandas as pd"
      ],
      "execution_count": 2,
      "outputs": []
    },
    {
      "cell_type": "code",
      "metadata": {
        "id": "GYb5r0etQJOo",
        "colab": {
          "base_uri": "https://localhost:8080/"
        },
        "outputId": "6a3a72fd-f540-41cf-bc0c-d784c3bd0c99"
      },
      "source": [
        "import torch\n",
        "torch.cuda.is_available()"
      ],
      "execution_count": 3,
      "outputs": [
        {
          "output_type": "execute_result",
          "data": {
            "text/plain": [
              "True"
            ]
          },
          "metadata": {
            "tags": []
          },
          "execution_count": 3
        }
      ]
    },
    {
      "cell_type": "markdown",
      "metadata": {
        "id": "Dv_sFh1_QJOs"
      },
      "source": [
        "Download sample data for entity matching"
      ]
    },
    {
      "cell_type": "code",
      "metadata": {
        "id": "gvPSNrnUuHNF"
      },
      "source": [
        "!wget -qnc -P '' https://github.com/sensasi-delight/paper-2020-11/raw/main/dataset/train.csv\n",
        "!wget -qnc -P '' https://github.com/sensasi-delight/paper-2020-11/raw/main/dataset/test.csv\n",
        "!wget -qnc -P '' https://github.com/sensasi-delight/paper-2020-11/raw/main/dataset/valid.csv"
      ],
      "execution_count": 4,
      "outputs": []
    },
    {
      "cell_type": "markdown",
      "metadata": {
        "id": "KuCrlwjeQs8i"
      },
      "source": [
        "read data\n",
        "\n",
        "atribut yang diabaikan karena tidak merepresentasikan entitas:\n",
        "*   'ltable_id'\n",
        "*   'rtable_id'\n",
        "*   'ltable_url'\n",
        "*   'rtable_url'\n",
        "*   'ltable_harga'\n",
        "*   'rtable_harga'\n",
        "\n",
        "\n",
        "\n"
      ]
    },
    {
      "cell_type": "code",
      "metadata": {
        "id": "WJ37wi1HC9EJ",
        "colab": {
          "base_uri": "https://localhost:8080/"
        },
        "outputId": "dc3bcd7e-f0af-4100-a516-5a355628d6b4"
      },
      "source": [
        "train, validation, test = dm.data.process(\n",
        "    path='',\n",
        "    train='train.csv',\n",
        "    validation='valid.csv',\n",
        "    test='test.csv',\n",
        "    use_magellan_convention=True,\n",
        "    ignore_columns=('ltable_id', 'rtable_id', 'ltable_url', 'ltable_harga', 'rtable_url', 'rtable_harga'))"
      ],
      "execution_count": null,
      "outputs": [
        {
          "output_type": "stream",
          "text": [
            "\n",
            "Reading and processing data from \"train.csv\"\n",
            "0% [############################# ] 100% | ETA: 00:00:00\n",
            "Reading and processing data from \"valid.csv\"\n",
            "0% [############################# ] 100% | ETA: 00:00:00\n",
            "Reading and processing data from \"test.csv\"\n",
            "0% [############################# ] 100% | ETA: 00:00:00INFO:deepmatcher.data.field:Downloading vectors from https://drive.google.com/uc?export=download&id=1Vih8gAmgBnuYDxfblbT94P6WjB7s1ZSh\n"
          ],
          "name": "stderr"
        },
        {
          "output_type": "stream",
          "text": [
            "downloading from Google Drive; may take a few minutes\n"
          ],
          "name": "stdout"
        },
        {
          "output_type": "stream",
          "text": [
            "wiki.en.bin: 2.50GB [00:33, 35.8MB/s]"
          ],
          "name": "stderr"
        }
      ]
    },
    {
      "cell_type": "markdown",
      "metadata": {
        "id": "8mr3oVzuQJO6"
      },
      "source": [
        "## Pengujian"
      ]
    },
    {
      "cell_type": "code",
      "metadata": {
        "id": "2j77d30cdvrD"
      },
      "source": [
        "#masih belum selesai\n",
        "\n",
        "learningtypes = ['sif', 'rnn', 'attention', 'hybrid']\n",
        "\n",
        "\n",
        "result = {\n",
        "\n",
        "}\n",
        "\n",
        "for learningtype in learningtypes:\n",
        "  result[0] = learningtype\n"
      ],
      "execution_count": null,
      "outputs": []
    },
    {
      "cell_type": "code",
      "metadata": {
        "id": "vPub57EZelRP"
      },
      "source": [
        "print(result)"
      ],
      "execution_count": null,
      "outputs": []
    },
    {
      "cell_type": "code",
      "metadata": {
        "id": "NwUE2jMXQJO7"
      },
      "source": [
        "\n",
        "model = dm.MatchingModel(attr_summarizer='sif')\n",
        "\n",
        "start = timeit.default_timer()\n",
        "\n",
        "#Your statements here\n",
        "model.run_train(\n",
        "    train,\n",
        "    validation,\n",
        "    epochs=10,\n",
        "    batch_size=16,\n",
        "    best_save_path='hybrid_model.pth',\n",
        "    pos_neg_ratio=7)\n",
        "\n",
        "stop = timeit.default_timer()\n",
        "\n",
        "print('Time: ', stop - start)  \n",
        "\n",
        "model.run_eval(test)"
      ],
      "execution_count": null,
      "outputs": []
    }
  ]
}